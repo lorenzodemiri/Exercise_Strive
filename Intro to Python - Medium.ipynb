{
 "cells": [
  {
   "cell_type": "markdown",
   "metadata": {},
   "source": [
    "Here you have a collection of guided exercises for the first class on Python. <br>\n",
    "The exercises are divided by topic, following the topics reviewed during the theory session, and for each topic you have some mandatory exercises, and other optional exercises, which you are invited to do if you still have time after the mandatory exercises. <br>\n",
    "\n",
    "Remember that you have 5 hours to solve these exercises, after which we will review the most interesting exercises together. If you don't finish all the exercises, you can work on them tonightor tomorrow. \n",
    "\n",
    "At the end of the class, we will upload the code with the solutions of the exercises so that you can review them again if needed. If you still have not finished some exercises, try to do them first by yourself, before taking a look at the solutions: you are doing these exercises for yourself, so it is always the best to do them your way first, as it is the fastest way to learn!"
   ]
  },
  {
   "cell_type": "markdown",
   "metadata": {},
   "source": [
    "**Exercise 1.3 (🌶️):** You look at the clock and see that it is currently 14.00h. You set an alarm to go off 535 hours later. At what time will the alarm go off? Write a program that prints the answer. Hint: for the best solution, you will need the modulo operator. Second hint: The answer is 21.00h, but of course, this exercise is not about the answer, but about how you get it."
   ]
  },
  {
   "cell_type": "code",
   "execution_count": 1,
   "metadata": {},
   "outputs": [],
   "source": [
    "import datetime\n",
    "\n",
    "def deltatimecalc(deltavalue):\n",
    "    #using lib delta time to make all faster\n",
    "    t = datetime.datetime(2020,1, 1,14, 0)\n",
    "    #add to the first time the delta hours\n",
    "    t = t + datetime.timedelta(hours=deltavalue)\n",
    "    #returnin the time\n",
    "    return t.time()\n",
    "print(deltatimecalc(535))\n"
   ]
  },
  {
   "cell_type": "markdown",
   "metadata": {},
   "source": [
    "**Exercise 5.4 (🌶️):** \"99 bottles of beer\" is a traditional song in the United States and Canada. It is popular to sing on long trips, as it has a very repetitive format which is easy to memorize, and can take a long time to sing. The song's simple lyrics are as follows: \"99 bottles of beer on the wall, 99 bottles of beer. Take one down, pass it around, 98 bottles of beer on the wall.\" The same verse is repeated, each time with one fewer bottle. The song is completed when the singer or singers reach zero. Write a function that generates and prints all the verses of the song (though you might start a bit lower, for instance with 10 bottles). Make sure that your loop is not endless, and that you use the proper inflection for the word \"bottle\"."
   ]
  },
  {
   "cell_type": "code",
   "execution_count": null,
   "metadata": {},
   "outputs": [],
   "source": [
    "def sing_the_song(n_botlle):\n",
    "    for bottle in range(n_botlle, 0, -1):\n",
    "        #easy code no need for explaining comments\n",
    "        if bottle == 1: \n",
    "            bottle_n = \"{} bottle\".format(bottle)\n",
    "            bottle_n1 = \"{} bottles\".format(bottle - 1)\n",
    "        elif (bottle - 1) == 1:\n",
    "            bottle_n = \"{} bottles\".format(bottle)\n",
    "            bottle_n1 = \"{} bottle\".format(bottle - 1)\n",
    "        else:\n",
    "            bottle_n = \"{} bottles\".format(bottle)\n",
    "            bottle_n1 = \"{} bottles\".format(bottle - 1)\n",
    "        \n",
    "        string_res = \"{} of beer on the wall, {} of beer. Take one down, pass it around, {} of beer in the wall\".format(bottle_n, bottle_n, bottle_n1)\n",
    "        print(string_res)\n",
    "\n"
   ]
  },
  {
   "cell_type": "markdown",
   "metadata": {},
   "source": [
    "**Exercise 5.5 (🌶️):** The Fibonacci sequence is a sequence of numbers that starts with 1, followed by 1 again. Every next number is the sum of the two previous numbers. I.e., the sequence starts with 1, 1, 2, 3, 5, 8, 13, 21,... Write a function that calculates and prints the Fibonacci sequence until the numbers get higher than a `maximum`."
   ]
  },
  {
   "cell_type": "code",
   "execution_count": 3,
   "metadata": {},
   "outputs": [],
   "source": [
    "def calc_fibo(x):\n",
    "    #recursive fuction to calculate the fibonacci series\n",
    "   if x <= 1:\n",
    "       return x\n",
    "   else:\n",
    "       return(calc_fibo(x-1) + calc_fibo(x-2))\n",
    "\n",
    "def fibonacci_series(maximum):\n",
    "    if maximum <= 0:\n",
    "        raise Exception(\"The Maximum value must be a positive integer\")\n",
    "    else:\n",
    "        res = []\n",
    "        string = \"Fibonacci sequence up to {} :\\n\".format(maximum)\n",
    "        print(string)\n",
    "        for i in range(maximum):\n",
    "            if(calc_fibo(i) > maximum): break\n",
    "            res.append(calc_fibo(i))\n",
    "        print(*res, sep =' , ')\n",
    "fibonacci_series(22)\n",
    "\n"
   ]
  },
  {
   "cell_type": "markdown",
   "metadata": {},
   "source": [
    "**Exercise 5.8 (🌶️):** A, B, C, and D are all different digits. The number DCBA is equal to 4 times the number ABCD. What are the digits? Note: to make ABCD and DCBA conventional numbers, neither A nor D can be zero. Use a quadruple-nested loop."
   ]
  },
  {
   "cell_type": "code",
   "execution_count": null,
   "metadata": {},
   "outputs": [],
   "source": [
    "def find_number():\n",
    "    results = \"A = {} \\nB = {} \\nC = {} \\nD = {} \\n\"\n",
    "    for a in range(1,9):\n",
    "        for b in range(0,9):\n",
    "            for c in range(0,9):\n",
    "                for d in range(1,9):\n",
    "                    #when the program finds the machting numbers it breaks and give the results\n",
    "                    firstVal = 4 * ((a*1000) + (b*100) + (c*10) + d)\n",
    "                    secondVal = ((d*1000) + (c*100) + (b*10) + a)\n",
    "                    if firstVal == secondVal : \n",
    "                        print(\"find\")\n",
    "                        results = results.format(a,b,c,d)\n",
    "                        break\n",
    "    return results \n",
    "print(find_number())\n",
    "    "
   ]
  }
 ],
 "metadata": {
  "kernelspec": {
   "display_name": "Python 3",
   "language": "python",
   "name": "python3"
  },
  "language_info": {
   "codemirror_mode": {
    "name": "ipython",
    "version": 3
   },
   "file_extension": ".py",
   "mimetype": "text/x-python",
   "name": "python",
   "nbconvert_exporter": "python",
   "pygments_lexer": "ipython3",
   "version": "3.8.3"
  }
 },
 "nbformat": 4,
 "nbformat_minor": 4
}