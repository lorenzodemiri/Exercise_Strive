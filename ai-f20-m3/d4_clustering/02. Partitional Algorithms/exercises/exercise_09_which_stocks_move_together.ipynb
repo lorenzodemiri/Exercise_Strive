{
 "cells": [
  {
   "cell_type": "markdown",
   "metadata": {},
   "source": [
    "# Exercise 9: Which stocks move together?\n",
    "\n",
    "In the previous exercise, you clustered companies by their daily stock price movements.  So which company have stock prices that tend to change in the same way?  Now inspect the cluster labels from your clustering to find out."
   ]
  },
  {
   "cell_type": "markdown",
   "metadata": {},
   "source": [
    "**Step 1:** Load the data _(written for you)_."
   ]
  },
  {
   "cell_type": "code",
   "execution_count": 11,
   "metadata": {
    "collapsed": true,
    "exercise": false
   },
   "outputs": [],
   "source": [
    "import pandas as pd\n",
    "\n",
    "fn = '../datasets/company-stock-movements-2010-2015-incl.csv'\n",
    "stocks_df = pd.read_csv(fn, index_col=0)"
   ]
  },
  {
   "cell_type": "markdown",
   "metadata": {},
   "source": [
    "**Step 2:** Run your code from the previous exercise _(filled in for you)_."
   ]
  },
  {
   "cell_type": "code",
   "execution_count": 12,
   "metadata": {
    "exercise": false
   },
   "outputs": [
    {
     "output_type": "execute_result",
     "data": {
      "text/plain": [
       "Pipeline(steps=[('normalizer', Normalizer()),\n",
       "                ('kmeans', KMeans(n_clusters=14))])"
      ]
     },
     "metadata": {},
     "execution_count": 12
    }
   ],
   "source": [
    "companies = list(stocks_df.index)\n",
    "movements = stocks_df.values\n",
    "\n",
    "from sklearn.preprocessing import Normalizer\n",
    "from sklearn.cluster import KMeans\n",
    "from sklearn.pipeline import make_pipeline\n",
    "\n",
    "normalizer = Normalizer()\n",
    "kmeans = KMeans(n_clusters=14)\n",
    "pipeline = make_pipeline(normalizer, kmeans)\n",
    "pipeline.fit(movements)"
   ]
  },
  {
   "cell_type": "markdown",
   "metadata": {},
   "source": [
    "**Step 3:** Use the `.predict()` method of the pipeline to predict the labels for `movements`."
   ]
  },
  {
   "cell_type": "code",
   "execution_count": 13,
   "metadata": {
    "collapsed": true
   },
   "outputs": [],
   "source": [
    "labels = pipeline.predict(movements)"
   ]
  },
  {
   "cell_type": "markdown",
   "metadata": {},
   "source": [
    "**Step 4:** Align the cluster labels with the list of company names `companies` by creating a DataFrame `df` with `labels` and `companies` as columns."
   ]
  },
  {
   "cell_type": "code",
   "execution_count": 14,
   "metadata": {
    "collapsed": true
   },
   "outputs": [],
   "source": [
    "df = pd.DataFrame(columns=['labels', 'companies'])\n",
    "df['labels'] = labels\n",
    "df['companies'] = companies"
   ]
  },
  {
   "cell_type": "markdown",
   "metadata": {},
   "source": [
    "**Step 5:** Now display the DataFrame, sorted by cluster label.  To do this, use the `.sort_values()` method of `df` to sort the DataFrame by the `'labels'` column."
   ]
  },
  {
   "cell_type": "code",
   "execution_count": 15,
   "metadata": {},
   "outputs": [
    {
     "output_type": "execute_result",
     "data": {
      "text/plain": [
       "    labels                           companies\n",
       "14       0                                Dell\n",
       "22       0                                  HP\n",
       "35       1                            Navistar\n",
       "8        1                         Caterpillar\n",
       "13       1                   DuPont de Nemours\n",
       "56       2                            Wal-Mart\n",
       "57       3                               Exxon\n",
       "53       3                       Valero Energy\n",
       "39       3                              Pfizer\n",
       "10       3                      ConocoPhillips\n",
       "44       3                        Schlumberger\n",
       "12       3                             Chevron\n",
       "28       3                           Coca Cola\n",
       "25       4                   Johnson & Johnson\n",
       "38       4                               Pepsi\n",
       "40       4                      Procter Gamble\n",
       "27       4                      Kimberly-Clark\n",
       "9        4                   Colgate-Palmolive\n",
       "43       5                                 SAP\n",
       "41       5                       Philip Morris\n",
       "19       5                     GlaxoSmithKline\n",
       "46       5                      Sanofi-Aventis\n",
       "6        5            British American Tobacco\n",
       "49       5                               Total\n",
       "37       5                            Novartis\n",
       "52       5                            Unilever\n",
       "54       5                            Walgreen\n",
       "42       5                   Royal Dutch Shell\n",
       "33       5                           Microsoft\n",
       "1        6                                 AIG\n",
       "55       7                         Wells Fargo\n",
       "15       7                                Ford\n",
       "3        7                    American express\n",
       "5        7                     Bank of America\n",
       "26       7                      JPMorgan Chase\n",
       "16       7                   General Electrics\n",
       "18       7                       Goldman Sachs\n",
       "4        8                              Boeing\n",
       "47       8                            Symantec\n",
       "11       8                               Cisco\n",
       "30       8                          MasterCard\n",
       "31       8                           McDonalds\n",
       "23       8                                 IBM\n",
       "58       8                               Xerox\n",
       "32       8                                  3M\n",
       "20       8                          Home Depot\n",
       "36       9                    Northrop Grumman\n",
       "29       9                     Lookheed Martin\n",
       "21      10                               Honda\n",
       "45      10                                Sony\n",
       "7       10                               Canon\n",
       "48      10                              Toyota\n",
       "34      10                          Mitsubishi\n",
       "24      11                               Intel\n",
       "50      11  Taiwan Semiconductor Manufacturing\n",
       "51      11                   Texas instruments\n",
       "59      12                               Yahoo\n",
       "2       12                              Amazon\n",
       "17      13                     Google/Alphabet\n",
       "0       13                               Apple"
      ],
      "text/html": "<div>\n<style scoped>\n    .dataframe tbody tr th:only-of-type {\n        vertical-align: middle;\n    }\n\n    .dataframe tbody tr th {\n        vertical-align: top;\n    }\n\n    .dataframe thead th {\n        text-align: right;\n    }\n</style>\n<table border=\"1\" class=\"dataframe\">\n  <thead>\n    <tr style=\"text-align: right;\">\n      <th></th>\n      <th>labels</th>\n      <th>companies</th>\n    </tr>\n  </thead>\n  <tbody>\n    <tr>\n      <th>14</th>\n      <td>0</td>\n      <td>Dell</td>\n    </tr>\n    <tr>\n      <th>22</th>\n      <td>0</td>\n      <td>HP</td>\n    </tr>\n    <tr>\n      <th>35</th>\n      <td>1</td>\n      <td>Navistar</td>\n    </tr>\n    <tr>\n      <th>8</th>\n      <td>1</td>\n      <td>Caterpillar</td>\n    </tr>\n    <tr>\n      <th>13</th>\n      <td>1</td>\n      <td>DuPont de Nemours</td>\n    </tr>\n    <tr>\n      <th>56</th>\n      <td>2</td>\n      <td>Wal-Mart</td>\n    </tr>\n    <tr>\n      <th>57</th>\n      <td>3</td>\n      <td>Exxon</td>\n    </tr>\n    <tr>\n      <th>53</th>\n      <td>3</td>\n      <td>Valero Energy</td>\n    </tr>\n    <tr>\n      <th>39</th>\n      <td>3</td>\n      <td>Pfizer</td>\n    </tr>\n    <tr>\n      <th>10</th>\n      <td>3</td>\n      <td>ConocoPhillips</td>\n    </tr>\n    <tr>\n      <th>44</th>\n      <td>3</td>\n      <td>Schlumberger</td>\n    </tr>\n    <tr>\n      <th>12</th>\n      <td>3</td>\n      <td>Chevron</td>\n    </tr>\n    <tr>\n      <th>28</th>\n      <td>3</td>\n      <td>Coca Cola</td>\n    </tr>\n    <tr>\n      <th>25</th>\n      <td>4</td>\n      <td>Johnson &amp; Johnson</td>\n    </tr>\n    <tr>\n      <th>38</th>\n      <td>4</td>\n      <td>Pepsi</td>\n    </tr>\n    <tr>\n      <th>40</th>\n      <td>4</td>\n      <td>Procter Gamble</td>\n    </tr>\n    <tr>\n      <th>27</th>\n      <td>4</td>\n      <td>Kimberly-Clark</td>\n    </tr>\n    <tr>\n      <th>9</th>\n      <td>4</td>\n      <td>Colgate-Palmolive</td>\n    </tr>\n    <tr>\n      <th>43</th>\n      <td>5</td>\n      <td>SAP</td>\n    </tr>\n    <tr>\n      <th>41</th>\n      <td>5</td>\n      <td>Philip Morris</td>\n    </tr>\n    <tr>\n      <th>19</th>\n      <td>5</td>\n      <td>GlaxoSmithKline</td>\n    </tr>\n    <tr>\n      <th>46</th>\n      <td>5</td>\n      <td>Sanofi-Aventis</td>\n    </tr>\n    <tr>\n      <th>6</th>\n      <td>5</td>\n      <td>British American Tobacco</td>\n    </tr>\n    <tr>\n      <th>49</th>\n      <td>5</td>\n      <td>Total</td>\n    </tr>\n    <tr>\n      <th>37</th>\n      <td>5</td>\n      <td>Novartis</td>\n    </tr>\n    <tr>\n      <th>52</th>\n      <td>5</td>\n      <td>Unilever</td>\n    </tr>\n    <tr>\n      <th>54</th>\n      <td>5</td>\n      <td>Walgreen</td>\n    </tr>\n    <tr>\n      <th>42</th>\n      <td>5</td>\n      <td>Royal Dutch Shell</td>\n    </tr>\n    <tr>\n      <th>33</th>\n      <td>5</td>\n      <td>Microsoft</td>\n    </tr>\n    <tr>\n      <th>1</th>\n      <td>6</td>\n      <td>AIG</td>\n    </tr>\n    <tr>\n      <th>55</th>\n      <td>7</td>\n      <td>Wells Fargo</td>\n    </tr>\n    <tr>\n      <th>15</th>\n      <td>7</td>\n      <td>Ford</td>\n    </tr>\n    <tr>\n      <th>3</th>\n      <td>7</td>\n      <td>American express</td>\n    </tr>\n    <tr>\n      <th>5</th>\n      <td>7</td>\n      <td>Bank of America</td>\n    </tr>\n    <tr>\n      <th>26</th>\n      <td>7</td>\n      <td>JPMorgan Chase</td>\n    </tr>\n    <tr>\n      <th>16</th>\n      <td>7</td>\n      <td>General Electrics</td>\n    </tr>\n    <tr>\n      <th>18</th>\n      <td>7</td>\n      <td>Goldman Sachs</td>\n    </tr>\n    <tr>\n      <th>4</th>\n      <td>8</td>\n      <td>Boeing</td>\n    </tr>\n    <tr>\n      <th>47</th>\n      <td>8</td>\n      <td>Symantec</td>\n    </tr>\n    <tr>\n      <th>11</th>\n      <td>8</td>\n      <td>Cisco</td>\n    </tr>\n    <tr>\n      <th>30</th>\n      <td>8</td>\n      <td>MasterCard</td>\n    </tr>\n    <tr>\n      <th>31</th>\n      <td>8</td>\n      <td>McDonalds</td>\n    </tr>\n    <tr>\n      <th>23</th>\n      <td>8</td>\n      <td>IBM</td>\n    </tr>\n    <tr>\n      <th>58</th>\n      <td>8</td>\n      <td>Xerox</td>\n    </tr>\n    <tr>\n      <th>32</th>\n      <td>8</td>\n      <td>3M</td>\n    </tr>\n    <tr>\n      <th>20</th>\n      <td>8</td>\n      <td>Home Depot</td>\n    </tr>\n    <tr>\n      <th>36</th>\n      <td>9</td>\n      <td>Northrop Grumman</td>\n    </tr>\n    <tr>\n      <th>29</th>\n      <td>9</td>\n      <td>Lookheed Martin</td>\n    </tr>\n    <tr>\n      <th>21</th>\n      <td>10</td>\n      <td>Honda</td>\n    </tr>\n    <tr>\n      <th>45</th>\n      <td>10</td>\n      <td>Sony</td>\n    </tr>\n    <tr>\n      <th>7</th>\n      <td>10</td>\n      <td>Canon</td>\n    </tr>\n    <tr>\n      <th>48</th>\n      <td>10</td>\n      <td>Toyota</td>\n    </tr>\n    <tr>\n      <th>34</th>\n      <td>10</td>\n      <td>Mitsubishi</td>\n    </tr>\n    <tr>\n      <th>24</th>\n      <td>11</td>\n      <td>Intel</td>\n    </tr>\n    <tr>\n      <th>50</th>\n      <td>11</td>\n      <td>Taiwan Semiconductor Manufacturing</td>\n    </tr>\n    <tr>\n      <th>51</th>\n      <td>11</td>\n      <td>Texas instruments</td>\n    </tr>\n    <tr>\n      <th>59</th>\n      <td>12</td>\n      <td>Yahoo</td>\n    </tr>\n    <tr>\n      <th>2</th>\n      <td>12</td>\n      <td>Amazon</td>\n    </tr>\n    <tr>\n      <th>17</th>\n      <td>13</td>\n      <td>Google/Alphabet</td>\n    </tr>\n    <tr>\n      <th>0</th>\n      <td>13</td>\n      <td>Apple</td>\n    </tr>\n  </tbody>\n</table>\n</div>"
     },
     "metadata": {},
     "execution_count": 15
    }
   ],
   "source": [
    "df = df.sort_values(by='labels')\n",
    "df"
   ]
  },
  {
   "cell_type": "markdown",
   "metadata": {},
   "source": [
    "**Great job!** Using k-means, you've discovered which companies stock prices move together on the stock exchange."
   ]
  },
  {
   "cell_type": "code",
   "execution_count": null,
   "metadata": {
    "collapsed": true
   },
   "outputs": [],
   "source": []
  }
 ],
 "metadata": {
  "kernelspec": {
   "display_name": "Python 3",
   "language": "python",
   "name": "python3"
  },
  "language_info": {
   "codemirror_mode": {
    "name": "ipython",
    "version": 3
   },
   "file_extension": ".py",
   "mimetype": "text/x-python",
   "name": "python",
   "nbconvert_exporter": "python",
   "pygments_lexer": "ipython3",
   "version": "3.8.5-final"
  }
 },
 "nbformat": 4,
 "nbformat_minor": 2
}