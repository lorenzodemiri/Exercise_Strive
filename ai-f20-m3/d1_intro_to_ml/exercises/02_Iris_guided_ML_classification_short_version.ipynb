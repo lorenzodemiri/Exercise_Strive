{
 "cells": [
  {
   "cell_type": "markdown",
   "metadata": {},
   "source": [
    "<!--NAVIGATION-->\n",
    "\n",
    "<a href=\"https://colab.research.google.com/github/bpesquet/machine-learning-katas/blob/master/classic-datasets/Iris.ipynb\"><img align=\"left\" src=\"https://colab.research.google.com/assets/colab-badge.svg\" alt=\"Open in Colab\" title=\"Open in Google Colaboratory\"></a>"
   ]
  },
  {
   "cell_type": "markdown",
   "metadata": {},
   "source": [
    "# Guided ML With The Iris Dataset\n",
    "\n",
    "| Learning type | Activity type | Objective |\n",
    "| - | - | - |\n",
    "| Supervised | Multiclass classification | Identify a flower's class |\n",
    "\n",
    "Contents:\n",
    "1. Loading the data\n",
    "2. Setting up supervised learning problem (selecting features)\n",
    "3. Creating a first model\n",
    "    - Creating train and test datasets\n",
    "    - Normalizing train and test\n",
    "    - Fitting and predicting\n",
    "4. Evaluate the frist model predictions\n",
    "5. Crossvalidation of the model\n",
    "6. Creating an end to end ML pipeline\n",
    "    - Train/Test Split\n",
    "    - Normalize\n",
    "    - Crossvalidations\n",
    "    - Model\n",
    "    - fitting and predicting"
   ]
  },
  {
   "cell_type": "markdown",
   "metadata": {},
   "source": [
    "## Instructions with NBGrader removed\n",
    "\n",
    "Complete the cells beginning with `# YOUR CODE HERE` and run the subsequent cells to check your code."
   ]
  },
  {
   "cell_type": "markdown",
   "metadata": {},
   "source": [
    "## About the dataset\n",
    "\n",
    "[Iris](https://archive.ics.uci.edu/ml/datasets/iris) is a well-known multiclass dataset. It contains 3 classes of flowers with 50 examples each. There are a total of 4 features for each flower.\n",
    "\n",
    "![](./classic-datasets/images/Iris-versicolor-21_1.jpg)"
   ]
  },
  {
   "cell_type": "markdown",
   "metadata": {},
   "source": [
    "## Package setups\n",
    "\n",
    "1. Run the following two cells to initalize the required libraries. "
   ]
  },
  {
   "cell_type": "code",
   "execution_count": 17,
   "metadata": {},
   "outputs": [
    {
     "output_type": "execute_result",
     "data": {
      "text/plain": [
       "'d:\\\\Anaconda\\\\envs\\\\second_venv\\\\python.exe'"
      ]
     },
     "metadata": {},
     "execution_count": 17
    }
   ],
   "source": [
    "#to debug package errors\n",
    "import sys\n",
    "sys.path\n",
    "sys.executable"
   ]
  },
  {
   "cell_type": "code",
   "execution_count": 18,
   "metadata": {},
   "outputs": [],
   "source": [
    "# Import needed packages\n",
    "# You may add or remove packages should you need them\n",
    "import numpy as np\n",
    "import matplotlib\n",
    "import matplotlib.pyplot as plt\n",
    "import seaborn as sns\n",
    "import pandas as pd\n",
    "from sklearn import datasets\n",
    "from sklearn import preprocessing\n",
    "from sklearn.linear_model import LogisticRegression\n",
    "from sklearn.model_selection import train_test_split, cross_validate\n",
    "from sklearn.pipeline import make_pipeline\n",
    "\n",
    "# Set random seed\n",
    "np.random.seed(0)\n",
    "\n",
    "# Display plots inline and change plot resolution to retina\n",
    "%matplotlib inline\n",
    "%config InlineBackend.figure_format = 'retina'\n",
    "# Set Seaborn aesthetic parameters to defaults\n",
    "sns.set()"
   ]
  },
  {
   "cell_type": "code",
   "execution_count": null,
   "metadata": {},
   "outputs": [],
   "source": []
  },
  {
   "cell_type": "markdown",
   "metadata": {},
   "source": [
    "## Step 1: Loading the data\n",
    "\n",
    "1. Load the iris dataset using ```datasets.load_iris()```\n",
    "2. Investigate the data structure with ```.keys()```\n",
    "3. Construct a dataframe from the dataset\n",
    "4. Create a 'target' and a 'class' column that contains the target names and values\n",
    "5. Display a random sample of the dataframe "
   ]
  },
  {
   "cell_type": "code",
   "execution_count": 19,
   "metadata": {},
   "outputs": [
    {
     "output_type": "execute_result",
     "data": {
      "text/plain": [
       "dict_keys(['data', 'target', 'frame', 'target_names', 'DESCR', 'feature_names', 'filename'])"
      ]
     },
     "metadata": {},
     "execution_count": 19
    }
   ],
   "source": [
    "iris_data = datasets.load_iris()\n",
    "iris_data.keys()\n"
   ]
  },
  {
   "cell_type": "code",
   "execution_count": 35,
   "metadata": {},
   "outputs": [
    {
     "output_type": "execute_result",
     "data": {
      "text/plain": [
       "   sepal length (cm)  sepal width (cm)  petal length (cm)  petal width (cm)  \\\n",
       "0                5.1               3.5                1.4               0.2   \n",
       "1                4.9               3.0                1.4               0.2   \n",
       "2                4.7               3.2                1.3               0.2   \n",
       "3                4.6               3.1                1.5               0.2   \n",
       "4                5.0               3.6                1.4               0.2   \n",
       "\n",
       "   class  target  \n",
       "0      0  setosa  \n",
       "1      0  setosa  \n",
       "2      0  setosa  \n",
       "3      0  setosa  \n",
       "4      0  setosa  "
      ],
      "text/html": "<div>\n<style scoped>\n    .dataframe tbody tr th:only-of-type {\n        vertical-align: middle;\n    }\n\n    .dataframe tbody tr th {\n        vertical-align: top;\n    }\n\n    .dataframe thead th {\n        text-align: right;\n    }\n</style>\n<table border=\"1\" class=\"dataframe\">\n  <thead>\n    <tr style=\"text-align: right;\">\n      <th></th>\n      <th>sepal length (cm)</th>\n      <th>sepal width (cm)</th>\n      <th>petal length (cm)</th>\n      <th>petal width (cm)</th>\n      <th>class</th>\n      <th>target</th>\n    </tr>\n  </thead>\n  <tbody>\n    <tr>\n      <th>0</th>\n      <td>5.1</td>\n      <td>3.5</td>\n      <td>1.4</td>\n      <td>0.2</td>\n      <td>0</td>\n      <td>setosa</td>\n    </tr>\n    <tr>\n      <th>1</th>\n      <td>4.9</td>\n      <td>3.0</td>\n      <td>1.4</td>\n      <td>0.2</td>\n      <td>0</td>\n      <td>setosa</td>\n    </tr>\n    <tr>\n      <th>2</th>\n      <td>4.7</td>\n      <td>3.2</td>\n      <td>1.3</td>\n      <td>0.2</td>\n      <td>0</td>\n      <td>setosa</td>\n    </tr>\n    <tr>\n      <th>3</th>\n      <td>4.6</td>\n      <td>3.1</td>\n      <td>1.5</td>\n      <td>0.2</td>\n      <td>0</td>\n      <td>setosa</td>\n    </tr>\n    <tr>\n      <th>4</th>\n      <td>5.0</td>\n      <td>3.6</td>\n      <td>1.4</td>\n      <td>0.2</td>\n      <td>0</td>\n      <td>setosa</td>\n    </tr>\n  </tbody>\n</table>\n</div>"
     },
     "metadata": {},
     "execution_count": 35
    }
   ],
   "source": [
    "def get_names_target(value, iris_data):\n",
    "    for i in range(len(iris_data['target_names'])):\n",
    "        if value == i: return iris_data['target_names'][i]\n",
    "df = pd.DataFrame(iris_data.data, columns = iris_data['feature_names'])\n",
    "df['class'] = iris_data['target']\n",
    "df['target'] = df['class'].apply(get_names_target, iris_data = iris_data)\n",
    "df.head()\n"
   ]
  },
  {
   "cell_type": "markdown",
   "metadata": {},
   "source": [
    "### Question\n",
    "Find the X and y values we're looking for. Notice that y is categorical and thus, we could **one-hot encode it** if we are looking at **class** or we can just pick **target**. In order to one hot encode we have  to re-shape `y` it using the **.get_dummies** function. \n",
    "\n",
    "#### For the purpose of this exercise, do not use hot encoding, go only for target but think about if you have to drop it somewhere or not..."
   ]
  },
  {
   "cell_type": "code",
   "execution_count": 59,
   "metadata": {},
   "outputs": [
    {
     "output_type": "stream",
     "name": "stdout",
     "text": [
      "150 (150, 3)\n"
     ]
    }
   ],
   "source": [
    "#HOT ENCODING\n",
    "y = df['class'].values\n",
    "one_hot_encod = preprocessing.OneHotEncoder(categories='auto')\n",
    "y = one_hot_encod.fit_transform(y.reshape(-1,1))\n",
    "#GET DUMMIES\n",
    "y_2 = pd.get_dummies(df['class'])\n",
    "y_2.head()\n",
    "\n",
    "X = df.iloc[:,1:5].values\n"
   ]
  },
  {
   "cell_type": "markdown",
   "metadata": {},
   "source": [
    "## Step 2: Setting up supervised learning problem (selecting features)\n",
    "\n",
    "Feature selection is an essential step in improving a model's perfromance. In the first version of the model we will use the 'sepal length' and 'sepal width' as predicting features. Later we will see the effect of adding additional features.\n",
    "\n",
    "1. Assign the values of the 'target' to Y as a numpy array\n",
    "2. Assign the remaining feature values to X as a numpy array\n",
    "3. Check the shape of X and Y. Check the first few values.\n",
    "    - Can we confirm our X and Y are created correctly?"
   ]
  },
  {
   "cell_type": "code",
   "execution_count": 60,
   "metadata": {},
   "outputs": [
    {
     "output_type": "stream",
     "name": "stdout",
     "text": [
      "150 (150, 3)\n"
     ]
    }
   ],
   "source": [
    "print(len(X), y.shape)"
   ]
  },
  {
   "cell_type": "code",
   "execution_count": 11,
   "metadata": {},
   "outputs": [],
   "source": [
    "#your code here\n"
   ]
  },
  {
   "cell_type": "markdown",
   "metadata": {},
   "source": [
    "## Step 3: Creating the first model\n",
    "\n",
    "In lecture we learned about creating a train and test datasets, normalizing, and fitting a model. In this step we will see how to build a simple version of this.\n",
    "\n",
    "We have to be careful when constructing our train and test datasets. First, when we create train and test datasets we have to be careful that we always have the same datapoints in each set. Otherwise our results won't be reproduceable or we might introduce a bias into our model.\n",
    "\n",
    "We also need to be attentive to when we normalize the data. What would be the effect of normalizing the data (i.e. with StandardScaler to a range between 0 - 1) before we create our train and test sets? Effectively we would use information in the test set to structure the values in the training set and vice versa. Therefore normalizing train and test independently is the preferred method.\n",
    "\n",
    "1. Create X_train, X_test, Y_train, Y_test using ```train_test_split()``` with an 80/20 train/test split. Look in the SKLearn documentation to understand how the function works.\n",
    "    - Inspect the first few rows of X_train.\n",
    "    - Run the cell a few times. Do the first few rows change?\n",
    "    - What option can we use in ```train_test_split()``` to stop this from happening?\n",
    "2. Normalize the train and test datasets with ```StandardScaler```\n",
    "    - We can fit the transform with ```.fit()``` and ```.transform()``` to apply it. Look in the documentation for an esample of how to do this.\n",
    "    - Does it make sense to normalize Y_train and Y_test?\n",
    "3. Initalize a ```LogisticRegression()``` model and use the ```.fit()``` method to initalize the first model.\n",
    "    - We will pass the X_train and Y_train variables to the ```.fit()``` method.\n",
    "    - Once the model is fit, use the ```.predict()``` with the X_test and save the output as predictions."
   ]
  },
  {
   "cell_type": "code",
   "execution_count": 65,
   "metadata": {},
   "outputs": [],
   "source": [
    "X_train, X_test, y_train, y_test = train_test_split(X, y, test_size= 0.20, random_state = 0)\n"
   ]
  },
  {
   "cell_type": "code",
   "execution_count": 69,
   "metadata": {},
   "outputs": [
    {
     "output_type": "execute_result",
     "data": {
      "text/plain": [
       "array([[ 0.10850105,  0.94751783,  0.736072  ,  1.15375582],\n",
       "       [-0.12400121,  0.38491447,  0.34752959, -0.0501633 ],\n",
       "       [ 1.03851009, -1.30289562, -1.33615415, -1.25408241],\n",
       "       [-0.12400121,  0.60995581,  0.736072  ,  1.15375582],\n",
       "       [-0.58900572,  1.00377816,  1.25412853,  1.15375582],\n",
       "       [-0.82150798,  0.04735245,  0.21801546, -0.0501633 ],\n",
       "       [ 1.73601687, -1.19037495, -1.20664002, -1.25408241],\n",
       "       [-0.82150798,  0.72247648,  0.47704373, -0.0501633 ],\n",
       "       [-0.12400121,  0.21613346,  0.34752959, -0.0501633 ],\n",
       "       [-1.05401024,  0.10361279, -0.04101281, -0.0501633 ],\n",
       "       [-0.12400121,  0.94751783,  1.1246144 ,  1.15375582],\n",
       "       [ 0.34100331, -1.41541629, -1.33615415, -1.25408241],\n",
       "       [ 0.10850105,  0.72247648,  1.38364267,  1.15375582],\n",
       "       [ 1.03851009, -1.24663528, -0.81809761, -1.25408241],\n",
       "       [ 1.50351461, -1.30289562, -1.33615415, -1.25408241],\n",
       "       [-2.4490238 , -0.1776889 , -0.30004108, -0.0501633 ],\n",
       "       [-0.12400121,  0.94751783,  0.736072  ,  1.15375582],\n",
       "       [ 0.57350557,  1.0600385 ,  1.64267094,  1.15375582],\n",
       "       [-1.98401928,  0.66621615,  0.34752959,  1.15375582],\n",
       "       [-1.2865125 ,  1.11629884,  0.736072  ,  1.15375582],\n",
       "       [-1.2865125 ,  0.04735245, -0.17052694, -0.0501633 ],\n",
       "       [-0.12400121,  1.28507985,  1.38364267,  1.15375582],\n",
       "       [ 0.57350557,  0.49743514,  0.47704373, -0.0501633 ],\n",
       "       [-1.51901476, -0.00890789, -0.17052694, -0.0501633 ],\n",
       "       [-0.82150798,  0.60995581,  0.736072  ,  1.15375582],\n",
       "       [-0.58900572,  0.72247648,  0.34752959,  1.15375582],\n",
       "       [-1.2865125 ,  0.38491447,  0.60655786,  1.15375582],\n",
       "       [-1.2865125 ,  0.66621615,  0.86558613,  1.15375582],\n",
       "       [ 0.34100331,  0.49743514,  0.21801546, -0.0501633 ],\n",
       "       [-0.12400121,  0.77873682,  0.99510027,  1.15375582],\n",
       "       [ 0.80600783,  0.38491447,  0.47704373, -0.0501633 ],\n",
       "       [ 0.10850105, -1.24663528, -1.33615415, -1.25408241],\n",
       "       [-0.82150798,  0.72247648,  0.86558613,  1.15375582],\n",
       "       [-0.82150798,  0.21613346,  0.08850133, -0.0501633 ],\n",
       "       [-0.35650346, -0.12142856,  0.08850133, -0.0501633 ],\n",
       "       [-1.2865125 ,  0.10361279,  0.08850133, -0.0501633 ],\n",
       "       [-0.12400121,  0.4411748 ,  0.21801546, -0.0501633 ],\n",
       "       [ 0.34100331,  1.22881951,  0.736072  ,  1.15375582],\n",
       "       [ 1.50351461, -1.30289562, -1.33615415, -1.25408241],\n",
       "       [-0.12400121, -1.52793696, -1.46566829, -1.25408241],\n",
       "       [-0.82150798,  0.83499716,  0.86558613,  1.15375582],\n",
       "       [-0.12400121,  0.21613346, -0.04101281, -0.0501633 ],\n",
       "       [ 0.80600783, -1.19037495, -1.33615415, -1.25408241],\n",
       "       [ 3.13103043, -1.30289562, -1.07712588, -1.25408241],\n",
       "       [ 0.10850105,  0.60995581,  0.34752959, -0.0501633 ],\n",
       "       [ 0.10850105, -1.30289562, -1.33615415, -1.25408241],\n",
       "       [-0.12400121,  0.72247648,  0.736072  ,  1.15375582],\n",
       "       [-1.2865125 , -0.45899058, -0.17052694, -0.0501633 ],\n",
       "       [ 0.80600783, -1.35915595, -1.20664002, -1.25408241],\n",
       "       [-1.98401928,  0.38491447,  0.34752959, -0.0501633 ],\n",
       "       [ 1.27101235,  1.28507985,  1.64267094,  1.15375582],\n",
       "       [-0.35650346,  0.21613346,  0.08850133, -0.0501633 ],\n",
       "       [-0.12400121, -1.35915595, -1.46566829, -1.25408241],\n",
       "       [-0.12400121,  1.17255917,  1.1246144 ,  1.15375582],\n",
       "       [ 0.34100331,  1.0600385 ,  1.38364267,  1.15375582],\n",
       "       [-0.12400121,  1.11629884,  1.25412853,  1.15375582],\n",
       "       [-0.58900572,  1.00377816,  1.1246144 ,  1.15375582],\n",
       "       [ 1.73601687, -1.24663528, -1.33615415, -1.25408241],\n",
       "       [ 0.80600783, -1.24663528, -1.33615415, -1.25408241],\n",
       "       [ 0.34100331,  0.72247648,  0.99510027,  1.15375582],\n",
       "       [ 0.57350557,  1.0600385 ,  1.1246144 ,  1.15375582],\n",
       "       [-1.75151702, -1.41541629, -1.20664002, -1.25408241],\n",
       "       [ 0.80600783,  0.89125749,  1.38364267,  1.15375582],\n",
       "       [-0.12400121, -1.35915595, -1.33615415, -1.25408241],\n",
       "       [-1.2865125 ,  0.66621615,  0.99510027,  1.15375582],\n",
       "       [ 0.10850105,  0.89125749,  1.1246144 ,  1.15375582],\n",
       "       [ 0.34100331, -1.41541629, -1.33615415, -1.25408241],\n",
       "       [ 1.27101235, -1.35915595, -1.33615415, -1.25408241],\n",
       "       [-0.12400121,  1.11629884,  0.47704373,  1.15375582],\n",
       "       [ 1.03851009, -1.35915595, -1.20664002, -1.25408241],\n",
       "       [-0.12400121, -1.41541629, -1.33615415, -1.25408241],\n",
       "       [ 1.96851913, -1.19037495, -1.07712588, -1.25408241],\n",
       "       [-1.75151702,  0.10361279,  0.08850133, -0.0501633 ],\n",
       "       [ 0.34100331,  1.17255917,  1.38364267,  1.15375582],\n",
       "       [-0.12400121,  1.56638153,  1.1246144 ,  1.15375582],\n",
       "       [ 1.03851009, -1.35915595, -1.33615415, -1.25408241],\n",
       "       [ 0.10850105, -1.30289562, -1.33615415, -1.25408241],\n",
       "       [ 0.80600783, -1.35915595, -1.33615415, -1.25408241],\n",
       "       [-0.58900572,  0.38491447,  0.08850133, -0.0501633 ],\n",
       "       [-0.12400121,  0.32865413,  0.21801546, -0.0501633 ],\n",
       "       [ 0.34100331, -1.47167663, -1.33615415, -1.25408241],\n",
       "       [ 0.57350557, -1.19037495, -0.94761175, -1.25408241],\n",
       "       [-0.35650346,  0.27239379,  0.08850133, -0.0501633 ],\n",
       "       [ 0.80600783, -1.30289562, -1.07712588, -1.25408241],\n",
       "       [-1.05401024,  1.73516253,  1.38364267,  1.15375582],\n",
       "       [-1.51901476, -0.29020957, -0.30004108, -0.0501633 ],\n",
       "       [ 1.73601687,  1.45386085,  0.99510027,  1.15375582],\n",
       "       [ 0.10850105,  0.32865413,  0.21801546, -0.0501633 ],\n",
       "       [ 2.43352365, -1.30289562, -1.46566829, -1.25408241],\n",
       "       [-0.12400121,  0.55369548,  0.736072  ,  1.15375582],\n",
       "       [ 2.20102139, -1.47167663, -1.33615415, -1.25408241],\n",
       "       [-0.58900572,  1.62264186,  0.99510027,  1.15375582],\n",
       "       [ 1.73601687, -1.30289562, -1.20664002, -1.25408241],\n",
       "       [ 0.34100331, -1.24663528, -1.33615415, -1.25408241],\n",
       "       [-0.58900572,  1.28507985,  0.86558613,  1.15375582],\n",
       "       [ 0.57350557, -1.35915595, -1.33615415, -1.25408241],\n",
       "       [ 0.80600783,  1.00377816,  1.5131568 ,  1.15375582],\n",
       "       [-0.58900572,  0.15987312,  0.08850133, -0.0501633 ],\n",
       "       [-0.82150798,  0.04735245, -0.04101281, -0.0501633 ],\n",
       "       [-1.05401024, -0.1776889 , -0.30004108, -0.0501633 ],\n",
       "       [ 0.34100331,  0.83499716,  1.38364267,  1.15375582],\n",
       "       [-0.12400121,  0.77873682,  1.38364267,  1.15375582],\n",
       "       [-1.2865125 ,  0.60995581,  0.34752959, -0.0501633 ],\n",
       "       [-0.12400121,  0.66621615,  0.60655786, -0.0501633 ],\n",
       "       [-0.12400121, -1.24663528, -1.33615415, -1.25408241],\n",
       "       [-1.51901476, -0.06516822, -0.30004108, -0.0501633 ],\n",
       "       [ 0.10850105,  1.00377816,  1.5131568 ,  1.15375582],\n",
       "       [-0.82150798,  0.72247648,  0.86558613,  1.15375582],\n",
       "       [ 0.80600783, -1.30289562, -1.33615415, -1.25408241],\n",
       "       [-0.35650346,  0.4411748 ,  0.08850133, -0.0501633 ],\n",
       "       [-0.12400121,  0.15987312,  0.08850133, -0.0501633 ],\n",
       "       [ 0.34100331,  0.55369548,  0.736072  , -0.0501633 ],\n",
       "       [-1.75151702,  0.32865413,  0.08850133, -0.0501633 ],\n",
       "       [ 1.03851009, -1.41541629, -1.33615415, -1.25408241],\n",
       "       [ 1.50351461, -1.30289562, -1.07712588, -1.25408241],\n",
       "       [ 0.10850105, -1.30289562, -1.46566829, -1.25408241],\n",
       "       [-0.35650346,  1.00377816,  0.736072  ,  1.15375582],\n",
       "       [-0.82150798,  0.15987312, -0.30004108, -0.0501633 ],\n",
       "       [ 1.73601687,  1.62264186,  1.25412853,  1.15375582],\n",
       "       [ 0.34100331, -1.35915595, -1.33615415, -1.25408241]])"
      ]
     },
     "metadata": {},
     "execution_count": 69
    }
   ],
   "source": [
    "X_train = preprocessing.StandardScaler().fit_transform(X_train)\n",
    "X_train\n",
    "\n"
   ]
  },
  {
   "cell_type": "code",
   "execution_count": 14,
   "metadata": {},
   "outputs": [],
   "source": [
    "#initalize and fit with Logistic Regression\n",
    "#your code here\n",
    "\n"
   ]
  },
  {
   "cell_type": "markdown",
   "metadata": {},
   "source": [
    "## Step 4: Evaluate the frist model's predictions\n",
    "\n",
    "We will learn more about how to evaluate the performance of a classifier in later lessons. For now we will use % accuracy as our metric. It is important to know that this metric only helps us understand the specific performance of our model and not, for example, where we can improve it, or where it already perfoms well.\n",
    "\n",
    "1. Use ```.score()``` to evaluate the performance of our first model."
   ]
  },
  {
   "cell_type": "code",
   "execution_count": 15,
   "metadata": {},
   "outputs": [],
   "source": [
    "#evaluating the performace of our first model\n",
    "#your code here\n",
    "\n"
   ]
  },
  {
   "cell_type": "markdown",
   "metadata": {},
   "source": [
    "## Step 5: Question your results. \n",
    "What accuracy did you achieve? Is it 70, 90%? Anything above 70% is a good fit for our first result. How do we know it is reproducible? **If we run the model again and our performance is 85%, which one is correct**? And what about improving our model? \n",
    "\n",
    "## However ...\n",
    "There is one crucial mistake that has been made in the exercise above -even if we achieved great results-. Can you spot it? You can go back to the lecture slides for inspiration. "
   ]
  },
  {
   "cell_type": "markdown",
   "metadata": {},
   "source": [
    "*Type your answer here...*"
   ]
  },
  {
   "cell_type": "markdown",
   "metadata": {},
   "source": [
    "## Optional:\n",
    "Repeat the cells you need to change in the exercise and run the classifier again. What is the new accuracy and why is this better?"
   ]
  },
  {
   "cell_type": "code",
   "execution_count": 16,
   "metadata": {},
   "outputs": [],
   "source": [
    "#your code here"
   ]
  }
 ],
 "metadata": {
  "kernelspec": {
   "display_name": "Python 3",
   "language": "python",
   "name": "python3"
  },
  "language_info": {
   "codemirror_mode": {
    "name": "ipython",
    "version": 3
   },
   "file_extension": ".py",
   "mimetype": "text/x-python",
   "name": "python",
   "nbconvert_exporter": "python",
   "pygments_lexer": "ipython3",
   "version": "3.6.12-final"
  }
 },
 "nbformat": 4,
 "nbformat_minor": 2
}