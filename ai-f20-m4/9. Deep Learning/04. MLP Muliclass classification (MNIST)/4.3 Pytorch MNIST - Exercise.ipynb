{
 "cells": [
  {
   "cell_type": "markdown",
   "metadata": {},
   "source": [
    "<div style=\"background:#222222; color:#ffffff; padding:20px\">\n",
    "    <h2 align=\"center\">Deep Learning Fundamentals</h2>\n",
    "    <h2 align=\"center\" style=\"color:#01ff84\">Multiclass Clasification: MNIST</h2>\n",
    "<div>"
   ]
  },
  {
   "cell_type": "markdown",
   "metadata": {},
   "source": [
    "## Imports"
   ]
  },
  {
   "cell_type": "code",
   "execution_count": 1,
   "metadata": {},
   "outputs": [],
   "source": [
    "%matplotlib inline\n",
    "%config InlineBackend.figure_format = 'retina'\n",
    "\n",
    "from collections import OrderedDict\n",
    "\n",
    "import numpy as np\n",
    "import matplotlib.pyplot as plt\n",
    "import time\n",
    "\n",
    "import torch\n",
    "from torch import nn\n",
    "from torch import optim\n",
    "import torch.nn.functional as F\n",
    "\n",
    "from torchvision import datasets, transforms"
   ]
  },
  {
   "cell_type": "markdown",
   "metadata": {},
   "source": [
    "## Auxliary plotting function"
   ]
  },
  {
   "cell_type": "code",
   "execution_count": 2,
   "metadata": {},
   "outputs": [],
   "source": [
    "# https://discuss.pytorch.org/t/view-classify-in-module-helper/30279/6\n",
    "\n",
    "def view_classify(img, ps):\n",
    "\n",
    "    ps = ps.data.numpy().squeeze()\n",
    "\n",
    "    fig, (ax1, ax2) = plt.subplots(figsize=(6,9), ncols=2)\n",
    "    ax1.imshow(img.resize_(1, 28, 28).numpy().squeeze())\n",
    "    ax1.axis('off')\n",
    "    ax2.barh(np.arange(10), ps)\n",
    "    ax2.set_aspect(0.1)\n",
    "    ax2.set_yticks(np.arange(10))\n",
    "    ax2.set_yticklabels(np.arange(10))\n",
    "    ax2.set_title('Class Probability')\n",
    "    ax2.set_xlim(0, 1.1)"
   ]
  },
  {
   "cell_type": "markdown",
   "metadata": {},
   "source": [
    "# Load MNIST Dataset\n",
    "First up, we need to get our dataset. This is provided through the `torchvision` package. The code below will download the MNIST dataset, then create training and test datasets for us. Don't worry too much about the details here, you'll learn more about this later."
   ]
  },
  {
   "cell_type": "code",
   "execution_count": 3,
   "metadata": {},
   "outputs": [],
   "source": [
    "# Define a transform to normalize the data (Preprocessing)\n",
    "transform = transforms.Compose([transforms.ToTensor(), transforms.Normalize((0.5), (0.5)) ])\n",
    "\n",
    "# Download and load the training data\n",
    "trainset    = datasets.MNIST('MNIST_data/', download=True, train=True, transform=transform)\n",
    "trainloader = torch.utils.data.DataLoader(trainset, batch_size=64, shuffle=True)\n",
    "\n",
    "# Download and load the test data\n",
    "testset    = datasets.MNIST('MNIST_data/', download=True, train=False, transform=transform)\n",
    "testloader = torch.utils.data.DataLoader(testset, batch_size=64, shuffle=True)"
   ]
  },
  {
   "cell_type": "code",
   "execution_count": 4,
   "metadata": {},
   "outputs": [],
   "source": [
    "dataiter = iter(trainloader)\n",
    "images, labels = dataiter.next()"
   ]
  },
  {
   "cell_type": "markdown",
   "metadata": {},
   "source": [
    "We have the training data loaded into `trainloader` and we make that an iterator with `iter(trainloader)`. We'd use this to loop through the dataset for training, but here I'm just grabbing the first batch so we can check out the data. We can see below that `images` is just a tensor with size (64, 1, 28, 28). So, 64 images per batch, 1 color channel, and 28x28 images."
   ]
  },
  {
   "cell_type": "code",
   "execution_count": 5,
   "metadata": {},
   "outputs": [
    {
     "output_type": "display_data",
     "data": {
      "text/plain": "<Figure size 432x288 with 1 Axes>",
      "image/png": "[encoded data removed]"
     },
     "metadata": {
      "image/png": {
       "width": 251,
       "height": 248
      },
      "needs_background": "light"
     }
    }
   ],
   "source": [
    "plt.imshow(images[1].numpy().squeeze(), cmap='Greys_r');"
   ]
  },
  {
   "cell_type": "markdown",
   "metadata": {},
   "source": [
    "## Building networks with PyTorch\n",
    "\n",
    "Here I'll use PyTorch to build a simple feedfoward network to classify the MNIST images. That is, the network will receive a digit image as input and predict the digit in the image.\n",
    "\n",
    "<img src=\"assets/mlp_mnist.png\" width=600px>\n",
    "\n",
    "To build a neural network with PyTorch, you use the `torch.nn` module. The network itself is a class inheriting from `torch.nn.Module`. You define each of the operations separately, like `nn.Linear(784, 128)` for a fully connected linear layer with 784 inputs and 128 units.\n",
    "\n",
    "The class needs to include a `forward` method that implements the forward pass through the network. In this method, you pass some input tensor `x` through each of the operations you defined earlier. The `torch.nn` module also has functional equivalents for things like ReLUs in `torch.nn.functional`. This module is usually imported as `F`. Then to use a ReLU activation on some layer (which is just a tensor), you'd do `F.relu(x)`. Below are a few different commonly used activation functions.\n",
    "\n",
    "<img src=\"assets/activation.png\" width=700px>\n",
    "\n",
    "So, for this network, I'll build it with three fully connected layers, then a softmax output for predicting classes. The softmax function is similar to the sigmoid in that it squashes inputs between 0 and 1, but it's also normalized so that all the values sum to one like a proper probability distribution."
   ]
  },
  {
   "cell_type": "code",
   "execution_count": 6,
   "metadata": {},
   "outputs": [
    {
     "output_type": "execute_result",
     "data": {
      "text/plain": [
       "Network(\n",
       "  (fc1): Linear(in_features=784, out_features=128, bias=True)\n",
       "  (fc2): Linear(in_features=128, out_features=64, bias=True)\n",
       "  (fc3): Linear(in_features=64, out_features=10, bias=True)\n",
       ")"
      ]
     },
     "metadata": {},
     "execution_count": 6
    }
   ],
   "source": [
    "class Network(nn.Module):\n",
    "    \n",
    "    # Defining the layers, 128, 64, 10 units each\n",
    "    def __init__(self):\n",
    "        super().__init__()\n",
    "        self.fc1 = nn.Linear(784, 128)\n",
    "        self.fc2 = nn.Linear(128, 64)\n",
    "        self.fc3 = nn.Linear(64, 10)\n",
    "        \n",
    "    # Forward pass through the network, returns the output logits\n",
    "    def forward(self, x):\n",
    "        x = self.fc1(x)\n",
    "        x = F.relu(x)\n",
    "        x = self.fc2(x)\n",
    "        x = F.relu(x)\n",
    "        x = self.fc3(x)\n",
    "        x = F.softmax(x, dim=1)\n",
    "        return x\n",
    "\n",
    "model = Network()\n",
    "model"
   ]
  },
  {
   "cell_type": "markdown",
   "metadata": {},
   "source": [
    "### Sequential API\n",
    "PyTorch provides a convenient way to build networks like this where a tensor is passed sequentially through operations, `nn.Sequential` ([documentation](https://pytorch.org/docs/master/nn.html#torch.nn.Sequential)). Using this to build the equivalent network:"
   ]
  },
  {
   "cell_type": "code",
   "execution_count": 7,
   "metadata": {},
   "outputs": [
    {
     "output_type": "stream",
     "name": "stdout",
     "text": [
      "Sequential(\n  (0): Linear(in_features=784, out_features=128, bias=True)\n  (1): ReLU()\n  (2): Linear(in_features=128, out_features=64, bias=True)\n  (3): ReLU()\n  (4): Linear(in_features=64, out_features=10, bias=True)\n  (5): Softmax(dim=1)\n)\n"
     ]
    }
   ],
   "source": [
    "# Hyperparameters for our network\n",
    "input_size   = 784\n",
    "hidden_sizes = [128, 64]\n",
    "output_size   = 10\n",
    "\n",
    "# Build a feed-forward network\n",
    "model = nn.Sequential(nn.Linear(input_size, hidden_sizes[0]),\n",
    "                      nn.ReLU(),\n",
    "                      nn.Linear(hidden_sizes[0], hidden_sizes[1]),\n",
    "                      nn.ReLU(),\n",
    "                      nn.Linear(hidden_sizes[1], output_size),\n",
    "                      nn.Softmax(dim=1))\n",
    "print(model)"
   ]
  },
  {
   "cell_type": "markdown",
   "metadata": {},
   "source": [
    "You can also pass in an `OrderedDict` to name the individual layers and operations. Note that a dictionary keys must be unique, so _each operation must have a different name_."
   ]
  },
  {
   "cell_type": "code",
   "execution_count": 8,
   "metadata": {},
   "outputs": [
    {
     "output_type": "execute_result",
     "data": {
      "text/plain": [
       "Sequential(\n",
       "  (fc1): Linear(in_features=784, out_features=128, bias=True)\n",
       "  (relu1): ReLU()\n",
       "  (fc2): Linear(in_features=128, out_features=64, bias=True)\n",
       "  (relu2): ReLU()\n",
       "  (output): Linear(in_features=64, out_features=10, bias=True)\n",
       "  (softmax): Softmax(dim=1)\n",
       ")"
      ]
     },
     "metadata": {},
     "execution_count": 8
    }
   ],
   "source": [
    "model = nn.Sequential(OrderedDict([\n",
    "          ('fc1',   nn.Linear(input_size, hidden_sizes[0])),\n",
    "          ('relu1', nn.ReLU()),\n",
    "          ('fc2',   nn.Linear(hidden_sizes[0], hidden_sizes[1])),\n",
    "          ('relu2', nn.ReLU()),\n",
    "          ('output', nn.Linear(hidden_sizes[1], output_size)),\n",
    "          ('softmax', nn.Softmax(dim=1))]))\n",
    "model"
   ]
  },
  {
   "cell_type": "markdown",
   "metadata": {},
   "source": [
    "### Initializing weights and biases\n",
    "\n",
    "The weights and such are automatically initialized for you, but it's possible to customize how they are initialized. The weights and biases are tensors attached to the layer you defined, you can get them with `model.fc1.weight` for instance."
   ]
  },
  {
   "cell_type": "code",
   "execution_count": 9,
   "metadata": {},
   "outputs": [
    {
     "output_type": "stream",
     "name": "stdout",
     "text": [
      "Parameter containing:\ntensor([[-0.0190, -0.0047, -0.0262,  ..., -0.0111,  0.0303, -0.0012],\n        [ 0.0042,  0.0215, -0.0260,  ...,  0.0349, -0.0231, -0.0080],\n        [-0.0090,  0.0269,  0.0188,  ...,  0.0102, -0.0343, -0.0054],\n        ...,\n        [-0.0137,  0.0319, -0.0036,  ..., -0.0128,  0.0057, -0.0136],\n        [-0.0271,  0.0181, -0.0121,  ...,  0.0083, -0.0179, -0.0011],\n        [-0.0201, -0.0174, -0.0170,  ..., -0.0337,  0.0309,  0.0287]],\n       requires_grad=True)\nParameter containing:\ntensor([-0.0060, -0.0052,  0.0214,  0.0120, -0.0204, -0.0146, -0.0289,  0.0077,\n        -0.0284,  0.0195, -0.0188,  0.0023,  0.0314,  0.0171, -0.0107, -0.0008,\n        -0.0077,  0.0119, -0.0335, -0.0235,  0.0157, -0.0179,  0.0208, -0.0171,\n         0.0319, -0.0266, -0.0147,  0.0093,  0.0302, -0.0319,  0.0341,  0.0269,\n        -0.0074,  0.0057,  0.0229, -0.0295,  0.0118, -0.0138,  0.0324, -0.0182,\n        -0.0306,  0.0209,  0.0327, -0.0026,  0.0078,  0.0126, -0.0234,  0.0180,\n        -0.0039, -0.0030, -0.0181, -0.0036, -0.0123, -0.0114,  0.0214, -0.0324,\n        -0.0058, -0.0017,  0.0001,  0.0209,  0.0279, -0.0106, -0.0064,  0.0099,\n        -0.0121,  0.0118, -0.0032,  0.0258, -0.0122, -0.0195, -0.0116, -0.0284,\n         0.0068, -0.0265,  0.0326,  0.0032, -0.0189, -0.0026,  0.0014, -0.0136,\n         0.0111,  0.0314,  0.0321, -0.0191, -0.0071, -0.0200, -0.0041,  0.0305,\n         0.0219,  0.0240,  0.0167,  0.0177, -0.0262,  0.0213, -0.0240, -0.0120,\n         0.0208, -0.0272,  0.0278, -0.0310, -0.0308, -0.0141,  0.0241, -0.0353,\n         0.0070,  0.0279, -0.0111,  0.0289,  0.0310, -0.0028, -0.0250,  0.0032,\n         0.0247,  0.0158,  0.0329,  0.0219,  0.0095, -0.0317,  0.0069, -0.0068,\n         0.0138, -0.0315, -0.0336, -0.0326,  0.0191,  0.0232,  0.0287,  0.0209],\n       requires_grad=True)\n"
     ]
    }
   ],
   "source": [
    "print(model.fc1.weight)\n",
    "print(model.fc1.bias)"
   ]
  },
  {
   "cell_type": "markdown",
   "metadata": {},
   "source": [
    "For custom initialization, we want to modify these tensors in place. These are actually autograd *Variables*, so we need to get back the actual tensors with `model.fc1.weight.data`. Once we have the tensors, we can fill them with zeros (for biases) or random normal values."
   ]
  },
  {
   "cell_type": "code",
   "execution_count": 10,
   "metadata": {},
   "outputs": [
    {
     "output_type": "execute_result",
     "data": {
      "text/plain": [
       "tensor([0., 0., 0., 0., 0., 0., 0., 0., 0., 0., 0., 0., 0., 0., 0., 0., 0., 0., 0., 0., 0., 0., 0., 0.,\n",
       "        0., 0., 0., 0., 0., 0., 0., 0., 0., 0., 0., 0., 0., 0., 0., 0., 0., 0., 0., 0., 0., 0., 0., 0.,\n",
       "        0., 0., 0., 0., 0., 0., 0., 0., 0., 0., 0., 0., 0., 0., 0., 0., 0., 0., 0., 0., 0., 0., 0., 0.,\n",
       "        0., 0., 0., 0., 0., 0., 0., 0., 0., 0., 0., 0., 0., 0., 0., 0., 0., 0., 0., 0., 0., 0., 0., 0.,\n",
       "        0., 0., 0., 0., 0., 0., 0., 0., 0., 0., 0., 0., 0., 0., 0., 0., 0., 0., 0., 0., 0., 0., 0., 0.,\n",
       "        0., 0., 0., 0., 0., 0., 0., 0.])"
      ]
     },
     "metadata": {},
     "execution_count": 10
    }
   ],
   "source": [
    "# Set biases to all zeros\n",
    "model.fc1.bias.data.fill_(0)"
   ]
  },
  {
   "cell_type": "code",
   "execution_count": 11,
   "metadata": {},
   "outputs": [
    {
     "output_type": "execute_result",
     "data": {
      "text/plain": [
       "tensor([[-0.0112,  0.0141, -0.0068,  ...,  0.0049,  0.0077,  0.0056],\n",
       "        [-0.0010,  0.0083, -0.0243,  ..., -0.0032,  0.0135, -0.0002],\n",
       "        [-0.0122,  0.0020,  0.0011,  ...,  0.0015,  0.0037, -0.0012],\n",
       "        ...,\n",
       "        [-0.0029,  0.0085, -0.0099,  ..., -0.0039,  0.0020, -0.0024],\n",
       "        [ 0.0040,  0.0126, -0.0103,  ..., -0.0027,  0.0065,  0.0090],\n",
       "        [ 0.0013, -0.0014,  0.0098,  ...,  0.0071,  0.0134,  0.0103]])"
      ]
     },
     "metadata": {},
     "execution_count": 11
    }
   ],
   "source": [
    "# sample from random normal with standard dev = 0.01\n",
    "model.fc1.weight.data.normal_(std=0.01)"
   ]
  },
  {
   "cell_type": "code",
   "execution_count": 12,
   "metadata": {},
   "outputs": [
    {
     "output_type": "stream",
     "name": "stdout",
     "text": [
      "<torch.utils.data.dataloader._SingleProcessDataLoaderIter object at 0x000002163AEE3C40>\n"
     ]
    },
    {
     "output_type": "execute_result",
     "data": {
      "text/plain": [
       "[tensor([[[[-1., -1., -1.,  ..., -1., -1., -1.],\n",
       "           [-1., -1., -1.,  ..., -1., -1., -1.],\n",
       "           [-1., -1., -1.,  ..., -1., -1., -1.],\n",
       "           ...,\n",
       "           [-1., -1., -1.,  ..., -1., -1., -1.],\n",
       "           [-1., -1., -1.,  ..., -1., -1., -1.],\n",
       "           [-1., -1., -1.,  ..., -1., -1., -1.]]],\n",
       " \n",
       " \n",
       "         [[[-1., -1., -1.,  ..., -1., -1., -1.],\n",
       "           [-1., -1., -1.,  ..., -1., -1., -1.],\n",
       "           [-1., -1., -1.,  ..., -1., -1., -1.],\n",
       "           ...,\n",
       "           [-1., -1., -1.,  ..., -1., -1., -1.],\n",
       "           [-1., -1., -1.,  ..., -1., -1., -1.],\n",
       "           [-1., -1., -1.,  ..., -1., -1., -1.]]],\n",
       " \n",
       " \n",
       "         [[[-1., -1., -1.,  ..., -1., -1., -1.],\n",
       "           [-1., -1., -1.,  ..., -1., -1., -1.],\n",
       "           [-1., -1., -1.,  ..., -1., -1., -1.],\n",
       "           ...,\n",
       "           [-1., -1., -1.,  ..., -1., -1., -1.],\n",
       "           [-1., -1., -1.,  ..., -1., -1., -1.],\n",
       "           [-1., -1., -1.,  ..., -1., -1., -1.]]],\n",
       " \n",
       " \n",
       "         ...,\n",
       " \n",
       " \n",
       "         [[[-1., -1., -1.,  ..., -1., -1., -1.],\n",
       "           [-1., -1., -1.,  ..., -1., -1., -1.],\n",
       "           [-1., -1., -1.,  ..., -1., -1., -1.],\n",
       "           ...,\n",
       "           [-1., -1., -1.,  ..., -1., -1., -1.],\n",
       "           [-1., -1., -1.,  ..., -1., -1., -1.],\n",
       "           [-1., -1., -1.,  ..., -1., -1., -1.]]],\n",
       " \n",
       " \n",
       "         [[[-1., -1., -1.,  ..., -1., -1., -1.],\n",
       "           [-1., -1., -1.,  ..., -1., -1., -1.],\n",
       "           [-1., -1., -1.,  ..., -1., -1., -1.],\n",
       "           ...,\n",
       "           [-1., -1., -1.,  ..., -1., -1., -1.],\n",
       "           [-1., -1., -1.,  ..., -1., -1., -1.],\n",
       "           [-1., -1., -1.,  ..., -1., -1., -1.]]],\n",
       " \n",
       " \n",
       "         [[[-1., -1., -1.,  ..., -1., -1., -1.],\n",
       "           [-1., -1., -1.,  ..., -1., -1., -1.],\n",
       "           [-1., -1., -1.,  ..., -1., -1., -1.],\n",
       "           ...,\n",
       "           [-1., -1., -1.,  ..., -1., -1., -1.],\n",
       "           [-1., -1., -1.,  ..., -1., -1., -1.],\n",
       "           [-1., -1., -1.,  ..., -1., -1., -1.]]]]),\n",
       " tensor([2, 6, 9, 1, 0, 3, 7, 8, 2, 2, 6, 6, 3, 3, 6, 7, 5, 8, 3, 0, 2, 9, 4, 0,\n",
       "         7, 4, 5, 3, 9, 3, 0, 6, 3, 7, 5, 1, 0, 9, 8, 5, 4, 0, 6, 6, 7, 7, 2, 3,\n",
       "         9, 2, 9, 5, 9, 9, 3, 2, 0, 4, 2, 8, 9, 9, 0, 7])]"
      ]
     },
     "metadata": {},
     "execution_count": 12
    }
   ],
   "source": [
    "print(iter(trainloader))\n",
    "dataiter.next()"
   ]
  },
  {
   "cell_type": "markdown",
   "metadata": {},
   "source": [
    "### STEP 1: Forward pass\n",
    "\n",
    "Now that we have a network, let's see what happens when we pass in an image. This is called the forward pass. We're going to convert the image data into a tensor, then pass it through the operations defined by the network architecture."
   ]
  },
  {
   "cell_type": "code",
   "execution_count": 13,
   "metadata": {},
   "outputs": [
    {
     "output_type": "display_data",
     "data": {
      "text/plain": "<Figure size 432x648 with 2 Axes>",
      "image/png": "[encoded data removed]"
     },
     "metadata": {
      "image/png": {
       "width": 349,
       "height": 195
      },
      "needs_background": "light"
     }
    }
   ],
   "source": [
    "# Grab some data \n",
    "dataiter = iter(trainloader)\n",
    "images, labels = dataiter.next()\n",
    "\n",
    "# Resize images into a 1D vector, new shape is (batch size, color channels, image pixels) \n",
    "images.resize_(64, 1, 784)\n",
    "# or images.resize_(images.shape[0], 1, 784) to not automatically get batch size\n",
    "\n",
    "# Forward pass through the network\n",
    "img_idx = 0\n",
    "ps = model.forward(images[img_idx,:])\n",
    "\n",
    "img = images[img_idx]\n",
    "view_classify(img.view(1, 28, 28), ps)"
   ]
  },
  {
   "cell_type": "markdown",
   "metadata": {},
   "source": [
    "As you can see above, our network has basically no idea what this digit is. It's because we haven't trained it yet, all the weights are random!"
   ]
  },
  {
   "cell_type": "markdown",
   "metadata": {},
   "source": [
    "# Training Neural Networks\n",
    "\n",
    "The network we built isn't so smart, it doesn't know anything about our handwritten digits. Neural networks with non-linear activations work like universal function approximators. There is some function that maps your input to the output. For example, images of handwritten digits to class probabilities. The power of neural networks is that we can train them to approximate this function, and basically any function given enough data and compute time.\n",
    "\n",
    "<img src=\"assets/function_approx.png\" width=500px>\n",
    "\n",
    "At first the network is naive, it doesn't know the function mapping the inputs to the outputs. We train the network by showing it examples of real data, then adjusting the network parameters such that it approximates this function.\n",
    "\n",
    "To find these parameters, we need to know how poorly the network is predicting the real outputs. For this we calculate a **loss function** (also called the cost), a measure of our prediction error. For example, the mean squared loss is often used in regression and binary classification problems\n",
    "\n",
    "$$\n",
    "\\ell = \\frac{1}{2n}\\sum_i^n{\\left(y_i - \\hat{y}_i\\right)^2}\n",
    "$$\n",
    "\n",
    "where $n$ is the number of training examples, $y_i$ are the true labels, and $\\hat{y}_i$ are the predicted labels.\n",
    "\n",
    "By minimizing this loss with respect to the network parameters, we can find configurations where the loss is at a minimum and the network is able to predict the correct labels with high accuracy. We find this minimum using a process called **gradient descent**. The gradient is the slope of the loss function and points in the direction of fastest change. To get to the minimum in the least amount of time, we then want to follow the gradient (downwards). You can think of this like descending a mountain by following the steepest slope to the base.\n",
    "\n",
    "<img src='assets/gradient_descent.png' width=350px>"
   ]
  },
  {
   "cell_type": "markdown",
   "metadata": {},
   "source": [
    "## Backpropagation\n",
    "\n",
    "For single layer networks, gradient descent is simple to implement. However, it's more complicated for deeper, multilayer neural networks like the one we've built. Complicated enough that it took about 30 years before researchers figured out how to train multilayer networks, although it's straightforward once you learn about it. \n",
    "\n",
    "This is done through **backpropagation** which is really just an application of the chain rule from calculus. It's easiest to understand if we convert a two layer network into a graph representation.\n",
    "\n",
    "<img src='assets/w1_backprop_graph.png' width=400px>\n",
    "\n",
    "In the forward pass through the network, our data and operations go from right to left here. To train the weights with gradient descent, we propagate the gradient of the cost backwards through the network. Mathematically, this is really just calculating the gradient of the loss with respect to the weights using the chain rule.\n",
    "\n",
    "$$\n",
    "\\frac{\\partial \\ell}{\\partial w_1} = \\frac{\\partial l_1}{\\partial w_1} \\frac{\\partial s}{\\partial l_1} \\frac{\\partial l_2}{\\partial s} \\frac{\\partial \\ell}{\\partial l_2}\n",
    "$$\n",
    "\n",
    "We update our weights using this gradient with some learning rate $\\alpha$. \n",
    "\n",
    "$$\n",
    "w^\\prime = w - \\alpha \\frac{\\partial \\ell}{\\partial w}\n",
    "$$\n",
    "\n",
    "The learning rate is set such that the weight update steps are small enough that the iterative method settles in a minimum.\n",
    "\n",
    "The first thing we need to do for training is define our loss function. In PyTorch, you'll usually see this as `criterion`. Here we're using softmax output, so we want to use `criterion = nn.CrossEntropyLoss()` as our loss. Later when training, you use `loss = criterion(output, targets)` to calculate the actual loss.\n",
    "\n",
    "We also need to define the optimizer we're using, SGD or Adam, or something along those lines. Here I'll just use SGD with `torch.optim.SGD`, passing in the network parameters and the learning rate."
   ]
  },
  {
   "cell_type": "markdown",
   "metadata": {},
   "source": [
    "## Autograd\n",
    "\n",
    "Torch provides a module, `autograd`, for automatically calculating the gradient of tensors. It does this by keeping track of operations performed on tensors. To make sure PyTorch keeps track of operations on a tensor and calculates the gradients, you need to set `requires_grad` on a tensor. You can do this at creation with the `requires_grad` keyword, or at any time with `x.requires_grad_(True)`.\n",
    "\n",
    "You can turn off gradients for a block of code with the `torch.no_grad()` content:\n",
    "```python\n",
    "x = torch.zeros(1, requires_grad=True)\n",
    ">>> with torch.no_grad():\n",
    "...     y = x * 2\n",
    ">>> y.requires_grad\n",
    "False\n",
    "```\n",
    "\n",
    "Also, you can turn on or off gradients altogether with `torch.set_grad_enabled(True|False)`.\n",
    "\n",
    "The gradients are computed with respect to some variable `z` with `z.backward()`. This does a backward pass through the operations that created `z`."
   ]
  },
  {
   "cell_type": "code",
   "execution_count": 14,
   "metadata": {},
   "outputs": [
    {
     "output_type": "stream",
     "name": "stdout",
     "text": [
      "tensor([[ 1.7652,  0.6898],\n        [ 0.8235, -0.2885]], requires_grad=True)\n"
     ]
    }
   ],
   "source": [
    "x = torch.randn(2,2, requires_grad=True)\n",
    "print(x)"
   ]
  },
  {
   "cell_type": "code",
   "execution_count": 15,
   "metadata": {},
   "outputs": [
    {
     "output_type": "stream",
     "name": "stdout",
     "text": [
      "tensor([[3.1159, 0.4759],\n        [0.6781, 0.0832]], grad_fn=<PowBackward0>)\n"
     ]
    }
   ],
   "source": [
    "y = x**2\n",
    "print(y)"
   ]
  },
  {
   "cell_type": "markdown",
   "metadata": {},
   "source": [
    "Below we can see the operation that created `y`, a power operation `PowBackward0`."
   ]
  },
  {
   "cell_type": "code",
   "execution_count": 16,
   "metadata": {},
   "outputs": [
    {
     "output_type": "stream",
     "name": "stdout",
     "text": [
      "<PowBackward0 object at 0x000002163AEE3E50>\n"
     ]
    }
   ],
   "source": [
    "## grad_fn shows the function that generated this variable\n",
    "print(y.grad_fn)"
   ]
  },
  {
   "cell_type": "markdown",
   "metadata": {},
   "source": [
    "The autgrad module keeps track of these operations and knows how to calculate the gradient for each one. In this way, it's able to calculate the gradients for a chain of operations, with respect to any one tensor. Let's reduce the tensor `y` to a scalar value, the mean."
   ]
  },
  {
   "cell_type": "code",
   "execution_count": 17,
   "metadata": {},
   "outputs": [
    {
     "output_type": "stream",
     "name": "stdout",
     "text": [
      "tensor(1.0883, grad_fn=<MeanBackward0>)\n"
     ]
    }
   ],
   "source": [
    "z = y.mean()\n",
    "print(z)"
   ]
  },
  {
   "cell_type": "markdown",
   "metadata": {},
   "source": [
    "You can check the gradients for `x` and `y` but they are empty currently."
   ]
  },
  {
   "cell_type": "code",
   "execution_count": 18,
   "metadata": {},
   "outputs": [
    {
     "output_type": "stream",
     "name": "stdout",
     "text": [
      "None\n"
     ]
    }
   ],
   "source": [
    "print(x.grad)"
   ]
  },
  {
   "cell_type": "markdown",
   "metadata": {},
   "source": [
    "To calculate the gradients, you need to run the `.backward` method on a Variable, `z` for example. This will calculate the gradient for `z` with respect to `x`\n",
    "\n",
    "$$\n",
    "\\frac{\\partial z}{\\partial x} = \\frac{\\partial}{\\partial x}\\left[\\frac{1}{n}\\sum_i^n x_i^2\\right] = \\frac{x}{2}\n",
    "$$"
   ]
  },
  {
   "cell_type": "code",
   "execution_count": 19,
   "metadata": {},
   "outputs": [
    {
     "output_type": "stream",
     "name": "stdout",
     "text": [
      "tensor([[ 0.8826,  0.3449],\n        [ 0.4117, -0.1442]])\ntensor([[ 0.8826,  0.3449],\n        [ 0.4117, -0.1442]], grad_fn=<DivBackward0>)\n"
     ]
    }
   ],
   "source": [
    "z.backward()\n",
    "print(x.grad)\n",
    "print(x/2)"
   ]
  },
  {
   "cell_type": "markdown",
   "metadata": {},
   "source": [
    "These gradients calculations are particularly useful for neural networks. For training we need the gradients of the weights with respect to the cost. With PyTorch, we run data forward through the network to calculate the cost, then, go backwards to calculate the gradients with respect to the cost. Once we have the gradients we can make a gradient descent step. "
   ]
  },
  {
   "cell_type": "markdown",
   "metadata": {},
   "source": [
    "I'll build a network with `nn.Sequential` here. Only difference from the last part is I'm not actually using softmax on the output, but instead just using the raw output from the last layer. This is because the output from softmax is a probability distribution. Often, the output will have values really close to zero or really close to one. Due to [inaccuracies with representing numbers as floating points](https://docs.python.org/3/tutorial/floatingpoint.html), computations with a softmax output can lose accuracy and become unstable. To get around this, we'll use the raw output, called the **logits**, to calculate the loss."
   ]
  },
  {
   "cell_type": "code",
   "execution_count": 20,
   "metadata": {},
   "outputs": [],
   "source": [
    "# Hyperparameters for our network\n",
    "input_size   = 784\n",
    "hidden_sizes = [128, 64]\n",
    "output_size  = 10\n",
    "\n",
    "# Build a feed-forward network\n",
    "model = nn.Sequential(OrderedDict([\n",
    "          ('fc1', nn.Linear(input_size, hidden_sizes[0])),\n",
    "          ('relu1', nn.ReLU()),\n",
    "          ('fc2', nn.Linear(hidden_sizes[0], hidden_sizes[1])),\n",
    "          ('relu2', nn.ReLU()),\n",
    "          ('logits', nn.Linear(hidden_sizes[1], output_size))]))"
   ]
  },
  {
   "cell_type": "markdown",
   "metadata": {},
   "source": [
    "## Training the network!\n",
    "\n",
    "The first thing we need to do for training is define our loss function. In PyTorch, you'll usually see this as `criterion`. Here we're using softmax output, so we want to use `criterion = nn.CrossEntropyLoss()` as our loss. Later when training, you use `loss = criterion(output, targets)` to calculate the actual loss.\n",
    "\n",
    "We also need to define the optimizer we're using, SGD or Adam, or something along those lines. Here I'll just use SGD with `torch.optim.SGD`, passing in the network parameters and the learning rate."
   ]
  },
  {
   "cell_type": "code",
   "execution_count": 21,
   "metadata": {},
   "outputs": [],
   "source": [
    "criterion = nn.CrossEntropyLoss()\n",
    "optimizer = optim.SGD(model.parameters(), lr=0.01)"
   ]
  },
  {
   "cell_type": "markdown",
   "metadata": {},
   "source": [
    "First, let's consider just one learning step before looping through all the data. The general process with PyTorch:\n",
    "\n",
    "* Make a forward pass through the network to get the logits \n",
    "* Use the logits to calculate the loss\n",
    "* Perform a backward pass through the network with `loss.backward()` to calculate the gradients\n",
    "* Take a step with the optimizer to update the weights\n",
    "\n",
    "Below I'll go through one training step and print out the weights and gradients so you can see how it changes."
   ]
  },
  {
   "cell_type": "code",
   "execution_count": 22,
   "metadata": {},
   "outputs": [
    {
     "output_type": "stream",
     "name": "stdout",
     "text": [
      "Initial weights -  Parameter containing:\ntensor([[-0.0215, -0.0099, -0.0048,  ..., -0.0296, -0.0092, -0.0130],\n        [-0.0321, -0.0053, -0.0037,  ..., -0.0329,  0.0342, -0.0069],\n        [-0.0083, -0.0077,  0.0345,  ..., -0.0139, -0.0185,  0.0232],\n        ...,\n        [ 0.0101, -0.0129,  0.0108,  ...,  0.0030, -0.0125,  0.0067],\n        [ 0.0088,  0.0113, -0.0007,  ...,  0.0256, -0.0129,  0.0327],\n        [-0.0320,  0.0334,  0.0246,  ...,  0.0190,  0.0334,  0.0312]],\n       requires_grad=True)\nGradient - tensor([[-0.0005, -0.0005, -0.0005,  ..., -0.0005, -0.0005, -0.0005],\n        [-0.0006, -0.0006, -0.0006,  ..., -0.0006, -0.0006, -0.0006],\n        [ 0.0013,  0.0013,  0.0013,  ...,  0.0013,  0.0013,  0.0013],\n        ...,\n        [-0.0023, -0.0023, -0.0023,  ..., -0.0023, -0.0023, -0.0023],\n        [-0.0009, -0.0009, -0.0009,  ..., -0.0009, -0.0009, -0.0009],\n        [ 0.0039,  0.0039,  0.0039,  ...,  0.0039,  0.0039,  0.0039]])\n"
     ]
    }
   ],
   "source": [
    "print('Initial weights - ', model.fc1.weight)\n",
    "\n",
    "images, labels = next(iter(trainloader))\n",
    "images.resize_(64, 784)\n",
    "\n",
    "# Clear the gradients, do this because gradients are accumulated\n",
    "optimizer.zero_grad()\n",
    "\n",
    "# Forward pass, then backward pass, then update weights\n",
    "output = model.forward(images)\n",
    "loss = criterion(output, labels)\n",
    "loss.backward()\n",
    "print('Gradient -', model.fc1.weight.grad)\n",
    "optimizer.step()"
   ]
  },
  {
   "cell_type": "code",
   "execution_count": 23,
   "metadata": {},
   "outputs": [
    {
     "output_type": "stream",
     "name": "stdout",
     "text": [
      "Updated weights -  Parameter containing:\ntensor([[-0.0215, -0.0099, -0.0048,  ..., -0.0296, -0.0092, -0.0130],\n        [-0.0321, -0.0053, -0.0037,  ..., -0.0329,  0.0342, -0.0069],\n        [-0.0083, -0.0077,  0.0345,  ..., -0.0139, -0.0185,  0.0232],\n        ...,\n        [ 0.0101, -0.0129,  0.0108,  ...,  0.0030, -0.0125,  0.0067],\n        [ 0.0088,  0.0113, -0.0007,  ...,  0.0256, -0.0129,  0.0327],\n        [-0.0321,  0.0334,  0.0246,  ...,  0.0190,  0.0334,  0.0312]],\n       requires_grad=True)\n"
     ]
    }
   ],
   "source": [
    "print('Updated weights - ', model.fc1.weight)"
   ]
  },
  {
   "cell_type": "markdown",
   "metadata": {},
   "source": [
    "### Training for real\n",
    "\n",
    "Now we'll put this algorithm into a loop so we can go through all the images. This is fairly straightforward. We'll loop through the mini-batches in our dataset, pass the data through the network to calculate the losses, get the gradients, then run the optimizer."
   ]
  },
  {
   "cell_type": "code",
   "execution_count": 24,
   "metadata": {},
   "outputs": [],
   "source": [
    "optimizer = optim.SGD(model.parameters(), lr=0.003)"
   ]
  },
  {
   "cell_type": "code",
   "execution_count": 25,
   "metadata": {},
   "outputs": [
    {
     "output_type": "stream",
     "name": "stdout",
     "text": [
      "Epoch: 1/3\n",
      "\tIteration: 0\t Loss: 0.0572\n",
      "\tIteration: 40\t Loss: 2.2863\n",
      "\tIteration: 80\t Loss: 2.2712\n",
      "\tIteration: 120\t Loss: 2.2586\n",
      "\tIteration: 160\t Loss: 2.2367\n",
      "\tIteration: 200\t Loss: 2.2191\n",
      "\tIteration: 240\t Loss: 2.2012\n",
      "\tIteration: 280\t Loss: 2.1779\n",
      "\tIteration: 320\t Loss: 2.1557\n",
      "\tIteration: 360\t Loss: 2.1217\n",
      "\tIteration: 400\t Loss: 2.0976\n",
      "\tIteration: 440\t Loss: 2.0570\n",
      "\tIteration: 480\t Loss: 2.0283\n",
      "\tIteration: 520\t Loss: 1.9895\n",
      "\tIteration: 560\t Loss: 1.9404\n",
      "\tIteration: 600\t Loss: 1.9045\n",
      "\tIteration: 640\t Loss: 1.8475\n",
      "\tIteration: 680\t Loss: 1.7872\n",
      "\tIteration: 720\t Loss: 1.7432\n",
      "\tIteration: 760\t Loss: 1.6712\n",
      "\tIteration: 800\t Loss: 1.6097\n",
      "\tIteration: 840\t Loss: 1.5488\n",
      "\tIteration: 880\t Loss: 1.5109\n",
      "\tIteration: 920\t Loss: 1.4412\n",
      "Epoch: 2/3\n",
      "\tIteration: 0\t Loss: 0.0327\n",
      "\tIteration: 40\t Loss: 1.3471\n",
      "\tIteration: 80\t Loss: 1.2986\n",
      "\tIteration: 120\t Loss: 1.2097\n",
      "\tIteration: 160\t Loss: 1.1718\n",
      "\tIteration: 200\t Loss: 1.1260\n",
      "\tIteration: 240\t Loss: 1.0813\n",
      "\tIteration: 280\t Loss: 1.0535\n",
      "\tIteration: 320\t Loss: 0.9901\n",
      "\tIteration: 360\t Loss: 0.9365\n",
      "\tIteration: 400\t Loss: 0.9439\n",
      "\tIteration: 440\t Loss: 0.8978\n",
      "\tIteration: 480\t Loss: 0.8567\n",
      "\tIteration: 520\t Loss: 0.8394\n",
      "\tIteration: 560\t Loss: 0.8163\n",
      "\tIteration: 600\t Loss: 0.7701\n",
      "\tIteration: 640\t Loss: 0.7798\n",
      "\tIteration: 680\t Loss: 0.7624\n",
      "\tIteration: 720\t Loss: 0.7417\n",
      "\tIteration: 760\t Loss: 0.7001\n",
      "\tIteration: 800\t Loss: 0.6582\n",
      "\tIteration: 840\t Loss: 0.6895\n",
      "\tIteration: 880\t Loss: 0.6507\n",
      "\tIteration: 920\t Loss: 0.6353\n",
      "Epoch: 3/3\n",
      "\tIteration: 0\t Loss: 0.0178\n",
      "\tIteration: 40\t Loss: 0.6572\n",
      "\tIteration: 80\t Loss: 0.6138\n",
      "\tIteration: 120\t Loss: 0.5960\n",
      "\tIteration: 160\t Loss: 0.5844\n",
      "\tIteration: 200\t Loss: 0.5901\n",
      "\tIteration: 240\t Loss: 0.5965\n",
      "\tIteration: 280\t Loss: 0.5553\n",
      "\tIteration: 320\t Loss: 0.5428\n",
      "\tIteration: 360\t Loss: 0.5732\n",
      "\tIteration: 400\t Loss: 0.5303\n",
      "\tIteration: 440\t Loss: 0.5259\n",
      "\tIteration: 480\t Loss: 0.5502\n",
      "\tIteration: 520\t Loss: 0.5255\n",
      "\tIteration: 560\t Loss: 0.5269\n",
      "\tIteration: 600\t Loss: 0.5310\n",
      "\tIteration: 640\t Loss: 0.5121\n",
      "\tIteration: 680\t Loss: 0.4993\n",
      "\tIteration: 720\t Loss: 0.4656\n",
      "\tIteration: 760\t Loss: 0.4824\n",
      "\tIteration: 800\t Loss: 0.5013\n",
      "\tIteration: 840\t Loss: 0.5042\n",
      "\tIteration: 880\t Loss: 0.4900\n",
      "\tIteration: 920\t Loss: 0.4761\n"
     ]
    }
   ],
   "source": [
    "epochs = 3\n",
    "print_every = 40\n",
    "\n",
    "for e in range(epochs):\n",
    "    running_loss = 0\n",
    "    print(f\"Epoch: {e+1}/{epochs}\")\n",
    "\n",
    "    for i, (images, labels) in enumerate(iter(trainloader)):\n",
    "\n",
    "        # Flatten MNIST images into a 784 long vector\n",
    "        images.resize_(images.size()[0], 784)\n",
    "        \n",
    "        optimizer.zero_grad()\n",
    "        \n",
    "        output = model.forward(images)   # 1) Forward pass\n",
    "        loss = criterion(output, labels) # 2) Compute loss\n",
    "        loss.backward()                  # 3) Backward pass\n",
    "        optimizer.step()                 # 4) Update model\n",
    "        \n",
    "        running_loss += loss.item()\n",
    "        \n",
    "        if i % print_every == 0:\n",
    "            print(f\"\\tIteration: {i}\\t Loss: {running_loss/print_every:.4f}\")\n",
    "            running_loss = 0"
   ]
  },
  {
   "cell_type": "markdown",
   "metadata": {},
   "source": [
    "With the network trained, we can check out it's predictions."
   ]
  },
  {
   "cell_type": "code",
   "execution_count": 26,
   "metadata": {},
   "outputs": [
    {
     "output_type": "display_data",
     "data": {
      "text/plain": "<Figure size 432x648 with 2 Axes>",
      "image/png": "[encoded data removed]"
     },
     "metadata": {
      "image/png": {
       "width": 349,
       "height": 195
      },
      "needs_background": "light"
     }
    }
   ],
   "source": [
    "images, labels = next(iter(trainloader))\n",
    "\n",
    "img = images[0].view(1, 784)\n",
    "# Turn off gradients to speed up this part\n",
    "with torch.no_grad():\n",
    "    logits = model.forward(img)\n",
    "\n",
    "# Output of the network are logits, need to take softmax for probabilities\n",
    "ps = F.softmax(logits, dim=1)\n",
    "view_classify(img.view(1, 28, 28), ps)"
   ]
  },
  {
   "cell_type": "markdown",
   "metadata": {},
   "source": [
    "Now our network is brilliant. It can accurately predict the digits in our images."
   ]
  },
  {
   "cell_type": "markdown",
   "metadata": {},
   "source": [
    "<div style=\"background:#222222; color:#ffffff; padding:20px\">\n",
    "    <h2 align=\"center\" style=\"color:#01ff84\">MNIST Clasification: Exercise</h2>\n",
    "<div>"
   ]
  },
  {
   "cell_type": "markdown",
   "metadata": {},
   "source": [
    "<div style=\"background:#222222; color:#ffffff; padding:20px\">\n",
    "  <h3 style=\"color:#01ff84; margin-top:4px\">Exercise 1:</h3>\n",
    "  <p>Now it's your turn to build a simple network, use any method I've covered so far. In the next notebook, you'll learn how to train a network so it can make good predictions.</p>\n",
    "  <p>Build a network to classify the MNIST images with 3 hidden layers. Use 400 units in the first hidden layer, 200 units in the second layer, and 100 units in the third layer. Each hidden layer should have a ReLU activation function, and use softmax on the output layer.</p>\n",
    "<div>"
   ]
  },
  {
   "cell_type": "code",
   "execution_count": 27,
   "metadata": {},
   "outputs": [
    {
     "output_type": "execute_result",
     "data": {
      "text/plain": [
       "Network(\n",
       "  (fc1): Linear(in_features=784, out_features=400, bias=True)\n",
       "  (fc2): Linear(in_features=400, out_features=200, bias=True)\n",
       "  (fc3): Linear(in_features=200, out_features=100, bias=True)\n",
       "  (fc4): Linear(in_features=100, out_features=10, bias=True)\n",
       ")"
      ]
     },
     "metadata": {},
     "execution_count": 27
    }
   ],
   "source": [
    "## TODO: Your network here\n",
    "class Network(nn.Module):\n",
    "    #Define the structure of the layers---> 128,64,10 units each\n",
    "    def __init__(self):\n",
    "        super().__init__()\n",
    "        self.fc1 = nn.Linear(784, 400)\n",
    "        self.fc2 = nn.Linear(400, 200)\n",
    "        self.fc3 = nn.Linear(200, 100)\n",
    "        self.fc4 = nn.Linear(100, 10)\n",
    "        \n",
    "    def forward(self, x):\n",
    "        x = self.fc1(x)\n",
    "        x = F.relu(x)\n",
    "        x = self.fc2(x)\n",
    "        x = F.relu(x)\n",
    "        x = self.fc3(x)\n",
    "        x = F.relu(x)\n",
    "        x = self.fc4(x)\n",
    "        # Softmax (similar to sigmoid) squashes the input between 0 and 1 , but it also\n",
    "        # normalize so that all the values sum to one like a probablity distribution\n",
    "        x = F.softmax(x, dim=1)\n",
    "        return x\n",
    "\n",
    "def load_dataset(batch_size = 100):\n",
    "    # Defining a Traforms to normalize the data (PREPROCESSING)\n",
    "    transform = transforms.Compose([\n",
    "        transforms.ToTensor(), \n",
    "        transforms.Normalize((0.5), (0.5))\n",
    "        ])\n",
    "    # Download and load the training data (TRAINING DATA)\n",
    "    trainset = datasets.MNIST('MNiST_data/', download =True, train=True, transform=transform)\n",
    "    trainloader  = torch.utils.data.DataLoader(trainset, batch_size=batch_size, shuffle=True)\n",
    "    # Download and load the test data\n",
    "    testset = datasets.MNIST('MNIST_data/', download=True, train=False, transform=transform)\n",
    "    testloader = torch.utils.data.DataLoader(testset, batch_size=batch_size, shuffle=True)\n",
    "\n",
    "    return trainloader, testloader\n",
    "\n",
    "def iter_data(trainset):\n",
    "    temp = iter(trainloader)\n",
    "    return temp.next()\n",
    "\n",
    "# Init the Test and Train Datasets\n",
    "trainloader, testloader = load_dataset(64)\n",
    "\n",
    "#Init the model\n",
    "model = Network()\n",
    "#Init the Bias filling it with 0s\n",
    "model.fc1.bias.data.fill_(0)\n",
    "#Init Weights with random normal and standart deviation = 0.01\n",
    "model.fc1.weight.data.normal_(std=0.01)\n",
    "\n",
    "optimizer = optim.SGD(model.parameters(), lr=0.1)\n",
    "\n",
    "model \n"
   ]
  },
  {
   "cell_type": "markdown",
   "metadata": {},
   "source": [
    "<div style=\"background:#222222; color:#ffffff; padding:20px\">\n",
    "  <h3 style=\"color:#01ff84; margin-top:4px\">Exercise 2:</h3>\n",
    "  <p>Train your network implementing the Pytorch training loop and <strong style=\"color:#01ff84\">after each epoch, use the model for predicting the test (validation) MNIST data.</strong></p>\n",
    "  <p>Note: If your model does not fit with the final softmax layer, you can remove this layer.</p>\n",
    "  <p>Hint: <a href=\"https://discuss.pytorch.org/t/training-loop-checking-validation-accuracy/78399\">Training loop checking validation accuracy\n",
    "</a></p>\n",
    "  <p>Research about <code>model.train()</code>, <code>model.eval()</code> and <code>with torch.no_grad()</code> in Pytorch.\n",
    "<div>"
   ]
  },
  {
   "source": [
    "\n",
    "epochs = 5\n",
    "print_every = 40\n",
    "\n",
    "for e in range(epochs):\n",
    "    running_loss = 0\n",
    "    print(\"Epoch: {}/{}\".format(e + 1, epochs))\n",
    "    \n",
    "    for i, (images, labels) in enumerate(iter(trainloader)):\n",
    "        # Flatten the MNIST images into a 784 long vector\n",
    "        images.resize_(images.size()[0], 784)\n",
    "\n",
    "        optimizer.zero_grad()\n",
    "\n",
    "        output = model.forward(images)   # 1) Forward Pass\n",
    "        loss = criterion(output, labels) # 2) Compute loss\n",
    "        loss.backward()                  # 3) Backward Pass\n",
    "        optimizer.step()                 # 4) Update model\n",
    "\n",
    "        running_loss += loss.item()\n",
    "\n",
    "        if i % print_every == 0:\n",
    "            print(f\"\\tIteration: {i}\\t Loss: {running_loss/print_every:.4f}\")\n",
    "            #print(\"Iteration: {}\\t Loss: {}\".format(i, running_loss / print_every))\n",
    "            running_loss = 0"
   ],
   "cell_type": "code",
   "metadata": {},
   "execution_count": 28,
   "outputs": [
    {
     "output_type": "stream",
     "name": "stdout",
     "text": [
      "Epoch: 1/5\n",
      "\tIteration: 0\t Loss: 0.0576\n",
      "\tIteration: 40\t Loss: 2.3021\n",
      "\tIteration: 80\t Loss: 2.3012\n",
      "\tIteration: 120\t Loss: 2.2999\n",
      "\tIteration: 160\t Loss: 2.2987\n",
      "\tIteration: 200\t Loss: 2.2963\n",
      "\tIteration: 240\t Loss: 2.2929\n",
      "\tIteration: 280\t Loss: 2.2846\n",
      "\tIteration: 320\t Loss: 2.2588\n",
      "\tIteration: 360\t Loss: 2.2039\n",
      "\tIteration: 400\t Loss: 2.1113\n",
      "\tIteration: 440\t Loss: 2.0388\n",
      "\tIteration: 480\t Loss: 1.9523\n",
      "\tIteration: 520\t Loss: 1.8870\n",
      "\tIteration: 560\t Loss: 1.8505\n",
      "\tIteration: 600\t Loss: 1.7987\n",
      "\tIteration: 640\t Loss: 1.7578\n",
      "\tIteration: 680\t Loss: 1.7711\n",
      "\tIteration: 720\t Loss: 1.7761\n",
      "\tIteration: 760\t Loss: 1.7469\n",
      "\tIteration: 800\t Loss: 1.7443\n",
      "\tIteration: 840\t Loss: 1.7212\n",
      "\tIteration: 880\t Loss: 1.7245\n",
      "\tIteration: 920\t Loss: 1.7163\n",
      "Epoch: 2/5\n",
      "\tIteration: 0\t Loss: 0.0451\n",
      "\tIteration: 40\t Loss: 1.7241\n",
      "\tIteration: 80\t Loss: 1.7260\n",
      "\tIteration: 120\t Loss: 1.7240\n",
      "\tIteration: 160\t Loss: 1.7232\n",
      "\tIteration: 200\t Loss: 1.7093\n",
      "\tIteration: 240\t Loss: 1.7203\n",
      "\tIteration: 280\t Loss: 1.7241\n",
      "\tIteration: 320\t Loss: 1.7175\n",
      "\tIteration: 360\t Loss: 1.7040\n",
      "\tIteration: 400\t Loss: 1.7171\n",
      "\tIteration: 440\t Loss: 1.7063\n",
      "\tIteration: 480\t Loss: 1.7188\n",
      "\tIteration: 520\t Loss: 1.7120\n",
      "\tIteration: 560\t Loss: 1.7023\n",
      "\tIteration: 600\t Loss: 1.7042\n",
      "\tIteration: 640\t Loss: 1.6763\n",
      "\tIteration: 680\t Loss: 1.6745\n",
      "\tIteration: 720\t Loss: 1.6437\n",
      "\tIteration: 760\t Loss: 1.6616\n",
      "\tIteration: 800\t Loss: 1.6447\n",
      "\tIteration: 840\t Loss: 1.6549\n",
      "\tIteration: 880\t Loss: 1.6335\n",
      "\tIteration: 920\t Loss: 1.6625\n",
      "Epoch: 3/5\n",
      "\tIteration: 0\t Loss: 0.0421\n",
      "\tIteration: 40\t Loss: 1.6461\n",
      "\tIteration: 80\t Loss: 1.6399\n",
      "\tIteration: 120\t Loss: 1.6368\n",
      "\tIteration: 160\t Loss: 1.6413\n",
      "\tIteration: 200\t Loss: 1.6402\n",
      "\tIteration: 240\t Loss: 1.6240\n",
      "\tIteration: 280\t Loss: 1.6428\n",
      "\tIteration: 320\t Loss: 1.6453\n",
      "\tIteration: 360\t Loss: 1.6310\n",
      "\tIteration: 400\t Loss: 1.6242\n",
      "\tIteration: 440\t Loss: 1.6231\n",
      "\tIteration: 480\t Loss: 1.6308\n",
      "\tIteration: 520\t Loss: 1.6334\n",
      "\tIteration: 560\t Loss: 1.6353\n",
      "\tIteration: 600\t Loss: 1.6359\n",
      "\tIteration: 640\t Loss: 1.6161\n",
      "\tIteration: 680\t Loss: 1.6184\n",
      "\tIteration: 720\t Loss: 1.6335\n",
      "\tIteration: 760\t Loss: 1.6204\n",
      "\tIteration: 800\t Loss: 1.6384\n",
      "\tIteration: 840\t Loss: 1.6262\n",
      "\tIteration: 880\t Loss: 1.5988\n",
      "\tIteration: 920\t Loss: 1.6265\n",
      "Epoch: 4/5\n",
      "\tIteration: 0\t Loss: 0.0422\n",
      "\tIteration: 40\t Loss: 1.6199\n",
      "\tIteration: 80\t Loss: 1.6268\n",
      "\tIteration: 120\t Loss: 1.6219\n",
      "\tIteration: 160\t Loss: 1.6304\n",
      "\tIteration: 200\t Loss: 1.6096\n",
      "\tIteration: 240\t Loss: 1.6189\n",
      "\tIteration: 280\t Loss: 1.6192\n",
      "\tIteration: 320\t Loss: 1.6121\n",
      "\tIteration: 360\t Loss: 1.6163\n",
      "\tIteration: 400\t Loss: 1.6189\n",
      "\tIteration: 440\t Loss: 1.6094\n",
      "\tIteration: 480\t Loss: 1.6110\n",
      "\tIteration: 520\t Loss: 1.6158\n",
      "\tIteration: 560\t Loss: 1.6150\n",
      "\tIteration: 600\t Loss: 1.6116\n",
      "\tIteration: 640\t Loss: 1.6148\n",
      "\tIteration: 680\t Loss: 1.6121\n",
      "\tIteration: 720\t Loss: 1.6165\n",
      "\tIteration: 760\t Loss: 1.6039\n",
      "\tIteration: 800\t Loss: 1.6277\n",
      "\tIteration: 840\t Loss: 1.6112\n",
      "\tIteration: 880\t Loss: 1.6169\n",
      "\tIteration: 920\t Loss: 1.6102\n",
      "Epoch: 5/5\n",
      "\tIteration: 0\t Loss: 0.0440\n",
      "\tIteration: 40\t Loss: 1.6109\n",
      "\tIteration: 80\t Loss: 1.6077\n",
      "\tIteration: 120\t Loss: 1.6055\n",
      "\tIteration: 160\t Loss: 1.6031\n",
      "\tIteration: 200\t Loss: 1.6065\n",
      "\tIteration: 240\t Loss: 1.6184\n",
      "\tIteration: 280\t Loss: 1.6129\n",
      "\tIteration: 320\t Loss: 1.5977\n",
      "\tIteration: 360\t Loss: 1.6017\n",
      "\tIteration: 400\t Loss: 1.6007\n",
      "\tIteration: 440\t Loss: 1.6218\n",
      "\tIteration: 480\t Loss: 1.6039\n",
      "\tIteration: 520\t Loss: 1.6041\n",
      "\tIteration: 560\t Loss: 1.6046\n",
      "\tIteration: 600\t Loss: 1.6033\n",
      "\tIteration: 640\t Loss: 1.6214\n",
      "\tIteration: 680\t Loss: 1.5941\n",
      "\tIteration: 720\t Loss: 1.6019\n",
      "\tIteration: 760\t Loss: 1.6108\n",
      "\tIteration: 800\t Loss: 1.6109\n",
      "\tIteration: 840\t Loss: 1.6046\n",
      "\tIteration: 880\t Loss: 1.5978\n",
      "\tIteration: 920\t Loss: 1.6154\n"
     ]
    }
   ]
  },
  {
   "cell_type": "code",
   "execution_count": 47,
   "metadata": {},
   "outputs": [
    {
     "output_type": "display_data",
     "data": {
      "text/plain": "<Figure size 432x648 with 2 Axes>",
      "image/png": "[encoded data removed]"
     },
     "metadata": {
      "image/png": {
       "width": 349,
       "height": 195
      },
      "needs_background": "light"
     }
    }
   ],
   "source": [
    "# Run this cell with your model to make sure it works\n",
    "# Forward pass through the network and display output\n",
    "images, labels = next(iter(testloader))\n",
    "images.resize_(images.shape[0], 1, 784)\n",
    "ps = model.forward(images[0,:])\n",
    "view_classify(images[0].view(1, 28, 28), ps)"
   ]
  },
  {
   "cell_type": "markdown",
   "metadata": {},
   "source": [
    "<div style=\"background:#222222; color:#ffffff; padding:20px\">\n",
    "  <h3 style=\"color:#01ff84; margin-top:4px\">Exercise 3:</h3>\n",
    "  <p>Write the code for adding <strong style=\"color:#01ff84\">Early Stopping with patience = 2</strong> to the training loop from scratch.</p>\n",
    "  <p><strong style=\"color:#01ff84\">Hint:</strong> Monitor the Validation loss every epoch, and if in 2 epochs, the validation loss does not improve, stop the training loop with <code>break</code>.</p>\n",
    "<div>"
   ]
  },
  {
   "cell_type": "code",
   "execution_count": 43,
   "metadata": {},
   "outputs": [
    {
     "output_type": "error",
     "ename": "ModuleNotFoundError",
     "evalue": "No module named 'torchsample'",
     "traceback": [
      "\u001b[1;31m---------------------------------------------------------------------------\u001b[0m",
      "\u001b[1;31mModuleNotFoundError\u001b[0m                       Traceback (most recent call last)",
      "\u001b[1;32m<ipython-input-43-cfc8b6ed4abc>\u001b[0m in \u001b[0;36m<module>\u001b[1;34m\u001b[0m\n\u001b[1;32m----> 1\u001b[1;33m \u001b[1;32mfrom\u001b[0m \u001b[0mtorchsample\u001b[0m\u001b[1;33m.\u001b[0m\u001b[0mcallbacks\u001b[0m \u001b[1;32mimport\u001b[0m \u001b[0mEarlyStopping\u001b[0m\u001b[1;33m\u001b[0m\u001b[1;33m\u001b[0m\u001b[0m\n\u001b[0m\u001b[0;32m      2\u001b[0m \u001b[1;33m\u001b[0m\u001b[0m\n\u001b[0;32m      3\u001b[0m \u001b[0mcallbacks\u001b[0m \u001b[1;33m=\u001b[0m \u001b[1;33m[\u001b[0m\u001b[0mEarlyStopping\u001b[0m\u001b[1;33m(\u001b[0m\u001b[0mmonitor\u001b[0m\u001b[1;33m=\u001b[0m\u001b[1;34m'val_loss'\u001b[0m\u001b[1;33m,\u001b[0m \u001b[0mpatience\u001b[0m\u001b[1;33m=\u001b[0m\u001b[1;36m2\u001b[0m\u001b[1;33m)\u001b[0m\u001b[1;33m]\u001b[0m\u001b[1;33m\u001b[0m\u001b[1;33m\u001b[0m\u001b[0m\n\u001b[0;32m      4\u001b[0m \u001b[0mmodel\u001b[0m\u001b[1;33m.\u001b[0m\u001b[0mset_callbacks\u001b[0m\u001b[1;33m(\u001b[0m\u001b[0mcallbacks\u001b[0m\u001b[1;33m)\u001b[0m\u001b[1;33m\u001b[0m\u001b[1;33m\u001b[0m\u001b[0m\n",
      "\u001b[1;31mModuleNotFoundError\u001b[0m: No module named 'torchsample'"
     ]
    }
   ],
   "source": [
    "from torchsample.callbacks import EarlyStopping\n",
    "\n",
    "callbacks = [EarlyStopping(monitor='val_loss', patience=2)]\n",
    "model.set_callbacks(callbacks)"
   ]
  },
  {
   "cell_type": "code",
   "execution_count": null,
   "metadata": {},
   "outputs": [],
   "source": []
  }
 ],
 "metadata": {
  "kernelspec": {
   "display_name": "Python 3",
   "language": "python",
   "name": "python3"
  },
  "language_info": {
   "codemirror_mode": {
    "name": "ipython",
    "version": 3
   },
   "file_extension": ".py",
   "mimetype": "text/x-python",
   "name": "python",
   "nbconvert_exporter": "python",
   "pygments_lexer": "ipython3",
   "version": "3.8.5-final"
  }
 },
 "nbformat": 4,
 "nbformat_minor": 2
}