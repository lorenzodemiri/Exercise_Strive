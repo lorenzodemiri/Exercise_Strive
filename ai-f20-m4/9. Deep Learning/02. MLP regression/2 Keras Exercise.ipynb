{
  "nbformat": 4,
  "nbformat_minor": 0,
  "metadata": {
    "kernelspec": {
      "name": "python3",
      "display_name": "Python 3.8.5 64-bit ('tf-gpu-cuda8': conda)",
      "metadata": {
        "interpreter": {
          "hash": "a412cecd793b64643993f0bd920767e4c8f02eea7e8f43d1be9fffcca0dc8a95"
        }
      }
    },
    "language_info": {
      "codemirror_mode": {
        "name": "ipython",
        "version": 3
      },
      "file_extension": ".py",
      "mimetype": "text/x-python",
      "name": "python",
      "nbconvert_exporter": "python",
      "pygments_lexer": "ipython3",
      "version": "3.8.5-final"
    },
    "colab": {
      "name": "Easy Keras Exercises.ipynb",
      "provenance": []
    }
  },
  "cells": [
    {
      "cell_type": "code",
      "metadata": {
        "id": "Cin2DCEVm3jM"
      },
      "source": [
        "# Import the libraries\n",
        "\n",
        "import numpy as np\n",
        "from tensorflow import keras\n",
        "from tensorflow.keras.models import Sequential\n",
        "from tensorflow.keras.layers import Dense\n"
      ],
      "execution_count": 4,
      "outputs": []
    },
    {
      "cell_type": "markdown",
      "metadata": {
        "id": "uTPybHxmm3jP"
      },
      "source": [
        "The initial building block of Keras is a model, and the simplest model is called `Sequential`. A sequential Keras model is a linear pipeline (a stack) of neural networks layers. This code fragment defines a single layer with 12 artificial neurons, and it expects 8 input features:\n"
      ]
    },
    {
      "cell_type": "code",
      "metadata": {
        "id": "O035kbH-m3jQ"
      },
      "source": [
        "# Create a Single Layer Perceptron in Keras\n",
        "model = Sequential()\n",
        "model.add(Dense(12, input_dim=8, kernel_initializer='random_uniform'))\n",
        "\n"
      ],
      "execution_count": 2,
      "outputs": []
    },
    {
      "cell_type": "markdown",
      "metadata": {
        "id": "9e3YdgxFm3jQ"
      },
      "source": [
        "Each neuron can be initialized with specific weights. The most common choices provided by Keras:\n",
        "\n",
        "- `random_uniform`: Weights are initialized to uniformly random small values in (-0.05, 0.05). In other words, any value within the given interval is equally likely to be drawn.\n",
        "- `random_normal`: Weights are initialized according to a Gaussian, with a zero mean and small standard deviation of 0.05. For those of you who are not familiar with a Gaussian, think about a symmetric bell curve shape.\n",
        "- `zero`: All weights are initialized to zero.\n",
        "\n",
        "[Here](https://keras.io/initializations/) for the full list https://keras.io/initializations/ ."
      ]
    },
    {
      "cell_type": "markdown",
      "metadata": {
        "id": "xoyuPYDmm3jQ"
      },
      "source": [
        "## Exercise 1\n",
        "\n",
        "Define a Single Layer Perceptron in Keras with 10 as dimension of the input and 8 neurons, with only zeros as initial weights."
      ]
    },
    {
      "cell_type": "code",
      "metadata": {
        "id": "chiw3MsEm3jR"
      },
      "source": [
        "# Your code here\n",
        "model = Sequential()\n",
        "model.add(Dense(8, input_dim=10, kernel_initializer='zero'))"
      ],
      "execution_count": 5,
      "outputs": []
    },
    {
      "cell_type": "markdown",
      "metadata": {
        "id": "KG9TSntYm3jS"
      },
      "source": [
        "To make your model to output either 0 or 1, you have to add a line to your model:\n",
        "\n",
        "`model.add(Dense(1, activation='sigmoid'))`\n",
        "\n",
        "The output will be consider a neuron itself with the `sigmoid` as activation function.\n",
        "\n",
        "## Exercise 1.1\n",
        "\n",
        "Rewrite the Single Layer Perceptron defined in Exercise 1 so that it has the output layer.\n"
      ]
    },
    {
      "cell_type": "code",
      "metadata": {
        "id": "FwTu4U7Nm3jS"
      },
      "source": [
        "model = Sequential()\n",
        "model.add(Dense(8, input_dim=10, kernel_initializer='zero'))\n",
        "model.add(Dense(1, activation='sigmoid'))"
      ],
      "execution_count": 6,
      "outputs": []
    },
    {
      "cell_type": "markdown",
      "metadata": {
        "id": "Z4hBaGg7m3jT"
      },
      "source": [
        "As always, to test your model, you need some data. However, meanwhile you can see if your model has been built correctly inspecting it with `model.summary()`."
      ]
    },
    {
      "cell_type": "code",
      "metadata": {
        "colab": {
          "base_uri": "https://localhost:8080/"
        },
        "id": "qrbV_c6am3jU",
        "outputId": "11056cbc-e90a-47a5-c6aa-25009afda001"
      },
      "source": [
        "# Run this cell, the output should be as the one you see\n",
        "model.summary()"
      ],
      "execution_count": 7,
      "outputs": [
        {
          "output_type": "stream",
          "name": "stdout",
          "text": [
            "Model: \"sequential_1\"\n_________________________________________________________________\nLayer (type)                 Output Shape              Param #   \n=================================================================\ndense_1 (Dense)              (None, 8)                 88        \n_________________________________________________________________\ndense_2 (Dense)              (None, 1)                 9         \n=================================================================\nTotal params: 97\nTrainable params: 97\nNon-trainable params: 0\n_________________________________________________________________\n"
          ]
        }
      ]
    },
    {
      "cell_type": "markdown",
      "metadata": {
        "id": "k0TN9DPgoned"
      },
      "source": [
        "Now that you have successfully build a Keras model you have to *compile* it. This is where you have to define which **loss function** you want to use, which *optimizer* (not for today), and which **metrics** you want to check. \n",
        "\n",
        "Why we need to specify these?\n",
        "- The loss function is the \"error\", defined in a certain way, that your optimizer will try to minimize by updating the weights.\n",
        "- You have already seen the accuracy, precision and recall metrics. They are used for understanding when to stop the training and to review the training process, but they are not used by the optimizer.\n",
        "\n",
        "You can find some of the loss functions available in Keras here: https://keras.io/api/losses/\n",
        "\n",
        "Since the activation function used in the last layer is a sigmoid, it means that we are building a binary classifier, so we could use the:\n",
        "- `BinaryCrossentropy`: Computes the cross-entropy loss between true labels and predicted labels.\n",
        "Use this cross-entropy loss when there are only two label classes (assumed to be 0 and 1). For each example, there should be a single floating-point value per prediction.\n",
        "\n",
        "\n"
      ]
    },
    {
      "cell_type": "code",
      "metadata": {
        "id": "Tjjz70EJm3jV"
      },
      "source": [
        "model.compile(loss='binary_crossentropy', metrics=['accuracy'])\n"
      ],
      "execution_count": 9,
      "outputs": []
    },
    {
      "cell_type": "markdown",
      "metadata": {
        "id": "aKwpSOvBrWcN"
      },
      "source": [
        "If you didn't get an error, it means that your model has been successsfully compiled! Now it's time to train it! I'll give you a mock dataset to play with your model. But I want your attention here: *how should the input data look like?*\n",
        "\n",
        "Look at the input model: I asked for 10 input dimension and we output either 0 or 1. So we will have arrays of length 10 and binary labels!"
      ]
    },
    {
      "cell_type": "code",
      "metadata": {
        "id": "KkqDsMyqruge"
      },
      "source": [
        "X = np.random.rand(1000,10)\n",
        "y = np.random.randint(0,2,size=(1000,))\n"
      ],
      "execution_count": 10,
      "outputs": []
    },
    {
      "cell_type": "markdown",
      "metadata": {
        "id": "zDFZyx8yte8I"
      },
      "source": [
        "Who's your best friend? 👇"
      ]
    },
    {
      "cell_type": "code",
      "metadata": {
        "id": "n-1SdYmctQ4-"
      },
      "source": [
        "from sklearn.model_selection import train_test_split\n",
        "\n",
        "X_train, X_test, y_train, y_test = train_test_split(X, y, test_size=0.33, random_state=42)"
      ],
      "execution_count": 12,
      "outputs": []
    },
    {
      "cell_type": "markdown",
      "metadata": {
        "id": "Z7d7JRFft5Vb"
      },
      "source": [
        "Now... Get **fit**, stay (mentally) healthy (since you don't have to code this from scratch anymore)!\n",
        "\n",
        "The `fit` method is for actually training your model. So you have to define the number of `epochs` and the `batch_size`:\n",
        "\n",
        "- `epochs`: This is the number of times the model is exposed to the training set. At each iteration, the optimizer tries to adjust the weights so that the objective function is minimized.\n",
        "\n",
        "- `batch_size`: This is the number of training instances observed before the optimizer performs a weight update.\n",
        "\n",
        "\n",
        "Let's set the batch size to be 10 and the epochs 20! \n",
        "\n",
        "The cool thing is that you can even give a percentage of the training set as validation directly in the fit!!! This means that it will automatically test the error on the validation and gives you both the training accuracy and the validation accuracy!"
      ]
    },
    {
      "cell_type": "code",
      "metadata": {
        "id": "IVYA7GuAvHUs"
      },
      "source": [
        "EPOCHS = 20\n",
        "BATCH_SIZE = 10"
      ],
      "execution_count": 13,
      "outputs": []
    },
    {
      "cell_type": "code",
      "metadata": {
        "colab": {
          "base_uri": "https://localhost:8080/"
        },
        "id": "vNndDV16vO1R",
        "outputId": "a21a73a9-daad-488d-8a23-a86159138493"
      },
      "source": [
        "history = model.fit(X_train, y_train,\n",
        "batch_size=BATCH_SIZE, epochs=EPOCHS,\n",
        "verbose=1, validation_split=0.2)"
      ],
      "execution_count": 14,
      "outputs": [
        {
          "output_type": "stream",
          "name": "stdout",
          "text": [
            "Epoch 1/20\n",
            " 1/54 [..............................] - ETA: 0s - loss: 0.6931 - accuracy: 0.6000WARNING:tensorflow:Callbacks method `on_test_batch_end` is slow compared to the batch time (batch time: 0.0000s vs `on_test_batch_end` time: 0.0010s). Check your callbacks.\n",
            "54/54 [==============================] - 0s 5ms/step - loss: 0.6948 - accuracy: 0.4925 - val_loss: 0.6917 - val_accuracy: 0.5448\n",
            "Epoch 2/20\n",
            "54/54 [==============================] - 0s 1ms/step - loss: 0.6937 - accuracy: 0.5019 - val_loss: 0.6918 - val_accuracy: 0.5299\n",
            "Epoch 3/20\n",
            "54/54 [==============================] - 0s 1ms/step - loss: 0.6929 - accuracy: 0.5187 - val_loss: 0.6910 - val_accuracy: 0.5448\n",
            "Epoch 4/20\n",
            "54/54 [==============================] - 0s 1ms/step - loss: 0.6926 - accuracy: 0.5187 - val_loss: 0.6921 - val_accuracy: 0.5149\n",
            "Epoch 5/20\n",
            "54/54 [==============================] - 0s 1ms/step - loss: 0.6920 - accuracy: 0.5056 - val_loss: 0.6940 - val_accuracy: 0.5224\n",
            "Epoch 6/20\n",
            "54/54 [==============================] - 0s 1ms/step - loss: 0.6913 - accuracy: 0.5037 - val_loss: 0.6928 - val_accuracy: 0.5075\n",
            "Epoch 7/20\n",
            "54/54 [==============================] - 0s 1ms/step - loss: 0.6914 - accuracy: 0.5112 - val_loss: 0.6931 - val_accuracy: 0.5224\n",
            "Epoch 8/20\n",
            "54/54 [==============================] - 0s 1ms/step - loss: 0.6905 - accuracy: 0.5280 - val_loss: 0.6924 - val_accuracy: 0.5224\n",
            "Epoch 9/20\n",
            "54/54 [==============================] - 0s 2ms/step - loss: 0.6912 - accuracy: 0.5243 - val_loss: 0.6942 - val_accuracy: 0.5224\n",
            "Epoch 10/20\n",
            "54/54 [==============================] - 0s 2ms/step - loss: 0.6903 - accuracy: 0.5280 - val_loss: 0.6955 - val_accuracy: 0.4925\n",
            "Epoch 11/20\n",
            "54/54 [==============================] - 0s 1ms/step - loss: 0.6901 - accuracy: 0.5280 - val_loss: 0.6954 - val_accuracy: 0.5000\n",
            "Epoch 12/20\n",
            "54/54 [==============================] - 0s 1ms/step - loss: 0.6898 - accuracy: 0.5429 - val_loss: 0.6966 - val_accuracy: 0.5149\n",
            "Epoch 13/20\n",
            "54/54 [==============================] - 0s 1ms/step - loss: 0.6894 - accuracy: 0.5373 - val_loss: 0.6978 - val_accuracy: 0.4925\n",
            "Epoch 14/20\n",
            "54/54 [==============================] - 0s 1ms/step - loss: 0.6890 - accuracy: 0.5280 - val_loss: 0.6986 - val_accuracy: 0.5075\n",
            "Epoch 15/20\n",
            "54/54 [==============================] - 0s 1ms/step - loss: 0.6891 - accuracy: 0.5429 - val_loss: 0.6974 - val_accuracy: 0.5000\n",
            "Epoch 16/20\n",
            "54/54 [==============================] - 0s 1ms/step - loss: 0.6889 - accuracy: 0.5317 - val_loss: 0.6981 - val_accuracy: 0.5000\n",
            "Epoch 17/20\n",
            "54/54 [==============================] - 0s 1ms/step - loss: 0.6885 - accuracy: 0.5168 - val_loss: 0.6990 - val_accuracy: 0.5000\n",
            "Epoch 18/20\n",
            "54/54 [==============================] - 0s 1ms/step - loss: 0.6886 - accuracy: 0.5336 - val_loss: 0.6983 - val_accuracy: 0.5000\n",
            "Epoch 19/20\n",
            "54/54 [==============================] - 0s 1ms/step - loss: 0.6879 - accuracy: 0.5280 - val_loss: 0.6989 - val_accuracy: 0.5075\n",
            "Epoch 20/20\n",
            "54/54 [==============================] - 0s 1ms/step - loss: 0.6878 - accuracy: 0.5466 - val_loss: 0.7026 - val_accuracy: 0.5000\n"
          ]
        }
      ]
    },
    {
      "cell_type": "markdown",
      "metadata": {
        "id": "rc0NAuNHwHKP"
      },
      "source": [
        "Now let's test on the test data:"
      ]
    },
    {
      "cell_type": "code",
      "metadata": {
        "colab": {
          "base_uri": "https://localhost:8080/"
        },
        "id": "a0zLbMzTvz7u",
        "outputId": "ffe7d7df-f095-4178-9bdf-6181507efb79"
      },
      "source": [
        "score = model.evaluate(X_test, y_test, verbose=1)\n",
        "print(f\"{model.metrics_names[0]}:\", score[0])\n",
        "print(f\"{model.metrics_names[1]}\", score[1])"
      ],
      "execution_count": 15,
      "outputs": [
        {
          "output_type": "stream",
          "name": "stdout",
          "text": [
            "11/11 [==============================] - 0s 636us/step - loss: 0.6965 - accuracy: 0.4818\n",
            "loss: 0.6964889764785767\n",
            "accuracy 0.48181816935539246\n"
          ]
        }
      ]
    },
    {
      "cell_type": "markdown",
      "metadata": {
        "id": "DJnYfaN5wZ9t"
      },
      "source": [
        "The performance is super low because we gave random data! But you can try on real data!\n",
        "\n",
        "If you want to manually inspect the values of the prediction you can use the `predict` method:\n"
      ]
    },
    {
      "cell_type": "code",
      "metadata": {
        "colab": {
          "base_uri": "https://localhost:8080/"
        },
        "id": "TRITfUXgy_xJ",
        "outputId": "72ccd4c9-a0d0-459e-bc75-98a43c659e73"
      },
      "source": [
        "np.random.seed(42)\n",
        "pred = model.predict(np.random.rand(1,10))\n",
        "pred"
      ],
      "execution_count": 16,
      "outputs": [
        {
          "output_type": "execute_result",
          "data": {
            "text/plain": [
              "array([[0.5030872]], dtype=float32)"
            ]
          },
          "metadata": {},
          "execution_count": 16
        }
      ]
    },
    {
      "cell_type": "markdown",
      "metadata": {
        "id": "O5GGvRbYzVU8"
      },
      "source": [
        "As you can see, the output is a \"double\" array. So if you want to get the number inside it you could access it adding `[0][0]`:"
      ]
    },
    {
      "cell_type": "code",
      "metadata": {
        "colab": {
          "base_uri": "https://localhost:8080/"
        },
        "id": "npoBW9UuzgUk",
        "outputId": "24a1845f-f269-4daf-afb5-aed0a9c6e413"
      },
      "source": [
        "pred[0][0]"
      ],
      "execution_count": 67,
      "outputs": [
        {
          "output_type": "execute_result",
          "data": {
            "text/plain": [
              "0.5499173"
            ]
          },
          "metadata": {
            "tags": []
          },
          "execution_count": 67
        }
      ]
    },
    {
      "cell_type": "markdown",
      "metadata": {
        "id": "hwGpgvzx0DOp"
      },
      "source": [
        "But this is the a float! You want 0 or 1! True, you could round the prediction if you want, with threshold 0.5. Or use the predict_classes method:"
      ]
    },
    {
      "cell_type": "code",
      "metadata": {
        "colab": {
          "base_uri": "https://localhost:8080/"
        },
        "id": "-WqSfPBgz6sW",
        "outputId": "08867881-2dce-41c1-d688-9e876640ce8e"
      },
      "source": [
        "np.random.seed(42)\n",
        "\n",
        "pred_classes = model.predict_classes(np.random.rand(1,10))\n",
        "pred_classes"
      ],
      "execution_count": 17,
      "outputs": [
        {
          "output_type": "stream",
          "name": "stdout",
          "text": [
            "WARNING:tensorflow:From <ipython-input-17-841945df6ed9>:3: Sequential.predict_classes (from tensorflow.python.keras.engine.sequential) is deprecated and will be removed after 2021-01-01.\nInstructions for updating:\nPlease use instead:* `np.argmax(model.predict(x), axis=-1)`,   if your model does multi-class classification   (e.g. if it uses a `softmax` last-layer activation).* `(model.predict(x) > 0.5).astype(\"int32\")`,   if your model does binary classification   (e.g. if it uses a `sigmoid` last-layer activation).\n"
          ]
        },
        {
          "output_type": "execute_result",
          "data": {
            "text/plain": [
              "array([[1]])"
            ]
          },
          "metadata": {},
          "execution_count": 17
        }
      ]
    },
    {
      "cell_type": "markdown",
      "metadata": {
        "id": "oL6Gvqvvm3jV"
      },
      "source": [
        "Since the `predict_classes` method is deprecated, it's not convenient to use it for a maintainable code. So better to check the class manually using a threshold!"
      ]
    },
    {
      "cell_type": "markdown",
      "metadata": {
        "id": "aPS8OFe21NVE"
      },
      "source": [
        "# BIGGER NETWORKS\n",
        "\n",
        "You can add as many layers you(r RAM) want(s) in your neural network! Before we used only one! It's as simple as adding \n",
        "\n",
        "`model.add(Dense(N_HIDDEN))`\n",
        "\n",
        "between the the layers!"
      ]
    },
    {
      "cell_type": "code",
      "metadata": {
        "id": "lUr6kXjf1LXt"
      },
      "source": [
        "model = Sequential()\n",
        "model.add(Dense(12, input_dim=8, kernel_initializer='random_uniform'))\n",
        "model.add(Dense(100))\n",
        "model.add(Dense(1, activation='sigmoid'))\n",
        "\n"
      ],
      "execution_count": 18,
      "outputs": []
    },
    {
      "cell_type": "code",
      "metadata": {
        "colab": {
          "base_uri": "https://localhost:8080/"
        },
        "id": "oSliT7qD2aJ9",
        "outputId": "534c291d-f026-49a7-80ca-bcc00b1be830"
      },
      "source": [
        "model.summary()"
      ],
      "execution_count": 19,
      "outputs": [
        {
          "output_type": "stream",
          "name": "stdout",
          "text": [
            "Model: \"sequential_2\"\n_________________________________________________________________\nLayer (type)                 Output Shape              Param #   \n=================================================================\ndense_3 (Dense)              (None, 12)                108       \n_________________________________________________________________\ndense_4 (Dense)              (None, 100)               1300      \n_________________________________________________________________\ndense_5 (Dense)              (None, 1)                 101       \n=================================================================\nTotal params: 1,509\nTrainable params: 1,509\nNon-trainable params: 0\n_________________________________________________________________\n"
          ]
        }
      ]
    },
    {
      "cell_type": "markdown",
      "metadata": {
        "id": "3yuEn4pQ2kNo"
      },
      "source": [
        "The rest, is exactly the same of before!\n",
        "\n",
        "## Now it's your turn!\n",
        "\n",
        "I'll give you some input data, and I want you to create a neural network with:\n",
        "\n",
        "- `input_dim` : adeguate to fit the data I will provide you\n",
        "- 32 neurons in the input layer\n",
        "- 64 neurons in the first hidden layer\n",
        "- 32 neuron in the second hidden layer\n",
        "- a binary output layer with the sigmoid\n",
        "\n",
        "You're free to choose the rest of the parameters!"
      ]
    },
    {
      "cell_type": "code",
      "metadata": {
        "id": "f7YzNg0r3P6z"
      },
      "source": [
        "np.random.seed(42)\n",
        "X = np.random.rand(1000, 20)\n",
        "y = np.random.randint(0, 2, size=1000)"
      ],
      "execution_count": 77,
      "outputs": []
    },
    {
      "cell_type": "code",
      "metadata": {
        "colab": {
          "base_uri": "https://localhost:8080/"
        },
        "id": "vENjpH2e3M_N",
        "outputId": "53cc6f28-9d16-4ee2-cf17-4df9d23e1a03"
      },
      "source": [
        "# Your code model = Sequential()\n",
        "model.add(Dense(12, input_dim=8, kernel_initializer='random_uniform'))\n",
        "model.add(Dense(100))\n",
        "model.add(Dense(1, activation='sigmoid'))here\n"
      ],
      "execution_count": 80,
      "outputs": [
        {
          "output_type": "stream",
          "text": [
            "Model: \"sequential_5\"\n",
            "_________________________________________________________________\n",
            "Layer (type)                 Output Shape              Param #   \n",
            "=================================================================\n",
            "dense_13 (Dense)             (None, 32)                672       \n",
            "_________________________________________________________________\n",
            "dense_14 (Dense)             (None, 64)                2112      \n",
            "_________________________________________________________________\n",
            "dense_15 (Dense)             (None, 32)                2080      \n",
            "_________________________________________________________________\n",
            "dense_16 (Dense)             (None, 1)                 33        \n",
            "=================================================================\n",
            "Total params: 4,897\n",
            "Trainable params: 4,897\n",
            "Non-trainable params: 0\n",
            "_________________________________________________________________\n"
          ],
          "name": "stdout"
        }
      ]
    },
    {
      "cell_type": "code",
      "metadata": {
        "id": "QKvHjTh43tPr"
      },
      "source": [],
      "execution_count": null,
      "outputs": []
    }
  ]
}