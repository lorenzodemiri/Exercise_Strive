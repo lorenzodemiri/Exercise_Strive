{
 "metadata": {
  "language_info": {
   "codemirror_mode": {
    "name": "ipython",
    "version": 3
   },
   "file_extension": ".py",
   "mimetype": "text/x-python",
   "name": "python",
   "nbconvert_exporter": "python",
   "pygments_lexer": "ipython3",
   "version": "3.8.5-final"
  },
  "orig_nbformat": 2,
  "kernelspec": {
   "name": "python3",
   "display_name": "Python 3",
   "language": "python"
  }
 },
 "nbformat": 4,
 "nbformat_minor": 2,
 "cells": [
  {
   "source": [
    "## Exercise predict futere sales\n",
    "\n",
    "Ex 1"
   ],
   "cell_type": "markdown",
   "metadata": {}
  },
  {
   "cell_type": "code",
   "execution_count": 14,
   "metadata": {},
   "outputs": [
    {
     "output_type": "execute_result",
     "data": {
      "text/plain": [
       "(         date  date_block_num  shop_id  item_id  item_price  item_cnt_day\n",
       " 0  02.01.2013               0       59    22154      999.00           1.0\n",
       " 1  03.01.2013               0       25     2552      899.00           1.0\n",
       " 2  05.01.2013               0       25     2552      899.00          -1.0\n",
       " 3  06.01.2013               0       25     2554     1709.05           1.0\n",
       " 4  15.01.2013               0       25     2555     1099.00           1.0,\n",
       " (2935849, 6))"
      ]
     },
     "metadata": {},
     "execution_count": 14
    }
   ],
   "source": [
    "import pandas as pd\n",
    "\n",
    "\n",
    "df_sales = pd.read_csv(\"../datasets/predict-future-sales/sales_train.csv\")\n",
    "df_sales.head(), df_sales.shape"
   ]
  },
  {
   "cell_type": "code",
   "execution_count": 15,
   "metadata": {},
   "outputs": [
    {
     "output_type": "execute_result",
     "data": {
      "text/plain": [
       "date              0\n",
       "date_block_num    0\n",
       "shop_id           0\n",
       "item_id           0\n",
       "item_price        0\n",
       "item_cnt_day      0\n",
       "dtype: int64"
      ]
     },
     "metadata": {},
     "execution_count": 15
    }
   ],
   "source": [
    "df_sales.isna().sum()"
   ]
  },
  {
   "cell_type": "code",
   "execution_count": 22,
   "metadata": {},
   "outputs": [
    {
     "output_type": "execute_result",
     "data": {
      "text/plain": [
       "(53514, 6)"
      ]
     },
     "metadata": {},
     "execution_count": 22
    }
   ],
   "source": [
    "df_oct = df_sales[df_sales['date_block_num'] == 33]\n",
    "df_oct.shape"
   ]
  },
  {
   "cell_type": "code",
   "execution_count": 24,
   "metadata": {},
   "outputs": [
    {
     "output_type": "execute_result",
     "data": {
      "text/plain": [
       "            date  date_block_num  shop_id   item_id    item_price  \\\n",
       "0     01.01.2013               0    54436  17148075  1.211779e+06   \n",
       "1     01.01.2014           22224    62408  17988989  1.702078e+06   \n",
       "2     01.01.2015           40152    55377  15670556  2.329375e+06   \n",
       "3     01.02.2013            3356    94801  35875911  2.246770e+06   \n",
       "4     01.02.2014           60983   157693  46359990  3.513899e+06   \n",
       "...          ...             ...      ...       ...           ...   \n",
       "1029  31.10.2013           25299    90306  27128753  2.439256e+06   \n",
       "1030  31.10.2014           54264    86430  26278290  2.824445e+06   \n",
       "1031  31.10.2015           85107    84973  27965175  2.847151e+06   \n",
       "1032  31.12.2013           85415   256372  74393070  8.566767e+06   \n",
       "1033  31.12.2014          191981   275199  83384841  1.127468e+07   \n",
       "\n",
       "      item_cnt_day  \n",
       "0           1951.0  \n",
       "1           2310.0  \n",
       "2           2117.0  \n",
       "3           3817.0  \n",
       "4           5711.0  \n",
       "...            ...  \n",
       "1029        3826.0  \n",
       "1030        3014.0  \n",
       "1031        3104.0  \n",
       "1032       10514.0  \n",
       "1033       11394.0  \n",
       "\n",
       "[1034 rows x 6 columns]"
      ],
      "text/html": "<div>\n<style scoped>\n    .dataframe tbody tr th:only-of-type {\n        vertical-align: middle;\n    }\n\n    .dataframe tbody tr th {\n        vertical-align: top;\n    }\n\n    .dataframe thead th {\n        text-align: right;\n    }\n</style>\n<table border=\"1\" class=\"dataframe\">\n  <thead>\n    <tr style=\"text-align: right;\">\n      <th></th>\n      <th>date</th>\n      <th>date_block_num</th>\n      <th>shop_id</th>\n      <th>item_id</th>\n      <th>item_price</th>\n      <th>item_cnt_day</th>\n    </tr>\n  </thead>\n  <tbody>\n    <tr>\n      <th>0</th>\n      <td>01.01.2013</td>\n      <td>0</td>\n      <td>54436</td>\n      <td>17148075</td>\n      <td>1.211779e+06</td>\n      <td>1951.0</td>\n    </tr>\n    <tr>\n      <th>1</th>\n      <td>01.01.2014</td>\n      <td>22224</td>\n      <td>62408</td>\n      <td>17988989</td>\n      <td>1.702078e+06</td>\n      <td>2310.0</td>\n    </tr>\n    <tr>\n      <th>2</th>\n      <td>01.01.2015</td>\n      <td>40152</td>\n      <td>55377</td>\n      <td>15670556</td>\n      <td>2.329375e+06</td>\n      <td>2117.0</td>\n    </tr>\n    <tr>\n      <th>3</th>\n      <td>01.02.2013</td>\n      <td>3356</td>\n      <td>94801</td>\n      <td>35875911</td>\n      <td>2.246770e+06</td>\n      <td>3817.0</td>\n    </tr>\n    <tr>\n      <th>4</th>\n      <td>01.02.2014</td>\n      <td>60983</td>\n      <td>157693</td>\n      <td>46359990</td>\n      <td>3.513899e+06</td>\n      <td>5711.0</td>\n    </tr>\n    <tr>\n      <th>...</th>\n      <td>...</td>\n      <td>...</td>\n      <td>...</td>\n      <td>...</td>\n      <td>...</td>\n      <td>...</td>\n    </tr>\n    <tr>\n      <th>1029</th>\n      <td>31.10.2013</td>\n      <td>25299</td>\n      <td>90306</td>\n      <td>27128753</td>\n      <td>2.439256e+06</td>\n      <td>3826.0</td>\n    </tr>\n    <tr>\n      <th>1030</th>\n      <td>31.10.2014</td>\n      <td>54264</td>\n      <td>86430</td>\n      <td>26278290</td>\n      <td>2.824445e+06</td>\n      <td>3014.0</td>\n    </tr>\n    <tr>\n      <th>1031</th>\n      <td>31.10.2015</td>\n      <td>85107</td>\n      <td>84973</td>\n      <td>27965175</td>\n      <td>2.847151e+06</td>\n      <td>3104.0</td>\n    </tr>\n    <tr>\n      <th>1032</th>\n      <td>31.12.2013</td>\n      <td>85415</td>\n      <td>256372</td>\n      <td>74393070</td>\n      <td>8.566767e+06</td>\n      <td>10514.0</td>\n    </tr>\n    <tr>\n      <th>1033</th>\n      <td>31.12.2014</td>\n      <td>191981</td>\n      <td>275199</td>\n      <td>83384841</td>\n      <td>1.127468e+07</td>\n      <td>11394.0</td>\n    </tr>\n  </tbody>\n</table>\n<p>1034 rows × 6 columns</p>\n</div>"
     },
     "metadata": {},
     "execution_count": 24
    }
   ],
   "source": [
    "df_month = df_sales.groupby('date').sum().reset_index()\n",
    "df_month"
   ]
  },
  {
   "cell_type": "code",
   "execution_count": null,
   "metadata": {},
   "outputs": [],
   "source": []
  }
 ]
}