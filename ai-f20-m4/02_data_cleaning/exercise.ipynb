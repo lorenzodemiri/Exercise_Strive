{
 "metadata": {
  "language_info": {
   "codemirror_mode": {
    "name": "ipython",
    "version": 3
   },
   "file_extension": ".py",
   "mimetype": "text/x-python",
   "name": "python",
   "nbconvert_exporter": "python",
   "pygments_lexer": "ipython3",
   "version": "3.8.5-final"
  },
  "orig_nbformat": 2,
  "kernelspec": {
   "name": "python3",
   "display_name": "Python 3",
   "language": "python"
  }
 },
 "nbformat": 4,
 "nbformat_minor": 2,
 "cells": [
  {
   "source": [
    "## Exercise Data Cleaning \n",
    "\n",
    "- ### Missing Values"
   ],
   "cell_type": "markdown",
   "metadata": {}
  },
  {
   "source": [
    "1) the data type used in pandas is nan, we use numpy lib so it will be np.nan"
   ],
   "cell_type": "markdown",
   "metadata": {}
  },
  {
   "source": [
    "2) df.fillna(9999)"
   ],
   "cell_type": "markdown",
   "metadata": {}
  },
  {
   "source": [
    "3) df\\['columnname'\\].isna().sum()"
   ],
   "cell_type": "markdown",
   "metadata": {}
  },
  {
   "source": [
    "4) df\\['columname'].isna().sum() * 100 / len(df)"
   ],
   "cell_type": "markdown",
   "metadata": {}
  },
  {
   "source": [
    "5) df.dronpna(axis = 0, how = 'any')"
   ],
   "cell_type": "markdown",
   "metadata": {}
  },
  {
   "source": [
    "6) df.dropna(axis = 1, how = 'any')"
   ],
   "cell_type": "markdown",
   "metadata": {}
  },
  {
   "cell_type": "code",
   "execution_count": 1,
   "metadata": {},
   "outputs": [],
   "source": [
    "# 7) \n",
    "from sklearn.impute import SimpleImputer\n",
    "import numpy as np\n",
    "smi = SimpleImputer(missing_values = np.nan)\n"
   ]
  },
  {
   "cell_type": "code",
   "execution_count": 18,
   "metadata": {},
   "outputs": [],
   "source": [
    "# 8)\n",
    "from sklearn.experimental import enable_iterative_imputer\n",
    "from sklearn.impute import IterativeImputer\n",
    "iti = IterativeImputer(missing_values = np.nan)\n"
   ]
  },
  {
   "source": [
    "9) For Categorical variables we can use constant and then replacing the value with a 'missing' tag or we can use the median"
   ],
   "cell_type": "markdown",
   "metadata": {}
  },
  {
   "source": [
    "10) For numerical variables the imputation method is constant wich mean replacing the nan value with a numerical one wich is distinguishible from the other data or we can use the mean, those method doesn't change the structure of our data neither create outlinears."
   ],
   "cell_type": "markdown",
   "metadata": {}
  },
  {
   "source": [
    "- ### Outliers"
   ],
   "cell_type": "markdown",
   "metadata": {}
  },
  {
   "source": [
    "1) An outlier is a value that is at an abnormal distance from the other values of our data  "
   ],
   "cell_type": "markdown",
   "metadata": {}
  },
  {
   "source": [
    "2) The simplet way to find an outlier is to plot the data "
   ],
   "cell_type": "markdown",
   "metadata": {}
  },
  {
   "source": [
    "3) When we have a training set of data not pulleted by outliers, we can detect better an outlier cause it as strange observation from our training data"
   ],
   "cell_type": "markdown",
   "metadata": {}
  },
  {
   "source": [
    "4)\n",
    " - Robust Covariance\n",
    "- One Class SVM\n",
    "- Isolation Forest\n",
    "- Local Outlier Factor "
   ],
   "cell_type": "markdown",
   "metadata": {}
  },
  {
   "source": [
    "### Typos"
   ],
   "cell_type": "markdown",
   "metadata": {}
  },
  {
   "source": [
    "1) A typo, is a misspelled data or value that dosen't have sense in our data."
   ],
   "cell_type": "markdown",
   "metadata": {}
  },
  {
   "source": [
    "2) We can use the method value_counts() from pandas"
   ],
   "cell_type": "markdown",
   "metadata": {}
  },
  {
   "cell_type": "code",
   "execution_count": null,
   "metadata": {},
   "outputs": [],
   "source": []
  }
 ]
}