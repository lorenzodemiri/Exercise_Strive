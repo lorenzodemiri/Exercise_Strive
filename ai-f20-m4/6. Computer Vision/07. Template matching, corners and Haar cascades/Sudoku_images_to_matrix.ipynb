{
 "cells": [
  {
   "cell_type": "markdown",
   "metadata": {},
   "source": [
    "## Creation and training of the minst model"
   ]
  },
  {
   "cell_type": "code",
   "execution_count": 1,
   "metadata": {},
   "outputs": [
    {
     "name": "stdout",
     "output_type": "stream",
     "text": [
      "x_train shape: (60000, 28, 28, 1)\n",
      "60000 train samples\n",
      "10000 test samples\n",
      "Epoch 1/15\n",
      "422/422 [==============================] - 15s 36ms/step - loss: 0.7487 - accuracy: 0.7737 - val_loss: 0.0846 - val_accuracy: 0.9772\n",
      "Epoch 2/15\n",
      "422/422 [==============================] - 15s 35ms/step - loss: 0.1238 - accuracy: 0.9620 - val_loss: 0.0573 - val_accuracy: 0.9843\n",
      "Epoch 3/15\n",
      "422/422 [==============================] - 17s 40ms/step - loss: 0.0886 - accuracy: 0.9726 - val_loss: 0.0482 - val_accuracy: 0.9860\n",
      "Epoch 4/15\n",
      "422/422 [==============================] - 15s 36ms/step - loss: 0.0706 - accuracy: 0.9777 - val_loss: 0.0414 - val_accuracy: 0.9897\n",
      "Epoch 5/15\n",
      "422/422 [==============================] - 17s 39ms/step - loss: 0.0610 - accuracy: 0.9814 - val_loss: 0.0369 - val_accuracy: 0.9907\n",
      "Epoch 6/15\n",
      "422/422 [==============================] - 16s 37ms/step - loss: 0.0547 - accuracy: 0.9829 - val_loss: 0.0336 - val_accuracy: 0.9905\n",
      "Epoch 7/15\n",
      "422/422 [==============================] - 16s 37ms/step - loss: 0.0504 - accuracy: 0.9840 - val_loss: 0.0336 - val_accuracy: 0.9910\n",
      "Epoch 8/15\n",
      "422/422 [==============================] - 17s 40ms/step - loss: 0.0513 - accuracy: 0.9844 - val_loss: 0.0329 - val_accuracy: 0.9917\n",
      "Epoch 9/15\n",
      "422/422 [==============================] - 16s 37ms/step - loss: 0.0457 - accuracy: 0.9855 - val_loss: 0.0304 - val_accuracy: 0.9920\n",
      "Epoch 10/15\n",
      "422/422 [==============================] - 22s 52ms/step - loss: 0.0422 - accuracy: 0.9864 - val_loss: 0.0265 - val_accuracy: 0.9935\n",
      "Epoch 11/15\n",
      "422/422 [==============================] - 20s 47ms/step - loss: 0.0389 - accuracy: 0.9874 - val_loss: 0.0269 - val_accuracy: 0.9942\n",
      "Epoch 12/15\n",
      "422/422 [==============================] - 15s 37ms/step - loss: 0.0373 - accuracy: 0.9882 - val_loss: 0.0284 - val_accuracy: 0.9930\n",
      "Epoch 13/15\n",
      "422/422 [==============================] - 15s 36ms/step - loss: 0.0352 - accuracy: 0.9877 - val_loss: 0.0290 - val_accuracy: 0.9928\n",
      "Epoch 14/15\n",
      "422/422 [==============================] - 16s 39ms/step - loss: 0.0338 - accuracy: 0.9887 - val_loss: 0.0302 - val_accuracy: 0.9918\n",
      "Epoch 15/15\n",
      "422/422 [==============================] - 15s 36ms/step - loss: 0.0327 - accuracy: 0.9898 - val_loss: 0.0273 - val_accuracy: 0.9928\n",
      "Test loss: 0.025229280814528465\n",
      "Test accuracy: 0.9909999966621399\n"
     ]
    }
   ],
   "source": [
    "import numpy as np\n",
    "from tensorflow import keras\n",
    "from tensorflow.keras import layers\n",
    "\n",
    "# Model / data parameters\n",
    "num_classes = 10\n",
    "input_shape = (28, 28, 1)\n",
    "\n",
    "# the data, split between train and test sets\n",
    "(x_train, y_train), (x_test, y_test) = keras.datasets.mnist.load_data()\n",
    "\n",
    "# Scale images to the [0, 1] range\n",
    "x_train = x_train.astype(\"float32\") / 255\n",
    "x_test = x_test.astype(\"float32\") / 255\n",
    "# Make sure images have shape (28, 28, 1)\n",
    "x_train = np.expand_dims(x_train, -1)\n",
    "x_test = np.expand_dims(x_test, -1)\n",
    "print(\"x_train shape:\", x_train.shape)\n",
    "print(x_train.shape[0], \"train samples\")\n",
    "print(x_test.shape[0], \"test samples\")\n",
    "\n",
    "\n",
    "# convert class vectors to binary class matrices\n",
    "y_train = keras.utils.to_categorical(y_train, num_classes)\n",
    "y_test = keras.utils.to_categorical(y_test, num_classes)\n",
    "\n",
    "model = keras.Sequential(\n",
    "    [\n",
    "        keras.Input(shape=input_shape),\n",
    "        layers.Conv2D(32, kernel_size=(3, 3), activation=\"relu\"),\n",
    "        layers.MaxPooling2D(pool_size=(2, 2)),\n",
    "        layers.Conv2D(64, kernel_size=(3, 3), activation=\"relu\"),\n",
    "        layers.MaxPooling2D(pool_size=(2, 2)),\n",
    "        layers.Flatten(),\n",
    "        layers.Dropout(0.5),\n",
    "        layers.Dense(num_classes, activation=\"softmax\"),\n",
    "    ]\n",
    ")\n",
    "\n",
    "batch_size = 128\n",
    "epochs = 15\n",
    "\n",
    "model.compile(loss=\"categorical_crossentropy\", optimizer=\"adam\", metrics=[\"accuracy\"])\n",
    "\n",
    "model.fit(x_train, y_train, batch_size=batch_size, epochs=epochs, validation_split=0.1)\n",
    "score = model.evaluate(x_test, y_test, verbose=0)\n",
    "print(\"Test loss:\", score[0])\n",
    "print(\"Test accuracy:\", score[1])\n"
   ]
  },
  {
   "cell_type": "code",
   "execution_count": 8,
   "metadata": {},
   "outputs": [],
   "source": [
    "from PIL import Image"
   ]
  },
  {
   "cell_type": "code",
   "execution_count": 12,
   "metadata": {},
   "outputs": [],
   "source": [
    "y_pred = model.predict_classes(x_test)"
   ]
  },
  {
   "cell_type": "code",
   "execution_count": 39,
   "metadata": {},
   "outputs": [
    {
     "data": {
      "text/plain": [
       "(10000, 28, 28, 1)"
      ]
     },
     "execution_count": 39,
     "metadata": {},
     "output_type": "execute_result"
    }
   ],
   "source": [
    "#check the shape of the testing image \n",
    "x_test.shape"
   ]
  },
  {
   "cell_type": "markdown",
   "metadata": {},
   "source": [
    "# Importing the images created from sudoku_solver.py in the img_r folder"
   ]
  },
  {
   "cell_type": "code",
   "execution_count": 58,
   "metadata": {},
   "outputs": [],
   "source": [
    "img_path = \"img_r/cell_{}_{}.jpg\"\n",
    "array_ret = []\n",
    "for i in range(1,10,1):\n",
    "    for j in range(1,10,1):\n",
    "        img = Image.open(img_path.format(i,j)).convert(\"L\")\n",
    "        img = np.resize(img, (28,28,1))\n",
    "        im2arr = np.array(img)\n",
    "        im2arr = im2arr.reshape(1,28,28,1)\n",
    "        if np.count_nonzero(im2arr) == 0:\n",
    "            array_ret.append(0)\n",
    "        else:\n",
    "            array_ret.append(model.predict_classes(im2arr)[0])"
   ]
  },
  {
   "cell_type": "markdown",
   "metadata": {},
   "source": [
    "## Array containg the sudoku (0 = empty cell) "
   ]
  },
  {
   "cell_type": "code",
   "execution_count": 62,
   "metadata": {},
   "outputs": [
    {
     "data": {
      "text/plain": [
       "array([[5, 3, 0, 0, 7, 0, 0, 0, 0],\n",
       "       [6, 0, 0, 2, 9, 5, 0, 0, 0],\n",
       "       [0, 9, 8, 0, 0, 0, 0, 8, 0],\n",
       "       [8, 0, 0, 0, 6, 0, 0, 0, 3],\n",
       "       [4, 0, 0, 8, 0, 3, 0, 0, 1],\n",
       "       [7, 0, 0, 0, 2, 0, 0, 0, 5],\n",
       "       [0, 6, 0, 0, 0, 0, 2, 8, 0],\n",
       "       [0, 0, 0, 4, 1, 8, 0, 0, 5],\n",
       "       [0, 0, 0, 0, 8, 0, 0, 7, 9]])"
      ]
     },
     "execution_count": 62,
     "metadata": {},
     "output_type": "execute_result"
    }
   ],
   "source": [
    "sudoku = np.array(array_ret)\n",
    "sudoku = sudoku.reshape((9,9))\n",
    "sudoku"
   ]
  }
 ],
 "metadata": {
  "kernelspec": {
   "display_name": "Python 3.8.8 64-bit ('tf-gpu': conda)",
   "language": "python",
   "name": "python38864bittfgpucondaa1bbc3ea5f9f44d19d7f7bc9c2823bcb"
  },
  "language_info": {
   "codemirror_mode": {
    "name": "ipython",
    "version": 3
   },
   "file_extension": ".py",
   "mimetype": "text/x-python",
   "name": "python",
   "nbconvert_exporter": "python",
   "pygments_lexer": "ipython3",
   "version": "3.8.8"
  }
 },
 "nbformat": 4,
 "nbformat_minor": 4
}
