{
 "cells": [
  {
   "cell_type": "code",
   "execution_count": 3,
   "metadata": {},
   "outputs": [
    {
     "name": "stdout",
     "output_type": "stream",
     "text": [
      "Detected 21 shapes\n"
     ]
    }
   ],
   "source": [
    "import imutils\n",
    "import cv2\n",
    "import matplotlib.pyplot as plt\n",
    "import numpy as np\n",
    "\n",
    "def detect(countorn):\n",
    "    shape = \"not_found\"\n",
    "    \n",
    "    peri = cv2.arcLength(countorn, True)\n",
    "    approx = cv2.approxPolyDP(countorn, 0.04 * peri, True)\n",
    "    if len(approx) == 3:\n",
    "        shape = \"Triangle\"\n",
    "    elif len(approx) == 4:\n",
    "        (x, y, w, h) = cv2.boundingRect(approx)\n",
    "        ar = w / float(h)\n",
    "        if ar >= 0.95 and ar <= 1.05:\n",
    "            shape = \"Square\"\n",
    "        else:\n",
    "            shape = \"Rectangle\"\n",
    "    elif len(approx) == 5:\n",
    "            shape = \"Pentagon\"\n",
    "    else:\n",
    "        shape = \"Circle\"\n",
    "        \n",
    "    return shape\n",
    "\n",
    "\n",
    "def get_contourn(img, \n",
    "                 thresh_val = 100, \n",
    "                 apply_canny = False, \n",
    "                 canny_start = 50, \n",
    "                 apply_gaussBlur = False, \n",
    "                 gauss_kernel = (7,7),\n",
    "                 apply_dilation = False,\n",
    "                 kernel_dilation = (3,3)\n",
    "                ):\n",
    "    var_THRESH = cv2.THRESH_BINARY_INV\n",
    "    \n",
    "    if apply_gaussBlur is True: img = cv2.GaussianBlur(img, gauss_kernel, 0)\n",
    "    \n",
    "    if apply_canny is True: \n",
    "        img = cv2.Canny(img, canny_start, 255)\n",
    "        var_THRESH = cv2.THRESH_BINARY\n",
    "    \n",
    "    if apply_dilation is True:\n",
    "        kernel = cv2.getStructuringElement(cv2.MORPH_RECT,kernel_dilation)\n",
    "        img  = cv2.dilate(img, kernel, iterations = 1)\n",
    "    \n",
    "    ret, th = cv2.threshold(img, thresh_val, 255, var_THRESH)    \n",
    "    img_contours = cv2.findContours(th, cv2.RETR_EXTERNAL, cv2.CHAIN_APPROX_SIMPLE)\n",
    "    print(\"Detected {} shapes\".format(len(img_contours[0])))\n",
    "    img_contours = imutils.grab_contours(img_contours)\n",
    "    return img_contours\n",
    "\n",
    "\n",
    "shape_img = cv2.imread('/home/lorenzo/Desktop/Strive School/Exercise_Strive/ai-f20-m4/6. Computer Vision/06. Contours and Blob detection/img/test.jpg', cv2.IMREAD_COLOR)\n",
    "rgb_img = cv2.cvtColor(shape_img,cv2.COLOR_BGR2RGB)\n",
    "img_gray = cv2.cvtColor(rgb_img, cv2.COLOR_RGB2GRAY)\n",
    "\n",
    "\n",
    "countorn_vect = get_contourn(img_gray,\n",
    "                 thresh_val = 60, \n",
    "                 apply_canny = True,\n",
    "                 canny_start = 100, \n",
    "                 apply_gaussBlur = True,\n",
    "                 gauss_kernel = (3,3),\n",
    "                 apply_dilation = False,\n",
    "                 kernel_dilation = (3,3))\n",
    "\n",
    "\n",
    "\n",
    "for countorn in countorn_vect:\n",
    "    M = cv2.moments(countorn)\n",
    "    cX = int((M[\"m10\"] / M[\"m00\"]))\n",
    "    cY = int((M[\"m01\"] / M[\"m00\"]))\n",
    "    shape = detect(countorn)\n",
    "\n",
    "    cv2.drawContours(shape_img, [countorn], -1, (255, 0, 0), 2)\n",
    "    cv2.putText(shape_img, shape,(cX, cY), cv2.FONT_HERSHEY_SIMPLEX, 0.5, (0,255,0), 2)\n",
    "    cv2.imshow(\"Image\", shape_img)\n",
    "    cv2.waitKey(0)\n",
    "\n",
    "cv2.destroyAllWindows()"
   ]
  },
  {
   "cell_type": "code",
   "execution_count": null,
   "metadata": {},
   "outputs": [],
   "source": []
  },
  {
   "cell_type": "code",
   "execution_count": null,
   "metadata": {},
   "outputs": [],
   "source": []
  }
 ],
 "metadata": {
  "kernelspec": {
   "display_name": "Python 3",
   "language": "python",
   "name": "python3"
  },
  "language_info": {
   "codemirror_mode": {
    "name": "ipython",
    "version": 3
   },
   "file_extension": ".py",
   "mimetype": "text/x-python",
   "name": "python",
   "nbconvert_exporter": "python",
   "pygments_lexer": "ipython3",
   "version": "3.8.5"
  }
 },
 "nbformat": 4,
 "nbformat_minor": 4
}
