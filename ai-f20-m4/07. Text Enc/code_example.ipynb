{
 "metadata": {
  "language_info": {
   "codemirror_mode": {
    "name": "ipython",
    "version": 3
   },
   "file_extension": ".py",
   "mimetype": "text/x-python",
   "name": "python",
   "nbconvert_exporter": "python",
   "pygments_lexer": "ipython3",
   "version": "3.8.5-final"
  },
  "orig_nbformat": 2,
  "kernelspec": {
   "name": "python3",
   "display_name": "Python 3",
   "language": "python"
  }
 },
 "nbformat": 4,
 "nbformat_minor": 2,
 "cells": [
  {
   "cell_type": "code",
   "execution_count": 11,
   "metadata": {},
   "outputs": [],
   "source": [
    "import pandas as pd\n",
    "import numpy as np\n",
    "from IPython.display import display\n"
   ]
  },
  {
   "cell_type": "code",
   "execution_count": 12,
   "metadata": {},
   "outputs": [],
   "source": [
    "df_cat = pd.read_csv(\"../datasets/predict-future-sales/categories.csv\")\n",
    "df_ite = pd.read_csv(\"../datasets/predict-future-sales/items.csv\")"
   ]
  },
  {
   "cell_type": "code",
   "execution_count": 13,
   "metadata": {},
   "outputs": [
    {
     "output_type": "display_data",
     "data": {
      "text/plain": "                    category_name  category_id\n48    Books - Computer literature           48\n61             Gifts - Attributes           61\n15       Game consoles - XBOX 360           15\n43             Books - Audiobooks           43\n33          Payment Cards - Live!           33\n30   PC Games - Standard Editions           30\n16       Game consoles - XBOX ONE           16\n27             MAC Games - Number           27\n2               Accessories - PS3            2\n0      PC - Headsets / Headphones            0",
      "text/html": "<div>\n<style scoped>\n    .dataframe tbody tr th:only-of-type {\n        vertical-align: middle;\n    }\n\n    .dataframe tbody tr th {\n        vertical-align: top;\n    }\n\n    .dataframe thead th {\n        text-align: right;\n    }\n</style>\n<table border=\"1\" class=\"dataframe\">\n  <thead>\n    <tr style=\"text-align: right;\">\n      <th></th>\n      <th>category_name</th>\n      <th>category_id</th>\n    </tr>\n  </thead>\n  <tbody>\n    <tr>\n      <th>48</th>\n      <td>Books - Computer literature</td>\n      <td>48</td>\n    </tr>\n    <tr>\n      <th>61</th>\n      <td>Gifts - Attributes</td>\n      <td>61</td>\n    </tr>\n    <tr>\n      <th>15</th>\n      <td>Game consoles - XBOX 360</td>\n      <td>15</td>\n    </tr>\n    <tr>\n      <th>43</th>\n      <td>Books - Audiobooks</td>\n      <td>43</td>\n    </tr>\n    <tr>\n      <th>33</th>\n      <td>Payment Cards - Live!</td>\n      <td>33</td>\n    </tr>\n    <tr>\n      <th>30</th>\n      <td>PC Games - Standard Editions</td>\n      <td>30</td>\n    </tr>\n    <tr>\n      <th>16</th>\n      <td>Game consoles - XBOX ONE</td>\n      <td>16</td>\n    </tr>\n    <tr>\n      <th>27</th>\n      <td>MAC Games - Number</td>\n      <td>27</td>\n    </tr>\n    <tr>\n      <th>2</th>\n      <td>Accessories - PS3</td>\n      <td>2</td>\n    </tr>\n    <tr>\n      <th>0</th>\n      <td>PC - Headsets / Headphones</td>\n      <td>0</td>\n    </tr>\n  </tbody>\n</table>\n</div>"
     },
     "metadata": {}
    },
    {
     "output_type": "execute_result",
     "data": {
      "text/plain": [
       "       item_id  category_id                                          item_name\n",
       "8908      8908           40                            BloodRayne 3 (DVD + BD)\n",
       "2578      2578           55                         DEL REY LANA Ultraviolence\n",
       "18598    18598           37                             SEX IN BIG CITY 2 (BD)\n",
       "990        990           67            3D Action Puzzle \"Dinosaurs\" Robosaurus\n",
       "18896    18896           40  SMURFICS. FIRST CHRISTMAS OF THE SMURFIKA TABL...\n",
       "6366      6366           56                 SUPERMAX Best Of CD + DVD (firms).\n",
       "10658    10658           67                            Puzzle Rubik's Cube 3x3\n",
       "1998      1998           31  Borderlands 2. Dome of Bloodshed [PC, Digital ...\n",
       "1251      1251           56                                    ADELE 21 (firm)\n",
       "20921    20921           72              Figurine Mignon Stewart in camouflage"
      ],
      "text/html": "<div>\n<style scoped>\n    .dataframe tbody tr th:only-of-type {\n        vertical-align: middle;\n    }\n\n    .dataframe tbody tr th {\n        vertical-align: top;\n    }\n\n    .dataframe thead th {\n        text-align: right;\n    }\n</style>\n<table border=\"1\" class=\"dataframe\">\n  <thead>\n    <tr style=\"text-align: right;\">\n      <th></th>\n      <th>item_id</th>\n      <th>category_id</th>\n      <th>item_name</th>\n    </tr>\n  </thead>\n  <tbody>\n    <tr>\n      <th>8908</th>\n      <td>8908</td>\n      <td>40</td>\n      <td>BloodRayne 3 (DVD + BD)</td>\n    </tr>\n    <tr>\n      <th>2578</th>\n      <td>2578</td>\n      <td>55</td>\n      <td>DEL REY LANA Ultraviolence</td>\n    </tr>\n    <tr>\n      <th>18598</th>\n      <td>18598</td>\n      <td>37</td>\n      <td>SEX IN BIG CITY 2 (BD)</td>\n    </tr>\n    <tr>\n      <th>990</th>\n      <td>990</td>\n      <td>67</td>\n      <td>3D Action Puzzle \"Dinosaurs\" Robosaurus</td>\n    </tr>\n    <tr>\n      <th>18896</th>\n      <td>18896</td>\n      <td>40</td>\n      <td>SMURFICS. FIRST CHRISTMAS OF THE SMURFIKA TABL...</td>\n    </tr>\n    <tr>\n      <th>6366</th>\n      <td>6366</td>\n      <td>56</td>\n      <td>SUPERMAX Best Of CD + DVD (firms).</td>\n    </tr>\n    <tr>\n      <th>10658</th>\n      <td>10658</td>\n      <td>67</td>\n      <td>Puzzle Rubik's Cube 3x3</td>\n    </tr>\n    <tr>\n      <th>1998</th>\n      <td>1998</td>\n      <td>31</td>\n      <td>Borderlands 2. Dome of Bloodshed [PC, Digital ...</td>\n    </tr>\n    <tr>\n      <th>1251</th>\n      <td>1251</td>\n      <td>56</td>\n      <td>ADELE 21 (firm)</td>\n    </tr>\n    <tr>\n      <th>20921</th>\n      <td>20921</td>\n      <td>72</td>\n      <td>Figurine Mignon Stewart in camouflage</td>\n    </tr>\n  </tbody>\n</table>\n</div>"
     },
     "metadata": {},
     "execution_count": 13
    }
   ],
   "source": [
    "display(df_cat.sample(10))\n",
    "df_ite.sample(10)"
   ]
  },
  {
   "cell_type": "code",
   "execution_count": 14,
   "metadata": {},
   "outputs": [
    {
     "output_type": "execute_result",
     "data": {
      "text/plain": [
       " Books            13\n",
       " Gifts            12\n",
       " Game consoles     8\n",
       " Games             8\n",
       " Accessories       7\n",
       "missing            7\n",
       " Programs          6\n",
       " Music             6\n",
       " Cinema            5\n",
       " PC Games          4\n",
       " Payment Cards     2\n",
       " Payment cards     2\n",
       " MAC Games         1\n",
       " Android games     1\n",
       "PC                 1\n",
       " Service           1\n",
       "Name: category, dtype: int64"
      ]
     },
     "metadata": {},
     "execution_count": 14
    }
   ],
   "source": [
    "def get_cat(string):\n",
    "    string = string.split(\" - \")[0] if len(string.split(\"-\")) >= 2 else \"missing\"\n",
    "    return string\n",
    "df_cat['category'] = df_cat['category_name'].apply(lambda x: get_cat(x))\n",
    "df_cat.category.value_counts()"
   ]
  },
  {
   "cell_type": "code",
   "execution_count": 15,
   "metadata": {},
   "outputs": [
    {
     "output_type": "execute_result",
     "data": {
      "text/plain": [
       "                category_name  category_id      category\n",
       "0  PC - Headsets / Headphones            0            PC\n",
       "1           Accessories - PS2            1   Accessories\n",
       "2           Accessories - PS3            2   Accessories\n",
       "3           Accessories - PS4            3   Accessories\n",
       "4           Accessories - PSP            4   Accessories"
      ],
      "text/html": "<div>\n<style scoped>\n    .dataframe tbody tr th:only-of-type {\n        vertical-align: middle;\n    }\n\n    .dataframe tbody tr th {\n        vertical-align: top;\n    }\n\n    .dataframe thead th {\n        text-align: right;\n    }\n</style>\n<table border=\"1\" class=\"dataframe\">\n  <thead>\n    <tr style=\"text-align: right;\">\n      <th></th>\n      <th>category_name</th>\n      <th>category_id</th>\n      <th>category</th>\n    </tr>\n  </thead>\n  <tbody>\n    <tr>\n      <th>0</th>\n      <td>PC - Headsets / Headphones</td>\n      <td>0</td>\n      <td>PC</td>\n    </tr>\n    <tr>\n      <th>1</th>\n      <td>Accessories - PS2</td>\n      <td>1</td>\n      <td>Accessories</td>\n    </tr>\n    <tr>\n      <th>2</th>\n      <td>Accessories - PS3</td>\n      <td>2</td>\n      <td>Accessories</td>\n    </tr>\n    <tr>\n      <th>3</th>\n      <td>Accessories - PS4</td>\n      <td>3</td>\n      <td>Accessories</td>\n    </tr>\n    <tr>\n      <th>4</th>\n      <td>Accessories - PSP</td>\n      <td>4</td>\n      <td>Accessories</td>\n    </tr>\n  </tbody>\n</table>\n</div>"
     },
     "metadata": {},
     "execution_count": 15
    }
   ],
   "source": [
    "df_cat.head()"
   ]
  },
  {
   "cell_type": "code",
   "execution_count": 16,
   "metadata": {},
   "outputs": [],
   "source": [
    "def get_subcat(string):\n",
    "    string = string.split(\" - \")[1] if len(string.split(\"-\")) >= 2 else \"missing\"\n",
    "    return string\n",
    "df_cat[\"subcategory\"] = df_cat.category_name.apply(lambda x: get_subcat(x))"
   ]
  },
  {
   "cell_type": "code",
   "execution_count": 17,
   "metadata": {},
   "outputs": [
    {
     "output_type": "execute_result",
     "data": {
      "text/plain": [
       "                            category_name  category_id category subcategory\n",
       "8                       Tickets (Digital)            8  missing     missing\n",
       "9                       Delivery of goods            9  missing     missing\n",
       "32   Payment Cards (Cinema, Music, Games)           32  missing     missing\n",
       "79                                Service           79  missing     missing\n",
       "81                    Blank media (spire)           81  missing     missing\n",
       "82                   Blank media (piece)            82  missing     missing\n",
       "83                              Batteries           83  missing     missing"
      ],
      "text/html": "<div>\n<style scoped>\n    .dataframe tbody tr th:only-of-type {\n        vertical-align: middle;\n    }\n\n    .dataframe tbody tr th {\n        vertical-align: top;\n    }\n\n    .dataframe thead th {\n        text-align: right;\n    }\n</style>\n<table border=\"1\" class=\"dataframe\">\n  <thead>\n    <tr style=\"text-align: right;\">\n      <th></th>\n      <th>category_name</th>\n      <th>category_id</th>\n      <th>category</th>\n      <th>subcategory</th>\n    </tr>\n  </thead>\n  <tbody>\n    <tr>\n      <th>8</th>\n      <td>Tickets (Digital)</td>\n      <td>8</td>\n      <td>missing</td>\n      <td>missing</td>\n    </tr>\n    <tr>\n      <th>9</th>\n      <td>Delivery of goods</td>\n      <td>9</td>\n      <td>missing</td>\n      <td>missing</td>\n    </tr>\n    <tr>\n      <th>32</th>\n      <td>Payment Cards (Cinema, Music, Games)</td>\n      <td>32</td>\n      <td>missing</td>\n      <td>missing</td>\n    </tr>\n    <tr>\n      <th>79</th>\n      <td>Service</td>\n      <td>79</td>\n      <td>missing</td>\n      <td>missing</td>\n    </tr>\n    <tr>\n      <th>81</th>\n      <td>Blank media (spire)</td>\n      <td>81</td>\n      <td>missing</td>\n      <td>missing</td>\n    </tr>\n    <tr>\n      <th>82</th>\n      <td>Blank media (piece)</td>\n      <td>82</td>\n      <td>missing</td>\n      <td>missing</td>\n    </tr>\n    <tr>\n      <th>83</th>\n      <td>Batteries</td>\n      <td>83</td>\n      <td>missing</td>\n      <td>missing</td>\n    </tr>\n  </tbody>\n</table>\n</div>"
     },
     "metadata": {},
     "execution_count": 17
    }
   ],
   "source": [
    "df_cat.loc[df_cat.category == \"missing\"]"
   ]
  },
  {
   "cell_type": "code",
   "execution_count": 18,
   "metadata": {},
   "outputs": [
    {
     "output_type": "execute_result",
     "data": {
      "text/plain": [
       "                            category_name  category_id category subcategory\n",
       "8                       Tickets (Digital)            8  missing     missing\n",
       "9                       Delivery of goods            9  missing     missing\n",
       "32   Payment Cards (Cinema, Music, Games)           32  missing     missing\n",
       "79                                Service           79  missing     missing\n",
       "81                    Blank media (spire)           81  missing     missing\n",
       "82                   Blank media (piece)            82  missing     missing\n",
       "83                              Batteries           83  missing     missing"
      ],
      "text/html": "<div>\n<style scoped>\n    .dataframe tbody tr th:only-of-type {\n        vertical-align: middle;\n    }\n\n    .dataframe tbody tr th {\n        vertical-align: top;\n    }\n\n    .dataframe thead th {\n        text-align: right;\n    }\n</style>\n<table border=\"1\" class=\"dataframe\">\n  <thead>\n    <tr style=\"text-align: right;\">\n      <th></th>\n      <th>category_name</th>\n      <th>category_id</th>\n      <th>category</th>\n      <th>subcategory</th>\n    </tr>\n  </thead>\n  <tbody>\n    <tr>\n      <th>8</th>\n      <td>Tickets (Digital)</td>\n      <td>8</td>\n      <td>missing</td>\n      <td>missing</td>\n    </tr>\n    <tr>\n      <th>9</th>\n      <td>Delivery of goods</td>\n      <td>9</td>\n      <td>missing</td>\n      <td>missing</td>\n    </tr>\n    <tr>\n      <th>32</th>\n      <td>Payment Cards (Cinema, Music, Games)</td>\n      <td>32</td>\n      <td>missing</td>\n      <td>missing</td>\n    </tr>\n    <tr>\n      <th>79</th>\n      <td>Service</td>\n      <td>79</td>\n      <td>missing</td>\n      <td>missing</td>\n    </tr>\n    <tr>\n      <th>81</th>\n      <td>Blank media (spire)</td>\n      <td>81</td>\n      <td>missing</td>\n      <td>missing</td>\n    </tr>\n    <tr>\n      <th>82</th>\n      <td>Blank media (piece)</td>\n      <td>82</td>\n      <td>missing</td>\n      <td>missing</td>\n    </tr>\n    <tr>\n      <th>83</th>\n      <td>Batteries</td>\n      <td>83</td>\n      <td>missing</td>\n      <td>missing</td>\n    </tr>\n  </tbody>\n</table>\n</div>"
     },
     "metadata": {},
     "execution_count": 18
    }
   ],
   "source": [
    "df_cat.loc[df_cat.subcategory == \"missing\"]\n"
   ]
  },
  {
   "cell_type": "code",
   "execution_count": 19,
   "metadata": {},
   "outputs": [
    {
     "output_type": "execute_result",
     "data": {
      "text/plain": [
       "                        category_name  category_id        category  \\\n",
       "38                Cinema - Blu-Ray 3D           38          Cinema   \n",
       "40                       Cinema - DVD           40          Cinema   \n",
       "71    Gifts - Bags, Albums, Mousepads           71           Gifts   \n",
       "46        Books - Business literature           46           Books   \n",
       "58                      Music - Vinyl           58           Music   \n",
       "68     Gifts - Certificates, services           68           Gifts   \n",
       "62   Gifts - Gadgets, robots , sports           62           Gifts   \n",
       "0          PC - Headsets / Headphones            0              PC   \n",
       "61                 Gifts - Attributes           61           Gifts   \n",
       "11                Game consoles - PS3           11   Game consoles   \n",
       "\n",
       "                 subcategory  \n",
       "38                Blu-Ray 3D  \n",
       "40                       DVD  \n",
       "71   Bags, Albums, Mousepads  \n",
       "46       Business literature  \n",
       "58                     Vinyl  \n",
       "68    Certificates, services  \n",
       "62  Gadgets, robots , sports  \n",
       "0      Headsets / Headphones  \n",
       "61                Attributes  \n",
       "11                       PS3  "
      ],
      "text/html": "<div>\n<style scoped>\n    .dataframe tbody tr th:only-of-type {\n        vertical-align: middle;\n    }\n\n    .dataframe tbody tr th {\n        vertical-align: top;\n    }\n\n    .dataframe thead th {\n        text-align: right;\n    }\n</style>\n<table border=\"1\" class=\"dataframe\">\n  <thead>\n    <tr style=\"text-align: right;\">\n      <th></th>\n      <th>category_name</th>\n      <th>category_id</th>\n      <th>category</th>\n      <th>subcategory</th>\n    </tr>\n  </thead>\n  <tbody>\n    <tr>\n      <th>38</th>\n      <td>Cinema - Blu-Ray 3D</td>\n      <td>38</td>\n      <td>Cinema</td>\n      <td>Blu-Ray 3D</td>\n    </tr>\n    <tr>\n      <th>40</th>\n      <td>Cinema - DVD</td>\n      <td>40</td>\n      <td>Cinema</td>\n      <td>DVD</td>\n    </tr>\n    <tr>\n      <th>71</th>\n      <td>Gifts - Bags, Albums, Mousepads</td>\n      <td>71</td>\n      <td>Gifts</td>\n      <td>Bags, Albums, Mousepads</td>\n    </tr>\n    <tr>\n      <th>46</th>\n      <td>Books - Business literature</td>\n      <td>46</td>\n      <td>Books</td>\n      <td>Business literature</td>\n    </tr>\n    <tr>\n      <th>58</th>\n      <td>Music - Vinyl</td>\n      <td>58</td>\n      <td>Music</td>\n      <td>Vinyl</td>\n    </tr>\n    <tr>\n      <th>68</th>\n      <td>Gifts - Certificates, services</td>\n      <td>68</td>\n      <td>Gifts</td>\n      <td>Certificates, services</td>\n    </tr>\n    <tr>\n      <th>62</th>\n      <td>Gifts - Gadgets, robots , sports</td>\n      <td>62</td>\n      <td>Gifts</td>\n      <td>Gadgets, robots , sports</td>\n    </tr>\n    <tr>\n      <th>0</th>\n      <td>PC - Headsets / Headphones</td>\n      <td>0</td>\n      <td>PC</td>\n      <td>Headsets / Headphones</td>\n    </tr>\n    <tr>\n      <th>61</th>\n      <td>Gifts - Attributes</td>\n      <td>61</td>\n      <td>Gifts</td>\n      <td>Attributes</td>\n    </tr>\n    <tr>\n      <th>11</th>\n      <td>Game consoles - PS3</td>\n      <td>11</td>\n      <td>Game consoles</td>\n      <td>PS3</td>\n    </tr>\n  </tbody>\n</table>\n</div>"
     },
     "metadata": {},
     "execution_count": 19
    }
   ],
   "source": [
    "df_cat.sample(10)"
   ]
  },
  {
   "cell_type": "code",
   "execution_count": 20,
   "metadata": {},
   "outputs": [
    {
     "output_type": "execute_result",
     "data": {
      "text/plain": [
       "array(['Headsets / Headphones', 'PS2', 'PS3', 'PS4', 'PSP', 'PSVita',\n",
       "       'XBOX 360', 'XBOX ONE', 'missing', 'Others', 'Game accessories',\n",
       "       'Number', 'Additional Editions', \"Collector's Editions\",\n",
       "       'Standard Editions', 'Digital', 'Live!', 'Live! (Digital)', 'PSN',\n",
       "       'Windows (Digital)', 'Blu-Ray', 'Blu-Ray 3D', 'Blu-Ray 4K', 'DVD',\n",
       "       \"Collector's\", 'Artbooks, encyclopedias ', 'Audiobooks',\n",
       "       'Audiobooks (Digit)', 'Audiobooks 1C', 'Business literature',\n",
       "       'Comics, manga', 'Computer literature',\n",
       "       'Methodological materials 1C', 'Postcards', 'Cognitive literature',\n",
       "       'Guides', 'Fiction', 'CD of local production',\n",
       "       'CD of corporate production', 'MP3', 'Vinyl', 'Music video',\n",
       "       'Gift editions', 'Attributes', 'Gadgets, robots , sports',\n",
       "       'Soft toys', 'Board games', 'Board games (compact)',\n",
       "       'Cards, stickers', 'Development', 'Certificates, services',\n",
       "       'Souvenirs', 'Souvenirs (hinged)', 'Bags, Albums, Mousepads',\n",
       "       'Figures', '1C: Enterprise 8', 'MAC (Digit)',\n",
       "       'For home and office', 'For home and office (Digit)',\n",
       "       'Educational', 'Educational (Digit)', 'Tickets'], dtype=object)"
      ]
     },
     "metadata": {},
     "execution_count": 20
    }
   ],
   "source": [
    "df_cat.subcategory.unique()"
   ]
  },
  {
   "cell_type": "code",
   "execution_count": 21,
   "metadata": {},
   "outputs": [],
   "source": [
    "from sklearn.feature_extraction.text import CountVectorizer\n",
    "import re"
   ]
  },
  {
   "cell_type": "code",
   "execution_count": 22,
   "metadata": {},
   "outputs": [
    {
     "output_type": "execute_result",
     "data": {
      "text/plain": [
       "    accessories  android  books  cards  cinema  consoles  game  games  gifts  \\\n",
       "0             0        0      0      0       0         0     0      0      0   \n",
       "1             1        0      0      0       0         0     0      0      0   \n",
       "2             1        0      0      0       0         0     0      0      0   \n",
       "3             1        0      0      0       0         0     0      0      0   \n",
       "4             1        0      0      0       0         0     0      0      0   \n",
       "..          ...      ...    ...    ...     ...       ...   ...    ...    ...   \n",
       "79            0        0      0      0       0         0     0      0      0   \n",
       "80            0        0      0      0       0         0     0      0      0   \n",
       "81            0        0      0      0       0         0     0      0      0   \n",
       "82            0        0      0      0       0         0     0      0      0   \n",
       "83            0        0      0      0       0         0     0      0      0   \n",
       "\n",
       "    mac  missing  music  payment  pc  programs  service  \n",
       "0     0        0      0        0   1         0        0  \n",
       "1     0        0      0        0   0         0        0  \n",
       "2     0        0      0        0   0         0        0  \n",
       "3     0        0      0        0   0         0        0  \n",
       "4     0        0      0        0   0         0        0  \n",
       "..  ...      ...    ...      ...  ..       ...      ...  \n",
       "79    0        1      0        0   0         0        0  \n",
       "80    0        0      0        0   0         0        1  \n",
       "81    0        1      0        0   0         0        0  \n",
       "82    0        1      0        0   0         0        0  \n",
       "83    0        1      0        0   0         0        0  \n",
       "\n",
       "[84 rows x 16 columns]"
      ],
      "text/html": "<div>\n<style scoped>\n    .dataframe tbody tr th:only-of-type {\n        vertical-align: middle;\n    }\n\n    .dataframe tbody tr th {\n        vertical-align: top;\n    }\n\n    .dataframe thead th {\n        text-align: right;\n    }\n</style>\n<table border=\"1\" class=\"dataframe\">\n  <thead>\n    <tr style=\"text-align: right;\">\n      <th></th>\n      <th>accessories</th>\n      <th>android</th>\n      <th>books</th>\n      <th>cards</th>\n      <th>cinema</th>\n      <th>consoles</th>\n      <th>game</th>\n      <th>games</th>\n      <th>gifts</th>\n      <th>mac</th>\n      <th>missing</th>\n      <th>music</th>\n      <th>payment</th>\n      <th>pc</th>\n      <th>programs</th>\n      <th>service</th>\n    </tr>\n  </thead>\n  <tbody>\n    <tr>\n      <th>0</th>\n      <td>0</td>\n      <td>0</td>\n      <td>0</td>\n      <td>0</td>\n      <td>0</td>\n      <td>0</td>\n      <td>0</td>\n      <td>0</td>\n      <td>0</td>\n      <td>0</td>\n      <td>0</td>\n      <td>0</td>\n      <td>0</td>\n      <td>1</td>\n      <td>0</td>\n      <td>0</td>\n    </tr>\n    <tr>\n      <th>1</th>\n      <td>1</td>\n      <td>0</td>\n      <td>0</td>\n      <td>0</td>\n      <td>0</td>\n      <td>0</td>\n      <td>0</td>\n      <td>0</td>\n      <td>0</td>\n      <td>0</td>\n      <td>0</td>\n      <td>0</td>\n      <td>0</td>\n      <td>0</td>\n      <td>0</td>\n      <td>0</td>\n    </tr>\n    <tr>\n      <th>2</th>\n      <td>1</td>\n      <td>0</td>\n      <td>0</td>\n      <td>0</td>\n      <td>0</td>\n      <td>0</td>\n      <td>0</td>\n      <td>0</td>\n      <td>0</td>\n      <td>0</td>\n      <td>0</td>\n      <td>0</td>\n      <td>0</td>\n      <td>0</td>\n      <td>0</td>\n      <td>0</td>\n    </tr>\n    <tr>\n      <th>3</th>\n      <td>1</td>\n      <td>0</td>\n      <td>0</td>\n      <td>0</td>\n      <td>0</td>\n      <td>0</td>\n      <td>0</td>\n      <td>0</td>\n      <td>0</td>\n      <td>0</td>\n      <td>0</td>\n      <td>0</td>\n      <td>0</td>\n      <td>0</td>\n      <td>0</td>\n      <td>0</td>\n    </tr>\n    <tr>\n      <th>4</th>\n      <td>1</td>\n      <td>0</td>\n      <td>0</td>\n      <td>0</td>\n      <td>0</td>\n      <td>0</td>\n      <td>0</td>\n      <td>0</td>\n      <td>0</td>\n      <td>0</td>\n      <td>0</td>\n      <td>0</td>\n      <td>0</td>\n      <td>0</td>\n      <td>0</td>\n      <td>0</td>\n    </tr>\n    <tr>\n      <th>...</th>\n      <td>...</td>\n      <td>...</td>\n      <td>...</td>\n      <td>...</td>\n      <td>...</td>\n      <td>...</td>\n      <td>...</td>\n      <td>...</td>\n      <td>...</td>\n      <td>...</td>\n      <td>...</td>\n      <td>...</td>\n      <td>...</td>\n      <td>...</td>\n      <td>...</td>\n      <td>...</td>\n    </tr>\n    <tr>\n      <th>79</th>\n      <td>0</td>\n      <td>0</td>\n      <td>0</td>\n      <td>0</td>\n      <td>0</td>\n      <td>0</td>\n      <td>0</td>\n      <td>0</td>\n      <td>0</td>\n      <td>0</td>\n      <td>1</td>\n      <td>0</td>\n      <td>0</td>\n      <td>0</td>\n      <td>0</td>\n      <td>0</td>\n    </tr>\n    <tr>\n      <th>80</th>\n      <td>0</td>\n      <td>0</td>\n      <td>0</td>\n      <td>0</td>\n      <td>0</td>\n      <td>0</td>\n      <td>0</td>\n      <td>0</td>\n      <td>0</td>\n      <td>0</td>\n      <td>0</td>\n      <td>0</td>\n      <td>0</td>\n      <td>0</td>\n      <td>0</td>\n      <td>1</td>\n    </tr>\n    <tr>\n      <th>81</th>\n      <td>0</td>\n      <td>0</td>\n      <td>0</td>\n      <td>0</td>\n      <td>0</td>\n      <td>0</td>\n      <td>0</td>\n      <td>0</td>\n      <td>0</td>\n      <td>0</td>\n      <td>1</td>\n      <td>0</td>\n      <td>0</td>\n      <td>0</td>\n      <td>0</td>\n      <td>0</td>\n    </tr>\n    <tr>\n      <th>82</th>\n      <td>0</td>\n      <td>0</td>\n      <td>0</td>\n      <td>0</td>\n      <td>0</td>\n      <td>0</td>\n      <td>0</td>\n      <td>0</td>\n      <td>0</td>\n      <td>0</td>\n      <td>1</td>\n      <td>0</td>\n      <td>0</td>\n      <td>0</td>\n      <td>0</td>\n      <td>0</td>\n    </tr>\n    <tr>\n      <th>83</th>\n      <td>0</td>\n      <td>0</td>\n      <td>0</td>\n      <td>0</td>\n      <td>0</td>\n      <td>0</td>\n      <td>0</td>\n      <td>0</td>\n      <td>0</td>\n      <td>0</td>\n      <td>1</td>\n      <td>0</td>\n      <td>0</td>\n      <td>0</td>\n      <td>0</td>\n      <td>0</td>\n    </tr>\n  </tbody>\n</table>\n<p>84 rows × 16 columns</p>\n</div>"
     },
     "metadata": {},
     "execution_count": 22
    }
   ],
   "source": [
    "text_cat = df_cat.category\n",
    "bow = CountVectorizer()\n",
    "text_bow = bow.fit_transform(text_cat)\n",
    "pd.DataFrame(data = text_bow.toarray(), columns=bow.get_feature_names())"
   ]
  },
  {
   "cell_type": "code",
   "execution_count": 23,
   "metadata": {},
   "outputs": [
    {
     "output_type": "execute_result",
     "data": {
      "text/plain": [
       "    accessories  android  android games  books  cards  cinema  consoles  game  \\\n",
       "0             0        0              0      0      0       0         0     0   \n",
       "1             1        0              0      0      0       0         0     0   \n",
       "2             1        0              0      0      0       0         0     0   \n",
       "3             1        0              0      0      0       0         0     0   \n",
       "4             1        0              0      0      0       0         0     0   \n",
       "..          ...      ...            ...    ...    ...     ...       ...   ...   \n",
       "79            0        0              0      0      0       0         0     0   \n",
       "80            0        0              0      0      0       0         0     0   \n",
       "81            0        0              0      0      0       0         0     0   \n",
       "82            0        0              0      0      0       0         0     0   \n",
       "83            0        0              0      0      0       0         0     0   \n",
       "\n",
       "    game consoles  games  ...  mac  mac games  missing  music  payment  \\\n",
       "0               0      0  ...    0          0        0      0        0   \n",
       "1               0      0  ...    0          0        0      0        0   \n",
       "2               0      0  ...    0          0        0      0        0   \n",
       "3               0      0  ...    0          0        0      0        0   \n",
       "4               0      0  ...    0          0        0      0        0   \n",
       "..            ...    ...  ...  ...        ...      ...    ...      ...   \n",
       "79              0      0  ...    0          0        1      0        0   \n",
       "80              0      0  ...    0          0        0      0        0   \n",
       "81              0      0  ...    0          0        1      0        0   \n",
       "82              0      0  ...    0          0        1      0        0   \n",
       "83              0      0  ...    0          0        1      0        0   \n",
       "\n",
       "    payment cards  pc  pc games  programs  service  \n",
       "0               0   1         0         0        0  \n",
       "1               0   0         0         0        0  \n",
       "2               0   0         0         0        0  \n",
       "3               0   0         0         0        0  \n",
       "4               0   0         0         0        0  \n",
       "..            ...  ..       ...       ...      ...  \n",
       "79              0   0         0         0        0  \n",
       "80              0   0         0         0        1  \n",
       "81              0   0         0         0        0  \n",
       "82              0   0         0         0        0  \n",
       "83              0   0         0         0        0  \n",
       "\n",
       "[84 rows x 21 columns]"
      ],
      "text/html": "<div>\n<style scoped>\n    .dataframe tbody tr th:only-of-type {\n        vertical-align: middle;\n    }\n\n    .dataframe tbody tr th {\n        vertical-align: top;\n    }\n\n    .dataframe thead th {\n        text-align: right;\n    }\n</style>\n<table border=\"1\" class=\"dataframe\">\n  <thead>\n    <tr style=\"text-align: right;\">\n      <th></th>\n      <th>accessories</th>\n      <th>android</th>\n      <th>android games</th>\n      <th>books</th>\n      <th>cards</th>\n      <th>cinema</th>\n      <th>consoles</th>\n      <th>game</th>\n      <th>game consoles</th>\n      <th>games</th>\n      <th>...</th>\n      <th>mac</th>\n      <th>mac games</th>\n      <th>missing</th>\n      <th>music</th>\n      <th>payment</th>\n      <th>payment cards</th>\n      <th>pc</th>\n      <th>pc games</th>\n      <th>programs</th>\n      <th>service</th>\n    </tr>\n  </thead>\n  <tbody>\n    <tr>\n      <th>0</th>\n      <td>0</td>\n      <td>0</td>\n      <td>0</td>\n      <td>0</td>\n      <td>0</td>\n      <td>0</td>\n      <td>0</td>\n      <td>0</td>\n      <td>0</td>\n      <td>0</td>\n      <td>...</td>\n      <td>0</td>\n      <td>0</td>\n      <td>0</td>\n      <td>0</td>\n      <td>0</td>\n      <td>0</td>\n      <td>1</td>\n      <td>0</td>\n      <td>0</td>\n      <td>0</td>\n    </tr>\n    <tr>\n      <th>1</th>\n      <td>1</td>\n      <td>0</td>\n      <td>0</td>\n      <td>0</td>\n      <td>0</td>\n      <td>0</td>\n      <td>0</td>\n      <td>0</td>\n      <td>0</td>\n      <td>0</td>\n      <td>...</td>\n      <td>0</td>\n      <td>0</td>\n      <td>0</td>\n      <td>0</td>\n      <td>0</td>\n      <td>0</td>\n      <td>0</td>\n      <td>0</td>\n      <td>0</td>\n      <td>0</td>\n    </tr>\n    <tr>\n      <th>2</th>\n      <td>1</td>\n      <td>0</td>\n      <td>0</td>\n      <td>0</td>\n      <td>0</td>\n      <td>0</td>\n      <td>0</td>\n      <td>0</td>\n      <td>0</td>\n      <td>0</td>\n      <td>...</td>\n      <td>0</td>\n      <td>0</td>\n      <td>0</td>\n      <td>0</td>\n      <td>0</td>\n      <td>0</td>\n      <td>0</td>\n      <td>0</td>\n      <td>0</td>\n      <td>0</td>\n    </tr>\n    <tr>\n      <th>3</th>\n      <td>1</td>\n      <td>0</td>\n      <td>0</td>\n      <td>0</td>\n      <td>0</td>\n      <td>0</td>\n      <td>0</td>\n      <td>0</td>\n      <td>0</td>\n      <td>0</td>\n      <td>...</td>\n      <td>0</td>\n      <td>0</td>\n      <td>0</td>\n      <td>0</td>\n      <td>0</td>\n      <td>0</td>\n      <td>0</td>\n      <td>0</td>\n      <td>0</td>\n      <td>0</td>\n    </tr>\n    <tr>\n      <th>4</th>\n      <td>1</td>\n      <td>0</td>\n      <td>0</td>\n      <td>0</td>\n      <td>0</td>\n      <td>0</td>\n      <td>0</td>\n      <td>0</td>\n      <td>0</td>\n      <td>0</td>\n      <td>...</td>\n      <td>0</td>\n      <td>0</td>\n      <td>0</td>\n      <td>0</td>\n      <td>0</td>\n      <td>0</td>\n      <td>0</td>\n      <td>0</td>\n      <td>0</td>\n      <td>0</td>\n    </tr>\n    <tr>\n      <th>...</th>\n      <td>...</td>\n      <td>...</td>\n      <td>...</td>\n      <td>...</td>\n      <td>...</td>\n      <td>...</td>\n      <td>...</td>\n      <td>...</td>\n      <td>...</td>\n      <td>...</td>\n      <td>...</td>\n      <td>...</td>\n      <td>...</td>\n      <td>...</td>\n      <td>...</td>\n      <td>...</td>\n      <td>...</td>\n      <td>...</td>\n      <td>...</td>\n      <td>...</td>\n      <td>...</td>\n    </tr>\n    <tr>\n      <th>79</th>\n      <td>0</td>\n      <td>0</td>\n      <td>0</td>\n      <td>0</td>\n      <td>0</td>\n      <td>0</td>\n      <td>0</td>\n      <td>0</td>\n      <td>0</td>\n      <td>0</td>\n      <td>...</td>\n      <td>0</td>\n      <td>0</td>\n      <td>1</td>\n      <td>0</td>\n      <td>0</td>\n      <td>0</td>\n      <td>0</td>\n      <td>0</td>\n      <td>0</td>\n      <td>0</td>\n    </tr>\n    <tr>\n      <th>80</th>\n      <td>0</td>\n      <td>0</td>\n      <td>0</td>\n      <td>0</td>\n      <td>0</td>\n      <td>0</td>\n      <td>0</td>\n      <td>0</td>\n      <td>0</td>\n      <td>0</td>\n      <td>...</td>\n      <td>0</td>\n      <td>0</td>\n      <td>0</td>\n      <td>0</td>\n      <td>0</td>\n      <td>0</td>\n      <td>0</td>\n      <td>0</td>\n      <td>0</td>\n      <td>1</td>\n    </tr>\n    <tr>\n      <th>81</th>\n      <td>0</td>\n      <td>0</td>\n      <td>0</td>\n      <td>0</td>\n      <td>0</td>\n      <td>0</td>\n      <td>0</td>\n      <td>0</td>\n      <td>0</td>\n      <td>0</td>\n      <td>...</td>\n      <td>0</td>\n      <td>0</td>\n      <td>1</td>\n      <td>0</td>\n      <td>0</td>\n      <td>0</td>\n      <td>0</td>\n      <td>0</td>\n      <td>0</td>\n      <td>0</td>\n    </tr>\n    <tr>\n      <th>82</th>\n      <td>0</td>\n      <td>0</td>\n      <td>0</td>\n      <td>0</td>\n      <td>0</td>\n      <td>0</td>\n      <td>0</td>\n      <td>0</td>\n      <td>0</td>\n      <td>0</td>\n      <td>...</td>\n      <td>0</td>\n      <td>0</td>\n      <td>1</td>\n      <td>0</td>\n      <td>0</td>\n      <td>0</td>\n      <td>0</td>\n      <td>0</td>\n      <td>0</td>\n      <td>0</td>\n    </tr>\n    <tr>\n      <th>83</th>\n      <td>0</td>\n      <td>0</td>\n      <td>0</td>\n      <td>0</td>\n      <td>0</td>\n      <td>0</td>\n      <td>0</td>\n      <td>0</td>\n      <td>0</td>\n      <td>0</td>\n      <td>...</td>\n      <td>0</td>\n      <td>0</td>\n      <td>1</td>\n      <td>0</td>\n      <td>0</td>\n      <td>0</td>\n      <td>0</td>\n      <td>0</td>\n      <td>0</td>\n      <td>0</td>\n    </tr>\n  </tbody>\n</table>\n<p>84 rows × 21 columns</p>\n</div>"
     },
     "metadata": {},
     "execution_count": 23
    }
   ],
   "source": [
    "text_cat = df_cat.category\n",
    "bow = CountVectorizer(ngram_range=(1, 2))\n",
    "text_bow = bow.fit_transform(text_cat)\n",
    "pd.DataFrame(data = text_bow.toarray(), columns=bow.get_feature_names())"
   ]
  },
  {
   "cell_type": "code",
   "execution_count": 24,
   "metadata": {},
   "outputs": [
    {
     "output_type": "execute_result",
     "data": {
      "text/plain": [
       "    1c  360  3d  4k  accessories  additional  albums  and  artbooks  \\\n",
       "0    0    0   0   0            0           0       0    0         0   \n",
       "1    0    0   0   0            0           0       0    0         0   \n",
       "2    0    0   0   0            0           0       0    0         0   \n",
       "3    0    0   0   0            0           0       0    0         0   \n",
       "4    0    0   0   0            0           0       0    0         0   \n",
       "..  ..  ...  ..  ..          ...         ...     ...  ...       ...   \n",
       "79   0    0   0   0            0           0       0    0         0   \n",
       "80   0    0   0   0            0           0       0    0         0   \n",
       "81   0    0   0   0            0           0       0    0         0   \n",
       "82   0    0   0   0            0           0       0    0         0   \n",
       "83   0    0   0   0            0           0       0    0         0   \n",
       "\n",
       "    attributes  ...  souvenirs  sports  standard  stickers  tickets  toys  \\\n",
       "0            0  ...          0       0         0         0        0     0   \n",
       "1            0  ...          0       0         0         0        0     0   \n",
       "2            0  ...          0       0         0         0        0     0   \n",
       "3            0  ...          0       0         0         0        0     0   \n",
       "4            0  ...          0       0         0         0        0     0   \n",
       "..         ...  ...        ...     ...       ...       ...      ...   ...   \n",
       "79           0  ...          0       0         0         0        0     0   \n",
       "80           0  ...          0       0         0         0        1     0   \n",
       "81           0  ...          0       0         0         0        0     0   \n",
       "82           0  ...          0       0         0         0        0     0   \n",
       "83           0  ...          0       0         0         0        0     0   \n",
       "\n",
       "    video  vinyl  windows  xbox  \n",
       "0       0      0        0     0  \n",
       "1       0      0        0     0  \n",
       "2       0      0        0     0  \n",
       "3       0      0        0     0  \n",
       "4       0      0        0     0  \n",
       "..    ...    ...      ...   ...  \n",
       "79      0      0        0     0  \n",
       "80      0      0        0     0  \n",
       "81      0      0        0     0  \n",
       "82      0      0        0     0  \n",
       "83      0      0        0     0  \n",
       "\n",
       "[84 rows x 82 columns]"
      ],
      "text/html": "<div>\n<style scoped>\n    .dataframe tbody tr th:only-of-type {\n        vertical-align: middle;\n    }\n\n    .dataframe tbody tr th {\n        vertical-align: top;\n    }\n\n    .dataframe thead th {\n        text-align: right;\n    }\n</style>\n<table border=\"1\" class=\"dataframe\">\n  <thead>\n    <tr style=\"text-align: right;\">\n      <th></th>\n      <th>1c</th>\n      <th>360</th>\n      <th>3d</th>\n      <th>4k</th>\n      <th>accessories</th>\n      <th>additional</th>\n      <th>albums</th>\n      <th>and</th>\n      <th>artbooks</th>\n      <th>attributes</th>\n      <th>...</th>\n      <th>souvenirs</th>\n      <th>sports</th>\n      <th>standard</th>\n      <th>stickers</th>\n      <th>tickets</th>\n      <th>toys</th>\n      <th>video</th>\n      <th>vinyl</th>\n      <th>windows</th>\n      <th>xbox</th>\n    </tr>\n  </thead>\n  <tbody>\n    <tr>\n      <th>0</th>\n      <td>0</td>\n      <td>0</td>\n      <td>0</td>\n      <td>0</td>\n      <td>0</td>\n      <td>0</td>\n      <td>0</td>\n      <td>0</td>\n      <td>0</td>\n      <td>0</td>\n      <td>...</td>\n      <td>0</td>\n      <td>0</td>\n      <td>0</td>\n      <td>0</td>\n      <td>0</td>\n      <td>0</td>\n      <td>0</td>\n      <td>0</td>\n      <td>0</td>\n      <td>0</td>\n    </tr>\n    <tr>\n      <th>1</th>\n      <td>0</td>\n      <td>0</td>\n      <td>0</td>\n      <td>0</td>\n      <td>0</td>\n      <td>0</td>\n      <td>0</td>\n      <td>0</td>\n      <td>0</td>\n      <td>0</td>\n      <td>...</td>\n      <td>0</td>\n      <td>0</td>\n      <td>0</td>\n      <td>0</td>\n      <td>0</td>\n      <td>0</td>\n      <td>0</td>\n      <td>0</td>\n      <td>0</td>\n      <td>0</td>\n    </tr>\n    <tr>\n      <th>2</th>\n      <td>0</td>\n      <td>0</td>\n      <td>0</td>\n      <td>0</td>\n      <td>0</td>\n      <td>0</td>\n      <td>0</td>\n      <td>0</td>\n      <td>0</td>\n      <td>0</td>\n      <td>...</td>\n      <td>0</td>\n      <td>0</td>\n      <td>0</td>\n      <td>0</td>\n      <td>0</td>\n      <td>0</td>\n      <td>0</td>\n      <td>0</td>\n      <td>0</td>\n      <td>0</td>\n    </tr>\n    <tr>\n      <th>3</th>\n      <td>0</td>\n      <td>0</td>\n      <td>0</td>\n      <td>0</td>\n      <td>0</td>\n      <td>0</td>\n      <td>0</td>\n      <td>0</td>\n      <td>0</td>\n      <td>0</td>\n      <td>...</td>\n      <td>0</td>\n      <td>0</td>\n      <td>0</td>\n      <td>0</td>\n      <td>0</td>\n      <td>0</td>\n      <td>0</td>\n      <td>0</td>\n      <td>0</td>\n      <td>0</td>\n    </tr>\n    <tr>\n      <th>4</th>\n      <td>0</td>\n      <td>0</td>\n      <td>0</td>\n      <td>0</td>\n      <td>0</td>\n      <td>0</td>\n      <td>0</td>\n      <td>0</td>\n      <td>0</td>\n      <td>0</td>\n      <td>...</td>\n      <td>0</td>\n      <td>0</td>\n      <td>0</td>\n      <td>0</td>\n      <td>0</td>\n      <td>0</td>\n      <td>0</td>\n      <td>0</td>\n      <td>0</td>\n      <td>0</td>\n    </tr>\n    <tr>\n      <th>...</th>\n      <td>...</td>\n      <td>...</td>\n      <td>...</td>\n      <td>...</td>\n      <td>...</td>\n      <td>...</td>\n      <td>...</td>\n      <td>...</td>\n      <td>...</td>\n      <td>...</td>\n      <td>...</td>\n      <td>...</td>\n      <td>...</td>\n      <td>...</td>\n      <td>...</td>\n      <td>...</td>\n      <td>...</td>\n      <td>...</td>\n      <td>...</td>\n      <td>...</td>\n      <td>...</td>\n    </tr>\n    <tr>\n      <th>79</th>\n      <td>0</td>\n      <td>0</td>\n      <td>0</td>\n      <td>0</td>\n      <td>0</td>\n      <td>0</td>\n      <td>0</td>\n      <td>0</td>\n      <td>0</td>\n      <td>0</td>\n      <td>...</td>\n      <td>0</td>\n      <td>0</td>\n      <td>0</td>\n      <td>0</td>\n      <td>0</td>\n      <td>0</td>\n      <td>0</td>\n      <td>0</td>\n      <td>0</td>\n      <td>0</td>\n    </tr>\n    <tr>\n      <th>80</th>\n      <td>0</td>\n      <td>0</td>\n      <td>0</td>\n      <td>0</td>\n      <td>0</td>\n      <td>0</td>\n      <td>0</td>\n      <td>0</td>\n      <td>0</td>\n      <td>0</td>\n      <td>...</td>\n      <td>0</td>\n      <td>0</td>\n      <td>0</td>\n      <td>0</td>\n      <td>1</td>\n      <td>0</td>\n      <td>0</td>\n      <td>0</td>\n      <td>0</td>\n      <td>0</td>\n    </tr>\n    <tr>\n      <th>81</th>\n      <td>0</td>\n      <td>0</td>\n      <td>0</td>\n      <td>0</td>\n      <td>0</td>\n      <td>0</td>\n      <td>0</td>\n      <td>0</td>\n      <td>0</td>\n      <td>0</td>\n      <td>...</td>\n      <td>0</td>\n      <td>0</td>\n      <td>0</td>\n      <td>0</td>\n      <td>0</td>\n      <td>0</td>\n      <td>0</td>\n      <td>0</td>\n      <td>0</td>\n      <td>0</td>\n    </tr>\n    <tr>\n      <th>82</th>\n      <td>0</td>\n      <td>0</td>\n      <td>0</td>\n      <td>0</td>\n      <td>0</td>\n      <td>0</td>\n      <td>0</td>\n      <td>0</td>\n      <td>0</td>\n      <td>0</td>\n      <td>...</td>\n      <td>0</td>\n      <td>0</td>\n      <td>0</td>\n      <td>0</td>\n      <td>0</td>\n      <td>0</td>\n      <td>0</td>\n      <td>0</td>\n      <td>0</td>\n      <td>0</td>\n    </tr>\n    <tr>\n      <th>83</th>\n      <td>0</td>\n      <td>0</td>\n      <td>0</td>\n      <td>0</td>\n      <td>0</td>\n      <td>0</td>\n      <td>0</td>\n      <td>0</td>\n      <td>0</td>\n      <td>0</td>\n      <td>...</td>\n      <td>0</td>\n      <td>0</td>\n      <td>0</td>\n      <td>0</td>\n      <td>0</td>\n      <td>0</td>\n      <td>0</td>\n      <td>0</td>\n      <td>0</td>\n      <td>0</td>\n    </tr>\n  </tbody>\n</table>\n<p>84 rows × 82 columns</p>\n</div>"
     },
     "metadata": {},
     "execution_count": 24
    }
   ],
   "source": [
    "text_cat = df_cat.subcategory\n",
    "bow = CountVectorizer()\n",
    "text_bow = bow.fit_transform(text_cat)\n",
    "pd.DataFrame(data = text_bow.toarray(), columns=bow.get_feature_names())"
   ]
  },
  {
   "cell_type": "code",
   "execution_count": 25,
   "metadata": {},
   "outputs": [
    {
     "output_type": "execute_result",
     "data": {
      "text/plain": [
       "       00  000  00002  00003  00005  00006  00007  00008  00009h  00010  ...  \\\n",
       "0       0    0      0      0      0      0      0      0       0      0  ...   \n",
       "1       0    0      0      0      0      0      0      0       0      0  ...   \n",
       "2       0    0      0      0      0      0      0      0       0      0  ...   \n",
       "3       0    0      0      0      0      0      0      0       0      0  ...   \n",
       "4       0    0      0      0      0      0      0      0       0      0  ...   \n",
       "...    ..  ...    ...    ...    ...    ...    ...    ...     ...    ...  ...   \n",
       "22165   0    0      0      0      0      0      0      0       0      0  ...   \n",
       "22166   0    0      0      0      0      0      0      0       0      0  ...   \n",
       "22167   0    0      0      0      0      0      0      0       0      0  ...   \n",
       "22168   0    0      0      0      0      0      0      0       0      0  ...   \n",
       "22169   0    0      0      0      0      0      0      0       0      0  ...   \n",
       "\n",
       "       zverushki  zvongo  zykina  zz  çudovi  épilog  šapka  širli  žanna  žel  \n",
       "0              0       0       0   0       0       0      0      0      0    0  \n",
       "1              0       0       0   0       0       0      0      0      0    0  \n",
       "2              0       0       0   0       0       0      0      0      0    0  \n",
       "3              0       0       0   0       0       0      0      0      0    0  \n",
       "4              0       0       0   0       0       0      0      0      0    0  \n",
       "...          ...     ...     ...  ..     ...     ...    ...    ...    ...  ...  \n",
       "22165          0       0       0   0       0       0      0      0      0    0  \n",
       "22166          0       0       0   0       0       0      0      0      0    0  \n",
       "22167          0       0       0   0       0       0      0      0      0    0  \n",
       "22168          0       0       0   0       0       0      0      0      0    0  \n",
       "22169          0       0       0   0       0       0      0      0      0    0  \n",
       "\n",
       "[22170 rows x 14145 columns]"
      ],
      "text/html": "<div>\n<style scoped>\n    .dataframe tbody tr th:only-of-type {\n        vertical-align: middle;\n    }\n\n    .dataframe tbody tr th {\n        vertical-align: top;\n    }\n\n    .dataframe thead th {\n        text-align: right;\n    }\n</style>\n<table border=\"1\" class=\"dataframe\">\n  <thead>\n    <tr style=\"text-align: right;\">\n      <th></th>\n      <th>00</th>\n      <th>000</th>\n      <th>00002</th>\n      <th>00003</th>\n      <th>00005</th>\n      <th>00006</th>\n      <th>00007</th>\n      <th>00008</th>\n      <th>00009h</th>\n      <th>00010</th>\n      <th>...</th>\n      <th>zverushki</th>\n      <th>zvongo</th>\n      <th>zykina</th>\n      <th>zz</th>\n      <th>çudovi</th>\n      <th>épilog</th>\n      <th>šapka</th>\n      <th>širli</th>\n      <th>žanna</th>\n      <th>žel</th>\n    </tr>\n  </thead>\n  <tbody>\n    <tr>\n      <th>0</th>\n      <td>0</td>\n      <td>0</td>\n      <td>0</td>\n      <td>0</td>\n      <td>0</td>\n      <td>0</td>\n      <td>0</td>\n      <td>0</td>\n      <td>0</td>\n      <td>0</td>\n      <td>...</td>\n      <td>0</td>\n      <td>0</td>\n      <td>0</td>\n      <td>0</td>\n      <td>0</td>\n      <td>0</td>\n      <td>0</td>\n      <td>0</td>\n      <td>0</td>\n      <td>0</td>\n    </tr>\n    <tr>\n      <th>1</th>\n      <td>0</td>\n      <td>0</td>\n      <td>0</td>\n      <td>0</td>\n      <td>0</td>\n      <td>0</td>\n      <td>0</td>\n      <td>0</td>\n      <td>0</td>\n      <td>0</td>\n      <td>...</td>\n      <td>0</td>\n      <td>0</td>\n      <td>0</td>\n      <td>0</td>\n      <td>0</td>\n      <td>0</td>\n      <td>0</td>\n      <td>0</td>\n      <td>0</td>\n      <td>0</td>\n    </tr>\n    <tr>\n      <th>2</th>\n      <td>0</td>\n      <td>0</td>\n      <td>0</td>\n      <td>0</td>\n      <td>0</td>\n      <td>0</td>\n      <td>0</td>\n      <td>0</td>\n      <td>0</td>\n      <td>0</td>\n      <td>...</td>\n      <td>0</td>\n      <td>0</td>\n      <td>0</td>\n      <td>0</td>\n      <td>0</td>\n      <td>0</td>\n      <td>0</td>\n      <td>0</td>\n      <td>0</td>\n      <td>0</td>\n    </tr>\n    <tr>\n      <th>3</th>\n      <td>0</td>\n      <td>0</td>\n      <td>0</td>\n      <td>0</td>\n      <td>0</td>\n      <td>0</td>\n      <td>0</td>\n      <td>0</td>\n      <td>0</td>\n      <td>0</td>\n      <td>...</td>\n      <td>0</td>\n      <td>0</td>\n      <td>0</td>\n      <td>0</td>\n      <td>0</td>\n      <td>0</td>\n      <td>0</td>\n      <td>0</td>\n      <td>0</td>\n      <td>0</td>\n    </tr>\n    <tr>\n      <th>4</th>\n      <td>0</td>\n      <td>0</td>\n      <td>0</td>\n      <td>0</td>\n      <td>0</td>\n      <td>0</td>\n      <td>0</td>\n      <td>0</td>\n      <td>0</td>\n      <td>0</td>\n      <td>...</td>\n      <td>0</td>\n      <td>0</td>\n      <td>0</td>\n      <td>0</td>\n      <td>0</td>\n      <td>0</td>\n      <td>0</td>\n      <td>0</td>\n      <td>0</td>\n      <td>0</td>\n    </tr>\n    <tr>\n      <th>...</th>\n      <td>...</td>\n      <td>...</td>\n      <td>...</td>\n      <td>...</td>\n      <td>...</td>\n      <td>...</td>\n      <td>...</td>\n      <td>...</td>\n      <td>...</td>\n      <td>...</td>\n      <td>...</td>\n      <td>...</td>\n      <td>...</td>\n      <td>...</td>\n      <td>...</td>\n      <td>...</td>\n      <td>...</td>\n      <td>...</td>\n      <td>...</td>\n      <td>...</td>\n      <td>...</td>\n    </tr>\n    <tr>\n      <th>22165</th>\n      <td>0</td>\n      <td>0</td>\n      <td>0</td>\n      <td>0</td>\n      <td>0</td>\n      <td>0</td>\n      <td>0</td>\n      <td>0</td>\n      <td>0</td>\n      <td>0</td>\n      <td>...</td>\n      <td>0</td>\n      <td>0</td>\n      <td>0</td>\n      <td>0</td>\n      <td>0</td>\n      <td>0</td>\n      <td>0</td>\n      <td>0</td>\n      <td>0</td>\n      <td>0</td>\n    </tr>\n    <tr>\n      <th>22166</th>\n      <td>0</td>\n      <td>0</td>\n      <td>0</td>\n      <td>0</td>\n      <td>0</td>\n      <td>0</td>\n      <td>0</td>\n      <td>0</td>\n      <td>0</td>\n      <td>0</td>\n      <td>...</td>\n      <td>0</td>\n      <td>0</td>\n      <td>0</td>\n      <td>0</td>\n      <td>0</td>\n      <td>0</td>\n      <td>0</td>\n      <td>0</td>\n      <td>0</td>\n      <td>0</td>\n    </tr>\n    <tr>\n      <th>22167</th>\n      <td>0</td>\n      <td>0</td>\n      <td>0</td>\n      <td>0</td>\n      <td>0</td>\n      <td>0</td>\n      <td>0</td>\n      <td>0</td>\n      <td>0</td>\n      <td>0</td>\n      <td>...</td>\n      <td>0</td>\n      <td>0</td>\n      <td>0</td>\n      <td>0</td>\n      <td>0</td>\n      <td>0</td>\n      <td>0</td>\n      <td>0</td>\n      <td>0</td>\n      <td>0</td>\n    </tr>\n    <tr>\n      <th>22168</th>\n      <td>0</td>\n      <td>0</td>\n      <td>0</td>\n      <td>0</td>\n      <td>0</td>\n      <td>0</td>\n      <td>0</td>\n      <td>0</td>\n      <td>0</td>\n      <td>0</td>\n      <td>...</td>\n      <td>0</td>\n      <td>0</td>\n      <td>0</td>\n      <td>0</td>\n      <td>0</td>\n      <td>0</td>\n      <td>0</td>\n      <td>0</td>\n      <td>0</td>\n      <td>0</td>\n    </tr>\n    <tr>\n      <th>22169</th>\n      <td>0</td>\n      <td>0</td>\n      <td>0</td>\n      <td>0</td>\n      <td>0</td>\n      <td>0</td>\n      <td>0</td>\n      <td>0</td>\n      <td>0</td>\n      <td>0</td>\n      <td>...</td>\n      <td>0</td>\n      <td>0</td>\n      <td>0</td>\n      <td>0</td>\n      <td>0</td>\n      <td>0</td>\n      <td>0</td>\n      <td>0</td>\n      <td>0</td>\n      <td>0</td>\n    </tr>\n  </tbody>\n</table>\n<p>22170 rows × 14145 columns</p>\n</div>"
     },
     "metadata": {},
     "execution_count": 25
    }
   ],
   "source": [
    "text_cat = df_ite.item_name\n",
    "bow = CountVectorizer()\n",
    "text_bow = bow.fit_transform(text_cat)\n",
    "pd.DataFrame(data = text_bow.toarray(), columns=bow.get_feature_names())"
   ]
  },
  {
   "cell_type": "code",
   "execution_count": 26,
   "metadata": {},
   "outputs": [
    {
     "output_type": "execute_result",
     "data": {
      "text/plain": [
       "       00  00 07  000  000 accessories  000 dawn  000 kill  000 leagues  \\\n",
       "0       0      0    0                0         0         0            0   \n",
       "1       0      0    0                0         0         0            0   \n",
       "2       0      0    0                0         0         0            0   \n",
       "3       0      0    0                0         0         0            0   \n",
       "4       0      0    0                0         0         0            0   \n",
       "...    ..    ...  ...              ...       ...       ...          ...   \n",
       "22165   0      0    0                0         0         0            0   \n",
       "22166   0      0    0                0         0         0            0   \n",
       "22167   0      0    0                0         0         0            0   \n",
       "22168   0      0    0                0         0         0            0   \n",
       "22169   0      0    0                0         0         0            0   \n",
       "\n",
       "       000 miniatures  000 points  000 rulebook  ...  épilog  épilog cd  \\\n",
       "0                   0           0             0  ...       0          0   \n",
       "1                   0           0             0  ...       0          0   \n",
       "2                   0           0             0  ...       0          0   \n",
       "3                   0           0             0  ...       0          0   \n",
       "4                   0           0             0  ...       0          0   \n",
       "...               ...         ...           ...  ...     ...        ...   \n",
       "22165               0           0             0  ...       0          0   \n",
       "22166               0           0             0  ...       0          0   \n",
       "22167               0           0             0  ...       0          0   \n",
       "22168               0           0             0  ...       0          0   \n",
       "22169               0           0             0  ...       0          0   \n",
       "\n",
       "       šapka  šapka nevidimka  širli  širli myrli  žanna  žanna grand  žel  \\\n",
       "0          0                0      0            0      0            0    0   \n",
       "1          0                0      0            0      0            0    0   \n",
       "2          0                0      0            0      0            0    0   \n",
       "3          0                0      0            0      0            0    0   \n",
       "4          0                0      0            0      0            0    0   \n",
       "...      ...              ...    ...          ...    ...          ...  ...   \n",
       "22165      0                0      0            0      0            0    0   \n",
       "22166      0                0      0            0      0            0    0   \n",
       "22167      0                0      0            0      0            0    0   \n",
       "22168      0                0      0            0      0            0    0   \n",
       "22169      0                0      0            0      0            0    0   \n",
       "\n",
       "       žel boks  \n",
       "0             0  \n",
       "1             0  \n",
       "2             0  \n",
       "3             0  \n",
       "4             0  \n",
       "...         ...  \n",
       "22165         0  \n",
       "22166         0  \n",
       "22167         0  \n",
       "22168         0  \n",
       "22169         0  \n",
       "\n",
       "[22170 rows x 63267 columns]"
      ],
      "text/html": "<div>\n<style scoped>\n    .dataframe tbody tr th:only-of-type {\n        vertical-align: middle;\n    }\n\n    .dataframe tbody tr th {\n        vertical-align: top;\n    }\n\n    .dataframe thead th {\n        text-align: right;\n    }\n</style>\n<table border=\"1\" class=\"dataframe\">\n  <thead>\n    <tr style=\"text-align: right;\">\n      <th></th>\n      <th>00</th>\n      <th>00 07</th>\n      <th>000</th>\n      <th>000 accessories</th>\n      <th>000 dawn</th>\n      <th>000 kill</th>\n      <th>000 leagues</th>\n      <th>000 miniatures</th>\n      <th>000 points</th>\n      <th>000 rulebook</th>\n      <th>...</th>\n      <th>épilog</th>\n      <th>épilog cd</th>\n      <th>šapka</th>\n      <th>šapka nevidimka</th>\n      <th>širli</th>\n      <th>širli myrli</th>\n      <th>žanna</th>\n      <th>žanna grand</th>\n      <th>žel</th>\n      <th>žel boks</th>\n    </tr>\n  </thead>\n  <tbody>\n    <tr>\n      <th>0</th>\n      <td>0</td>\n      <td>0</td>\n      <td>0</td>\n      <td>0</td>\n      <td>0</td>\n      <td>0</td>\n      <td>0</td>\n      <td>0</td>\n      <td>0</td>\n      <td>0</td>\n      <td>...</td>\n      <td>0</td>\n      <td>0</td>\n      <td>0</td>\n      <td>0</td>\n      <td>0</td>\n      <td>0</td>\n      <td>0</td>\n      <td>0</td>\n      <td>0</td>\n      <td>0</td>\n    </tr>\n    <tr>\n      <th>1</th>\n      <td>0</td>\n      <td>0</td>\n      <td>0</td>\n      <td>0</td>\n      <td>0</td>\n      <td>0</td>\n      <td>0</td>\n      <td>0</td>\n      <td>0</td>\n      <td>0</td>\n      <td>...</td>\n      <td>0</td>\n      <td>0</td>\n      <td>0</td>\n      <td>0</td>\n      <td>0</td>\n      <td>0</td>\n      <td>0</td>\n      <td>0</td>\n      <td>0</td>\n      <td>0</td>\n    </tr>\n    <tr>\n      <th>2</th>\n      <td>0</td>\n      <td>0</td>\n      <td>0</td>\n      <td>0</td>\n      <td>0</td>\n      <td>0</td>\n      <td>0</td>\n      <td>0</td>\n      <td>0</td>\n      <td>0</td>\n      <td>...</td>\n      <td>0</td>\n      <td>0</td>\n      <td>0</td>\n      <td>0</td>\n      <td>0</td>\n      <td>0</td>\n      <td>0</td>\n      <td>0</td>\n      <td>0</td>\n      <td>0</td>\n    </tr>\n    <tr>\n      <th>3</th>\n      <td>0</td>\n      <td>0</td>\n      <td>0</td>\n      <td>0</td>\n      <td>0</td>\n      <td>0</td>\n      <td>0</td>\n      <td>0</td>\n      <td>0</td>\n      <td>0</td>\n      <td>...</td>\n      <td>0</td>\n      <td>0</td>\n      <td>0</td>\n      <td>0</td>\n      <td>0</td>\n      <td>0</td>\n      <td>0</td>\n      <td>0</td>\n      <td>0</td>\n      <td>0</td>\n    </tr>\n    <tr>\n      <th>4</th>\n      <td>0</td>\n      <td>0</td>\n      <td>0</td>\n      <td>0</td>\n      <td>0</td>\n      <td>0</td>\n      <td>0</td>\n      <td>0</td>\n      <td>0</td>\n      <td>0</td>\n      <td>...</td>\n      <td>0</td>\n      <td>0</td>\n      <td>0</td>\n      <td>0</td>\n      <td>0</td>\n      <td>0</td>\n      <td>0</td>\n      <td>0</td>\n      <td>0</td>\n      <td>0</td>\n    </tr>\n    <tr>\n      <th>...</th>\n      <td>...</td>\n      <td>...</td>\n      <td>...</td>\n      <td>...</td>\n      <td>...</td>\n      <td>...</td>\n      <td>...</td>\n      <td>...</td>\n      <td>...</td>\n      <td>...</td>\n      <td>...</td>\n      <td>...</td>\n      <td>...</td>\n      <td>...</td>\n      <td>...</td>\n      <td>...</td>\n      <td>...</td>\n      <td>...</td>\n      <td>...</td>\n      <td>...</td>\n      <td>...</td>\n    </tr>\n    <tr>\n      <th>22165</th>\n      <td>0</td>\n      <td>0</td>\n      <td>0</td>\n      <td>0</td>\n      <td>0</td>\n      <td>0</td>\n      <td>0</td>\n      <td>0</td>\n      <td>0</td>\n      <td>0</td>\n      <td>...</td>\n      <td>0</td>\n      <td>0</td>\n      <td>0</td>\n      <td>0</td>\n      <td>0</td>\n      <td>0</td>\n      <td>0</td>\n      <td>0</td>\n      <td>0</td>\n      <td>0</td>\n    </tr>\n    <tr>\n      <th>22166</th>\n      <td>0</td>\n      <td>0</td>\n      <td>0</td>\n      <td>0</td>\n      <td>0</td>\n      <td>0</td>\n      <td>0</td>\n      <td>0</td>\n      <td>0</td>\n      <td>0</td>\n      <td>...</td>\n      <td>0</td>\n      <td>0</td>\n      <td>0</td>\n      <td>0</td>\n      <td>0</td>\n      <td>0</td>\n      <td>0</td>\n      <td>0</td>\n      <td>0</td>\n      <td>0</td>\n    </tr>\n    <tr>\n      <th>22167</th>\n      <td>0</td>\n      <td>0</td>\n      <td>0</td>\n      <td>0</td>\n      <td>0</td>\n      <td>0</td>\n      <td>0</td>\n      <td>0</td>\n      <td>0</td>\n      <td>0</td>\n      <td>...</td>\n      <td>0</td>\n      <td>0</td>\n      <td>0</td>\n      <td>0</td>\n      <td>0</td>\n      <td>0</td>\n      <td>0</td>\n      <td>0</td>\n      <td>0</td>\n      <td>0</td>\n    </tr>\n    <tr>\n      <th>22168</th>\n      <td>0</td>\n      <td>0</td>\n      <td>0</td>\n      <td>0</td>\n      <td>0</td>\n      <td>0</td>\n      <td>0</td>\n      <td>0</td>\n      <td>0</td>\n      <td>0</td>\n      <td>...</td>\n      <td>0</td>\n      <td>0</td>\n      <td>0</td>\n      <td>0</td>\n      <td>0</td>\n      <td>0</td>\n      <td>0</td>\n      <td>0</td>\n      <td>0</td>\n      <td>0</td>\n    </tr>\n    <tr>\n      <th>22169</th>\n      <td>0</td>\n      <td>0</td>\n      <td>0</td>\n      <td>0</td>\n      <td>0</td>\n      <td>0</td>\n      <td>0</td>\n      <td>0</td>\n      <td>0</td>\n      <td>0</td>\n      <td>...</td>\n      <td>0</td>\n      <td>0</td>\n      <td>0</td>\n      <td>0</td>\n      <td>0</td>\n      <td>0</td>\n      <td>0</td>\n      <td>0</td>\n      <td>0</td>\n      <td>0</td>\n    </tr>\n  </tbody>\n</table>\n<p>22170 rows × 63267 columns</p>\n</div>"
     },
     "metadata": {},
     "execution_count": 26
    }
   ],
   "source": [
    "text_cat = df_ite.item_name\n",
    "bow = CountVectorizer(ngram_range=(1, 2), dtype=np.int32)\n",
    "text_bow = bow.fit_transform(text_cat)\n",
    "pd.DataFrame(data = text_bow.toarray(), columns=bow.get_feature_names())\n"
   ]
  },
  {
   "cell_type": "code",
   "execution_count": 27,
   "metadata": {},
   "outputs": [
    {
     "output_type": "execute_result",
     "data": {
      "text/plain": [
       "        00  000  00002  00003  00005  00006  00007  00008  00009h  00010  ...  \\\n",
       "0      0.0  0.0    0.0    0.0    0.0    0.0    0.0    0.0     0.0    0.0  ...   \n",
       "1      0.0  0.0    0.0    0.0    0.0    0.0    0.0    0.0     0.0    0.0  ...   \n",
       "2      0.0  0.0    0.0    0.0    0.0    0.0    0.0    0.0     0.0    0.0  ...   \n",
       "3      0.0  0.0    0.0    0.0    0.0    0.0    0.0    0.0     0.0    0.0  ...   \n",
       "4      0.0  0.0    0.0    0.0    0.0    0.0    0.0    0.0     0.0    0.0  ...   \n",
       "...    ...  ...    ...    ...    ...    ...    ...    ...     ...    ...  ...   \n",
       "22165  0.0  0.0    0.0    0.0    0.0    0.0    0.0    0.0     0.0    0.0  ...   \n",
       "22166  0.0  0.0    0.0    0.0    0.0    0.0    0.0    0.0     0.0    0.0  ...   \n",
       "22167  0.0  0.0    0.0    0.0    0.0    0.0    0.0    0.0     0.0    0.0  ...   \n",
       "22168  0.0  0.0    0.0    0.0    0.0    0.0    0.0    0.0     0.0    0.0  ...   \n",
       "22169  0.0  0.0    0.0    0.0    0.0    0.0    0.0    0.0     0.0    0.0  ...   \n",
       "\n",
       "       zverushki  zvongo  zykina   zz  çudovi  épilog  šapka  širli  žanna  \\\n",
       "0            0.0     0.0     0.0  0.0     0.0     0.0    0.0    0.0    0.0   \n",
       "1            0.0     0.0     0.0  0.0     0.0     0.0    0.0    0.0    0.0   \n",
       "2            0.0     0.0     0.0  0.0     0.0     0.0    0.0    0.0    0.0   \n",
       "3            0.0     0.0     0.0  0.0     0.0     0.0    0.0    0.0    0.0   \n",
       "4            0.0     0.0     0.0  0.0     0.0     0.0    0.0    0.0    0.0   \n",
       "...          ...     ...     ...  ...     ...     ...    ...    ...    ...   \n",
       "22165        0.0     0.0     0.0  0.0     0.0     0.0    0.0    0.0    0.0   \n",
       "22166        0.0     0.0     0.0  0.0     0.0     0.0    0.0    0.0    0.0   \n",
       "22167        0.0     0.0     0.0  0.0     0.0     0.0    0.0    0.0    0.0   \n",
       "22168        0.0     0.0     0.0  0.0     0.0     0.0    0.0    0.0    0.0   \n",
       "22169        0.0     0.0     0.0  0.0     0.0     0.0    0.0    0.0    0.0   \n",
       "\n",
       "       žel  \n",
       "0      0.0  \n",
       "1      0.0  \n",
       "2      0.0  \n",
       "3      0.0  \n",
       "4      0.0  \n",
       "...    ...  \n",
       "22165  0.0  \n",
       "22166  0.0  \n",
       "22167  0.0  \n",
       "22168  0.0  \n",
       "22169  0.0  \n",
       "\n",
       "[22170 rows x 14145 columns]"
      ],
      "text/html": "<div>\n<style scoped>\n    .dataframe tbody tr th:only-of-type {\n        vertical-align: middle;\n    }\n\n    .dataframe tbody tr th {\n        vertical-align: top;\n    }\n\n    .dataframe thead th {\n        text-align: right;\n    }\n</style>\n<table border=\"1\" class=\"dataframe\">\n  <thead>\n    <tr style=\"text-align: right;\">\n      <th></th>\n      <th>00</th>\n      <th>000</th>\n      <th>00002</th>\n      <th>00003</th>\n      <th>00005</th>\n      <th>00006</th>\n      <th>00007</th>\n      <th>00008</th>\n      <th>00009h</th>\n      <th>00010</th>\n      <th>...</th>\n      <th>zverushki</th>\n      <th>zvongo</th>\n      <th>zykina</th>\n      <th>zz</th>\n      <th>çudovi</th>\n      <th>épilog</th>\n      <th>šapka</th>\n      <th>širli</th>\n      <th>žanna</th>\n      <th>žel</th>\n    </tr>\n  </thead>\n  <tbody>\n    <tr>\n      <th>0</th>\n      <td>0.0</td>\n      <td>0.0</td>\n      <td>0.0</td>\n      <td>0.0</td>\n      <td>0.0</td>\n      <td>0.0</td>\n      <td>0.0</td>\n      <td>0.0</td>\n      <td>0.0</td>\n      <td>0.0</td>\n      <td>...</td>\n      <td>0.0</td>\n      <td>0.0</td>\n      <td>0.0</td>\n      <td>0.0</td>\n      <td>0.0</td>\n      <td>0.0</td>\n      <td>0.0</td>\n      <td>0.0</td>\n      <td>0.0</td>\n      <td>0.0</td>\n    </tr>\n    <tr>\n      <th>1</th>\n      <td>0.0</td>\n      <td>0.0</td>\n      <td>0.0</td>\n      <td>0.0</td>\n      <td>0.0</td>\n      <td>0.0</td>\n      <td>0.0</td>\n      <td>0.0</td>\n      <td>0.0</td>\n      <td>0.0</td>\n      <td>...</td>\n      <td>0.0</td>\n      <td>0.0</td>\n      <td>0.0</td>\n      <td>0.0</td>\n      <td>0.0</td>\n      <td>0.0</td>\n      <td>0.0</td>\n      <td>0.0</td>\n      <td>0.0</td>\n      <td>0.0</td>\n    </tr>\n    <tr>\n      <th>2</th>\n      <td>0.0</td>\n      <td>0.0</td>\n      <td>0.0</td>\n      <td>0.0</td>\n      <td>0.0</td>\n      <td>0.0</td>\n      <td>0.0</td>\n      <td>0.0</td>\n      <td>0.0</td>\n      <td>0.0</td>\n      <td>...</td>\n      <td>0.0</td>\n      <td>0.0</td>\n      <td>0.0</td>\n      <td>0.0</td>\n      <td>0.0</td>\n      <td>0.0</td>\n      <td>0.0</td>\n      <td>0.0</td>\n      <td>0.0</td>\n      <td>0.0</td>\n    </tr>\n    <tr>\n      <th>3</th>\n      <td>0.0</td>\n      <td>0.0</td>\n      <td>0.0</td>\n      <td>0.0</td>\n      <td>0.0</td>\n      <td>0.0</td>\n      <td>0.0</td>\n      <td>0.0</td>\n      <td>0.0</td>\n      <td>0.0</td>\n      <td>...</td>\n      <td>0.0</td>\n      <td>0.0</td>\n      <td>0.0</td>\n      <td>0.0</td>\n      <td>0.0</td>\n      <td>0.0</td>\n      <td>0.0</td>\n      <td>0.0</td>\n      <td>0.0</td>\n      <td>0.0</td>\n    </tr>\n    <tr>\n      <th>4</th>\n      <td>0.0</td>\n      <td>0.0</td>\n      <td>0.0</td>\n      <td>0.0</td>\n      <td>0.0</td>\n      <td>0.0</td>\n      <td>0.0</td>\n      <td>0.0</td>\n      <td>0.0</td>\n      <td>0.0</td>\n      <td>...</td>\n      <td>0.0</td>\n      <td>0.0</td>\n      <td>0.0</td>\n      <td>0.0</td>\n      <td>0.0</td>\n      <td>0.0</td>\n      <td>0.0</td>\n      <td>0.0</td>\n      <td>0.0</td>\n      <td>0.0</td>\n    </tr>\n    <tr>\n      <th>...</th>\n      <td>...</td>\n      <td>...</td>\n      <td>...</td>\n      <td>...</td>\n      <td>...</td>\n      <td>...</td>\n      <td>...</td>\n      <td>...</td>\n      <td>...</td>\n      <td>...</td>\n      <td>...</td>\n      <td>...</td>\n      <td>...</td>\n      <td>...</td>\n      <td>...</td>\n      <td>...</td>\n      <td>...</td>\n      <td>...</td>\n      <td>...</td>\n      <td>...</td>\n      <td>...</td>\n    </tr>\n    <tr>\n      <th>22165</th>\n      <td>0.0</td>\n      <td>0.0</td>\n      <td>0.0</td>\n      <td>0.0</td>\n      <td>0.0</td>\n      <td>0.0</td>\n      <td>0.0</td>\n      <td>0.0</td>\n      <td>0.0</td>\n      <td>0.0</td>\n      <td>...</td>\n      <td>0.0</td>\n      <td>0.0</td>\n      <td>0.0</td>\n      <td>0.0</td>\n      <td>0.0</td>\n      <td>0.0</td>\n      <td>0.0</td>\n      <td>0.0</td>\n      <td>0.0</td>\n      <td>0.0</td>\n    </tr>\n    <tr>\n      <th>22166</th>\n      <td>0.0</td>\n      <td>0.0</td>\n      <td>0.0</td>\n      <td>0.0</td>\n      <td>0.0</td>\n      <td>0.0</td>\n      <td>0.0</td>\n      <td>0.0</td>\n      <td>0.0</td>\n      <td>0.0</td>\n      <td>...</td>\n      <td>0.0</td>\n      <td>0.0</td>\n      <td>0.0</td>\n      <td>0.0</td>\n      <td>0.0</td>\n      <td>0.0</td>\n      <td>0.0</td>\n      <td>0.0</td>\n      <td>0.0</td>\n      <td>0.0</td>\n    </tr>\n    <tr>\n      <th>22167</th>\n      <td>0.0</td>\n      <td>0.0</td>\n      <td>0.0</td>\n      <td>0.0</td>\n      <td>0.0</td>\n      <td>0.0</td>\n      <td>0.0</td>\n      <td>0.0</td>\n      <td>0.0</td>\n      <td>0.0</td>\n      <td>...</td>\n      <td>0.0</td>\n      <td>0.0</td>\n      <td>0.0</td>\n      <td>0.0</td>\n      <td>0.0</td>\n      <td>0.0</td>\n      <td>0.0</td>\n      <td>0.0</td>\n      <td>0.0</td>\n      <td>0.0</td>\n    </tr>\n    <tr>\n      <th>22168</th>\n      <td>0.0</td>\n      <td>0.0</td>\n      <td>0.0</td>\n      <td>0.0</td>\n      <td>0.0</td>\n      <td>0.0</td>\n      <td>0.0</td>\n      <td>0.0</td>\n      <td>0.0</td>\n      <td>0.0</td>\n      <td>...</td>\n      <td>0.0</td>\n      <td>0.0</td>\n      <td>0.0</td>\n      <td>0.0</td>\n      <td>0.0</td>\n      <td>0.0</td>\n      <td>0.0</td>\n      <td>0.0</td>\n      <td>0.0</td>\n      <td>0.0</td>\n    </tr>\n    <tr>\n      <th>22169</th>\n      <td>0.0</td>\n      <td>0.0</td>\n      <td>0.0</td>\n      <td>0.0</td>\n      <td>0.0</td>\n      <td>0.0</td>\n      <td>0.0</td>\n      <td>0.0</td>\n      <td>0.0</td>\n      <td>0.0</td>\n      <td>...</td>\n      <td>0.0</td>\n      <td>0.0</td>\n      <td>0.0</td>\n      <td>0.0</td>\n      <td>0.0</td>\n      <td>0.0</td>\n      <td>0.0</td>\n      <td>0.0</td>\n      <td>0.0</td>\n      <td>0.0</td>\n    </tr>\n  </tbody>\n</table>\n<p>22170 rows × 14145 columns</p>\n</div>"
     },
     "metadata": {},
     "execution_count": 27
    }
   ],
   "source": [
    "from sklearn.feature_extraction.text import TfidfVectorizer\n",
    "text_cat = df_ite.item_name\n",
    "bow = TfidfVectorizer( dtype=np.float32)\n",
    "text_bow = bow.fit_transform(text_cat)\n",
    "df_items_Tfi = pd.DataFrame(data = text_bow.toarray(), columns=bow.get_feature_names())\n",
    "df_items_Tfi"
   ]
  },
  {
   "cell_type": "code",
   "execution_count": 28,
   "metadata": {},
   "outputs": [
    {
     "output_type": "execute_result",
     "data": {
      "text/plain": [
       "True"
      ]
     },
     "metadata": {},
     "execution_count": 28
    }
   ],
   "source": [
    "value = 1 in df_items_Tfi.iloc[:,1]\n",
    "value"
   ]
  },
  {
   "source": [
    "text_cat = df_ite.item_name\n",
    "bow = TfidfVectorizer(ngram_range=(1, 2), dtype=np.float32)\n",
    "text_bow = bow.fit_transform(text_cat)\n",
    "df_items_Tfi = pd.DataFrame(data = text_bow.toarray(), columns=bow.get_feature_names())\n",
    "\n",
    "\n"
   ],
   "cell_type": "code",
   "metadata": {},
   "execution_count": 29,
   "outputs": []
  },
  {
   "cell_type": "code",
   "execution_count": 30,
   "metadata": {},
   "outputs": [
    {
     "output_type": "execute_result",
     "data": {
      "text/plain": [
       "        00  00 07       000  000 accessories  000 dawn  000 kill  000 leagues  \\\n",
       "34     0.0    0.0  0.229884         0.000000  0.000000       0.0     0.000000   \n",
       "198    0.0    0.0  0.204014         0.000000  0.000000       0.0     0.309339   \n",
       "5267   0.0    0.0  0.197298         0.000000  0.000000       0.0     0.000000   \n",
       "7569   0.0    0.0  0.262739         0.199191  0.000000       0.0     0.000000   \n",
       "7570   0.0    0.0  0.178291         0.000000  0.000000       0.0     0.000000   \n",
       "...    ...    ...       ...              ...       ...       ...          ...   \n",
       "7774   0.0    0.0  0.256641         0.000000  0.000000       0.0     0.000000   \n",
       "7775   0.0    0.0  0.203885         0.000000  0.000000       0.0     0.000000   \n",
       "7776   0.0    0.0  0.196248         0.000000  0.000000       0.0     0.000000   \n",
       "7778   0.0    0.0  0.213024         0.000000  0.240349       0.0     0.000000   \n",
       "13153  0.0    0.0  0.208154         0.000000  0.234854       0.0     0.000000   \n",
       "\n",
       "       000 miniatures  000 points  000 rulebook  ...  épilog  épilog cd  \\\n",
       "34           0.000000    0.000000      0.000000  ...     0.0        0.0   \n",
       "198          0.000000    0.000000      0.000000  ...     0.0        0.0   \n",
       "5267         0.000000    0.299156      0.000000  ...     0.0        0.0   \n",
       "7569         0.000000    0.000000      0.199191  ...     0.0        0.0   \n",
       "7570         0.200241    0.000000      0.000000  ...     0.0        0.0   \n",
       "...               ...         ...           ...  ...     ...        ...   \n",
       "7774         0.000000    0.000000      0.000000  ...     0.0        0.0   \n",
       "7775         0.000000    0.000000      0.000000  ...     0.0        0.0   \n",
       "7776         0.000000    0.000000      0.000000  ...     0.0        0.0   \n",
       "7778         0.000000    0.000000      0.000000  ...     0.0        0.0   \n",
       "13153        0.000000    0.000000      0.000000  ...     0.0        0.0   \n",
       "\n",
       "       šapka  šapka nevidimka  širli  širli myrli  žanna  žanna grand  žel  \\\n",
       "34       0.0              0.0    0.0          0.0    0.0          0.0  0.0   \n",
       "198      0.0              0.0    0.0          0.0    0.0          0.0  0.0   \n",
       "5267     0.0              0.0    0.0          0.0    0.0          0.0  0.0   \n",
       "7569     0.0              0.0    0.0          0.0    0.0          0.0  0.0   \n",
       "7570     0.0              0.0    0.0          0.0    0.0          0.0  0.0   \n",
       "...      ...              ...    ...          ...    ...          ...  ...   \n",
       "7774     0.0              0.0    0.0          0.0    0.0          0.0  0.0   \n",
       "7775     0.0              0.0    0.0          0.0    0.0          0.0  0.0   \n",
       "7776     0.0              0.0    0.0          0.0    0.0          0.0  0.0   \n",
       "7778     0.0              0.0    0.0          0.0    0.0          0.0  0.0   \n",
       "13153    0.0              0.0    0.0          0.0    0.0          0.0  0.0   \n",
       "\n",
       "       žel boks  \n",
       "34          0.0  \n",
       "198         0.0  \n",
       "5267        0.0  \n",
       "7569        0.0  \n",
       "7570        0.0  \n",
       "...         ...  \n",
       "7774        0.0  \n",
       "7775        0.0  \n",
       "7776        0.0  \n",
       "7778        0.0  \n",
       "13153       0.0  \n",
       "\n",
       "[66 rows x 63267 columns]"
      ],
      "text/html": "<div>\n<style scoped>\n    .dataframe tbody tr th:only-of-type {\n        vertical-align: middle;\n    }\n\n    .dataframe tbody tr th {\n        vertical-align: top;\n    }\n\n    .dataframe thead th {\n        text-align: right;\n    }\n</style>\n<table border=\"1\" class=\"dataframe\">\n  <thead>\n    <tr style=\"text-align: right;\">\n      <th></th>\n      <th>00</th>\n      <th>00 07</th>\n      <th>000</th>\n      <th>000 accessories</th>\n      <th>000 dawn</th>\n      <th>000 kill</th>\n      <th>000 leagues</th>\n      <th>000 miniatures</th>\n      <th>000 points</th>\n      <th>000 rulebook</th>\n      <th>...</th>\n      <th>épilog</th>\n      <th>épilog cd</th>\n      <th>šapka</th>\n      <th>šapka nevidimka</th>\n      <th>širli</th>\n      <th>širli myrli</th>\n      <th>žanna</th>\n      <th>žanna grand</th>\n      <th>žel</th>\n      <th>žel boks</th>\n    </tr>\n  </thead>\n  <tbody>\n    <tr>\n      <th>34</th>\n      <td>0.0</td>\n      <td>0.0</td>\n      <td>0.229884</td>\n      <td>0.000000</td>\n      <td>0.000000</td>\n      <td>0.0</td>\n      <td>0.000000</td>\n      <td>0.000000</td>\n      <td>0.000000</td>\n      <td>0.000000</td>\n      <td>...</td>\n      <td>0.0</td>\n      <td>0.0</td>\n      <td>0.0</td>\n      <td>0.0</td>\n      <td>0.0</td>\n      <td>0.0</td>\n      <td>0.0</td>\n      <td>0.0</td>\n      <td>0.0</td>\n      <td>0.0</td>\n    </tr>\n    <tr>\n      <th>198</th>\n      <td>0.0</td>\n      <td>0.0</td>\n      <td>0.204014</td>\n      <td>0.000000</td>\n      <td>0.000000</td>\n      <td>0.0</td>\n      <td>0.309339</td>\n      <td>0.000000</td>\n      <td>0.000000</td>\n      <td>0.000000</td>\n      <td>...</td>\n      <td>0.0</td>\n      <td>0.0</td>\n      <td>0.0</td>\n      <td>0.0</td>\n      <td>0.0</td>\n      <td>0.0</td>\n      <td>0.0</td>\n      <td>0.0</td>\n      <td>0.0</td>\n      <td>0.0</td>\n    </tr>\n    <tr>\n      <th>5267</th>\n      <td>0.0</td>\n      <td>0.0</td>\n      <td>0.197298</td>\n      <td>0.000000</td>\n      <td>0.000000</td>\n      <td>0.0</td>\n      <td>0.000000</td>\n      <td>0.000000</td>\n      <td>0.299156</td>\n      <td>0.000000</td>\n      <td>...</td>\n      <td>0.0</td>\n      <td>0.0</td>\n      <td>0.0</td>\n      <td>0.0</td>\n      <td>0.0</td>\n      <td>0.0</td>\n      <td>0.0</td>\n      <td>0.0</td>\n      <td>0.0</td>\n      <td>0.0</td>\n    </tr>\n    <tr>\n      <th>7569</th>\n      <td>0.0</td>\n      <td>0.0</td>\n      <td>0.262739</td>\n      <td>0.199191</td>\n      <td>0.000000</td>\n      <td>0.0</td>\n      <td>0.000000</td>\n      <td>0.000000</td>\n      <td>0.000000</td>\n      <td>0.199191</td>\n      <td>...</td>\n      <td>0.0</td>\n      <td>0.0</td>\n      <td>0.0</td>\n      <td>0.0</td>\n      <td>0.0</td>\n      <td>0.0</td>\n      <td>0.0</td>\n      <td>0.0</td>\n      <td>0.0</td>\n      <td>0.0</td>\n    </tr>\n    <tr>\n      <th>7570</th>\n      <td>0.0</td>\n      <td>0.0</td>\n      <td>0.178291</td>\n      <td>0.000000</td>\n      <td>0.000000</td>\n      <td>0.0</td>\n      <td>0.000000</td>\n      <td>0.200241</td>\n      <td>0.000000</td>\n      <td>0.000000</td>\n      <td>...</td>\n      <td>0.0</td>\n      <td>0.0</td>\n      <td>0.0</td>\n      <td>0.0</td>\n      <td>0.0</td>\n      <td>0.0</td>\n      <td>0.0</td>\n      <td>0.0</td>\n      <td>0.0</td>\n      <td>0.0</td>\n    </tr>\n    <tr>\n      <th>...</th>\n      <td>...</td>\n      <td>...</td>\n      <td>...</td>\n      <td>...</td>\n      <td>...</td>\n      <td>...</td>\n      <td>...</td>\n      <td>...</td>\n      <td>...</td>\n      <td>...</td>\n      <td>...</td>\n      <td>...</td>\n      <td>...</td>\n      <td>...</td>\n      <td>...</td>\n      <td>...</td>\n      <td>...</td>\n      <td>...</td>\n      <td>...</td>\n      <td>...</td>\n      <td>...</td>\n    </tr>\n    <tr>\n      <th>7774</th>\n      <td>0.0</td>\n      <td>0.0</td>\n      <td>0.256641</td>\n      <td>0.000000</td>\n      <td>0.000000</td>\n      <td>0.0</td>\n      <td>0.000000</td>\n      <td>0.000000</td>\n      <td>0.000000</td>\n      <td>0.000000</td>\n      <td>...</td>\n      <td>0.0</td>\n      <td>0.0</td>\n      <td>0.0</td>\n      <td>0.0</td>\n      <td>0.0</td>\n      <td>0.0</td>\n      <td>0.0</td>\n      <td>0.0</td>\n      <td>0.0</td>\n      <td>0.0</td>\n    </tr>\n    <tr>\n      <th>7775</th>\n      <td>0.0</td>\n      <td>0.0</td>\n      <td>0.203885</td>\n      <td>0.000000</td>\n      <td>0.000000</td>\n      <td>0.0</td>\n      <td>0.000000</td>\n      <td>0.000000</td>\n      <td>0.000000</td>\n      <td>0.000000</td>\n      <td>...</td>\n      <td>0.0</td>\n      <td>0.0</td>\n      <td>0.0</td>\n      <td>0.0</td>\n      <td>0.0</td>\n      <td>0.0</td>\n      <td>0.0</td>\n      <td>0.0</td>\n      <td>0.0</td>\n      <td>0.0</td>\n    </tr>\n    <tr>\n      <th>7776</th>\n      <td>0.0</td>\n      <td>0.0</td>\n      <td>0.196248</td>\n      <td>0.000000</td>\n      <td>0.000000</td>\n      <td>0.0</td>\n      <td>0.000000</td>\n      <td>0.000000</td>\n      <td>0.000000</td>\n      <td>0.000000</td>\n      <td>...</td>\n      <td>0.0</td>\n      <td>0.0</td>\n      <td>0.0</td>\n      <td>0.0</td>\n      <td>0.0</td>\n      <td>0.0</td>\n      <td>0.0</td>\n      <td>0.0</td>\n      <td>0.0</td>\n      <td>0.0</td>\n    </tr>\n    <tr>\n      <th>7778</th>\n      <td>0.0</td>\n      <td>0.0</td>\n      <td>0.213024</td>\n      <td>0.000000</td>\n      <td>0.240349</td>\n      <td>0.0</td>\n      <td>0.000000</td>\n      <td>0.000000</td>\n      <td>0.000000</td>\n      <td>0.000000</td>\n      <td>...</td>\n      <td>0.0</td>\n      <td>0.0</td>\n      <td>0.0</td>\n      <td>0.0</td>\n      <td>0.0</td>\n      <td>0.0</td>\n      <td>0.0</td>\n      <td>0.0</td>\n      <td>0.0</td>\n      <td>0.0</td>\n    </tr>\n    <tr>\n      <th>13153</th>\n      <td>0.0</td>\n      <td>0.0</td>\n      <td>0.208154</td>\n      <td>0.000000</td>\n      <td>0.234854</td>\n      <td>0.0</td>\n      <td>0.000000</td>\n      <td>0.000000</td>\n      <td>0.000000</td>\n      <td>0.000000</td>\n      <td>...</td>\n      <td>0.0</td>\n      <td>0.0</td>\n      <td>0.0</td>\n      <td>0.0</td>\n      <td>0.0</td>\n      <td>0.0</td>\n      <td>0.0</td>\n      <td>0.0</td>\n      <td>0.0</td>\n      <td>0.0</td>\n    </tr>\n  </tbody>\n</table>\n<p>66 rows × 63267 columns</p>\n</div>"
     },
     "metadata": {},
     "execution_count": 30
    }
   ],
   "source": [
    "df_items_Tfi.loc[df_items_Tfi.iloc[:,2] > 0]"
   ]
  },
  {
   "cell_type": "code",
   "execution_count": null,
   "metadata": {},
   "outputs": [],
   "source": []
  }
 ]
}