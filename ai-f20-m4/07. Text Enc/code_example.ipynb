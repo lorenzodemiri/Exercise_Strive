{
 "metadata": {
  "language_info": {
   "codemirror_mode": {
    "name": "ipython",
    "version": 3
   },
   "file_extension": ".py",
   "mimetype": "text/x-python",
   "name": "python",
   "nbconvert_exporter": "python",
   "pygments_lexer": "ipython3",
   "version": "3.8.5-final"
  },
  "orig_nbformat": 2,
  "kernelspec": {
   "name": "python3",
   "display_name": "Python 3",
   "language": "python"
  }
 },
 "nbformat": 4,
 "nbformat_minor": 2,
 "cells": [
  {
   "cell_type": "code",
   "execution_count": 1,
   "metadata": {},
   "outputs": [],
   "source": [
    "import pandas as pd\n",
    "import numpy as np\n",
    "from IPython.display import display\n"
   ]
  },
  {
   "cell_type": "code",
   "execution_count": 2,
   "metadata": {},
   "outputs": [],
   "source": [
    "df_cat = pd.read_csv(\"../datasets/predict-future-sales/categories.csv\")\n",
    "df_ite = pd.read_csv(\"../datasets/predict-future-sales/items.csv\")"
   ]
  },
  {
   "cell_type": "code",
   "execution_count": 3,
   "metadata": {},
   "outputs": [
    {
     "output_type": "display_data",
     "data": {
      "text/plain": "                    category_name  category_id\n41           Cinema - Collector's           41\n73    Programs - 1C: Enterprise 8           73\n23               Games - XBOX 360           23\n38            Cinema - Blu-Ray 3D           38\n59            Music - Music video           59\n51   Books - Cognitive literature           51\n66        Gifts - Cards, stickers           66\n46    Books - Business literature           46\n79                        Service           79\n4               Accessories - PSP            4",
      "text/html": "<div>\n<style scoped>\n    .dataframe tbody tr th:only-of-type {\n        vertical-align: middle;\n    }\n\n    .dataframe tbody tr th {\n        vertical-align: top;\n    }\n\n    .dataframe thead th {\n        text-align: right;\n    }\n</style>\n<table border=\"1\" class=\"dataframe\">\n  <thead>\n    <tr style=\"text-align: right;\">\n      <th></th>\n      <th>category_name</th>\n      <th>category_id</th>\n    </tr>\n  </thead>\n  <tbody>\n    <tr>\n      <th>41</th>\n      <td>Cinema - Collector's</td>\n      <td>41</td>\n    </tr>\n    <tr>\n      <th>73</th>\n      <td>Programs - 1C: Enterprise 8</td>\n      <td>73</td>\n    </tr>\n    <tr>\n      <th>23</th>\n      <td>Games - XBOX 360</td>\n      <td>23</td>\n    </tr>\n    <tr>\n      <th>38</th>\n      <td>Cinema - Blu-Ray 3D</td>\n      <td>38</td>\n    </tr>\n    <tr>\n      <th>59</th>\n      <td>Music - Music video</td>\n      <td>59</td>\n    </tr>\n    <tr>\n      <th>51</th>\n      <td>Books - Cognitive literature</td>\n      <td>51</td>\n    </tr>\n    <tr>\n      <th>66</th>\n      <td>Gifts - Cards, stickers</td>\n      <td>66</td>\n    </tr>\n    <tr>\n      <th>46</th>\n      <td>Books - Business literature</td>\n      <td>46</td>\n    </tr>\n    <tr>\n      <th>79</th>\n      <td>Service</td>\n      <td>79</td>\n    </tr>\n    <tr>\n      <th>4</th>\n      <td>Accessories - PSP</td>\n      <td>4</td>\n    </tr>\n  </tbody>\n</table>\n</div>"
     },
     "metadata": {}
    },
    {
     "output_type": "execute_result",
     "data": {
      "text/plain": [
       "       item_id  category_id                                          item_name\n",
       "7481      7481           55             V/A Trance 75  2012  1  3CD (digibook)\n",
       "5881      5881           23  Prince of Persia. The Forgotten Sands [Xbox 36...\n",
       "3613      3613           55                              GORKY PARK Gorky Park\n",
       "6069      6069           23  Rapala Fishing for Kinect (only for MS Kinect)...\n",
       "21170    21170           61           Minecraft Creeper Anatomy T-shirt blue L\n",
       "1608      1608           58         B.B. KING   King Of The Blues 180 GRAMM LP\n",
       "20728    20728           72               Figure Scalers Series 1 Batman 3.5 \"\n",
       "20286    20286           37                                         FOCUS (BD)\n",
       "3406      3406           31                    Fallout 4 [PC, Digital Version]\n",
       "19130    19130           40                       PASSION POUR (2DVD) (region)"
      ],
      "text/html": "<div>\n<style scoped>\n    .dataframe tbody tr th:only-of-type {\n        vertical-align: middle;\n    }\n\n    .dataframe tbody tr th {\n        vertical-align: top;\n    }\n\n    .dataframe thead th {\n        text-align: right;\n    }\n</style>\n<table border=\"1\" class=\"dataframe\">\n  <thead>\n    <tr style=\"text-align: right;\">\n      <th></th>\n      <th>item_id</th>\n      <th>category_id</th>\n      <th>item_name</th>\n    </tr>\n  </thead>\n  <tbody>\n    <tr>\n      <th>7481</th>\n      <td>7481</td>\n      <td>55</td>\n      <td>V/A Trance 75  2012  1  3CD (digibook)</td>\n    </tr>\n    <tr>\n      <th>5881</th>\n      <td>5881</td>\n      <td>23</td>\n      <td>Prince of Persia. The Forgotten Sands [Xbox 36...</td>\n    </tr>\n    <tr>\n      <th>3613</th>\n      <td>3613</td>\n      <td>55</td>\n      <td>GORKY PARK Gorky Park</td>\n    </tr>\n    <tr>\n      <th>6069</th>\n      <td>6069</td>\n      <td>23</td>\n      <td>Rapala Fishing for Kinect (only for MS Kinect)...</td>\n    </tr>\n    <tr>\n      <th>21170</th>\n      <td>21170</td>\n      <td>61</td>\n      <td>Minecraft Creeper Anatomy T-shirt blue L</td>\n    </tr>\n    <tr>\n      <th>1608</th>\n      <td>1608</td>\n      <td>58</td>\n      <td>B.B. KING   King Of The Blues 180 GRAMM LP</td>\n    </tr>\n    <tr>\n      <th>20728</th>\n      <td>20728</td>\n      <td>72</td>\n      <td>Figure Scalers Series 1 Batman 3.5 \"</td>\n    </tr>\n    <tr>\n      <th>20286</th>\n      <td>20286</td>\n      <td>37</td>\n      <td>FOCUS (BD)</td>\n    </tr>\n    <tr>\n      <th>3406</th>\n      <td>3406</td>\n      <td>31</td>\n      <td>Fallout 4 [PC, Digital Version]</td>\n    </tr>\n    <tr>\n      <th>19130</th>\n      <td>19130</td>\n      <td>40</td>\n      <td>PASSION POUR (2DVD) (region)</td>\n    </tr>\n  </tbody>\n</table>\n</div>"
     },
     "metadata": {},
     "execution_count": 3
    }
   ],
   "source": [
    "display(df_cat.sample(10))\n",
    "df_ite.sample(10)"
   ]
  },
  {
   "cell_type": "code",
   "execution_count": 4,
   "metadata": {},
   "outputs": [
    {
     "output_type": "execute_result",
     "data": {
      "text/plain": [
       " Books            13\n",
       " Gifts            12\n",
       " Games             8\n",
       " Game consoles     8\n",
       " Accessories       7\n",
       "missing            7\n",
       " Programs          6\n",
       " Music             6\n",
       " Cinema            5\n",
       " PC Games          4\n",
       " Payment Cards     2\n",
       " Payment cards     2\n",
       " MAC Games         1\n",
       "PC                 1\n",
       " Android games     1\n",
       " Service           1\n",
       "Name: category, dtype: int64"
      ]
     },
     "metadata": {},
     "execution_count": 4
    }
   ],
   "source": [
    "def get_cat(string):\n",
    "    string = string.split(\" - \")[0] if len(string.split(\"-\")) >= 2 else \"missing\"\n",
    "    return string\n",
    "df_cat['category'] = df_cat['category_name'].apply(lambda x: get_cat(x))\n",
    "df_cat.category.value_counts()"
   ]
  },
  {
   "cell_type": "code",
   "execution_count": 5,
   "metadata": {},
   "outputs": [
    {
     "output_type": "execute_result",
     "data": {
      "text/plain": [
       "                category_name  category_id      category\n",
       "0  PC - Headsets / Headphones            0            PC\n",
       "1           Accessories - PS2            1   Accessories\n",
       "2           Accessories - PS3            2   Accessories\n",
       "3           Accessories - PS4            3   Accessories\n",
       "4           Accessories - PSP            4   Accessories"
      ],
      "text/html": "<div>\n<style scoped>\n    .dataframe tbody tr th:only-of-type {\n        vertical-align: middle;\n    }\n\n    .dataframe tbody tr th {\n        vertical-align: top;\n    }\n\n    .dataframe thead th {\n        text-align: right;\n    }\n</style>\n<table border=\"1\" class=\"dataframe\">\n  <thead>\n    <tr style=\"text-align: right;\">\n      <th></th>\n      <th>category_name</th>\n      <th>category_id</th>\n      <th>category</th>\n    </tr>\n  </thead>\n  <tbody>\n    <tr>\n      <th>0</th>\n      <td>PC - Headsets / Headphones</td>\n      <td>0</td>\n      <td>PC</td>\n    </tr>\n    <tr>\n      <th>1</th>\n      <td>Accessories - PS2</td>\n      <td>1</td>\n      <td>Accessories</td>\n    </tr>\n    <tr>\n      <th>2</th>\n      <td>Accessories - PS3</td>\n      <td>2</td>\n      <td>Accessories</td>\n    </tr>\n    <tr>\n      <th>3</th>\n      <td>Accessories - PS4</td>\n      <td>3</td>\n      <td>Accessories</td>\n    </tr>\n    <tr>\n      <th>4</th>\n      <td>Accessories - PSP</td>\n      <td>4</td>\n      <td>Accessories</td>\n    </tr>\n  </tbody>\n</table>\n</div>"
     },
     "metadata": {},
     "execution_count": 5
    }
   ],
   "source": [
    "df_cat.head()"
   ]
  },
  {
   "cell_type": "code",
   "execution_count": 6,
   "metadata": {},
   "outputs": [],
   "source": [
    "def get_subcat(string):\n",
    "    string = string.split(\" - \")[1] if len(string.split(\"-\")) >= 2 else \"missing\"\n",
    "    return string\n",
    "df_cat[\"subcategory\"] = df_cat.category_name.apply(lambda x: get_subcat(x))"
   ]
  },
  {
   "cell_type": "code",
   "execution_count": 7,
   "metadata": {},
   "outputs": [
    {
     "output_type": "execute_result",
     "data": {
      "text/plain": [
       "                            category_name  category_id category subcategory\n",
       "8                       Tickets (Digital)            8  missing     missing\n",
       "9                       Delivery of goods            9  missing     missing\n",
       "32   Payment Cards (Cinema, Music, Games)           32  missing     missing\n",
       "79                                Service           79  missing     missing\n",
       "81                    Blank media (spire)           81  missing     missing\n",
       "82                   Blank media (piece)            82  missing     missing\n",
       "83                              Batteries           83  missing     missing"
      ],
      "text/html": "<div>\n<style scoped>\n    .dataframe tbody tr th:only-of-type {\n        vertical-align: middle;\n    }\n\n    .dataframe tbody tr th {\n        vertical-align: top;\n    }\n\n    .dataframe thead th {\n        text-align: right;\n    }\n</style>\n<table border=\"1\" class=\"dataframe\">\n  <thead>\n    <tr style=\"text-align: right;\">\n      <th></th>\n      <th>category_name</th>\n      <th>category_id</th>\n      <th>category</th>\n      <th>subcategory</th>\n    </tr>\n  </thead>\n  <tbody>\n    <tr>\n      <th>8</th>\n      <td>Tickets (Digital)</td>\n      <td>8</td>\n      <td>missing</td>\n      <td>missing</td>\n    </tr>\n    <tr>\n      <th>9</th>\n      <td>Delivery of goods</td>\n      <td>9</td>\n      <td>missing</td>\n      <td>missing</td>\n    </tr>\n    <tr>\n      <th>32</th>\n      <td>Payment Cards (Cinema, Music, Games)</td>\n      <td>32</td>\n      <td>missing</td>\n      <td>missing</td>\n    </tr>\n    <tr>\n      <th>79</th>\n      <td>Service</td>\n      <td>79</td>\n      <td>missing</td>\n      <td>missing</td>\n    </tr>\n    <tr>\n      <th>81</th>\n      <td>Blank media (spire)</td>\n      <td>81</td>\n      <td>missing</td>\n      <td>missing</td>\n    </tr>\n    <tr>\n      <th>82</th>\n      <td>Blank media (piece)</td>\n      <td>82</td>\n      <td>missing</td>\n      <td>missing</td>\n    </tr>\n    <tr>\n      <th>83</th>\n      <td>Batteries</td>\n      <td>83</td>\n      <td>missing</td>\n      <td>missing</td>\n    </tr>\n  </tbody>\n</table>\n</div>"
     },
     "metadata": {},
     "execution_count": 7
    }
   ],
   "source": [
    "df_cat.loc[df_cat.category == \"missing\"]"
   ]
  },
  {
   "cell_type": "code",
   "execution_count": 8,
   "metadata": {},
   "outputs": [
    {
     "output_type": "execute_result",
     "data": {
      "text/plain": [
       "                            category_name  category_id category subcategory\n",
       "8                       Tickets (Digital)            8  missing     missing\n",
       "9                       Delivery of goods            9  missing     missing\n",
       "32   Payment Cards (Cinema, Music, Games)           32  missing     missing\n",
       "79                                Service           79  missing     missing\n",
       "81                    Blank media (spire)           81  missing     missing\n",
       "82                   Blank media (piece)            82  missing     missing\n",
       "83                              Batteries           83  missing     missing"
      ],
      "text/html": "<div>\n<style scoped>\n    .dataframe tbody tr th:only-of-type {\n        vertical-align: middle;\n    }\n\n    .dataframe tbody tr th {\n        vertical-align: top;\n    }\n\n    .dataframe thead th {\n        text-align: right;\n    }\n</style>\n<table border=\"1\" class=\"dataframe\">\n  <thead>\n    <tr style=\"text-align: right;\">\n      <th></th>\n      <th>category_name</th>\n      <th>category_id</th>\n      <th>category</th>\n      <th>subcategory</th>\n    </tr>\n  </thead>\n  <tbody>\n    <tr>\n      <th>8</th>\n      <td>Tickets (Digital)</td>\n      <td>8</td>\n      <td>missing</td>\n      <td>missing</td>\n    </tr>\n    <tr>\n      <th>9</th>\n      <td>Delivery of goods</td>\n      <td>9</td>\n      <td>missing</td>\n      <td>missing</td>\n    </tr>\n    <tr>\n      <th>32</th>\n      <td>Payment Cards (Cinema, Music, Games)</td>\n      <td>32</td>\n      <td>missing</td>\n      <td>missing</td>\n    </tr>\n    <tr>\n      <th>79</th>\n      <td>Service</td>\n      <td>79</td>\n      <td>missing</td>\n      <td>missing</td>\n    </tr>\n    <tr>\n      <th>81</th>\n      <td>Blank media (spire)</td>\n      <td>81</td>\n      <td>missing</td>\n      <td>missing</td>\n    </tr>\n    <tr>\n      <th>82</th>\n      <td>Blank media (piece)</td>\n      <td>82</td>\n      <td>missing</td>\n      <td>missing</td>\n    </tr>\n    <tr>\n      <th>83</th>\n      <td>Batteries</td>\n      <td>83</td>\n      <td>missing</td>\n      <td>missing</td>\n    </tr>\n  </tbody>\n</table>\n</div>"
     },
     "metadata": {},
     "execution_count": 8
    }
   ],
   "source": [
    "df_cat.loc[df_cat.subcategory == \"missing\"]\n"
   ]
  },
  {
   "cell_type": "code",
   "execution_count": 9,
   "metadata": {},
   "outputs": [
    {
     "output_type": "execute_result",
     "data": {
      "text/plain": [
       "                      category_name  category_id        category  \\\n",
       "2                 Accessories - PS3            2     Accessories   \n",
       "9                 Delivery of goods            9         missing   \n",
       "27               MAC Games - Number           27       MAC Games   \n",
       "4                 Accessories - PSP            4     Accessories   \n",
       "11              Game consoles - PS3           11   Game consoles   \n",
       "64              Gifts - Board games           64           Gifts   \n",
       "28   PC Games - Additional Editions           28        PC Games   \n",
       "12              Game consoles - PS4           12   Game consoles   \n",
       "53                  Books - Fiction           53           Books   \n",
       "69                Gifts - Souvenirs           69           Gifts   \n",
       "\n",
       "            subcategory  \n",
       "2                   PS3  \n",
       "9               missing  \n",
       "27               Number  \n",
       "4                   PSP  \n",
       "11                  PS3  \n",
       "64          Board games  \n",
       "28  Additional Editions  \n",
       "12                  PS4  \n",
       "53              Fiction  \n",
       "69            Souvenirs  "
      ],
      "text/html": "<div>\n<style scoped>\n    .dataframe tbody tr th:only-of-type {\n        vertical-align: middle;\n    }\n\n    .dataframe tbody tr th {\n        vertical-align: top;\n    }\n\n    .dataframe thead th {\n        text-align: right;\n    }\n</style>\n<table border=\"1\" class=\"dataframe\">\n  <thead>\n    <tr style=\"text-align: right;\">\n      <th></th>\n      <th>category_name</th>\n      <th>category_id</th>\n      <th>category</th>\n      <th>subcategory</th>\n    </tr>\n  </thead>\n  <tbody>\n    <tr>\n      <th>2</th>\n      <td>Accessories - PS3</td>\n      <td>2</td>\n      <td>Accessories</td>\n      <td>PS3</td>\n    </tr>\n    <tr>\n      <th>9</th>\n      <td>Delivery of goods</td>\n      <td>9</td>\n      <td>missing</td>\n      <td>missing</td>\n    </tr>\n    <tr>\n      <th>27</th>\n      <td>MAC Games - Number</td>\n      <td>27</td>\n      <td>MAC Games</td>\n      <td>Number</td>\n    </tr>\n    <tr>\n      <th>4</th>\n      <td>Accessories - PSP</td>\n      <td>4</td>\n      <td>Accessories</td>\n      <td>PSP</td>\n    </tr>\n    <tr>\n      <th>11</th>\n      <td>Game consoles - PS3</td>\n      <td>11</td>\n      <td>Game consoles</td>\n      <td>PS3</td>\n    </tr>\n    <tr>\n      <th>64</th>\n      <td>Gifts - Board games</td>\n      <td>64</td>\n      <td>Gifts</td>\n      <td>Board games</td>\n    </tr>\n    <tr>\n      <th>28</th>\n      <td>PC Games - Additional Editions</td>\n      <td>28</td>\n      <td>PC Games</td>\n      <td>Additional Editions</td>\n    </tr>\n    <tr>\n      <th>12</th>\n      <td>Game consoles - PS4</td>\n      <td>12</td>\n      <td>Game consoles</td>\n      <td>PS4</td>\n    </tr>\n    <tr>\n      <th>53</th>\n      <td>Books - Fiction</td>\n      <td>53</td>\n      <td>Books</td>\n      <td>Fiction</td>\n    </tr>\n    <tr>\n      <th>69</th>\n      <td>Gifts - Souvenirs</td>\n      <td>69</td>\n      <td>Gifts</td>\n      <td>Souvenirs</td>\n    </tr>\n  </tbody>\n</table>\n</div>"
     },
     "metadata": {},
     "execution_count": 9
    }
   ],
   "source": [
    "df_cat.sample(10)"
   ]
  },
  {
   "cell_type": "code",
   "execution_count": 10,
   "metadata": {},
   "outputs": [
    {
     "output_type": "execute_result",
     "data": {
      "text/plain": [
       "array(['Headsets / Headphones', 'PS2', 'PS3', 'PS4', 'PSP', 'PSVita',\n",
       "       'XBOX 360', 'XBOX ONE', 'missing', 'Others', 'Game accessories',\n",
       "       'Number', 'Additional Editions', \"Collector's Editions\",\n",
       "       'Standard Editions', 'Digital', 'Live!', 'Live! (Digital)', 'PSN',\n",
       "       'Windows (Digital)', 'Blu-Ray', 'Blu-Ray 3D', 'Blu-Ray 4K', 'DVD',\n",
       "       \"Collector's\", 'Artbooks, encyclopedias ', 'Audiobooks',\n",
       "       'Audiobooks (Digit)', 'Audiobooks 1C', 'Business literature',\n",
       "       'Comics, manga', 'Computer literature',\n",
       "       'Methodological materials 1C', 'Postcards', 'Cognitive literature',\n",
       "       'Guides', 'Fiction', 'CD of local production',\n",
       "       'CD of corporate production', 'MP3', 'Vinyl', 'Music video',\n",
       "       'Gift editions', 'Attributes', 'Gadgets, robots , sports',\n",
       "       'Soft toys', 'Board games', 'Board games (compact)',\n",
       "       'Cards, stickers', 'Development', 'Certificates, services',\n",
       "       'Souvenirs', 'Souvenirs (hinged)', 'Bags, Albums, Mousepads',\n",
       "       'Figures', '1C: Enterprise 8', 'MAC (Digit)',\n",
       "       'For home and office', 'For home and office (Digit)',\n",
       "       'Educational', 'Educational (Digit)', 'Tickets'], dtype=object)"
      ]
     },
     "metadata": {},
     "execution_count": 10
    }
   ],
   "source": [
    "df_cat.subcategory.unique()"
   ]
  },
  {
   "cell_type": "code",
   "execution_count": 11,
   "metadata": {},
   "outputs": [],
   "source": [
    "from sklearn.feature_extraction.text import CountVectorizer\n",
    "import re"
   ]
  },
  {
   "cell_type": "code",
   "execution_count": 12,
   "metadata": {},
   "outputs": [
    {
     "output_type": "execute_result",
     "data": {
      "text/plain": [
       "    accessories  android  books  cards  cinema  consoles  game  games  gifts  \\\n",
       "0             0        0      0      0       0         0     0      0      0   \n",
       "1             1        0      0      0       0         0     0      0      0   \n",
       "2             1        0      0      0       0         0     0      0      0   \n",
       "3             1        0      0      0       0         0     0      0      0   \n",
       "4             1        0      0      0       0         0     0      0      0   \n",
       "..          ...      ...    ...    ...     ...       ...   ...    ...    ...   \n",
       "79            0        0      0      0       0         0     0      0      0   \n",
       "80            0        0      0      0       0         0     0      0      0   \n",
       "81            0        0      0      0       0         0     0      0      0   \n",
       "82            0        0      0      0       0         0     0      0      0   \n",
       "83            0        0      0      0       0         0     0      0      0   \n",
       "\n",
       "    mac  missing  music  payment  pc  programs  service  \n",
       "0     0        0      0        0   1         0        0  \n",
       "1     0        0      0        0   0         0        0  \n",
       "2     0        0      0        0   0         0        0  \n",
       "3     0        0      0        0   0         0        0  \n",
       "4     0        0      0        0   0         0        0  \n",
       "..  ...      ...    ...      ...  ..       ...      ...  \n",
       "79    0        1      0        0   0         0        0  \n",
       "80    0        0      0        0   0         0        1  \n",
       "81    0        1      0        0   0         0        0  \n",
       "82    0        1      0        0   0         0        0  \n",
       "83    0        1      0        0   0         0        0  \n",
       "\n",
       "[84 rows x 16 columns]"
      ],
      "text/html": "<div>\n<style scoped>\n    .dataframe tbody tr th:only-of-type {\n        vertical-align: middle;\n    }\n\n    .dataframe tbody tr th {\n        vertical-align: top;\n    }\n\n    .dataframe thead th {\n        text-align: right;\n    }\n</style>\n<table border=\"1\" class=\"dataframe\">\n  <thead>\n    <tr style=\"text-align: right;\">\n      <th></th>\n      <th>accessories</th>\n      <th>android</th>\n      <th>books</th>\n      <th>cards</th>\n      <th>cinema</th>\n      <th>consoles</th>\n      <th>game</th>\n      <th>games</th>\n      <th>gifts</th>\n      <th>mac</th>\n      <th>missing</th>\n      <th>music</th>\n      <th>payment</th>\n      <th>pc</th>\n      <th>programs</th>\n      <th>service</th>\n    </tr>\n  </thead>\n  <tbody>\n    <tr>\n      <th>0</th>\n      <td>0</td>\n      <td>0</td>\n      <td>0</td>\n      <td>0</td>\n      <td>0</td>\n      <td>0</td>\n      <td>0</td>\n      <td>0</td>\n      <td>0</td>\n      <td>0</td>\n      <td>0</td>\n      <td>0</td>\n      <td>0</td>\n      <td>1</td>\n      <td>0</td>\n      <td>0</td>\n    </tr>\n    <tr>\n      <th>1</th>\n      <td>1</td>\n      <td>0</td>\n      <td>0</td>\n      <td>0</td>\n      <td>0</td>\n      <td>0</td>\n      <td>0</td>\n      <td>0</td>\n      <td>0</td>\n      <td>0</td>\n      <td>0</td>\n      <td>0</td>\n      <td>0</td>\n      <td>0</td>\n      <td>0</td>\n      <td>0</td>\n    </tr>\n    <tr>\n      <th>2</th>\n      <td>1</td>\n      <td>0</td>\n      <td>0</td>\n      <td>0</td>\n      <td>0</td>\n      <td>0</td>\n      <td>0</td>\n      <td>0</td>\n      <td>0</td>\n      <td>0</td>\n      <td>0</td>\n      <td>0</td>\n      <td>0</td>\n      <td>0</td>\n      <td>0</td>\n      <td>0</td>\n    </tr>\n    <tr>\n      <th>3</th>\n      <td>1</td>\n      <td>0</td>\n      <td>0</td>\n      <td>0</td>\n      <td>0</td>\n      <td>0</td>\n      <td>0</td>\n      <td>0</td>\n      <td>0</td>\n      <td>0</td>\n      <td>0</td>\n      <td>0</td>\n      <td>0</td>\n      <td>0</td>\n      <td>0</td>\n      <td>0</td>\n    </tr>\n    <tr>\n      <th>4</th>\n      <td>1</td>\n      <td>0</td>\n      <td>0</td>\n      <td>0</td>\n      <td>0</td>\n      <td>0</td>\n      <td>0</td>\n      <td>0</td>\n      <td>0</td>\n      <td>0</td>\n      <td>0</td>\n      <td>0</td>\n      <td>0</td>\n      <td>0</td>\n      <td>0</td>\n      <td>0</td>\n    </tr>\n    <tr>\n      <th>...</th>\n      <td>...</td>\n      <td>...</td>\n      <td>...</td>\n      <td>...</td>\n      <td>...</td>\n      <td>...</td>\n      <td>...</td>\n      <td>...</td>\n      <td>...</td>\n      <td>...</td>\n      <td>...</td>\n      <td>...</td>\n      <td>...</td>\n      <td>...</td>\n      <td>...</td>\n      <td>...</td>\n    </tr>\n    <tr>\n      <th>79</th>\n      <td>0</td>\n      <td>0</td>\n      <td>0</td>\n      <td>0</td>\n      <td>0</td>\n      <td>0</td>\n      <td>0</td>\n      <td>0</td>\n      <td>0</td>\n      <td>0</td>\n      <td>1</td>\n      <td>0</td>\n      <td>0</td>\n      <td>0</td>\n      <td>0</td>\n      <td>0</td>\n    </tr>\n    <tr>\n      <th>80</th>\n      <td>0</td>\n      <td>0</td>\n      <td>0</td>\n      <td>0</td>\n      <td>0</td>\n      <td>0</td>\n      <td>0</td>\n      <td>0</td>\n      <td>0</td>\n      <td>0</td>\n      <td>0</td>\n      <td>0</td>\n      <td>0</td>\n      <td>0</td>\n      <td>0</td>\n      <td>1</td>\n    </tr>\n    <tr>\n      <th>81</th>\n      <td>0</td>\n      <td>0</td>\n      <td>0</td>\n      <td>0</td>\n      <td>0</td>\n      <td>0</td>\n      <td>0</td>\n      <td>0</td>\n      <td>0</td>\n      <td>0</td>\n      <td>1</td>\n      <td>0</td>\n      <td>0</td>\n      <td>0</td>\n      <td>0</td>\n      <td>0</td>\n    </tr>\n    <tr>\n      <th>82</th>\n      <td>0</td>\n      <td>0</td>\n      <td>0</td>\n      <td>0</td>\n      <td>0</td>\n      <td>0</td>\n      <td>0</td>\n      <td>0</td>\n      <td>0</td>\n      <td>0</td>\n      <td>1</td>\n      <td>0</td>\n      <td>0</td>\n      <td>0</td>\n      <td>0</td>\n      <td>0</td>\n    </tr>\n    <tr>\n      <th>83</th>\n      <td>0</td>\n      <td>0</td>\n      <td>0</td>\n      <td>0</td>\n      <td>0</td>\n      <td>0</td>\n      <td>0</td>\n      <td>0</td>\n      <td>0</td>\n      <td>0</td>\n      <td>1</td>\n      <td>0</td>\n      <td>0</td>\n      <td>0</td>\n      <td>0</td>\n      <td>0</td>\n    </tr>\n  </tbody>\n</table>\n<p>84 rows × 16 columns</p>\n</div>"
     },
     "metadata": {},
     "execution_count": 12
    }
   ],
   "source": [
    "text_cat = df_cat.category\n",
    "bow = CountVectorizer()\n",
    "text_bow = bow.fit_transform(text_cat)\n",
    "pd.DataFrame(data = text_bow.toarray(), columns=bow.get_feature_names())"
   ]
  },
  {
   "cell_type": "code",
   "execution_count": 13,
   "metadata": {},
   "outputs": [
    {
     "output_type": "execute_result",
     "data": {
      "text/plain": [
       "    accessories  android  android games  books  cards  cinema  consoles  game  \\\n",
       "0             0        0              0      0      0       0         0     0   \n",
       "1             1        0              0      0      0       0         0     0   \n",
       "2             1        0              0      0      0       0         0     0   \n",
       "3             1        0              0      0      0       0         0     0   \n",
       "4             1        0              0      0      0       0         0     0   \n",
       "..          ...      ...            ...    ...    ...     ...       ...   ...   \n",
       "79            0        0              0      0      0       0         0     0   \n",
       "80            0        0              0      0      0       0         0     0   \n",
       "81            0        0              0      0      0       0         0     0   \n",
       "82            0        0              0      0      0       0         0     0   \n",
       "83            0        0              0      0      0       0         0     0   \n",
       "\n",
       "    game consoles  games  ...  mac  mac games  missing  music  payment  \\\n",
       "0               0      0  ...    0          0        0      0        0   \n",
       "1               0      0  ...    0          0        0      0        0   \n",
       "2               0      0  ...    0          0        0      0        0   \n",
       "3               0      0  ...    0          0        0      0        0   \n",
       "4               0      0  ...    0          0        0      0        0   \n",
       "..            ...    ...  ...  ...        ...      ...    ...      ...   \n",
       "79              0      0  ...    0          0        1      0        0   \n",
       "80              0      0  ...    0          0        0      0        0   \n",
       "81              0      0  ...    0          0        1      0        0   \n",
       "82              0      0  ...    0          0        1      0        0   \n",
       "83              0      0  ...    0          0        1      0        0   \n",
       "\n",
       "    payment cards  pc  pc games  programs  service  \n",
       "0               0   1         0         0        0  \n",
       "1               0   0         0         0        0  \n",
       "2               0   0         0         0        0  \n",
       "3               0   0         0         0        0  \n",
       "4               0   0         0         0        0  \n",
       "..            ...  ..       ...       ...      ...  \n",
       "79              0   0         0         0        0  \n",
       "80              0   0         0         0        1  \n",
       "81              0   0         0         0        0  \n",
       "82              0   0         0         0        0  \n",
       "83              0   0         0         0        0  \n",
       "\n",
       "[84 rows x 21 columns]"
      ],
      "text/html": "<div>\n<style scoped>\n    .dataframe tbody tr th:only-of-type {\n        vertical-align: middle;\n    }\n\n    .dataframe tbody tr th {\n        vertical-align: top;\n    }\n\n    .dataframe thead th {\n        text-align: right;\n    }\n</style>\n<table border=\"1\" class=\"dataframe\">\n  <thead>\n    <tr style=\"text-align: right;\">\n      <th></th>\n      <th>accessories</th>\n      <th>android</th>\n      <th>android games</th>\n      <th>books</th>\n      <th>cards</th>\n      <th>cinema</th>\n      <th>consoles</th>\n      <th>game</th>\n      <th>game consoles</th>\n      <th>games</th>\n      <th>...</th>\n      <th>mac</th>\n      <th>mac games</th>\n      <th>missing</th>\n      <th>music</th>\n      <th>payment</th>\n      <th>payment cards</th>\n      <th>pc</th>\n      <th>pc games</th>\n      <th>programs</th>\n      <th>service</th>\n    </tr>\n  </thead>\n  <tbody>\n    <tr>\n      <th>0</th>\n      <td>0</td>\n      <td>0</td>\n      <td>0</td>\n      <td>0</td>\n      <td>0</td>\n      <td>0</td>\n      <td>0</td>\n      <td>0</td>\n      <td>0</td>\n      <td>0</td>\n      <td>...</td>\n      <td>0</td>\n      <td>0</td>\n      <td>0</td>\n      <td>0</td>\n      <td>0</td>\n      <td>0</td>\n      <td>1</td>\n      <td>0</td>\n      <td>0</td>\n      <td>0</td>\n    </tr>\n    <tr>\n      <th>1</th>\n      <td>1</td>\n      <td>0</td>\n      <td>0</td>\n      <td>0</td>\n      <td>0</td>\n      <td>0</td>\n      <td>0</td>\n      <td>0</td>\n      <td>0</td>\n      <td>0</td>\n      <td>...</td>\n      <td>0</td>\n      <td>0</td>\n      <td>0</td>\n      <td>0</td>\n      <td>0</td>\n      <td>0</td>\n      <td>0</td>\n      <td>0</td>\n      <td>0</td>\n      <td>0</td>\n    </tr>\n    <tr>\n      <th>2</th>\n      <td>1</td>\n      <td>0</td>\n      <td>0</td>\n      <td>0</td>\n      <td>0</td>\n      <td>0</td>\n      <td>0</td>\n      <td>0</td>\n      <td>0</td>\n      <td>0</td>\n      <td>...</td>\n      <td>0</td>\n      <td>0</td>\n      <td>0</td>\n      <td>0</td>\n      <td>0</td>\n      <td>0</td>\n      <td>0</td>\n      <td>0</td>\n      <td>0</td>\n      <td>0</td>\n    </tr>\n    <tr>\n      <th>3</th>\n      <td>1</td>\n      <td>0</td>\n      <td>0</td>\n      <td>0</td>\n      <td>0</td>\n      <td>0</td>\n      <td>0</td>\n      <td>0</td>\n      <td>0</td>\n      <td>0</td>\n      <td>...</td>\n      <td>0</td>\n      <td>0</td>\n      <td>0</td>\n      <td>0</td>\n      <td>0</td>\n      <td>0</td>\n      <td>0</td>\n      <td>0</td>\n      <td>0</td>\n      <td>0</td>\n    </tr>\n    <tr>\n      <th>4</th>\n      <td>1</td>\n      <td>0</td>\n      <td>0</td>\n      <td>0</td>\n      <td>0</td>\n      <td>0</td>\n      <td>0</td>\n      <td>0</td>\n      <td>0</td>\n      <td>0</td>\n      <td>...</td>\n      <td>0</td>\n      <td>0</td>\n      <td>0</td>\n      <td>0</td>\n      <td>0</td>\n      <td>0</td>\n      <td>0</td>\n      <td>0</td>\n      <td>0</td>\n      <td>0</td>\n    </tr>\n    <tr>\n      <th>...</th>\n      <td>...</td>\n      <td>...</td>\n      <td>...</td>\n      <td>...</td>\n      <td>...</td>\n      <td>...</td>\n      <td>...</td>\n      <td>...</td>\n      <td>...</td>\n      <td>...</td>\n      <td>...</td>\n      <td>...</td>\n      <td>...</td>\n      <td>...</td>\n      <td>...</td>\n      <td>...</td>\n      <td>...</td>\n      <td>...</td>\n      <td>...</td>\n      <td>...</td>\n      <td>...</td>\n    </tr>\n    <tr>\n      <th>79</th>\n      <td>0</td>\n      <td>0</td>\n      <td>0</td>\n      <td>0</td>\n      <td>0</td>\n      <td>0</td>\n      <td>0</td>\n      <td>0</td>\n      <td>0</td>\n      <td>0</td>\n      <td>...</td>\n      <td>0</td>\n      <td>0</td>\n      <td>1</td>\n      <td>0</td>\n      <td>0</td>\n      <td>0</td>\n      <td>0</td>\n      <td>0</td>\n      <td>0</td>\n      <td>0</td>\n    </tr>\n    <tr>\n      <th>80</th>\n      <td>0</td>\n      <td>0</td>\n      <td>0</td>\n      <td>0</td>\n      <td>0</td>\n      <td>0</td>\n      <td>0</td>\n      <td>0</td>\n      <td>0</td>\n      <td>0</td>\n      <td>...</td>\n      <td>0</td>\n      <td>0</td>\n      <td>0</td>\n      <td>0</td>\n      <td>0</td>\n      <td>0</td>\n      <td>0</td>\n      <td>0</td>\n      <td>0</td>\n      <td>1</td>\n    </tr>\n    <tr>\n      <th>81</th>\n      <td>0</td>\n      <td>0</td>\n      <td>0</td>\n      <td>0</td>\n      <td>0</td>\n      <td>0</td>\n      <td>0</td>\n      <td>0</td>\n      <td>0</td>\n      <td>0</td>\n      <td>...</td>\n      <td>0</td>\n      <td>0</td>\n      <td>1</td>\n      <td>0</td>\n      <td>0</td>\n      <td>0</td>\n      <td>0</td>\n      <td>0</td>\n      <td>0</td>\n      <td>0</td>\n    </tr>\n    <tr>\n      <th>82</th>\n      <td>0</td>\n      <td>0</td>\n      <td>0</td>\n      <td>0</td>\n      <td>0</td>\n      <td>0</td>\n      <td>0</td>\n      <td>0</td>\n      <td>0</td>\n      <td>0</td>\n      <td>...</td>\n      <td>0</td>\n      <td>0</td>\n      <td>1</td>\n      <td>0</td>\n      <td>0</td>\n      <td>0</td>\n      <td>0</td>\n      <td>0</td>\n      <td>0</td>\n      <td>0</td>\n    </tr>\n    <tr>\n      <th>83</th>\n      <td>0</td>\n      <td>0</td>\n      <td>0</td>\n      <td>0</td>\n      <td>0</td>\n      <td>0</td>\n      <td>0</td>\n      <td>0</td>\n      <td>0</td>\n      <td>0</td>\n      <td>...</td>\n      <td>0</td>\n      <td>0</td>\n      <td>1</td>\n      <td>0</td>\n      <td>0</td>\n      <td>0</td>\n      <td>0</td>\n      <td>0</td>\n      <td>0</td>\n      <td>0</td>\n    </tr>\n  </tbody>\n</table>\n<p>84 rows × 21 columns</p>\n</div>"
     },
     "metadata": {},
     "execution_count": 13
    }
   ],
   "source": [
    "text_cat = df_cat.category\n",
    "bow = CountVectorizer(ngram_range=(1, 2))\n",
    "text_bow = bow.fit_transform(text_cat)\n",
    "pd.DataFrame(data = text_bow.toarray(), columns=bow.get_feature_names())"
   ]
  },
  {
   "cell_type": "code",
   "execution_count": 14,
   "metadata": {},
   "outputs": [
    {
     "output_type": "execute_result",
     "data": {
      "text/plain": [
       "    1c  360  3d  4k  accessories  additional  albums  and  artbooks  \\\n",
       "0    0    0   0   0            0           0       0    0         0   \n",
       "1    0    0   0   0            0           0       0    0         0   \n",
       "2    0    0   0   0            0           0       0    0         0   \n",
       "3    0    0   0   0            0           0       0    0         0   \n",
       "4    0    0   0   0            0           0       0    0         0   \n",
       "..  ..  ...  ..  ..          ...         ...     ...  ...       ...   \n",
       "79   0    0   0   0            0           0       0    0         0   \n",
       "80   0    0   0   0            0           0       0    0         0   \n",
       "81   0    0   0   0            0           0       0    0         0   \n",
       "82   0    0   0   0            0           0       0    0         0   \n",
       "83   0    0   0   0            0           0       0    0         0   \n",
       "\n",
       "    attributes  ...  souvenirs  sports  standard  stickers  tickets  toys  \\\n",
       "0            0  ...          0       0         0         0        0     0   \n",
       "1            0  ...          0       0         0         0        0     0   \n",
       "2            0  ...          0       0         0         0        0     0   \n",
       "3            0  ...          0       0         0         0        0     0   \n",
       "4            0  ...          0       0         0         0        0     0   \n",
       "..         ...  ...        ...     ...       ...       ...      ...   ...   \n",
       "79           0  ...          0       0         0         0        0     0   \n",
       "80           0  ...          0       0         0         0        1     0   \n",
       "81           0  ...          0       0         0         0        0     0   \n",
       "82           0  ...          0       0         0         0        0     0   \n",
       "83           0  ...          0       0         0         0        0     0   \n",
       "\n",
       "    video  vinyl  windows  xbox  \n",
       "0       0      0        0     0  \n",
       "1       0      0        0     0  \n",
       "2       0      0        0     0  \n",
       "3       0      0        0     0  \n",
       "4       0      0        0     0  \n",
       "..    ...    ...      ...   ...  \n",
       "79      0      0        0     0  \n",
       "80      0      0        0     0  \n",
       "81      0      0        0     0  \n",
       "82      0      0        0     0  \n",
       "83      0      0        0     0  \n",
       "\n",
       "[84 rows x 82 columns]"
      ],
      "text/html": "<div>\n<style scoped>\n    .dataframe tbody tr th:only-of-type {\n        vertical-align: middle;\n    }\n\n    .dataframe tbody tr th {\n        vertical-align: top;\n    }\n\n    .dataframe thead th {\n        text-align: right;\n    }\n</style>\n<table border=\"1\" class=\"dataframe\">\n  <thead>\n    <tr style=\"text-align: right;\">\n      <th></th>\n      <th>1c</th>\n      <th>360</th>\n      <th>3d</th>\n      <th>4k</th>\n      <th>accessories</th>\n      <th>additional</th>\n      <th>albums</th>\n      <th>and</th>\n      <th>artbooks</th>\n      <th>attributes</th>\n      <th>...</th>\n      <th>souvenirs</th>\n      <th>sports</th>\n      <th>standard</th>\n      <th>stickers</th>\n      <th>tickets</th>\n      <th>toys</th>\n      <th>video</th>\n      <th>vinyl</th>\n      <th>windows</th>\n      <th>xbox</th>\n    </tr>\n  </thead>\n  <tbody>\n    <tr>\n      <th>0</th>\n      <td>0</td>\n      <td>0</td>\n      <td>0</td>\n      <td>0</td>\n      <td>0</td>\n      <td>0</td>\n      <td>0</td>\n      <td>0</td>\n      <td>0</td>\n      <td>0</td>\n      <td>...</td>\n      <td>0</td>\n      <td>0</td>\n      <td>0</td>\n      <td>0</td>\n      <td>0</td>\n      <td>0</td>\n      <td>0</td>\n      <td>0</td>\n      <td>0</td>\n      <td>0</td>\n    </tr>\n    <tr>\n      <th>1</th>\n      <td>0</td>\n      <td>0</td>\n      <td>0</td>\n      <td>0</td>\n      <td>0</td>\n      <td>0</td>\n      <td>0</td>\n      <td>0</td>\n      <td>0</td>\n      <td>0</td>\n      <td>...</td>\n      <td>0</td>\n      <td>0</td>\n      <td>0</td>\n      <td>0</td>\n      <td>0</td>\n      <td>0</td>\n      <td>0</td>\n      <td>0</td>\n      <td>0</td>\n      <td>0</td>\n    </tr>\n    <tr>\n      <th>2</th>\n      <td>0</td>\n      <td>0</td>\n      <td>0</td>\n      <td>0</td>\n      <td>0</td>\n      <td>0</td>\n      <td>0</td>\n      <td>0</td>\n      <td>0</td>\n      <td>0</td>\n      <td>...</td>\n      <td>0</td>\n      <td>0</td>\n      <td>0</td>\n      <td>0</td>\n      <td>0</td>\n      <td>0</td>\n      <td>0</td>\n      <td>0</td>\n      <td>0</td>\n      <td>0</td>\n    </tr>\n    <tr>\n      <th>3</th>\n      <td>0</td>\n      <td>0</td>\n      <td>0</td>\n      <td>0</td>\n      <td>0</td>\n      <td>0</td>\n      <td>0</td>\n      <td>0</td>\n      <td>0</td>\n      <td>0</td>\n      <td>...</td>\n      <td>0</td>\n      <td>0</td>\n      <td>0</td>\n      <td>0</td>\n      <td>0</td>\n      <td>0</td>\n      <td>0</td>\n      <td>0</td>\n      <td>0</td>\n      <td>0</td>\n    </tr>\n    <tr>\n      <th>4</th>\n      <td>0</td>\n      <td>0</td>\n      <td>0</td>\n      <td>0</td>\n      <td>0</td>\n      <td>0</td>\n      <td>0</td>\n      <td>0</td>\n      <td>0</td>\n      <td>0</td>\n      <td>...</td>\n      <td>0</td>\n      <td>0</td>\n      <td>0</td>\n      <td>0</td>\n      <td>0</td>\n      <td>0</td>\n      <td>0</td>\n      <td>0</td>\n      <td>0</td>\n      <td>0</td>\n    </tr>\n    <tr>\n      <th>...</th>\n      <td>...</td>\n      <td>...</td>\n      <td>...</td>\n      <td>...</td>\n      <td>...</td>\n      <td>...</td>\n      <td>...</td>\n      <td>...</td>\n      <td>...</td>\n      <td>...</td>\n      <td>...</td>\n      <td>...</td>\n      <td>...</td>\n      <td>...</td>\n      <td>...</td>\n      <td>...</td>\n      <td>...</td>\n      <td>...</td>\n      <td>...</td>\n      <td>...</td>\n      <td>...</td>\n    </tr>\n    <tr>\n      <th>79</th>\n      <td>0</td>\n      <td>0</td>\n      <td>0</td>\n      <td>0</td>\n      <td>0</td>\n      <td>0</td>\n      <td>0</td>\n      <td>0</td>\n      <td>0</td>\n      <td>0</td>\n      <td>...</td>\n      <td>0</td>\n      <td>0</td>\n      <td>0</td>\n      <td>0</td>\n      <td>0</td>\n      <td>0</td>\n      <td>0</td>\n      <td>0</td>\n      <td>0</td>\n      <td>0</td>\n    </tr>\n    <tr>\n      <th>80</th>\n      <td>0</td>\n      <td>0</td>\n      <td>0</td>\n      <td>0</td>\n      <td>0</td>\n      <td>0</td>\n      <td>0</td>\n      <td>0</td>\n      <td>0</td>\n      <td>0</td>\n      <td>...</td>\n      <td>0</td>\n      <td>0</td>\n      <td>0</td>\n      <td>0</td>\n      <td>1</td>\n      <td>0</td>\n      <td>0</td>\n      <td>0</td>\n      <td>0</td>\n      <td>0</td>\n    </tr>\n    <tr>\n      <th>81</th>\n      <td>0</td>\n      <td>0</td>\n      <td>0</td>\n      <td>0</td>\n      <td>0</td>\n      <td>0</td>\n      <td>0</td>\n      <td>0</td>\n      <td>0</td>\n      <td>0</td>\n      <td>...</td>\n      <td>0</td>\n      <td>0</td>\n      <td>0</td>\n      <td>0</td>\n      <td>0</td>\n      <td>0</td>\n      <td>0</td>\n      <td>0</td>\n      <td>0</td>\n      <td>0</td>\n    </tr>\n    <tr>\n      <th>82</th>\n      <td>0</td>\n      <td>0</td>\n      <td>0</td>\n      <td>0</td>\n      <td>0</td>\n      <td>0</td>\n      <td>0</td>\n      <td>0</td>\n      <td>0</td>\n      <td>0</td>\n      <td>...</td>\n      <td>0</td>\n      <td>0</td>\n      <td>0</td>\n      <td>0</td>\n      <td>0</td>\n      <td>0</td>\n      <td>0</td>\n      <td>0</td>\n      <td>0</td>\n      <td>0</td>\n    </tr>\n    <tr>\n      <th>83</th>\n      <td>0</td>\n      <td>0</td>\n      <td>0</td>\n      <td>0</td>\n      <td>0</td>\n      <td>0</td>\n      <td>0</td>\n      <td>0</td>\n      <td>0</td>\n      <td>0</td>\n      <td>...</td>\n      <td>0</td>\n      <td>0</td>\n      <td>0</td>\n      <td>0</td>\n      <td>0</td>\n      <td>0</td>\n      <td>0</td>\n      <td>0</td>\n      <td>0</td>\n      <td>0</td>\n    </tr>\n  </tbody>\n</table>\n<p>84 rows × 82 columns</p>\n</div>"
     },
     "metadata": {},
     "execution_count": 14
    }
   ],
   "source": [
    "text_cat = df_cat.subcategory\n",
    "bow = CountVectorizer()\n",
    "text_bow = bow.fit_transform(text_cat)\n",
    "pd.DataFrame(data = text_bow.toarray(), columns=bow.get_feature_names())"
   ]
  },
  {
   "cell_type": "code",
   "execution_count": 15,
   "metadata": {},
   "outputs": [
    {
     "output_type": "execute_result",
     "data": {
      "text/plain": [
       "       00  000  00002  00003  00005  00006  00007  00008  00009h  00010  ...  \\\n",
       "0       0    0      0      0      0      0      0      0       0      0  ...   \n",
       "1       0    0      0      0      0      0      0      0       0      0  ...   \n",
       "2       0    0      0      0      0      0      0      0       0      0  ...   \n",
       "3       0    0      0      0      0      0      0      0       0      0  ...   \n",
       "4       0    0      0      0      0      0      0      0       0      0  ...   \n",
       "...    ..  ...    ...    ...    ...    ...    ...    ...     ...    ...  ...   \n",
       "22165   0    0      0      0      0      0      0      0       0      0  ...   \n",
       "22166   0    0      0      0      0      0      0      0       0      0  ...   \n",
       "22167   0    0      0      0      0      0      0      0       0      0  ...   \n",
       "22168   0    0      0      0      0      0      0      0       0      0  ...   \n",
       "22169   0    0      0      0      0      0      0      0       0      0  ...   \n",
       "\n",
       "       zverushki  zvongo  zykina  zz  çudovi  épilog  šapka  širli  žanna  žel  \n",
       "0              0       0       0   0       0       0      0      0      0    0  \n",
       "1              0       0       0   0       0       0      0      0      0    0  \n",
       "2              0       0       0   0       0       0      0      0      0    0  \n",
       "3              0       0       0   0       0       0      0      0      0    0  \n",
       "4              0       0       0   0       0       0      0      0      0    0  \n",
       "...          ...     ...     ...  ..     ...     ...    ...    ...    ...  ...  \n",
       "22165          0       0       0   0       0       0      0      0      0    0  \n",
       "22166          0       0       0   0       0       0      0      0      0    0  \n",
       "22167          0       0       0   0       0       0      0      0      0    0  \n",
       "22168          0       0       0   0       0       0      0      0      0    0  \n",
       "22169          0       0       0   0       0       0      0      0      0    0  \n",
       "\n",
       "[22170 rows x 14145 columns]"
      ],
      "text/html": "<div>\n<style scoped>\n    .dataframe tbody tr th:only-of-type {\n        vertical-align: middle;\n    }\n\n    .dataframe tbody tr th {\n        vertical-align: top;\n    }\n\n    .dataframe thead th {\n        text-align: right;\n    }\n</style>\n<table border=\"1\" class=\"dataframe\">\n  <thead>\n    <tr style=\"text-align: right;\">\n      <th></th>\n      <th>00</th>\n      <th>000</th>\n      <th>00002</th>\n      <th>00003</th>\n      <th>00005</th>\n      <th>00006</th>\n      <th>00007</th>\n      <th>00008</th>\n      <th>00009h</th>\n      <th>00010</th>\n      <th>...</th>\n      <th>zverushki</th>\n      <th>zvongo</th>\n      <th>zykina</th>\n      <th>zz</th>\n      <th>çudovi</th>\n      <th>épilog</th>\n      <th>šapka</th>\n      <th>širli</th>\n      <th>žanna</th>\n      <th>žel</th>\n    </tr>\n  </thead>\n  <tbody>\n    <tr>\n      <th>0</th>\n      <td>0</td>\n      <td>0</td>\n      <td>0</td>\n      <td>0</td>\n      <td>0</td>\n      <td>0</td>\n      <td>0</td>\n      <td>0</td>\n      <td>0</td>\n      <td>0</td>\n      <td>...</td>\n      <td>0</td>\n      <td>0</td>\n      <td>0</td>\n      <td>0</td>\n      <td>0</td>\n      <td>0</td>\n      <td>0</td>\n      <td>0</td>\n      <td>0</td>\n      <td>0</td>\n    </tr>\n    <tr>\n      <th>1</th>\n      <td>0</td>\n      <td>0</td>\n      <td>0</td>\n      <td>0</td>\n      <td>0</td>\n      <td>0</td>\n      <td>0</td>\n      <td>0</td>\n      <td>0</td>\n      <td>0</td>\n      <td>...</td>\n      <td>0</td>\n      <td>0</td>\n      <td>0</td>\n      <td>0</td>\n      <td>0</td>\n      <td>0</td>\n      <td>0</td>\n      <td>0</td>\n      <td>0</td>\n      <td>0</td>\n    </tr>\n    <tr>\n      <th>2</th>\n      <td>0</td>\n      <td>0</td>\n      <td>0</td>\n      <td>0</td>\n      <td>0</td>\n      <td>0</td>\n      <td>0</td>\n      <td>0</td>\n      <td>0</td>\n      <td>0</td>\n      <td>...</td>\n      <td>0</td>\n      <td>0</td>\n      <td>0</td>\n      <td>0</td>\n      <td>0</td>\n      <td>0</td>\n      <td>0</td>\n      <td>0</td>\n      <td>0</td>\n      <td>0</td>\n    </tr>\n    <tr>\n      <th>3</th>\n      <td>0</td>\n      <td>0</td>\n      <td>0</td>\n      <td>0</td>\n      <td>0</td>\n      <td>0</td>\n      <td>0</td>\n      <td>0</td>\n      <td>0</td>\n      <td>0</td>\n      <td>...</td>\n      <td>0</td>\n      <td>0</td>\n      <td>0</td>\n      <td>0</td>\n      <td>0</td>\n      <td>0</td>\n      <td>0</td>\n      <td>0</td>\n      <td>0</td>\n      <td>0</td>\n    </tr>\n    <tr>\n      <th>4</th>\n      <td>0</td>\n      <td>0</td>\n      <td>0</td>\n      <td>0</td>\n      <td>0</td>\n      <td>0</td>\n      <td>0</td>\n      <td>0</td>\n      <td>0</td>\n      <td>0</td>\n      <td>...</td>\n      <td>0</td>\n      <td>0</td>\n      <td>0</td>\n      <td>0</td>\n      <td>0</td>\n      <td>0</td>\n      <td>0</td>\n      <td>0</td>\n      <td>0</td>\n      <td>0</td>\n    </tr>\n    <tr>\n      <th>...</th>\n      <td>...</td>\n      <td>...</td>\n      <td>...</td>\n      <td>...</td>\n      <td>...</td>\n      <td>...</td>\n      <td>...</td>\n      <td>...</td>\n      <td>...</td>\n      <td>...</td>\n      <td>...</td>\n      <td>...</td>\n      <td>...</td>\n      <td>...</td>\n      <td>...</td>\n      <td>...</td>\n      <td>...</td>\n      <td>...</td>\n      <td>...</td>\n      <td>...</td>\n      <td>...</td>\n    </tr>\n    <tr>\n      <th>22165</th>\n      <td>0</td>\n      <td>0</td>\n      <td>0</td>\n      <td>0</td>\n      <td>0</td>\n      <td>0</td>\n      <td>0</td>\n      <td>0</td>\n      <td>0</td>\n      <td>0</td>\n      <td>...</td>\n      <td>0</td>\n      <td>0</td>\n      <td>0</td>\n      <td>0</td>\n      <td>0</td>\n      <td>0</td>\n      <td>0</td>\n      <td>0</td>\n      <td>0</td>\n      <td>0</td>\n    </tr>\n    <tr>\n      <th>22166</th>\n      <td>0</td>\n      <td>0</td>\n      <td>0</td>\n      <td>0</td>\n      <td>0</td>\n      <td>0</td>\n      <td>0</td>\n      <td>0</td>\n      <td>0</td>\n      <td>0</td>\n      <td>...</td>\n      <td>0</td>\n      <td>0</td>\n      <td>0</td>\n      <td>0</td>\n      <td>0</td>\n      <td>0</td>\n      <td>0</td>\n      <td>0</td>\n      <td>0</td>\n      <td>0</td>\n    </tr>\n    <tr>\n      <th>22167</th>\n      <td>0</td>\n      <td>0</td>\n      <td>0</td>\n      <td>0</td>\n      <td>0</td>\n      <td>0</td>\n      <td>0</td>\n      <td>0</td>\n      <td>0</td>\n      <td>0</td>\n      <td>...</td>\n      <td>0</td>\n      <td>0</td>\n      <td>0</td>\n      <td>0</td>\n      <td>0</td>\n      <td>0</td>\n      <td>0</td>\n      <td>0</td>\n      <td>0</td>\n      <td>0</td>\n    </tr>\n    <tr>\n      <th>22168</th>\n      <td>0</td>\n      <td>0</td>\n      <td>0</td>\n      <td>0</td>\n      <td>0</td>\n      <td>0</td>\n      <td>0</td>\n      <td>0</td>\n      <td>0</td>\n      <td>0</td>\n      <td>...</td>\n      <td>0</td>\n      <td>0</td>\n      <td>0</td>\n      <td>0</td>\n      <td>0</td>\n      <td>0</td>\n      <td>0</td>\n      <td>0</td>\n      <td>0</td>\n      <td>0</td>\n    </tr>\n    <tr>\n      <th>22169</th>\n      <td>0</td>\n      <td>0</td>\n      <td>0</td>\n      <td>0</td>\n      <td>0</td>\n      <td>0</td>\n      <td>0</td>\n      <td>0</td>\n      <td>0</td>\n      <td>0</td>\n      <td>...</td>\n      <td>0</td>\n      <td>0</td>\n      <td>0</td>\n      <td>0</td>\n      <td>0</td>\n      <td>0</td>\n      <td>0</td>\n      <td>0</td>\n      <td>0</td>\n      <td>0</td>\n    </tr>\n  </tbody>\n</table>\n<p>22170 rows × 14145 columns</p>\n</div>"
     },
     "metadata": {},
     "execution_count": 15
    }
   ],
   "source": [
    "text_cat = df_ite.item_name\n",
    "bow = CountVectorizer()\n",
    "text_bow = bow.fit_transform(text_cat)\n",
    "pd.DataFrame(data = text_bow.toarray(), columns=bow.get_feature_names())"
   ]
  },
  {
   "cell_type": "code",
   "execution_count": 16,
   "metadata": {},
   "outputs": [
    {
     "output_type": "execute_result",
     "data": {
      "text/plain": [
       "       00  00 07  000  000 accessories  000 dawn  000 kill  000 leagues  \\\n",
       "0       0      0    0                0         0         0            0   \n",
       "1       0      0    0                0         0         0            0   \n",
       "2       0      0    0                0         0         0            0   \n",
       "3       0      0    0                0         0         0            0   \n",
       "4       0      0    0                0         0         0            0   \n",
       "...    ..    ...  ...              ...       ...       ...          ...   \n",
       "22165   0      0    0                0         0         0            0   \n",
       "22166   0      0    0                0         0         0            0   \n",
       "22167   0      0    0                0         0         0            0   \n",
       "22168   0      0    0                0         0         0            0   \n",
       "22169   0      0    0                0         0         0            0   \n",
       "\n",
       "       000 miniatures  000 points  000 rulebook  ...  épilog  épilog cd  \\\n",
       "0                   0           0             0  ...       0          0   \n",
       "1                   0           0             0  ...       0          0   \n",
       "2                   0           0             0  ...       0          0   \n",
       "3                   0           0             0  ...       0          0   \n",
       "4                   0           0             0  ...       0          0   \n",
       "...               ...         ...           ...  ...     ...        ...   \n",
       "22165               0           0             0  ...       0          0   \n",
       "22166               0           0             0  ...       0          0   \n",
       "22167               0           0             0  ...       0          0   \n",
       "22168               0           0             0  ...       0          0   \n",
       "22169               0           0             0  ...       0          0   \n",
       "\n",
       "       šapka  šapka nevidimka  širli  širli myrli  žanna  žanna grand  žel  \\\n",
       "0          0                0      0            0      0            0    0   \n",
       "1          0                0      0            0      0            0    0   \n",
       "2          0                0      0            0      0            0    0   \n",
       "3          0                0      0            0      0            0    0   \n",
       "4          0                0      0            0      0            0    0   \n",
       "...      ...              ...    ...          ...    ...          ...  ...   \n",
       "22165      0                0      0            0      0            0    0   \n",
       "22166      0                0      0            0      0            0    0   \n",
       "22167      0                0      0            0      0            0    0   \n",
       "22168      0                0      0            0      0            0    0   \n",
       "22169      0                0      0            0      0            0    0   \n",
       "\n",
       "       žel boks  \n",
       "0             0  \n",
       "1             0  \n",
       "2             0  \n",
       "3             0  \n",
       "4             0  \n",
       "...         ...  \n",
       "22165         0  \n",
       "22166         0  \n",
       "22167         0  \n",
       "22168         0  \n",
       "22169         0  \n",
       "\n",
       "[22170 rows x 63267 columns]"
      ],
      "text/html": "<div>\n<style scoped>\n    .dataframe tbody tr th:only-of-type {\n        vertical-align: middle;\n    }\n\n    .dataframe tbody tr th {\n        vertical-align: top;\n    }\n\n    .dataframe thead th {\n        text-align: right;\n    }\n</style>\n<table border=\"1\" class=\"dataframe\">\n  <thead>\n    <tr style=\"text-align: right;\">\n      <th></th>\n      <th>00</th>\n      <th>00 07</th>\n      <th>000</th>\n      <th>000 accessories</th>\n      <th>000 dawn</th>\n      <th>000 kill</th>\n      <th>000 leagues</th>\n      <th>000 miniatures</th>\n      <th>000 points</th>\n      <th>000 rulebook</th>\n      <th>...</th>\n      <th>épilog</th>\n      <th>épilog cd</th>\n      <th>šapka</th>\n      <th>šapka nevidimka</th>\n      <th>širli</th>\n      <th>širli myrli</th>\n      <th>žanna</th>\n      <th>žanna grand</th>\n      <th>žel</th>\n      <th>žel boks</th>\n    </tr>\n  </thead>\n  <tbody>\n    <tr>\n      <th>0</th>\n      <td>0</td>\n      <td>0</td>\n      <td>0</td>\n      <td>0</td>\n      <td>0</td>\n      <td>0</td>\n      <td>0</td>\n      <td>0</td>\n      <td>0</td>\n      <td>0</td>\n      <td>...</td>\n      <td>0</td>\n      <td>0</td>\n      <td>0</td>\n      <td>0</td>\n      <td>0</td>\n      <td>0</td>\n      <td>0</td>\n      <td>0</td>\n      <td>0</td>\n      <td>0</td>\n    </tr>\n    <tr>\n      <th>1</th>\n      <td>0</td>\n      <td>0</td>\n      <td>0</td>\n      <td>0</td>\n      <td>0</td>\n      <td>0</td>\n      <td>0</td>\n      <td>0</td>\n      <td>0</td>\n      <td>0</td>\n      <td>...</td>\n      <td>0</td>\n      <td>0</td>\n      <td>0</td>\n      <td>0</td>\n      <td>0</td>\n      <td>0</td>\n      <td>0</td>\n      <td>0</td>\n      <td>0</td>\n      <td>0</td>\n    </tr>\n    <tr>\n      <th>2</th>\n      <td>0</td>\n      <td>0</td>\n      <td>0</td>\n      <td>0</td>\n      <td>0</td>\n      <td>0</td>\n      <td>0</td>\n      <td>0</td>\n      <td>0</td>\n      <td>0</td>\n      <td>...</td>\n      <td>0</td>\n      <td>0</td>\n      <td>0</td>\n      <td>0</td>\n      <td>0</td>\n      <td>0</td>\n      <td>0</td>\n      <td>0</td>\n      <td>0</td>\n      <td>0</td>\n    </tr>\n    <tr>\n      <th>3</th>\n      <td>0</td>\n      <td>0</td>\n      <td>0</td>\n      <td>0</td>\n      <td>0</td>\n      <td>0</td>\n      <td>0</td>\n      <td>0</td>\n      <td>0</td>\n      <td>0</td>\n      <td>...</td>\n      <td>0</td>\n      <td>0</td>\n      <td>0</td>\n      <td>0</td>\n      <td>0</td>\n      <td>0</td>\n      <td>0</td>\n      <td>0</td>\n      <td>0</td>\n      <td>0</td>\n    </tr>\n    <tr>\n      <th>4</th>\n      <td>0</td>\n      <td>0</td>\n      <td>0</td>\n      <td>0</td>\n      <td>0</td>\n      <td>0</td>\n      <td>0</td>\n      <td>0</td>\n      <td>0</td>\n      <td>0</td>\n      <td>...</td>\n      <td>0</td>\n      <td>0</td>\n      <td>0</td>\n      <td>0</td>\n      <td>0</td>\n      <td>0</td>\n      <td>0</td>\n      <td>0</td>\n      <td>0</td>\n      <td>0</td>\n    </tr>\n    <tr>\n      <th>...</th>\n      <td>...</td>\n      <td>...</td>\n      <td>...</td>\n      <td>...</td>\n      <td>...</td>\n      <td>...</td>\n      <td>...</td>\n      <td>...</td>\n      <td>...</td>\n      <td>...</td>\n      <td>...</td>\n      <td>...</td>\n      <td>...</td>\n      <td>...</td>\n      <td>...</td>\n      <td>...</td>\n      <td>...</td>\n      <td>...</td>\n      <td>...</td>\n      <td>...</td>\n      <td>...</td>\n    </tr>\n    <tr>\n      <th>22165</th>\n      <td>0</td>\n      <td>0</td>\n      <td>0</td>\n      <td>0</td>\n      <td>0</td>\n      <td>0</td>\n      <td>0</td>\n      <td>0</td>\n      <td>0</td>\n      <td>0</td>\n      <td>...</td>\n      <td>0</td>\n      <td>0</td>\n      <td>0</td>\n      <td>0</td>\n      <td>0</td>\n      <td>0</td>\n      <td>0</td>\n      <td>0</td>\n      <td>0</td>\n      <td>0</td>\n    </tr>\n    <tr>\n      <th>22166</th>\n      <td>0</td>\n      <td>0</td>\n      <td>0</td>\n      <td>0</td>\n      <td>0</td>\n      <td>0</td>\n      <td>0</td>\n      <td>0</td>\n      <td>0</td>\n      <td>0</td>\n      <td>...</td>\n      <td>0</td>\n      <td>0</td>\n      <td>0</td>\n      <td>0</td>\n      <td>0</td>\n      <td>0</td>\n      <td>0</td>\n      <td>0</td>\n      <td>0</td>\n      <td>0</td>\n    </tr>\n    <tr>\n      <th>22167</th>\n      <td>0</td>\n      <td>0</td>\n      <td>0</td>\n      <td>0</td>\n      <td>0</td>\n      <td>0</td>\n      <td>0</td>\n      <td>0</td>\n      <td>0</td>\n      <td>0</td>\n      <td>...</td>\n      <td>0</td>\n      <td>0</td>\n      <td>0</td>\n      <td>0</td>\n      <td>0</td>\n      <td>0</td>\n      <td>0</td>\n      <td>0</td>\n      <td>0</td>\n      <td>0</td>\n    </tr>\n    <tr>\n      <th>22168</th>\n      <td>0</td>\n      <td>0</td>\n      <td>0</td>\n      <td>0</td>\n      <td>0</td>\n      <td>0</td>\n      <td>0</td>\n      <td>0</td>\n      <td>0</td>\n      <td>0</td>\n      <td>...</td>\n      <td>0</td>\n      <td>0</td>\n      <td>0</td>\n      <td>0</td>\n      <td>0</td>\n      <td>0</td>\n      <td>0</td>\n      <td>0</td>\n      <td>0</td>\n      <td>0</td>\n    </tr>\n    <tr>\n      <th>22169</th>\n      <td>0</td>\n      <td>0</td>\n      <td>0</td>\n      <td>0</td>\n      <td>0</td>\n      <td>0</td>\n      <td>0</td>\n      <td>0</td>\n      <td>0</td>\n      <td>0</td>\n      <td>...</td>\n      <td>0</td>\n      <td>0</td>\n      <td>0</td>\n      <td>0</td>\n      <td>0</td>\n      <td>0</td>\n      <td>0</td>\n      <td>0</td>\n      <td>0</td>\n      <td>0</td>\n    </tr>\n  </tbody>\n</table>\n<p>22170 rows × 63267 columns</p>\n</div>"
     },
     "metadata": {},
     "execution_count": 16
    }
   ],
   "source": [
    "text_cat = df_ite.item_name\n",
    "bow = CountVectorizer(ngram_range=(1, 2), dtype=np.int32)\n",
    "text_bow = bow.fit_transform(text_cat)\n",
    "pd.DataFrame(data = text_bow.toarray(), columns=bow.get_feature_names())\n"
   ]
  },
  {
   "cell_type": "code",
   "execution_count": 17,
   "metadata": {},
   "outputs": [
    {
     "output_type": "execute_result",
     "data": {
      "text/plain": [
       "        00  000  00002  00003  00005  00006  00007  00008  00009h  00010  ...  \\\n",
       "0      0.0  0.0    0.0    0.0    0.0    0.0    0.0    0.0     0.0    0.0  ...   \n",
       "1      0.0  0.0    0.0    0.0    0.0    0.0    0.0    0.0     0.0    0.0  ...   \n",
       "2      0.0  0.0    0.0    0.0    0.0    0.0    0.0    0.0     0.0    0.0  ...   \n",
       "3      0.0  0.0    0.0    0.0    0.0    0.0    0.0    0.0     0.0    0.0  ...   \n",
       "4      0.0  0.0    0.0    0.0    0.0    0.0    0.0    0.0     0.0    0.0  ...   \n",
       "...    ...  ...    ...    ...    ...    ...    ...    ...     ...    ...  ...   \n",
       "22165  0.0  0.0    0.0    0.0    0.0    0.0    0.0    0.0     0.0    0.0  ...   \n",
       "22166  0.0  0.0    0.0    0.0    0.0    0.0    0.0    0.0     0.0    0.0  ...   \n",
       "22167  0.0  0.0    0.0    0.0    0.0    0.0    0.0    0.0     0.0    0.0  ...   \n",
       "22168  0.0  0.0    0.0    0.0    0.0    0.0    0.0    0.0     0.0    0.0  ...   \n",
       "22169  0.0  0.0    0.0    0.0    0.0    0.0    0.0    0.0     0.0    0.0  ...   \n",
       "\n",
       "       zverushki  zvongo  zykina   zz  çudovi  épilog  šapka  širli  žanna  \\\n",
       "0            0.0     0.0     0.0  0.0     0.0     0.0    0.0    0.0    0.0   \n",
       "1            0.0     0.0     0.0  0.0     0.0     0.0    0.0    0.0    0.0   \n",
       "2            0.0     0.0     0.0  0.0     0.0     0.0    0.0    0.0    0.0   \n",
       "3            0.0     0.0     0.0  0.0     0.0     0.0    0.0    0.0    0.0   \n",
       "4            0.0     0.0     0.0  0.0     0.0     0.0    0.0    0.0    0.0   \n",
       "...          ...     ...     ...  ...     ...     ...    ...    ...    ...   \n",
       "22165        0.0     0.0     0.0  0.0     0.0     0.0    0.0    0.0    0.0   \n",
       "22166        0.0     0.0     0.0  0.0     0.0     0.0    0.0    0.0    0.0   \n",
       "22167        0.0     0.0     0.0  0.0     0.0     0.0    0.0    0.0    0.0   \n",
       "22168        0.0     0.0     0.0  0.0     0.0     0.0    0.0    0.0    0.0   \n",
       "22169        0.0     0.0     0.0  0.0     0.0     0.0    0.0    0.0    0.0   \n",
       "\n",
       "       žel  \n",
       "0      0.0  \n",
       "1      0.0  \n",
       "2      0.0  \n",
       "3      0.0  \n",
       "4      0.0  \n",
       "...    ...  \n",
       "22165  0.0  \n",
       "22166  0.0  \n",
       "22167  0.0  \n",
       "22168  0.0  \n",
       "22169  0.0  \n",
       "\n",
       "[22170 rows x 14145 columns]"
      ],
      "text/html": "<div>\n<style scoped>\n    .dataframe tbody tr th:only-of-type {\n        vertical-align: middle;\n    }\n\n    .dataframe tbody tr th {\n        vertical-align: top;\n    }\n\n    .dataframe thead th {\n        text-align: right;\n    }\n</style>\n<table border=\"1\" class=\"dataframe\">\n  <thead>\n    <tr style=\"text-align: right;\">\n      <th></th>\n      <th>00</th>\n      <th>000</th>\n      <th>00002</th>\n      <th>00003</th>\n      <th>00005</th>\n      <th>00006</th>\n      <th>00007</th>\n      <th>00008</th>\n      <th>00009h</th>\n      <th>00010</th>\n      <th>...</th>\n      <th>zverushki</th>\n      <th>zvongo</th>\n      <th>zykina</th>\n      <th>zz</th>\n      <th>çudovi</th>\n      <th>épilog</th>\n      <th>šapka</th>\n      <th>širli</th>\n      <th>žanna</th>\n      <th>žel</th>\n    </tr>\n  </thead>\n  <tbody>\n    <tr>\n      <th>0</th>\n      <td>0.0</td>\n      <td>0.0</td>\n      <td>0.0</td>\n      <td>0.0</td>\n      <td>0.0</td>\n      <td>0.0</td>\n      <td>0.0</td>\n      <td>0.0</td>\n      <td>0.0</td>\n      <td>0.0</td>\n      <td>...</td>\n      <td>0.0</td>\n      <td>0.0</td>\n      <td>0.0</td>\n      <td>0.0</td>\n      <td>0.0</td>\n      <td>0.0</td>\n      <td>0.0</td>\n      <td>0.0</td>\n      <td>0.0</td>\n      <td>0.0</td>\n    </tr>\n    <tr>\n      <th>1</th>\n      <td>0.0</td>\n      <td>0.0</td>\n      <td>0.0</td>\n      <td>0.0</td>\n      <td>0.0</td>\n      <td>0.0</td>\n      <td>0.0</td>\n      <td>0.0</td>\n      <td>0.0</td>\n      <td>0.0</td>\n      <td>...</td>\n      <td>0.0</td>\n      <td>0.0</td>\n      <td>0.0</td>\n      <td>0.0</td>\n      <td>0.0</td>\n      <td>0.0</td>\n      <td>0.0</td>\n      <td>0.0</td>\n      <td>0.0</td>\n      <td>0.0</td>\n    </tr>\n    <tr>\n      <th>2</th>\n      <td>0.0</td>\n      <td>0.0</td>\n      <td>0.0</td>\n      <td>0.0</td>\n      <td>0.0</td>\n      <td>0.0</td>\n      <td>0.0</td>\n      <td>0.0</td>\n      <td>0.0</td>\n      <td>0.0</td>\n      <td>...</td>\n      <td>0.0</td>\n      <td>0.0</td>\n      <td>0.0</td>\n      <td>0.0</td>\n      <td>0.0</td>\n      <td>0.0</td>\n      <td>0.0</td>\n      <td>0.0</td>\n      <td>0.0</td>\n      <td>0.0</td>\n    </tr>\n    <tr>\n      <th>3</th>\n      <td>0.0</td>\n      <td>0.0</td>\n      <td>0.0</td>\n      <td>0.0</td>\n      <td>0.0</td>\n      <td>0.0</td>\n      <td>0.0</td>\n      <td>0.0</td>\n      <td>0.0</td>\n      <td>0.0</td>\n      <td>...</td>\n      <td>0.0</td>\n      <td>0.0</td>\n      <td>0.0</td>\n      <td>0.0</td>\n      <td>0.0</td>\n      <td>0.0</td>\n      <td>0.0</td>\n      <td>0.0</td>\n      <td>0.0</td>\n      <td>0.0</td>\n    </tr>\n    <tr>\n      <th>4</th>\n      <td>0.0</td>\n      <td>0.0</td>\n      <td>0.0</td>\n      <td>0.0</td>\n      <td>0.0</td>\n      <td>0.0</td>\n      <td>0.0</td>\n      <td>0.0</td>\n      <td>0.0</td>\n      <td>0.0</td>\n      <td>...</td>\n      <td>0.0</td>\n      <td>0.0</td>\n      <td>0.0</td>\n      <td>0.0</td>\n      <td>0.0</td>\n      <td>0.0</td>\n      <td>0.0</td>\n      <td>0.0</td>\n      <td>0.0</td>\n      <td>0.0</td>\n    </tr>\n    <tr>\n      <th>...</th>\n      <td>...</td>\n      <td>...</td>\n      <td>...</td>\n      <td>...</td>\n      <td>...</td>\n      <td>...</td>\n      <td>...</td>\n      <td>...</td>\n      <td>...</td>\n      <td>...</td>\n      <td>...</td>\n      <td>...</td>\n      <td>...</td>\n      <td>...</td>\n      <td>...</td>\n      <td>...</td>\n      <td>...</td>\n      <td>...</td>\n      <td>...</td>\n      <td>...</td>\n      <td>...</td>\n    </tr>\n    <tr>\n      <th>22165</th>\n      <td>0.0</td>\n      <td>0.0</td>\n      <td>0.0</td>\n      <td>0.0</td>\n      <td>0.0</td>\n      <td>0.0</td>\n      <td>0.0</td>\n      <td>0.0</td>\n      <td>0.0</td>\n      <td>0.0</td>\n      <td>...</td>\n      <td>0.0</td>\n      <td>0.0</td>\n      <td>0.0</td>\n      <td>0.0</td>\n      <td>0.0</td>\n      <td>0.0</td>\n      <td>0.0</td>\n      <td>0.0</td>\n      <td>0.0</td>\n      <td>0.0</td>\n    </tr>\n    <tr>\n      <th>22166</th>\n      <td>0.0</td>\n      <td>0.0</td>\n      <td>0.0</td>\n      <td>0.0</td>\n      <td>0.0</td>\n      <td>0.0</td>\n      <td>0.0</td>\n      <td>0.0</td>\n      <td>0.0</td>\n      <td>0.0</td>\n      <td>...</td>\n      <td>0.0</td>\n      <td>0.0</td>\n      <td>0.0</td>\n      <td>0.0</td>\n      <td>0.0</td>\n      <td>0.0</td>\n      <td>0.0</td>\n      <td>0.0</td>\n      <td>0.0</td>\n      <td>0.0</td>\n    </tr>\n    <tr>\n      <th>22167</th>\n      <td>0.0</td>\n      <td>0.0</td>\n      <td>0.0</td>\n      <td>0.0</td>\n      <td>0.0</td>\n      <td>0.0</td>\n      <td>0.0</td>\n      <td>0.0</td>\n      <td>0.0</td>\n      <td>0.0</td>\n      <td>...</td>\n      <td>0.0</td>\n      <td>0.0</td>\n      <td>0.0</td>\n      <td>0.0</td>\n      <td>0.0</td>\n      <td>0.0</td>\n      <td>0.0</td>\n      <td>0.0</td>\n      <td>0.0</td>\n      <td>0.0</td>\n    </tr>\n    <tr>\n      <th>22168</th>\n      <td>0.0</td>\n      <td>0.0</td>\n      <td>0.0</td>\n      <td>0.0</td>\n      <td>0.0</td>\n      <td>0.0</td>\n      <td>0.0</td>\n      <td>0.0</td>\n      <td>0.0</td>\n      <td>0.0</td>\n      <td>...</td>\n      <td>0.0</td>\n      <td>0.0</td>\n      <td>0.0</td>\n      <td>0.0</td>\n      <td>0.0</td>\n      <td>0.0</td>\n      <td>0.0</td>\n      <td>0.0</td>\n      <td>0.0</td>\n      <td>0.0</td>\n    </tr>\n    <tr>\n      <th>22169</th>\n      <td>0.0</td>\n      <td>0.0</td>\n      <td>0.0</td>\n      <td>0.0</td>\n      <td>0.0</td>\n      <td>0.0</td>\n      <td>0.0</td>\n      <td>0.0</td>\n      <td>0.0</td>\n      <td>0.0</td>\n      <td>...</td>\n      <td>0.0</td>\n      <td>0.0</td>\n      <td>0.0</td>\n      <td>0.0</td>\n      <td>0.0</td>\n      <td>0.0</td>\n      <td>0.0</td>\n      <td>0.0</td>\n      <td>0.0</td>\n      <td>0.0</td>\n    </tr>\n  </tbody>\n</table>\n<p>22170 rows × 14145 columns</p>\n</div>"
     },
     "metadata": {},
     "execution_count": 17
    }
   ],
   "source": [
    "from sklearn.feature_extraction.text import TfidfVectorizer\n",
    "text_cat = df_ite.item_name\n",
    "bow = TfidfVectorizer( dtype=np.float32)\n",
    "text_bow = bow.fit_transform(text_cat)\n",
    "df_items_Tfi = pd.DataFrame(data = text_bow.toarray(), columns=bow.get_feature_names())\n",
    "df_items_Tfi"
   ]
  },
  {
   "cell_type": "code",
   "execution_count": 18,
   "metadata": {},
   "outputs": [
    {
     "output_type": "execute_result",
     "data": {
      "text/plain": [
       "True"
      ]
     },
     "metadata": {},
     "execution_count": 18
    }
   ],
   "source": [
    "value = 1 in df_items_Tfi.iloc[:,1]\n",
    "value"
   ]
  },
  {
   "source": [
    "text_cat = df_ite.item_name\n",
    "bow = TfidfVectorizer(ngram_range=(1, 2), dtype=np.float32)\n",
    "text_bow = bow.fit_transform(text_cat)\n",
    "df_items_Tfi = pd.DataFrame(data = text_bow.toarray(), columns=bow.get_feature_names())\n",
    "\n",
    "\n"
   ],
   "cell_type": "code",
   "metadata": {},
   "execution_count": 21,
   "outputs": []
  },
  {
   "cell_type": "code",
   "execution_count": 25,
   "metadata": {},
   "outputs": [
    {
     "output_type": "execute_result",
     "data": {
      "text/plain": [
       "        00  00 07       000  000 accessories  000 dawn  000 kill  000 leagues  \\\n",
       "34     0.0    0.0  0.229884         0.000000  0.000000       0.0     0.000000   \n",
       "198    0.0    0.0  0.204014         0.000000  0.000000       0.0     0.309339   \n",
       "5267   0.0    0.0  0.197298         0.000000  0.000000       0.0     0.000000   \n",
       "7569   0.0    0.0  0.262739         0.199191  0.000000       0.0     0.000000   \n",
       "7570   0.0    0.0  0.178291         0.000000  0.000000       0.0     0.000000   \n",
       "...    ...    ...       ...              ...       ...       ...          ...   \n",
       "7774   0.0    0.0  0.256641         0.000000  0.000000       0.0     0.000000   \n",
       "7775   0.0    0.0  0.203885         0.000000  0.000000       0.0     0.000000   \n",
       "7776   0.0    0.0  0.196248         0.000000  0.000000       0.0     0.000000   \n",
       "7778   0.0    0.0  0.213024         0.000000  0.240349       0.0     0.000000   \n",
       "13153  0.0    0.0  0.208154         0.000000  0.234854       0.0     0.000000   \n",
       "\n",
       "       000 miniatures  000 points  000 rulebook  ...  épilog  épilog cd  \\\n",
       "34           0.000000    0.000000      0.000000  ...     0.0        0.0   \n",
       "198          0.000000    0.000000      0.000000  ...     0.0        0.0   \n",
       "5267         0.000000    0.299156      0.000000  ...     0.0        0.0   \n",
       "7569         0.000000    0.000000      0.199191  ...     0.0        0.0   \n",
       "7570         0.200241    0.000000      0.000000  ...     0.0        0.0   \n",
       "...               ...         ...           ...  ...     ...        ...   \n",
       "7774         0.000000    0.000000      0.000000  ...     0.0        0.0   \n",
       "7775         0.000000    0.000000      0.000000  ...     0.0        0.0   \n",
       "7776         0.000000    0.000000      0.000000  ...     0.0        0.0   \n",
       "7778         0.000000    0.000000      0.000000  ...     0.0        0.0   \n",
       "13153        0.000000    0.000000      0.000000  ...     0.0        0.0   \n",
       "\n",
       "       šapka  šapka nevidimka  širli  širli myrli  žanna  žanna grand  žel  \\\n",
       "34       0.0              0.0    0.0          0.0    0.0          0.0  0.0   \n",
       "198      0.0              0.0    0.0          0.0    0.0          0.0  0.0   \n",
       "5267     0.0              0.0    0.0          0.0    0.0          0.0  0.0   \n",
       "7569     0.0              0.0    0.0          0.0    0.0          0.0  0.0   \n",
       "7570     0.0              0.0    0.0          0.0    0.0          0.0  0.0   \n",
       "...      ...              ...    ...          ...    ...          ...  ...   \n",
       "7774     0.0              0.0    0.0          0.0    0.0          0.0  0.0   \n",
       "7775     0.0              0.0    0.0          0.0    0.0          0.0  0.0   \n",
       "7776     0.0              0.0    0.0          0.0    0.0          0.0  0.0   \n",
       "7778     0.0              0.0    0.0          0.0    0.0          0.0  0.0   \n",
       "13153    0.0              0.0    0.0          0.0    0.0          0.0  0.0   \n",
       "\n",
       "       žel boks  \n",
       "34          0.0  \n",
       "198         0.0  \n",
       "5267        0.0  \n",
       "7569        0.0  \n",
       "7570        0.0  \n",
       "...         ...  \n",
       "7774        0.0  \n",
       "7775        0.0  \n",
       "7776        0.0  \n",
       "7778        0.0  \n",
       "13153       0.0  \n",
       "\n",
       "[66 rows x 63267 columns]"
      ],
      "text/html": "<div>\n<style scoped>\n    .dataframe tbody tr th:only-of-type {\n        vertical-align: middle;\n    }\n\n    .dataframe tbody tr th {\n        vertical-align: top;\n    }\n\n    .dataframe thead th {\n        text-align: right;\n    }\n</style>\n<table border=\"1\" class=\"dataframe\">\n  <thead>\n    <tr style=\"text-align: right;\">\n      <th></th>\n      <th>00</th>\n      <th>00 07</th>\n      <th>000</th>\n      <th>000 accessories</th>\n      <th>000 dawn</th>\n      <th>000 kill</th>\n      <th>000 leagues</th>\n      <th>000 miniatures</th>\n      <th>000 points</th>\n      <th>000 rulebook</th>\n      <th>...</th>\n      <th>épilog</th>\n      <th>épilog cd</th>\n      <th>šapka</th>\n      <th>šapka nevidimka</th>\n      <th>širli</th>\n      <th>širli myrli</th>\n      <th>žanna</th>\n      <th>žanna grand</th>\n      <th>žel</th>\n      <th>žel boks</th>\n    </tr>\n  </thead>\n  <tbody>\n    <tr>\n      <th>34</th>\n      <td>0.0</td>\n      <td>0.0</td>\n      <td>0.229884</td>\n      <td>0.000000</td>\n      <td>0.000000</td>\n      <td>0.0</td>\n      <td>0.000000</td>\n      <td>0.000000</td>\n      <td>0.000000</td>\n      <td>0.000000</td>\n      <td>...</td>\n      <td>0.0</td>\n      <td>0.0</td>\n      <td>0.0</td>\n      <td>0.0</td>\n      <td>0.0</td>\n      <td>0.0</td>\n      <td>0.0</td>\n      <td>0.0</td>\n      <td>0.0</td>\n      <td>0.0</td>\n    </tr>\n    <tr>\n      <th>198</th>\n      <td>0.0</td>\n      <td>0.0</td>\n      <td>0.204014</td>\n      <td>0.000000</td>\n      <td>0.000000</td>\n      <td>0.0</td>\n      <td>0.309339</td>\n      <td>0.000000</td>\n      <td>0.000000</td>\n      <td>0.000000</td>\n      <td>...</td>\n      <td>0.0</td>\n      <td>0.0</td>\n      <td>0.0</td>\n      <td>0.0</td>\n      <td>0.0</td>\n      <td>0.0</td>\n      <td>0.0</td>\n      <td>0.0</td>\n      <td>0.0</td>\n      <td>0.0</td>\n    </tr>\n    <tr>\n      <th>5267</th>\n      <td>0.0</td>\n      <td>0.0</td>\n      <td>0.197298</td>\n      <td>0.000000</td>\n      <td>0.000000</td>\n      <td>0.0</td>\n      <td>0.000000</td>\n      <td>0.000000</td>\n      <td>0.299156</td>\n      <td>0.000000</td>\n      <td>...</td>\n      <td>0.0</td>\n      <td>0.0</td>\n      <td>0.0</td>\n      <td>0.0</td>\n      <td>0.0</td>\n      <td>0.0</td>\n      <td>0.0</td>\n      <td>0.0</td>\n      <td>0.0</td>\n      <td>0.0</td>\n    </tr>\n    <tr>\n      <th>7569</th>\n      <td>0.0</td>\n      <td>0.0</td>\n      <td>0.262739</td>\n      <td>0.199191</td>\n      <td>0.000000</td>\n      <td>0.0</td>\n      <td>0.000000</td>\n      <td>0.000000</td>\n      <td>0.000000</td>\n      <td>0.199191</td>\n      <td>...</td>\n      <td>0.0</td>\n      <td>0.0</td>\n      <td>0.0</td>\n      <td>0.0</td>\n      <td>0.0</td>\n      <td>0.0</td>\n      <td>0.0</td>\n      <td>0.0</td>\n      <td>0.0</td>\n      <td>0.0</td>\n    </tr>\n    <tr>\n      <th>7570</th>\n      <td>0.0</td>\n      <td>0.0</td>\n      <td>0.178291</td>\n      <td>0.000000</td>\n      <td>0.000000</td>\n      <td>0.0</td>\n      <td>0.000000</td>\n      <td>0.200241</td>\n      <td>0.000000</td>\n      <td>0.000000</td>\n      <td>...</td>\n      <td>0.0</td>\n      <td>0.0</td>\n      <td>0.0</td>\n      <td>0.0</td>\n      <td>0.0</td>\n      <td>0.0</td>\n      <td>0.0</td>\n      <td>0.0</td>\n      <td>0.0</td>\n      <td>0.0</td>\n    </tr>\n    <tr>\n      <th>...</th>\n      <td>...</td>\n      <td>...</td>\n      <td>...</td>\n      <td>...</td>\n      <td>...</td>\n      <td>...</td>\n      <td>...</td>\n      <td>...</td>\n      <td>...</td>\n      <td>...</td>\n      <td>...</td>\n      <td>...</td>\n      <td>...</td>\n      <td>...</td>\n      <td>...</td>\n      <td>...</td>\n      <td>...</td>\n      <td>...</td>\n      <td>...</td>\n      <td>...</td>\n      <td>...</td>\n    </tr>\n    <tr>\n      <th>7774</th>\n      <td>0.0</td>\n      <td>0.0</td>\n      <td>0.256641</td>\n      <td>0.000000</td>\n      <td>0.000000</td>\n      <td>0.0</td>\n      <td>0.000000</td>\n      <td>0.000000</td>\n      <td>0.000000</td>\n      <td>0.000000</td>\n      <td>...</td>\n      <td>0.0</td>\n      <td>0.0</td>\n      <td>0.0</td>\n      <td>0.0</td>\n      <td>0.0</td>\n      <td>0.0</td>\n      <td>0.0</td>\n      <td>0.0</td>\n      <td>0.0</td>\n      <td>0.0</td>\n    </tr>\n    <tr>\n      <th>7775</th>\n      <td>0.0</td>\n      <td>0.0</td>\n      <td>0.203885</td>\n      <td>0.000000</td>\n      <td>0.000000</td>\n      <td>0.0</td>\n      <td>0.000000</td>\n      <td>0.000000</td>\n      <td>0.000000</td>\n      <td>0.000000</td>\n      <td>...</td>\n      <td>0.0</td>\n      <td>0.0</td>\n      <td>0.0</td>\n      <td>0.0</td>\n      <td>0.0</td>\n      <td>0.0</td>\n      <td>0.0</td>\n      <td>0.0</td>\n      <td>0.0</td>\n      <td>0.0</td>\n    </tr>\n    <tr>\n      <th>7776</th>\n      <td>0.0</td>\n      <td>0.0</td>\n      <td>0.196248</td>\n      <td>0.000000</td>\n      <td>0.000000</td>\n      <td>0.0</td>\n      <td>0.000000</td>\n      <td>0.000000</td>\n      <td>0.000000</td>\n      <td>0.000000</td>\n      <td>...</td>\n      <td>0.0</td>\n      <td>0.0</td>\n      <td>0.0</td>\n      <td>0.0</td>\n      <td>0.0</td>\n      <td>0.0</td>\n      <td>0.0</td>\n      <td>0.0</td>\n      <td>0.0</td>\n      <td>0.0</td>\n    </tr>\n    <tr>\n      <th>7778</th>\n      <td>0.0</td>\n      <td>0.0</td>\n      <td>0.213024</td>\n      <td>0.000000</td>\n      <td>0.240349</td>\n      <td>0.0</td>\n      <td>0.000000</td>\n      <td>0.000000</td>\n      <td>0.000000</td>\n      <td>0.000000</td>\n      <td>...</td>\n      <td>0.0</td>\n      <td>0.0</td>\n      <td>0.0</td>\n      <td>0.0</td>\n      <td>0.0</td>\n      <td>0.0</td>\n      <td>0.0</td>\n      <td>0.0</td>\n      <td>0.0</td>\n      <td>0.0</td>\n    </tr>\n    <tr>\n      <th>13153</th>\n      <td>0.0</td>\n      <td>0.0</td>\n      <td>0.208154</td>\n      <td>0.000000</td>\n      <td>0.234854</td>\n      <td>0.0</td>\n      <td>0.000000</td>\n      <td>0.000000</td>\n      <td>0.000000</td>\n      <td>0.000000</td>\n      <td>...</td>\n      <td>0.0</td>\n      <td>0.0</td>\n      <td>0.0</td>\n      <td>0.0</td>\n      <td>0.0</td>\n      <td>0.0</td>\n      <td>0.0</td>\n      <td>0.0</td>\n      <td>0.0</td>\n      <td>0.0</td>\n    </tr>\n  </tbody>\n</table>\n<p>66 rows × 63267 columns</p>\n</div>"
     },
     "metadata": {},
     "execution_count": 25
    }
   ],
   "source": [
    "df_items_Tfi.loc[df_items_Tfi.iloc[:,2] > 0]"
   ]
  },
  {
   "cell_type": "code",
   "execution_count": null,
   "metadata": {},
   "outputs": [],
   "source": []
  }
 ]
}