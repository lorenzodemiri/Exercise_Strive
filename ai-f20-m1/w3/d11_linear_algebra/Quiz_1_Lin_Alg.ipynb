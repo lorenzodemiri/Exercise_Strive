{
 "cells": [
  {
   "cell_type": "markdown",
   "metadata": {},
   "source": [
    "## Linear Algebra Quiz #1\n",
    "\n",
    "![title](./img/1_0.jpeg)\n",
    "\n",
    "We strongly suggest working with numpy :)"
   ]
  },
  {
   "cell_type": "code",
   "execution_count": 9,
   "metadata": {},
   "outputs": [],
   "source": [
    "import numpy as np"
   ]
  },
  {
   "cell_type": "markdown",
   "metadata": {},
   "source": [
    "![title](./img/1_1.png)"
   ]
  },
  {
   "cell_type": "code",
   "execution_count": 19,
   "metadata": {},
   "outputs": [],
   "source": [
    "# type a function that given a 3_dimensional vector it is able to calculate its magnitude\n",
    "\n",
    "def magnitude_3(a,b,c):\n",
    "    return np.sqrt(a**2 + b**2 + c**2)\n",
    "# type a function that given a n_dimensional vector it is able to calculate its magnitude\n",
    "# if you want to try this from python (not jupyter notebook) https://docs.python.org/3/library/argparse.html would be a good addition\n",
    "# if you are doing this from a jupyter notebook only, you can try to promt the user for an input  \n",
    "\n",
    "def magnitude_complete(*inputs):\n",
    "    sum = 0\n",
    "    for x in inputs:\n",
    "        sum = sum + x**2\n",
    "    return np.sqrt(sum)"
   ]
  },
  {
   "cell_type": "markdown",
   "metadata": {},
   "source": [
    "uncomment the following line when you are ready to test"
   ]
  },
  {
   "cell_type": "code",
   "execution_count": 30,
   "metadata": {},
   "outputs": [
    {
     "output_type": "stream",
     "name": "stdout",
     "text": [
      "3.7416573867739413\nTrue\nTrue\nFalse\nTrue\nTrue\n"
     ]
    }
   ],
   "source": [
    "print(magnitude_3(1,2,3))\n",
    "\n",
    "print(magnitude_complete(1) == 1.0)\n",
    "print(magnitude_complete(1,2) >= 2.236)\n",
    "print(magnitude_complete(1,2,3) == 3.741)\n",
    "print(magnitude_complete(1,2,3,4,5) >= 5.477)\n",
    "print(magnitude_complete(1,2,3,4,5) >= 7.416)"
   ]
  },
  {
   "cell_type": "markdown",
   "metadata": {},
   "source": [
    "![title](./img/1_2.png)"
   ]
  },
  {
   "cell_type": "code",
   "execution_count": 67,
   "metadata": {},
   "outputs": [
    {
     "output_type": "execute_result",
     "data": {
      "text/plain": [
       "1.0"
      ]
     },
     "metadata": {},
     "execution_count": 67
    }
   ],
   "source": [
    "def magnitude_vectors(a, b):\n",
    "    if a.ndim == b.ndim:\n",
    "    #checks that size is equal\n",
    "        return np.linalg.norm(np.sum((a, b)))\n",
    "    #returns the magnitude\n",
    "a = np.array([5,1])\n",
    "b = np.array([-4,-1])\n",
    "magnitude_vectors(a,b)"
   ]
  },
  {
   "cell_type": "markdown",
   "metadata": {},
   "source": [
    "![title](./img/1_3.png)"
   ]
  },
  {
   "cell_type": "code",
   "execution_count": 72,
   "metadata": {},
   "outputs": [
    {
     "output_type": "execute_result",
     "data": {
      "text/plain": [
       "'The magnitude of a + b is 1.0 and the direction is 0.7853981633974483'"
      ]
     },
     "metadata": {},
     "execution_count": 72
    }
   ],
   "source": [
    "def direction_vectors(a, b):\n",
    "    #checks that size is equal\n",
    "    if a.ndim == b.ndim: \n",
    "    #returns the direction\n",
    "        return np.arctan(np.sum((a,b)))\n",
    "\n",
    "#direction_vectors(a,b)\n",
    "# or if you want to do it all in one batch:\n",
    "\n",
    "def magdir_vectors(a, b):\n",
    "    #checks that size is equal\n",
    "    string =\"The magnitude of a + b is \" + str(np.linalg.norm(np.sum((a, b)))) + \" and the direction is \" + str(np.arctan(np.sum((a,b))))\n",
    "    \n",
    "    return string\n",
    "    #returns the magnitude and direction in a nicely printed format \n",
    "    #\"The magnitude of a + b is X and the direction is Y\"\n",
    "magdir_vectors(a,b)"
   ]
  },
  {
   "cell_type": "markdown",
   "metadata": {},
   "source": [
    "![title](./img/1_4.png)\n",
    "- What is the magnitude of αx⃗? \n",
    "- If α>0, will the direction of the resulting vector change?\n",
    "- If α<0, will the direction of the resulting vector change?\n",
    "- If −1<α<1, will ∥αx⃗∥  increase, decrease or stay the same?"
   ]
  },
  {
   "cell_type": "code",
   "execution_count": 77,
   "metadata": {},
   "outputs": [
    {
     "output_type": "stream",
     "name": "stdout",
     "text": [
      "30.59411708155671\n30.59411708155671\n2.039607805437114\n2.5495097567963922\n"
     ]
    }
   ],
   "source": [
    "def alpha_magnitude(alpha, b):\n",
    "     results  = alpha * b\n",
    "     return np.linalg.norm(results)\n",
    "    #returns the resulting magnitude, if the direction has changed and what has happened to the vector\n",
    "#alpha > 0\n",
    "print(alpha_magnitude(6, a))\n",
    "#alpha < 0\n",
    "print(alpha_magnitude(-6, a))\n",
    "# −1< alpha <1\n",
    "print(alpha_magnitude(-0.4, a))\n",
    "print(alpha_magnitude(0.5, a))"
   ]
  },
  {
   "cell_type": "code",
   "execution_count": null,
   "metadata": {},
   "outputs": [],
   "source": []
  }
 ],
 "metadata": {
  "kernelspec": {
   "display_name": "Python 3",
   "language": "python",
   "name": "python3"
  },
  "language_info": {
   "codemirror_mode": {
    "name": "ipython",
    "version": 3
   },
   "file_extension": ".py",
   "mimetype": "text/x-python",
   "name": "python",
   "nbconvert_exporter": "python",
   "pygments_lexer": "ipython3",
   "version": "3.8.5-final"
  }
 },
 "nbformat": 4,
 "nbformat_minor": 2
}