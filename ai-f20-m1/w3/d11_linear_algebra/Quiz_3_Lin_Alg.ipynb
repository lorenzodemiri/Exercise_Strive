{
 "cells": [
  {
   "cell_type": "markdown",
   "metadata": {},
   "source": [
    "## Linear Algebra Quiz #3\n",
    "\n",
    "![title](./img/3_0.jpeg)\n",
    "\n",
    "We strongly suggest working with numpy :)"
   ]
  },
  {
   "cell_type": "code",
   "execution_count": 2,
   "metadata": {},
   "outputs": [],
   "source": [
    "import numpy as np"
   ]
  },
  {
   "cell_type": "markdown",
   "metadata": {},
   "source": [
    "![title](./img/3_2.png)\n",
    "Create a program that can output\n",
    "\n",
    "- What is the value of element c23​ of Matrix C where C=A x B ?\n",
    "- What is the value of element c23​ of Matrix C where C=B x A ?"
   ]
  },
  {
   "cell_type": "code",
   "execution_count": 18,
   "metadata": {},
   "outputs": [
    {
     "output_type": "stream",
     "name": "stdout",
     "text": [
      "[[  0.    5.   -2. ]\n [-15.    8.   -1. ]\n [  0.    1.5 -32. ]]\n"
     ]
    },
    {
     "output_type": "execute_result",
     "data": {
      "text/plain": [
       "array([[ 0,  0,  0],\n",
       "       [ 0,  0,  3],\n",
       "       [ 2,  1, -8]])"
      ]
     },
     "metadata": {},
     "execution_count": 18
    }
   ],
   "source": [
    "arr1 = np.array([[3,1,2],[-5,4,1],[0,3,-8]])\n",
    "arr2 = np.array([[0,5,-1],[3,2,-1],[10, 0.5, 4]])\n",
    "\n",
    "arr_res = np.multiply(arr1, arr2)\n",
    "print(arr_res)\n",
    "\n",
    "# okay numpy is great but... how would you inverse a matrix by hand?\n",
    "def get_matrixMinor(m,i,j):\n",
    "     return m[np.array(list(range(i))+list(range(i+1,m.shape[0])))[:,np.newaxis],\n",
    "               np.array(list(range(j))+list(range(j+1,m.shape[1])))]\n",
    "\n",
    "def inverse_matrix(A):\n",
    "    determinant = np.linalg.det(A)\n",
    "    if A.ndim == 2:\n",
    "         res = [[A[1][1]/determinant, -1 * A[0][1]/determinant],[-1 * A[1][0]/determinant, A[0][0]/determinant]]\n",
    "\n",
    "    res = np.empty_like(A)\n",
    "    for r in range(A.ndim):\n",
    "        resRow = np.empty_like(A)\n",
    "        for n in range(A.ndim):\n",
    "            minM = get_matrixMinor(A, r, n)\n",
    "            np.append(resRow ,((-1)**(r+n)) * np.linalg.det(minM))\n",
    "        np.append(res, resRow)\n",
    "    res = np.matrix.transpose(res)\n",
    "    for r in range(res.ndim):\n",
    "        for c in range(res.ndim):\n",
    "            res[r][c] = res[r][c]/determinant\n",
    "    return res\n",
    "inverse_matrix(arr1)"
   ]
  },
  {
   "cell_type": "markdown",
   "metadata": {},
   "source": [
    "![title](./img/3_1.png)\n",
    "Create a program that can output\n",
    "\n",
    "- What is the value of the ijth element if i = 2 and j=3?\n",
    "- What is the value of the ijth element if i = 3 and j=1?"
   ]
  },
  {
   "cell_type": "code",
   "execution_count": 37,
   "metadata": {},
   "outputs": [
    {
     "output_type": "stream",
     "name": "stdout",
     "text": [
      "[[ 6.000000e+00 -1.014160e+03  1.157849e+02 -9.300000e+01]\n [ 7.000000e-01 -3.000000e+00 -2.700000e+00  1.767000e+01]\n [ 5.700000e+00  0.000000e+00 -8.000000e+00  6.000000e-03]]\n"
     ]
    },
    {
     "output_type": "execute_result",
     "data": {
      "text/plain": [
       "0.006"
      ]
     },
     "metadata": {},
     "execution_count": 37
    }
   ],
   "source": [
    "# Just answer using code --> easy stuff!\n",
    "def output_ijf(D, i, j):\n",
    "    return D[i,j]\n",
    "\n",
    "arr1 = np.matrix([[3, 0.6, 4, -3],[-1.3, 4, 0, 8.6],[ 7, 0, -8, 0.006]])\n",
    "arr2 = np.matrix([[ 3, -5.76, 45, 0],[ 2, -2, 1.3, 9],[ -9, 0, 0, 0]])\n",
    "arr3 = np.matrix([[0, 1009, -66.7849, 90],[ 0, 5, 4, -0.07],[ -7.7 , 0, 0,  0]])\n",
    "\n",
    "arrRes = arr1 + arr2 - arr3\n",
    "print(arrRes)\n",
    "output_ijf(arrRes, 2, 3)\n",
    "\n",
    "# Harder\n",
    "# Can you build a matrix solver that can do output the result given n matrices and a sequence of operations such as [add subtract multiply transpose?]\n",
    "#Some ideas on valid operations: Multiplication Addition Subtraction Inverstion Transposed. "
   ]
  },
  {
   "cell_type": "markdown",
   "metadata": {},
   "source": [
    "![title](./img/3_3.png)\n",
    "Create a program that can output\n",
    "- How many rows will C have?\n",
    "- How many columns will C have?\n",
    "- What will be the value of c13​?"
   ]
  },
  {
   "cell_type": "code",
   "execution_count": null,
   "metadata": {},
   "outputs": [],
   "source": []
  }
 ],
 "metadata": {
  "kernelspec": {
   "display_name": "Python 3",
   "language": "python",
   "name": "python3"
  },
  "language_info": {
   "codemirror_mode": {
    "name": "ipython",
    "version": 3
   },
   "file_extension": ".py",
   "mimetype": "text/x-python",
   "name": "python",
   "nbconvert_exporter": "python",
   "pygments_lexer": "ipython3",
   "version": "3.8.5-final"
  }
 },
 "nbformat": 4,
 "nbformat_minor": 2
}