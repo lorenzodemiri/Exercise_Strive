{
 "cells": [
  {
   "cell_type": "markdown",
   "metadata": {},
   "source": [
    "Here you have a collection of guided exercises for the first class on Python. <br>\n",
    "The exercises are divided by topic, following the topics reviewed during the theory session, and for each topic you have some mandatory exercises, and other optional exercises, which you are invited to do if you still have time after the mandatory exercises. <br>\n",
    "\n",
    "Remember that you have 5 hours to solve these exercises, after which we will review the most interesting exercises together. If you don't finish all the exercises, you can work on them tonightor tomorrow. \n",
    "\n",
    "At the end of the class, we will upload the code with the solutions of the exercises so that you can review them again if needed. If you still have not finished some exercises, try to do them first by yourself, before taking a look at the solutions: you are doing these exercises for yourself, so it is always the best to do them your way first, as it is the fastest way to learn!"
   ]
  },
  {
   "cell_type": "markdown",
   "metadata": {},
   "source": [
    "**Exercise 4.1 (🌶️🌶️):** Define a function that receives a string parameter, and returns an integer indicating the count for all the letters of the alphabet that there are in the string. The expected output format is in a **dictionary** with the relevant keys and values. The capital version of a lower case letter is considered to be the same letter.\n",
    "\n",
    "This should sound quite familiar, try to do it without looking at your old code ;)\n",
    "\n",
    "**What is the challenge?**: Don't code 27 times the same line of code, learn how to do things that scale well."
   ]
  },
  {
   "cell_type": "code",
   "execution_count": 1,
   "metadata": {},
   "outputs": [],
   "source": [
    "def count_letter(input_string):\n",
    "    #clean the string from uppercase letters\n",
    "    input_string = input_string.casefold()\n",
    "    alphabet = \"abcdefghijklmnopqrstuvwxyz\"\n",
    "    #put on the dictionary all the letters\n",
    "    letters_results = {}.fromkeys(alphabet, 0)\n",
    "    \n",
    "    for letter in alphabet:\n",
    "        #if the string contain the letter count how many and store it in the dictionary\n",
    "        if input_string.count(letter) != 0:\n",
    "            letters_results[letter] = input_string.count(letter)\n",
    "    #clean the dictionary from the letter non present in the string\n",
    "    for letter in alphabet:\n",
    "        if letters_results[letter] == 0:\n",
    "            del letters_results[letter]\n",
    "    \n",
    "    return letters_results"
   ]
  },
  {
   "cell_type": "markdown",
   "metadata": {},
   "source": [
    "**Exercise 5.6 (🌶️🌶️):** A prime number is a positive integer that is dividable by exactly two different numbers, namely 1 and itself. The lowest (and only even) prime number is 2. The first 10 prime numbers are 2, 3, 5, 7, 11, 13, 17, 19, 23, and 29. Write a function that returns a **list off all prime numbers** below a given number.\n",
    "\n",
    "Hint: In a loop where you test the possible dividers of the number, you can conclude that the number is not prime as soon as you encounter a number other than 1 or the number itself that divides it. However, you can *only* conclude that it actually *is* prime after you have tested all possible dividers.\n",
    "\n",
    "**What is the challenge here? You have to try to optimize your code and try to make it work for the highest prime number you can encounter before you run out of memory. For low numbers you should know how to do it already**"
   ]
  },
  {
   "cell_type": "code",
   "execution_count": 2,
   "metadata": {},
   "outputs": [],
   "source": [
    "#applied algo of sieve of eratosthenes\n",
    "def sieve_of_eratosthenes(maximum):\n",
    "    multiples = []\n",
    "    res = []\n",
    "    res.append(1)\n",
    "    for i in range(2, maximum + 1):\n",
    "        #check if the number is the multiply array\n",
    "        if i not in multiples:\n",
    "            #if not it is prime and put it on the res array\n",
    "            res.append(i)\n",
    "            for x in range(i*i, maximum +1, i):\n",
    "                #calculate all the multiple of the prime number and put it on the multiples array \n",
    "                multiples.append(x)\n",
    "    return res"
   ]
  },
  {
   "cell_type": "markdown",
   "metadata": {},
   "source": [
    "**Exercise 5.7 (🌶️🌶️):** Write a function that prints all integers between the parameters `a` and `b` that can be written as the sum of two squares. Produce output in the form of `z = x**2 + y**2`, e.g., `58 = 3**2 + 7**2`. If a number occurs on the list with multiple *different* ways of writing it as the sum of two squares, that is acceptable. "
   ]
  },
  {
   "cell_type": "code",
   "execution_count": 2,
   "metadata": {},
   "outputs": [],
   "source": [
    "import math\n",
    "def calc_sum_of_squares(value):\n",
    "    #create a dictionary to store all the parameter\n",
    "    dictionary = dict()\n",
    "    for i in range(value):\n",
    "        #if the square of i is bigger of than value return cause cannot do the square\n",
    "        if i**2 > value:\n",
    "            return None\n",
    "        else:\n",
    "            #store the keys on the dictionary and assign temp value\n",
    "            dictionary[i**2] = 1\n",
    "            #if the value is in the dictionary calculate the two square and return\n",
    "            if (value - (i**2)) in dictionary.keys():\n",
    "                string_ret = \"{} ^2 + {} ^2\".format(math.sqrt(value - (i**2)), i)\n",
    "                return string_ret\n",
    "        \n",
    "def sum_of_square(a,b):\n",
    "    res = []\n",
    "    for i in range(a,b):\n",
    "        if calc_sum_of_squares(i) is not None:\n",
    "            string_val=\"{} = {}\".format(i, calc_sum_of_squares(i))\n",
    "            res.append(string_val)\n",
    "    return res"
   ]
  },
  {
   "cell_type": "code",
   "execution_count": null,
   "metadata": {},
   "outputs": [],
   "source": []
  }
 ],
 "metadata": {
  "kernelspec": {
   "display_name": "Python 3",
   "language": "python",
   "name": "python3"
  },
  "language_info": {
   "codemirror_mode": {
    "name": "ipython",
    "version": 3
   },
   "file_extension": ".py",
   "mimetype": "text/x-python",
   "name": "python",
   "nbconvert_exporter": "python",
   "pygments_lexer": "ipython3",
   "version": "3.8.5-final"
  }
 },
 "nbformat": 4,
 "nbformat_minor": 4
}