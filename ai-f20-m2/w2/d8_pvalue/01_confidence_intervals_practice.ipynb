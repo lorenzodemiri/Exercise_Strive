{
 "cells": [
  {
   "cell_type": "markdown",
   "metadata": {},
   "source": [
    "# Practice notebook for confidence intervals using NHANES data\n",
    "\n",
    "This notebook will give you the opportunity to practice working with confidence intervals using the NHANES data.\n",
    "\n",
    "You can enter your code into the cells that say \"enter your code here\", and you can type responses to the questions into the cells that say \"Type Markdown and Latex\".\n",
    "\n",
    "Note that most of the code that you will need to write below is very similar to code that appears in the case study notebook.  You will need to edit code from that notebook in small ways to adapt it to the prompts below.\n",
    "\n",
    "To get started, we will use the same module imports and read the data in the same way as we did in the case study:"
   ]
  },
  {
   "cell_type": "code",
   "execution_count": 145,
   "metadata": {},
   "outputs": [
    {
     "output_type": "stream",
     "name": "stdout",
     "text": [
      "0       62\n1       53\n2       78\n3       56\n4       42\n        ..\n5730    76\n5731    26\n5732    80\n5733    35\n5734    24\nName: RIDAGEYR, Length: 5735, dtype: int64\n"
     ]
    }
   ],
   "source": [
    "%matplotlib inline\n",
    "import matplotlib.pyplot as plt\n",
    "import pandas as pd\n",
    "import numpy as np\n",
    "import seaborn as sns\n",
    "import statsmodels.api as sm\n",
    "\n",
    "da = pd.read_csv(\"nhanes_2015_2016.csv\")\n",
    "print(da['RIDAGEYR'])"
   ]
  },
  {
   "cell_type": "markdown",
   "metadata": {},
   "source": [
    "## Question 1\n",
    "\n",
    "Restrict the sample to women between 35 and 50, then use the marital status variable [DMDMARTL](https://wwwn.cdc.gov/Nchs/Nhanes/2015-2016/DEMO_I.htm#DMDMARTL) to partition this sample into two groups - women who are currently married, and women who are not currently married.  Within each of these groups, calculate the proportion of women who have completed college.  Calculate 95% confidence intervals for each of these proportions."
   ]
  },
  {
   "cell_type": "code",
   "execution_count": 8,
   "metadata": {},
   "outputs": [
    {
     "output_type": "stream",
     "name": "stdout",
     "text": [
      "             Proportion  Total_n\nDMDMARTL                        \nMarried        0.538206      301\nNot_Married    0.378947      190\nSe Married: 0.02873526218165375\nSe Not Married: 0.03519466619186639\n"
     ]
    }
   ],
   "source": [
    "df = da[(da['RIDAGEYR'] >= 35) & (da['RIDAGEYR'] <= 50) & (da['RIAGENDR'] == 2)]\n",
    "\n",
    "df['DMDMARTL'] = df.DMDMARTL.replace({1:'Married',2:'Not_Married',3:'Not_Married', 4:'Not_Married', 5:'Not_Married', 6:'Not_Married', 77: np.nan, 99: np.nan})\n",
    "df['DMDEDUC2'] = df.DMDEDUC2.replace({7: np.nan, 9: np.nan})\n",
    "df['DMDEDUC2'] = df.DMDEDUC2[df['DMDEDUC2'] >= 4]\n",
    "df['DMDEDUC2'] = df.DMDEDUC2.replace({4: \"Some College\", 5: \"College Graduate\"})\n",
    "df = df[[\"RIAGENDR\",\"DMDMARTL\",\"DMDEDUC2\"]].dropna()\n",
    "\n",
    "#rint(pd.crosstab(df.DMDMARTL, df.DMDEDUC2))\n",
    "\n",
    "dx = df.groupby(df.DMDMARTL).agg({\"DMDEDUC2\": [lambda x: np.mean(x == \"College Graduate\"), np.size]})\n",
    "dx.columns = [\"Proportion\", \"Total_n\"]\n",
    "print(dx)\n",
    "\n",
    "p = dx.Proportion.Married\n",
    "n = dx.Total_n.Married\n",
    "\n",
    "se_Married = np.sqrt(p * (1 - p) / n)\n",
    "print(\"Se Married:\", se_Married)\n",
    "\n",
    "p = dx.Proportion.Not_Married\n",
    "n = dx.Total_n.Not_Married\n",
    "\n",
    "se_Not_Married = np.sqrt(p * (1 - p) / n)\n",
    "print(\"Se Not Married:\",se_Not_Married)\n",
    "\n",
    "p = dx.Proportion.Married \n",
    "n = dx.Total_n.Married \n",
    "lcb = p - 1.96 * np.sqrt(p * (1 - p) / n)  \n",
    "ucb = p + 1.96 * np.sqrt(p * (1 - p) / n)  \n",
    "print(\"Lcb Married: \",lcb,\"Ucb Married: \", ucb)\n",
    "\n",
    "p = dx.Proportion.Not_Married \n",
    "n = dx.Total_n.Not_Married \n",
    "lcb = p - 1.96 * np.sqrt(p * (1 - p) / n)  \n",
    "ucb = p + 1.96 * np.sqrt(p * (1 - p) / n)  \n",
    "print(\"Lcb Not Married: \",lcb,\"Ucb Not Married: \", ucb)\n",
    "\n"
   ]
  },
  {
   "cell_type": "markdown",
   "metadata": {},
   "source": [
    "__Q1a.__ Identify which of the two confidence intervals is wider, and explain why this is the case. "
   ]
  },
  {
   "cell_type": "markdown",
   "metadata": {},
   "source": [
    "By sampling the data we can clearly see that the biggest percentage of woman graduated are married "
   ]
  },
  {
   "cell_type": "markdown",
   "metadata": {},
   "source": [
    "__Q1b.__ Write 1-2 sentences summarizing these findings for an audience that does not know what a confidence interval is (the goal here is to report the substance of what you learned about how marital status and educational attainment are related, not to teach a person what a confidence interval is)."
   ]
  },
  {
   "cell_type": "markdown",
   "metadata": {},
   "source": []
  },
  {
   "cell_type": "markdown",
   "metadata": {},
   "source": [
    "## Question 2\n",
    "\n",
    "Construct 95% confidence intervals for the proportion of smokers who are female, and for the proportion of smokers who are male.  Then construct a 95% confidence interval for the difference between these proportions."
   ]
  },
  {
   "cell_type": "code",
   "execution_count": 42,
   "metadata": {},
   "outputs": [
    {
     "output_type": "stream",
     "name": "stdout",
     "text": [
      "          Proportion  Total_n\nRIAGENDR                     \nFemale      0.304845     2972\nMale        0.513258     2753\nSe Female: 0.008444152146214435\nSe Male: 0.009526078653689868\nLcb Female:  0.288294683866098 Ucb Female:  0.32139576027925865\nLcb Male:  0.49458714955108174 Ucb Male:  0.531929377873546\n"
     ]
    }
   ],
   "source": [
    "da.SMQ020 = da.SMQ020.replace({1: \"Smoker\", 2:\"Not SMoker\", 7: np.nan, 9:np.nan})\n",
    "da.RIAGENDR = da.RIAGENDR.replace({1:\"Male\", 2:\"Female\"})\n",
    "\n",
    "df = da[[\"SMQ020\",\"RIAGENDR\"]].dropna()\n",
    "dx = df.groupby(df.RIAGENDR).agg({\"SMQ020\": [lambda x: np.mean(x==\"Smoker\"), np.size]})\n",
    "\n",
    "dx.columns = ['Proportion','Total_n']\n",
    "print(dx)\n",
    "\n",
    "p = dx.Proportion.Female\n",
    "n = dx.Total_n.Female\n",
    "\n",
    "se_female = np.sqrt(p * (1-p) / n)\n",
    "print(\"Se Female:\", se_female)\n",
    "\n",
    "p = dx.Proportion.Male\n",
    "n = dx.Total_n.Male \n",
    "\n",
    "se_male = np.sqrt(p * (1-p) / n)\n",
    "print(\"Se Male:\", se_male)\n",
    "\n",
    "p = dx.Proportion.Female \n",
    "n = dx.Total_n.Female \n",
    "lcb = p - 1.96 * np.sqrt(p * (1 - p) / n)  \n",
    "ucb = p + 1.96 * np.sqrt(p * (1 - p) / n)  \n",
    "print(\"Lcb Female: \",lcb,\"Ucb Female: \", ucb)\n",
    "\n",
    "\n",
    "p = dx.Proportion.Male \n",
    "n = dx.Total_n.Male \n",
    "lcb = p - 1.96 * np.sqrt(p * (1 - p) / n)  \n",
    "ucb = p + 1.96 * np.sqrt(p * (1 - p) / n)  \n",
    "print(\"Lcb Male: \",lcb,\"Ucb Male: \", ucb)"
   ]
  },
  {
   "cell_type": "markdown",
   "metadata": {},
   "source": [
    "__Q2a.__ Discuss why it may be relevant to report the proportions of smokers who are female and male, and contrast this to reporting the proportions of males and females who smoke."
   ]
  },
  {
   "cell_type": "markdown",
   "metadata": {},
   "source": []
  },
  {
   "cell_type": "markdown",
   "metadata": {},
   "source": [
    "__Q2b.__ How does the width of the confidence interval for the difference of the two proportions compare to the widths of the confidence intervals for each proportion separately?"
   ]
  },
  {
   "cell_type": "markdown",
   "metadata": {},
   "source": []
  },
  {
   "cell_type": "markdown",
   "metadata": {},
   "source": [
    "## Question 3\n",
    "\n",
    "Construct a 95% interval for height ([BMXHT](https://wwwn.cdc.gov/Nchs/Nhanes/2015-2016/BMX_I.htm#BMXHT)) in centimeters.  Then convert height from centimeters to inches by dividing by 2.54, and construct a 95% confidence interval for height in inches.  Finally, convert the endpoints (the lower and upper confidence limits) of the confidence interval from inches to back to centimeters   "
   ]
  },
  {
   "cell_type": "code",
   "execution_count": 39,
   "metadata": {},
   "outputs": [
    {
     "output_type": "stream",
     "name": "stdout",
     "text": [
      "Lcb_Height_cm:  165.8805695573686 Ucb_Height_cm:  166.40509940085403\nLcb_Height_inch:  65.30731084935765 Ucb_Height_inch:  65.51381866175349\nFrom inches to cm, Lcb:  165.88056955736843 Ucb :, 166.40509940085386\n"
     ]
    }
   ],
   "source": [
    "dx = pd.DataFrame(index = da.index,columns=[\"BMXHTinch\", \"BMXHTcm\"])\n",
    "dx['BMXHTcm'] = da.BMXHT.values\n",
    "dx['BMXHTcm'] = da.BMXHT.apply(lambda x:  np.nan if x == 0 else x  )\n",
    "dx['BMXHTinch'] = da.BMXHT.apply(lambda x: x/2.54)\n",
    "dx = dx.dropna()\n",
    "Se_cm = np.std(dx.BMXHTcm)/np.sqrt(len(dx))\n",
    "mean = np.mean(dx.BMXHTcm)\n",
    "lcb_height_cm = mean - 1.96 * Se_cm\n",
    "ucb_height_cm = mean + 1.96 * Se_cm\n",
    "\n",
    "print(\"Lcb_Height_cm: \", lcb_height_cm, \"Ucb_Height_cm: \", ucb_height_cm)\n",
    "\n",
    "Se_inch = np.std(dx.BMXHTinch)/np.sqrt(len(dx))\n",
    "mean = np.mean(dx.BMXHTinch)\n",
    "lcb_height_inch = mean - 1.96 * Se_inch\n",
    "ucb_height_inch = mean + 1.96 * Se_inch\n",
    "\n",
    "print(\"Lcb_Height_inch: \", lcb_height_inch, \"Ucb_Height_inch: \", ucb_height_inch)\n",
    "\n",
    "from_inch_to_cm_lcb = lcb_height_inch * 2.54 \n",
    "from_inch_to_cm_ucb = ucb_height_inch * 2.54\n",
    "print(\"From inches to cm, Lcb: \", from_inch_to_cm_lcb, \"Ucb :,\", from_inch_to_cm_ucb)"
   ]
  },
  {
   "cell_type": "markdown",
   "metadata": {},
   "source": [
    "__Q3a.__ Describe how the confidence interval constructed in centimeters relates to the confidence interval constructed in inches."
   ]
  },
  {
   "cell_type": "markdown",
   "metadata": {},
   "source": []
  },
  {
   "cell_type": "markdown",
   "metadata": {},
   "source": [
    "## Question 4\n",
    "\n",
    "Partition the sample based on 10-year age bands, i.e. the resulting groups will consist of people with ages from 18-28, 29-38, etc. Construct 95% confidence intervals for the difference between the mean BMI for females and for males within each age band."
   ]
  },
  {
   "cell_type": "code",
   "execution_count": 76,
   "metadata": {},
   "outputs": [
    {
     "output_type": "execute_result",
     "data": {
      "text/plain": [
       "            difference_mean  difference_sem  difference_lcb  difference_ucb  \\\n",
       "Ages_range                                                                    \n",
       "(18, 28]          -0.961247        0.476973       -1.896114       -0.026381   \n",
       "(28, 38]          -0.246263        0.474473       -1.176230        0.683705   \n",
       "(38, 48]          -1.489086        0.468563       -2.407470       -0.570703   \n",
       "(48, 58]          -1.402230        0.468120       -2.319745       -0.484714   \n",
       "(58, 68]          -1.822202        0.453239       -2.710551       -0.933853   \n",
       "(68, 78]          -1.817548        0.507502       -2.812252       -0.822844   \n",
       "\n",
       "            difference_width  \n",
       "Ages_range                    \n",
       "(18, 28]           -1.869734  \n",
       "(28, 38]           -1.859935  \n",
       "(38, 48]           -1.836767  \n",
       "(48, 58]           -1.835031  \n",
       "(58, 68]           -1.776698  \n",
       "(68, 78]           -1.989407  "
      ],
      "text/html": "<div>\n<style scoped>\n    .dataframe tbody tr th:only-of-type {\n        vertical-align: middle;\n    }\n\n    .dataframe tbody tr th {\n        vertical-align: top;\n    }\n\n    .dataframe thead th {\n        text-align: right;\n    }\n</style>\n<table border=\"1\" class=\"dataframe\">\n  <thead>\n    <tr style=\"text-align: right;\">\n      <th></th>\n      <th>difference_mean</th>\n      <th>difference_sem</th>\n      <th>difference_lcb</th>\n      <th>difference_ucb</th>\n      <th>difference_width</th>\n    </tr>\n    <tr>\n      <th>Ages_range</th>\n      <th></th>\n      <th></th>\n      <th></th>\n      <th></th>\n      <th></th>\n    </tr>\n  </thead>\n  <tbody>\n    <tr>\n      <th>(18, 28]</th>\n      <td>-0.961247</td>\n      <td>0.476973</td>\n      <td>-1.896114</td>\n      <td>-0.026381</td>\n      <td>-1.869734</td>\n    </tr>\n    <tr>\n      <th>(28, 38]</th>\n      <td>-0.246263</td>\n      <td>0.474473</td>\n      <td>-1.176230</td>\n      <td>0.683705</td>\n      <td>-1.859935</td>\n    </tr>\n    <tr>\n      <th>(38, 48]</th>\n      <td>-1.489086</td>\n      <td>0.468563</td>\n      <td>-2.407470</td>\n      <td>-0.570703</td>\n      <td>-1.836767</td>\n    </tr>\n    <tr>\n      <th>(48, 58]</th>\n      <td>-1.402230</td>\n      <td>0.468120</td>\n      <td>-2.319745</td>\n      <td>-0.484714</td>\n      <td>-1.835031</td>\n    </tr>\n    <tr>\n      <th>(58, 68]</th>\n      <td>-1.822202</td>\n      <td>0.453239</td>\n      <td>-2.710551</td>\n      <td>-0.933853</td>\n      <td>-1.776698</td>\n    </tr>\n    <tr>\n      <th>(68, 78]</th>\n      <td>-1.817548</td>\n      <td>0.507502</td>\n      <td>-2.812252</td>\n      <td>-0.822844</td>\n      <td>-1.989407</td>\n    </tr>\n  </tbody>\n</table>\n</div>"
     },
     "metadata": {},
     "execution_count": 76
    }
   ],
   "source": [
    "da[\"Ages_range\"] = pd.cut(da.RIDAGEYR, [18,28,38,48,58,68,78])\n",
    "dz = da.groupby([\"Ages_range\", \"RIAGENDR\"]).agg({\"BMXBMI\": [np.size, np.mean, np.std]}).unstack()\n",
    "dz[\"BMXBMI\", \"Sem\", \"Female\"] = dz[\"BMXBMI\", \"std\", \"Female\"] / np.sqrt(dz[\"BMXBMI\", \"size\", \"Female\"])\n",
    "dz[\"BMXBMI\", \"Sem\", \"Male\"] = dz[\"BMXBMI\", \"std\", \"Male\"] / np.sqrt(dz[\"BMXBMI\", \"size\", \"Male\"])\n",
    "\n",
    "df_results = pd.DataFrame(columns=['difference_mean', 'difference_sem','difference_lcb','difference_ucb','difference_width'])\n",
    "df_results.difference_mean= dz[\"BMXBMI\", \"mean\", \"Male\"] - dz[\"BMXBMI\", \"mean\", \"Female\"]\n",
    "df_results.difference_sem = np.sqrt(dz.BMXBMI.Sem.Female**2 + dz.BMXBMI.Sem.Male**2)\n",
    "df_results.difference_lcb = df_results.difference_mean - 1.96 * df_results.difference_sem\n",
    "df_results.difference_ucb = df_results.difference_mean + 1.96 * df_results.difference_sem\n",
    "df_results.difference_width = df_results.difference_lcb - df_results.difference_ucb\n",
    "df_results\n",
    "\n"
   ]
  },
  {
   "cell_type": "markdown",
   "metadata": {},
   "source": [
    "__Q4a.__ How do the widths of these confidence intervals differ?  Provide an explanation for any substantial diferences in the confidence interval widths that you see."
   ]
  },
  {
   "cell_type": "markdown",
   "metadata": {},
   "source": [
    "We can notice that for people aged over 58 the difference on BMI is greater for older people between male and female"
   ]
  },
  {
   "cell_type": "markdown",
   "metadata": {},
   "source": [
    "## Question 5\n",
    "\n",
    "Construct a 95% confidence interval for the first and second systolic blood pressure measures, and for the difference between the first and second systolic blood pressure measurements within a subject."
   ]
  },
  {
   "cell_type": "code",
   "execution_count": 82,
   "metadata": {},
   "outputs": [
    {
     "output_type": "stream",
     "name": "stdout",
     "text": [
      "Interval of confidence for Systolic Pressure 1:  124.60634562793352 125.5628822928219\nInterval of confidence for Systolic Pressure 2:  124.30355371876219 125.26248060824774\nThe interval of confidence between the 2 pressure are:  0.30279190917132703 0.3004016845741605\n"
     ]
    }
   ],
   "source": [
    "systolic_1 = da['BPXSY1']\n",
    "systolic_2 = da['BPXSY2']\n",
    "mean_systolic_1 = np.mean(systolic_1)\n",
    "mean_systolic_2 = np.mean(systolic_2)\n",
    "\n",
    "se_systolic_1 = np.std(systolic_1)/np.sqrt(len(systolic_1))\n",
    "se_systolic_2 = np.std(systolic_2)/np.sqrt(len(systolic_2))\n",
    "\n",
    "lcb_systolic_1 = mean_systolic_1 - 1.96 * se_systolic_1\n",
    "lcb_systolic_2 = mean_systolic_2 - 1.96 * se_systolic_2\n",
    "\n",
    "ucb_systolic_1 = mean_systolic_1 + 1.96 * se_systolic_1\n",
    "ucb_systolic_2 = mean_systolic_2 + 1.96 * se_systolic_2\n",
    "\n",
    "print(\"Interval of confidence for Systolic Pressure 1: \", lcb_systolic_1, ucb_systolic_1 )\n",
    "print(\"Interval of confidence for Systolic Pressure 2: \", lcb_systolic_2, ucb_systolic_2 )\n",
    "\n",
    "difference_se = se_systolic_1 - se_systolic_2\n",
    "difference_mean = mean_systolic_1 - mean_systolic_2\n",
    "difference_lcb  = difference_mean - 1.96 * difference_se\n",
    "difference_ucb = difference_mean + 1.96 * difference_se\n",
    "\n",
    "print(\"The interval of confidence between the 2 pressure are: \", difference_lcb, difference_ucb)"
   ]
  },
  {
   "cell_type": "markdown",
   "metadata": {},
   "source": [
    "__Q5a.__ Based on these confidence intervals, would you say that a difference of zero between the population mean values of the first and second systolic blood pressure measures is consistent with the data?"
   ]
  },
  {
   "cell_type": "markdown",
   "metadata": {},
   "source": [
    "No, there's actually no difference between the two mesaurment"
   ]
  },
  {
   "cell_type": "markdown",
   "metadata": {},
   "source": [
    "\n",
    "__Q5b.__ Discuss how the width of the confidence interval for the within-subject difference compares to the widths of the confidence intervals for the first and second measures."
   ]
  },
  {
   "cell_type": "markdown",
   "metadata": {},
   "source": []
  },
  {
   "cell_type": "markdown",
   "metadata": {},
   "source": [
    "## Question 6\n",
    "\n",
    "Construct a 95% confidence interval for the mean difference between the average age of a smoker, and the average age of a non-smoker."
   ]
  },
  {
   "cell_type": "code",
   "execution_count": null,
   "metadata": {},
   "outputs": [],
   "source": [
    "da[\"SMQ020\"] = da.SMQ020.replace({1: 'Smoker', 2: 'Not Smoker', 7: np.nan, 9: np.nan})\n",
    "dz = da[[\"SMQ020\", \"RIDAGEYR\"]].dropna()\n",
    "smokers = dz[dz[\"SMQ020\"] == \"Smoker\"]\n",
    "not_smokers = dz[dz[\"SMQ020\"] == \"Not Smoker\"]\n",
    "\n",
    "se_smokers = np.std(smokers.RIDAGEYR)/np.sqrt(dz.SMQ020.size)\n",
    "se_not_smokers = np.std(not_smokers.RIDAGEYR)/np.sqrt(dz.SMQ020.size)\n",
    "\n",
    "lcb_difference = (np.mean(not_smokers.RIDAGEYR) - np.mean(smokers.RIDAGEYR)) - 1.96 * (se_not_smokers - se_smokers)\n",
    "ucb_difference = (np.mean(not_smokers.RIDAGEYR) - np.mean(smokers.RIDAGEYR)) + 1.96 * (se_not_smokers - se_smokers)\n",
    "\n",
    "print(\"Interval for the mean difference between the average age of a smoker: \\n\", lcb_difference, ucb_difference)\n",
    "print(\"Age mean of non-smokers is: \", np.mean(smokers.RIDAGEYR))"
   ]
  },
  {
   "cell_type": "markdown",
   "metadata": {},
   "source": [
    "__Q6a.__ Use graphical and numerical techniques to compare the variation in the ages of smokers to the variation in the ages of non-smokers.  "
   ]
  },
  {
   "cell_type": "code",
   "execution_count": 167,
   "metadata": {},
   "outputs": [
    {
     "output_type": "execute_result",
     "data": {
      "text/plain": [
       "<pandas.core.groupby.generic.DataFrameGroupBy object at 0x0000019E50EDB4F0>"
      ]
     },
     "metadata": {},
     "execution_count": 167
    }
   ],
   "source": [
    "import matplotlib.pyplot as plt\n",
    "da[\"Ages_range\"] = pd.cut(da.RIDAGEYR, [18,28,38,48,58,68,78])\n",
    "dx = da.groupby([\"Ages_range\"], as_index = False)[\"SMQ020\"].count()\n",
    "#fig, (ax1, ax2) = plt.subplots(nrows = 2, ncols = 2, figsize = (5, 3))\n",
    "#ax.hist()\n",
    "dx"
   ]
  },
  {
   "cell_type": "markdown",
   "metadata": {},
   "source": [
    "__Q6b.__ Does it appear that uncertainty about the mean age of smokers, or uncertainty about the mean age of non-smokers contributed more to the uncertainty for the mean difference that we are focusing on here?"
   ]
  },
  {
   "cell_type": "markdown",
   "metadata": {},
   "source": []
  }
 ],
 "metadata": {
  "kernelspec": {
   "display_name": "Python 3",
   "language": "python",
   "name": "python3"
  },
  "language_info": {
   "codemirror_mode": {
    "name": "ipython",
    "version": 3
   },
   "file_extension": ".py",
   "mimetype": "text/x-python",
   "name": "python",
   "nbconvert_exporter": "python",
   "pygments_lexer": "ipython3",
   "version": "3.8.5-final"
  }
 },
 "nbformat": 4,
 "nbformat_minor": 2
}