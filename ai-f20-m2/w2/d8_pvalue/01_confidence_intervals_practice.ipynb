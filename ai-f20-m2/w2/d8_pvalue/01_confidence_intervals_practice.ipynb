{
 "cells": [
  {
   "cell_type": "markdown",
   "metadata": {},
   "source": [
    "# Practice notebook for confidence intervals using NHANES data\n",
    "\n",
    "This notebook will give you the opportunity to practice working with confidence intervals using the NHANES data.\n",
    "\n",
    "You can enter your code into the cells that say \"enter your code here\", and you can type responses to the questions into the cells that say \"Type Markdown and Latex\".\n",
    "\n",
    "Note that most of the code that you will need to write below is very similar to code that appears in the case study notebook.  You will need to edit code from that notebook in small ways to adapt it to the prompts below.\n",
    "\n",
    "To get started, we will use the same module imports and read the data in the same way as we did in the case study:"
   ]
  },
  {
   "cell_type": "code",
   "execution_count": 2,
   "metadata": {},
   "outputs": [
    {
     "output_type": "stream",
     "name": "stdout",
     "text": [
      "0       62\n1       53\n2       78\n3       56\n4       42\n        ..\n5730    76\n5731    26\n5732    80\n5733    35\n5734    24\nName: RIDAGEYR, Length: 5735, dtype: int64\n"
     ]
    }
   ],
   "source": [
    "%matplotlib inline\n",
    "import matplotlib.pyplot as plt\n",
    "import pandas as pd\n",
    "import numpy as np\n",
    "import seaborn as sns\n",
    "import statsmodels.api as sm\n",
    "\n",
    "da = pd.read_csv(\"nhanes_2015_2016.csv\")\n",
    "print(da['RIDAGEYR'])"
   ]
  },
  {
   "cell_type": "markdown",
   "metadata": {},
   "source": [
    "## Question 1\n",
    "\n",
    "Restrict the sample to women between 35 and 50, then use the marital status variable [DMDMARTL](https://wwwn.cdc.gov/Nchs/Nhanes/2015-2016/DEMO_I.htm#DMDMARTL) to partition this sample into two groups - women who are currently married, and women who are not currently married.  Within each of these groups, calculate the proportion of women who have completed college.  Calculate 95% confidence intervals for each of these proportions."
   ]
  },
  {
   "cell_type": "code",
   "execution_count": 8,
   "metadata": {},
   "outputs": [
    {
     "output_type": "stream",
     "name": "stdout",
     "text": [
      "             Proportion  Total_n\nDMDMARTL                        \nMarried        0.538206      301\nNot_Married    0.378947      190\nSe Married: 0.02873526218165375\nSe Not Married: 0.03519466619186639\n"
     ]
    }
   ],
   "source": [
    "df = da[(da['RIDAGEYR'] >= 35) & (da['RIDAGEYR'] <= 50) & (da['RIAGENDR'] == 2)]\n",
    "\n",
    "df['DMDMARTL'] = df.DMDMARTL.replace({1:'Married',2:'Not_Married',3:'Not_Married', 4:'Not_Married', 5:'Not_Married', 6:'Not_Married', 77: np.nan, 99: np.nan})\n",
    "df['DMDEDUC2'] = df.DMDEDUC2.replace({7: np.nan, 9: np.nan})\n",
    "df['DMDEDUC2'] = df.DMDEDUC2[df['DMDEDUC2'] >= 4]\n",
    "df['DMDEDUC2'] = df.DMDEDUC2.replace({4: \"Some College\", 5: \"College Graduate\"})\n",
    "df = df[[\"RIAGENDR\",\"DMDMARTL\",\"DMDEDUC2\"]].dropna()\n",
    "\n",
    "#rint(pd.crosstab(df.DMDMARTL, df.DMDEDUC2))\n",
    "\n",
    "dx = df.groupby(df.DMDMARTL).agg({\"DMDEDUC2\": [lambda x: np.mean(x == \"College Graduate\"), np.size]})\n",
    "dx.columns = [\"Proportion\", \"Total_n\"]\n",
    "print(dx)\n",
    "\n",
    "p = dx.Proportion.Married\n",
    "n = dx.Total_n.Married\n",
    "\n",
    "se_Married = np.sqrt(p * (1 - p) / n)\n",
    "print(\"Se Married:\", se_Married)\n",
    "\n",
    "p = dx.Proportion.Not_Married\n",
    "n = dx.Total_n.Not_Married\n",
    "\n",
    "se_Not_Married = np.sqrt(p * (1 - p) / n)\n",
    "print(\"Se Not Married:\",se_Not_Married)\n",
    "\n",
    "p = dx.Proportion.Married \n",
    "n = dx.Total_n.Married \n",
    "lcb = p - 1.96 * np.sqrt(p * (1 - p) / n)  \n",
    "ucb = p + 1.96 * np.sqrt(p * (1 - p) / n)  \n",
    "print(\"Lcb Married: \",lcb,\"Ucb Married: \", ucb)\n",
    "\n",
    "p = dx.Proportion.Not_Married \n",
    "n = dx.Total_n.Not_Married \n",
    "lcb = p - 1.96 * np.sqrt(p * (1 - p) / n)  \n",
    "ucb = p + 1.96 * np.sqrt(p * (1 - p) / n)  \n",
    "print(\"Lcb Not Married: \",lcb,\"Ucb Not Married: \", ucb)\n",
    "\n"
   ]
  },
  {
   "cell_type": "markdown",
   "metadata": {},
   "source": [
    "__Q1a.__ Identify which of the two confidence intervals is wider, and explain why this is the case. "
   ]
  },
  {
   "cell_type": "markdown",
   "metadata": {},
   "source": [
    "By sampling the data we can clearly see that the biggest percentage of woman graduated are married "
   ]
  },
  {
   "cell_type": "markdown",
   "metadata": {},
   "source": [
    "__Q1b.__ Write 1-2 sentences summarizing these findings for an audience that does not know what a confidence interval is (the goal here is to report the substance of what you learned about how marital status and educational attainment are related, not to teach a person what a confidence interval is)."
   ]
  },
  {
   "cell_type": "markdown",
   "metadata": {},
   "source": []
  },
  {
   "cell_type": "markdown",
   "metadata": {},
   "source": [
    "## Question 2\n",
    "\n",
    "Construct 95% confidence intervals for the proportion of smokers who are female, and for the proportion of smokers who are male.  Then construct a 95% confidence interval for the difference between these proportions."
   ]
  },
  {
   "cell_type": "code",
   "execution_count": 42,
   "metadata": {},
   "outputs": [
    {
     "output_type": "stream",
     "name": "stdout",
     "text": [
      "          Proportion  Total_n\nRIAGENDR                     \nFemale      0.304845     2972\nMale        0.513258     2753\nSe Female: 0.008444152146214435\nSe Male: 0.009526078653689868\nLcb Female:  0.288294683866098 Ucb Female:  0.32139576027925865\nLcb Male:  0.49458714955108174 Ucb Male:  0.531929377873546\n"
     ]
    }
   ],
   "source": [
    "da.SMQ020 = da.SMQ020.replace({1: \"Smoker\", 2:\"Not SMoker\", 7: np.nan, 9:np.nan})\n",
    "da.RIAGENDR = da.RIAGENDR.replace({1:\"Male\", 2:\"Female\"})\n",
    "\n",
    "df = da[[\"SMQ020\",\"RIAGENDR\"]].dropna()\n",
    "dx = df.groupby(df.RIAGENDR).agg({\"SMQ020\": [lambda x: np.mean(x==\"Smoker\"), np.size]})\n",
    "\n",
    "dx.columns = ['Proportion','Total_n']\n",
    "print(dx)\n",
    "\n",
    "p = dx.Proportion.Female\n",
    "n = dx.Total_n.Female\n",
    "\n",
    "se_female = np.sqrt(p * (1-p) / n)\n",
    "print(\"Se Female:\", se_female)\n",
    "\n",
    "p = dx.Proportion.Male\n",
    "n = dx.Total_n.Male \n",
    "\n",
    "se_male = np.sqrt(p * (1-p) / n)\n",
    "print(\"Se Male:\", se_male)\n",
    "\n",
    "p = dx.Proportion.Female \n",
    "n = dx.Total_n.Female \n",
    "lcb = p - 1.96 * np.sqrt(p * (1 - p) / n)  \n",
    "ucb = p + 1.96 * np.sqrt(p * (1 - p) / n)  \n",
    "print(\"Lcb Female: \",lcb,\"Ucb Female: \", ucb)\n",
    "\n",
    "\n",
    "p = dx.Proportion.Male \n",
    "n = dx.Total_n.Male \n",
    "lcb = p - 1.96 * np.sqrt(p * (1 - p) / n)  \n",
    "ucb = p + 1.96 * np.sqrt(p * (1 - p) / n)  \n",
    "print(\"Lcb Male: \",lcb,\"Ucb Male: \", ucb)"
   ]
  },
  {
   "cell_type": "markdown",
   "metadata": {},
   "source": [
    "__Q2a.__ Discuss why it may be relevant to report the proportions of smokers who are female and male, and contrast this to reporting the proportions of males and females who smoke."
   ]
  },
  {
   "cell_type": "markdown",
   "metadata": {},
   "source": []
  },
  {
   "cell_type": "markdown",
   "metadata": {},
   "source": [
    "__Q2b.__ How does the width of the confidence interval for the difference of the two proportions compare to the widths of the confidence intervals for each proportion separately?"
   ]
  },
  {
   "cell_type": "markdown",
   "metadata": {},
   "source": []
  },
  {
   "cell_type": "markdown",
   "metadata": {},
   "source": [
    "## Question 3\n",
    "\n",
    "Construct a 95% interval for height ([BMXHT](https://wwwn.cdc.gov/Nchs/Nhanes/2015-2016/BMX_I.htm#BMXHT)) in centimeters.  Then convert height from centimeters to inches by dividing by 2.54, and construct a 95% confidence interval for height in inches.  Finally, convert the endpoints (the lower and upper confidence limits) of the confidence interval from inches to back to centimeters   "
   ]
  },
  {
   "cell_type": "code",
   "execution_count": 39,
   "metadata": {},
   "outputs": [
    {
     "output_type": "stream",
     "name": "stdout",
     "text": [
      "Lcb_Height_cm:  165.8805695573686 Ucb_Height_cm:  166.40509940085403\nLcb_Height_inch:  65.30731084935765 Ucb_Height_inch:  65.51381866175349\nFrom inches to cm, Lcb:  165.88056955736843 Ucb :, 166.40509940085386\n"
     ]
    }
   ],
   "source": [
    "dx = pd.DataFrame(index = da.index,columns=[\"BMXHTinch\", \"BMXHTcm\"])\n",
    "dx['BMXHTcm'] = da.BMXHT.values\n",
    "dx['BMXHTcm'] = da.BMXHT.apply(lambda x:  np.nan if x == 0 else x  )\n",
    "dx['BMXHTinch'] = da.BMXHT.apply(lambda x: x/2.54)\n",
    "dx = dx.dropna()\n",
    "Se_cm = np.std(dx.BMXHTcm)/np.sqrt(len(dx))\n",
    "mean = np.mean(dx.BMXHTcm)\n",
    "lcb_height_cm = mean - 1.96 * Se_cm\n",
    "ucb_height_cm = mean + 1.96 * Se_cm\n",
    "\n",
    "print(\"Lcb_Height_cm: \", lcb_height_cm, \"Ucb_Height_cm: \", ucb_height_cm)\n",
    "\n",
    "Se_inch = np.std(dx.BMXHTinch)/np.sqrt(len(dx))\n",
    "mean = np.mean(dx.BMXHTinch)\n",
    "lcb_height_inch = mean - 1.96 * Se_inch\n",
    "ucb_height_inch = mean + 1.96 * Se_inch\n",
    "\n",
    "print(\"Lcb_Height_inch: \", lcb_height_inch, \"Ucb_Height_inch: \", ucb_height_inch)\n",
    "\n",
    "from_inch_to_cm_lcb = lcb_height_inch * 2.54 \n",
    "from_inch_to_cm_ucb = ucb_height_inch * 2.54\n",
    "print(\"From inches to cm, Lcb: \", from_inch_to_cm_lcb, \"Ucb :,\", from_inch_to_cm_ucb)"
   ]
  },
  {
   "cell_type": "markdown",
   "metadata": {},
   "source": [
    "__Q3a.__ Describe how the confidence interval constructed in centimeters relates to the confidence interval constructed in inches."
   ]
  },
  {
   "cell_type": "markdown",
   "metadata": {},
   "source": []
  },
  {
   "cell_type": "markdown",
   "metadata": {},
   "source": [
    "## Question 4\n",
    "\n",
    "Partition the sample based on 10-year age bands, i.e. the resulting groups will consist of people with ages from 18-28, 29-38, etc. Construct 95% confidence intervals for the difference between the mean BMI for females and for males within each age band."
   ]
  },
  {
   "cell_type": "code",
   "execution_count": 62,
   "metadata": {},
   "outputs": [
    {
     "output_type": "execute_result",
     "data": {
      "text/plain": [
       "           BMXBMI                                                             \\\n",
       "             size              mean                  std                 Sem   \n",
       "RIAGENDR   Female   Male     Female       Male    Female      Male      Male   \n",
       "Ages_range                                                                     \n",
       "(18, 28]    498.0  458.0  28.019433  27.058186  8.048854  6.679515  0.312113   \n",
       "(28, 38]    494.0  467.0  29.943443  29.697180  7.959097  6.726690  0.311274   \n",
       "(38, 48]    514.0  398.0  31.003733  29.514646  8.044642  6.104950  0.306014   \n",
       "(48, 58]    454.0  419.0  30.787361  29.385132  7.647590  6.151534  0.300522   \n",
       "(58, 68]    466.0  470.0  31.054664  29.232462  7.779502  5.959024  0.274869   \n",
       "(68, 78]    279.0  307.0  30.537818  28.720270  6.780588  5.336652  0.304579   \n",
       "\n",
       "                      \n",
       "                      \n",
       "RIAGENDR      Female  \n",
       "Ages_range            \n",
       "(18, 28]    0.360678  \n",
       "(28, 38]    0.358097  \n",
       "(38, 48]    0.354834  \n",
       "(48, 58]    0.358919  \n",
       "(58, 68]    0.360378  \n",
       "(68, 78]    0.405943  "
      ],
      "text/html": "<div>\n<style scoped>\n    .dataframe tbody tr th:only-of-type {\n        vertical-align: middle;\n    }\n\n    .dataframe tbody tr th {\n        vertical-align: top;\n    }\n\n    .dataframe thead tr th {\n        text-align: left;\n    }\n\n    .dataframe thead tr:last-of-type th {\n        text-align: right;\n    }\n</style>\n<table border=\"1\" class=\"dataframe\">\n  <thead>\n    <tr>\n      <th></th>\n      <th colspan=\"8\" halign=\"left\">BMXBMI</th>\n    </tr>\n    <tr>\n      <th></th>\n      <th colspan=\"2\" halign=\"left\">size</th>\n      <th colspan=\"2\" halign=\"left\">mean</th>\n      <th colspan=\"2\" halign=\"left\">std</th>\n      <th colspan=\"2\" halign=\"left\">Sem</th>\n    </tr>\n    <tr>\n      <th>RIAGENDR</th>\n      <th>Female</th>\n      <th>Male</th>\n      <th>Female</th>\n      <th>Male</th>\n      <th>Female</th>\n      <th>Male</th>\n      <th>Male</th>\n      <th>Female</th>\n    </tr>\n    <tr>\n      <th>Ages_range</th>\n      <th></th>\n      <th></th>\n      <th></th>\n      <th></th>\n      <th></th>\n      <th></th>\n      <th></th>\n      <th></th>\n    </tr>\n  </thead>\n  <tbody>\n    <tr>\n      <th>(18, 28]</th>\n      <td>498.0</td>\n      <td>458.0</td>\n      <td>28.019433</td>\n      <td>27.058186</td>\n      <td>8.048854</td>\n      <td>6.679515</td>\n      <td>0.312113</td>\n      <td>0.360678</td>\n    </tr>\n    <tr>\n      <th>(28, 38]</th>\n      <td>494.0</td>\n      <td>467.0</td>\n      <td>29.943443</td>\n      <td>29.697180</td>\n      <td>7.959097</td>\n      <td>6.726690</td>\n      <td>0.311274</td>\n      <td>0.358097</td>\n    </tr>\n    <tr>\n      <th>(38, 48]</th>\n      <td>514.0</td>\n      <td>398.0</td>\n      <td>31.003733</td>\n      <td>29.514646</td>\n      <td>8.044642</td>\n      <td>6.104950</td>\n      <td>0.306014</td>\n      <td>0.354834</td>\n    </tr>\n    <tr>\n      <th>(48, 58]</th>\n      <td>454.0</td>\n      <td>419.0</td>\n      <td>30.787361</td>\n      <td>29.385132</td>\n      <td>7.647590</td>\n      <td>6.151534</td>\n      <td>0.300522</td>\n      <td>0.358919</td>\n    </tr>\n    <tr>\n      <th>(58, 68]</th>\n      <td>466.0</td>\n      <td>470.0</td>\n      <td>31.054664</td>\n      <td>29.232462</td>\n      <td>7.779502</td>\n      <td>5.959024</td>\n      <td>0.274869</td>\n      <td>0.360378</td>\n    </tr>\n    <tr>\n      <th>(68, 78]</th>\n      <td>279.0</td>\n      <td>307.0</td>\n      <td>30.537818</td>\n      <td>28.720270</td>\n      <td>6.780588</td>\n      <td>5.336652</td>\n      <td>0.304579</td>\n      <td>0.405943</td>\n    </tr>\n  </tbody>\n</table>\n</div>"
     },
     "metadata": {},
     "execution_count": 62
    }
   ],
   "source": [
    "da[\"Ages_range\"] = pd.cut(da.RIDAGEYR, [18,28,38,48,58,68,78])\n",
    "dz = da.groupby([\"Ages_range\", \"RIAGENDR\"]).agg({\"BMXBMI\": [np.size, np.mean, np.std]}).unstack()\n",
    "dz[\"BMXBMI\",\"Sem\", \"Male\"] = dz[\"BMXBMI\",\"std\", \"Male\"] / np.sqrt(dz[\"BMXBMI\",\"size\", \"Male\"])\n",
    "dz[\"BMXBMI\",\"Sem\", \"Female\"] = dz[\"BMXBMI\",\"std\", \"Female\"] / np.sqrt(dz[\"BMXBMI\",\"size\", \"Female\"])\n",
    "dz"
   ]
  },
  {
   "cell_type": "markdown",
   "metadata": {},
   "source": [
    "__Q4a.__ How do the widths of these confidence intervals differ?  Provide an explanation for any substantial diferences in the confidence interval widths that you see."
   ]
  },
  {
   "cell_type": "markdown",
   "metadata": {},
   "source": []
  },
  {
   "cell_type": "markdown",
   "metadata": {},
   "source": [
    "## Question 5\n",
    "\n",
    "Construct a 95% confidence interval for the first and second systolic blood pressure measures, and for the difference between the first and second systolic blood pressure measurements within a subject."
   ]
  },
  {
   "cell_type": "code",
   "execution_count": null,
   "metadata": {},
   "outputs": [],
   "source": [
    "# enter code here"
   ]
  },
  {
   "cell_type": "markdown",
   "metadata": {},
   "source": [
    "__Q5a.__ Based on these confidence intervals, would you say that a difference of zero between the population mean values of the first and second systolic blood pressure measures is consistent with the data?"
   ]
  },
  {
   "cell_type": "markdown",
   "metadata": {},
   "source": []
  },
  {
   "cell_type": "markdown",
   "metadata": {},
   "source": [
    "\n",
    "__Q5b.__ Discuss how the width of the confidence interval for the within-subject difference compares to the widths of the confidence intervals for the first and second measures."
   ]
  },
  {
   "cell_type": "markdown",
   "metadata": {},
   "source": []
  },
  {
   "cell_type": "markdown",
   "metadata": {},
   "source": [
    "## Question 6\n",
    "\n",
    "Construct a 95% confidence interval for the mean difference between the average age of a smoker, and the average age of a non-smoker."
   ]
  },
  {
   "cell_type": "code",
   "execution_count": null,
   "metadata": {},
   "outputs": [],
   "source": [
    "# insert your code here"
   ]
  },
  {
   "cell_type": "markdown",
   "metadata": {},
   "source": [
    "__Q6a.__ Use graphical and numerical techniques to compare the variation in the ages of smokers to the variation in the ages of non-smokers.  "
   ]
  },
  {
   "cell_type": "code",
   "execution_count": 1,
   "metadata": {},
   "outputs": [],
   "source": [
    "# insert your code here"
   ]
  },
  {
   "cell_type": "markdown",
   "metadata": {},
   "source": [
    "__Q6b.__ Does it appear that uncertainty about the mean age of smokers, or uncertainty about the mean age of non-smokers contributed more to the uncertainty for the mean difference that we are focusing on here?"
   ]
  },
  {
   "cell_type": "markdown",
   "metadata": {},
   "source": []
  }
 ],
 "metadata": {
  "kernelspec": {
   "display_name": "Python 3",
   "language": "python",
   "name": "python3"
  },
  "language_info": {
   "codemirror_mode": {
    "name": "ipython",
    "version": 3
   },
   "file_extension": ".py",
   "mimetype": "text/x-python",
   "name": "python",
   "nbconvert_exporter": "python",
   "pygments_lexer": "ipython3",
   "version": "3.8.5-final"
  }
 },
 "nbformat": 4,
 "nbformat_minor": 2
}